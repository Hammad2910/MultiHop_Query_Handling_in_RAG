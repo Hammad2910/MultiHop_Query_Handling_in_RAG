{
 "cells": [
  {
   "cell_type": "code",
   "execution_count": 2,
   "id": "0ec68edf",
   "metadata": {},
   "outputs": [
    {
     "name": "stdout",
     "output_type": "stream",
     "text": [
      "Number of questions only in first CSV: 0\n"
     ]
    }
   ],
   "source": [
    "import pandas as pd\n",
    "\n",
    "# Load your CSV files\n",
    "df1 = pd.read_csv('simple_rag_qna_results.csv')  # First CSV with 600 rows\n",
    "df2 = pd.read_csv('D:\\\\Academic Work\\\\Multihop_Project\\\\Dataset_code_csvs\\\\hotpotQA\\\\hotpotQA_dataset_versions\\\\5884paras_598queries\\\\Urdu\\\\598_QnAs_translated.csv')  # Second CSV with 598 rows\n",
    "\n",
    "# Make sure the column names are correct\n",
    "# Compare by 'translated_question' column\n",
    "set1 = set(df1['translated_question'].dropna())\n",
    "set2 = set(df2['translated_question'].dropna())\n",
    "\n",
    "# Find questions only in the first CSV\n",
    "only_in_first = set1 - set2\n",
    "\n",
    "# Display results\n",
    "print(f\"Number of questions only in first CSV: {len(only_in_first)}\")\n",
    "for q in only_in_first:\n",
    "    print(q)\n"
   ]
  },
  {
   "cell_type": "code",
   "execution_count": 4,
   "id": "5a06e88c",
   "metadata": {},
   "outputs": [
    {
     "name": "stdout",
     "output_type": "stream",
     "text": [
      "First CSV:\n",
      "Total rows: 600\n",
      "Unique translated_question values: 598\n",
      "\n",
      "Second CSV:\n",
      "Total rows: 598\n",
      "Unique translated_question values: 598\n"
     ]
    }
   ],
   "source": [
    "import pandas as pd\n",
    "\n",
    "# Load your CSV files\n",
    "df1 = pd.read_csv('simple_rag_qna_results.csv')  # First CSV with 600 rows\n",
    "df2 = pd.read_csv('D:\\\\Academic Work\\\\Multihop_Project\\\\Dataset_code_csvs\\\\hotpotQA\\\\hotpotQA_dataset_versions\\\\5884paras_598queries\\\\Urdu\\\\598_QnAs_translated.csv')  # Second CSV with 598 rows\n",
    "\n",
    "\n",
    "# Drop NaN values just in case\n",
    "df1 = df1.dropna(subset=['translated_question'])\n",
    "df2 = df2.dropna(subset=['translated_question'])\n",
    "\n",
    "# Report totals and unique counts\n",
    "print(\"First CSV:\")\n",
    "print(\"Total rows:\", len(df1))\n",
    "print(\"Unique translated_question values:\", df1['translated_question'].nunique())\n",
    "\n",
    "print(\"\\nSecond CSV:\")\n",
    "print(\"Total rows:\", len(df2))\n",
    "print(\"Unique translated_question values:\", df2['translated_question'].nunique())\n"
   ]
  },
  {
   "cell_type": "code",
   "execution_count": 5,
   "id": "f3c0ebec",
   "metadata": {},
   "outputs": [
    {
     "name": "stdout",
     "output_type": "stream",
     "text": [
      "Duplicated questions in first CSV:\n",
      "translated_question\n",
      "شمالی سمندر کے جنوب مشرقی حصے میں واقع یہ انٹرٹیڈیل زون کیا ہے؟ جس کا مٹی کا علاقہ فریسی جزائر کے ذریعہ شمالی سمندر سے محفوظ ہے۔    2\n",
      "فلم 'دی ایمیزنگ اسپائیڈر مین' کے ڈائریکٹر اور ڈائریکٹر کے ساتھ فلم 'فاکس سرچ لائٹ پکچرز' نے دنیا بھر میں کتنی کمائی کی؟             2\n",
      "Name: count, dtype: int64\n"
     ]
    }
   ],
   "source": [
    "duplicates = df1[df1.duplicated('translated_question', keep=False)]\n",
    "print(\"Duplicated questions in first CSV:\")\n",
    "print(duplicates['translated_question'].value_counts())\n"
   ]
  },
  {
   "cell_type": "code",
   "execution_count": 6,
   "id": "e3dbe456",
   "metadata": {},
   "outputs": [
    {
     "name": "stdout",
     "output_type": "stream",
     "text": [
      "Indexes and duplicated questions in first CSV:\n",
      "Index: 498 | Question: شمالی سمندر کے جنوب مشرقی حصے میں واقع یہ انٹرٹیڈیل زون کیا ہے؟ جس کا مٹی کا علاقہ فریسی جزائر کے ذریعہ شمالی سمندر سے محفوظ ہے۔\n",
      "Index: 499 | Question: فلم 'دی ایمیزنگ اسپائیڈر مین' کے ڈائریکٹر اور ڈائریکٹر کے ساتھ فلم 'فاکس سرچ لائٹ پکچرز' نے دنیا بھر میں کتنی کمائی کی؟\n",
      "Index: 500 | Question: شمالی سمندر کے جنوب مشرقی حصے میں واقع یہ انٹرٹیڈیل زون کیا ہے؟ جس کا مٹی کا علاقہ فریسی جزائر کے ذریعہ شمالی سمندر سے محفوظ ہے۔\n",
      "Index: 501 | Question: فلم 'دی ایمیزنگ اسپائیڈر مین' کے ڈائریکٹر اور ڈائریکٹر کے ساتھ فلم 'فاکس سرچ لائٹ پکچرز' نے دنیا بھر میں کتنی کمائی کی؟\n"
     ]
    }
   ],
   "source": [
    "# Find duplicated questions\n",
    "duplicates = df1[df1.duplicated('translated_question', keep=False)]\n",
    "\n",
    "# Print index and question\n",
    "print(\"Indexes and duplicated questions in first CSV:\")\n",
    "for idx, row in duplicates.iterrows():\n",
    "    print(f\"Index: {idx} | Question: {row['translated_question']}\")\n"
   ]
  },
  {
   "cell_type": "code",
   "execution_count": null,
   "id": "2af05056",
   "metadata": {},
   "outputs": [],
   "source": []
  }
 ],
 "metadata": {
  "kernelspec": {
   "display_name": "venv",
   "language": "python",
   "name": "python3"
  },
  "language_info": {
   "codemirror_mode": {
    "name": "ipython",
    "version": 3
   },
   "file_extension": ".py",
   "mimetype": "text/x-python",
   "name": "python",
   "nbconvert_exporter": "python",
   "pygments_lexer": "ipython3",
   "version": "3.10.6"
  }
 },
 "nbformat": 4,
 "nbformat_minor": 5
}
