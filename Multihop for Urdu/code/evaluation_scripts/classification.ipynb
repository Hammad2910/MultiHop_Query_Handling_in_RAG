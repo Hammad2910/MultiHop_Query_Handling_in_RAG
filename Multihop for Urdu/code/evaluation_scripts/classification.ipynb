{
 "cells": [
  {
   "cell_type": "code",
   "execution_count": 1,
   "id": "8d9b7b9d",
   "metadata": {},
   "outputs": [
    {
     "name": "stdout",
     "output_type": "stream",
     "text": [
      "Overall Accuracy: 26.09%\n",
      "\n",
      "Accuracy by Level:\n",
      "        Accuracy (%)\n",
      "level               \n",
      "easy       83.673469\n",
      "hard       16.400000\n",
      "medium     13.200000\n"
     ]
    }
   ],
   "source": [
    "import pandas as pd\n",
    "import os\n",
    "\n",
    "# Base path\n",
    "base_read_path = \"../../results/pipeline results/5884paras_598qna/copies/\"\n",
    "lqr_path = os.path.join(base_read_path, \"LQR_processed_results - Copy.csv\")\n",
    "\n",
    "# Read data\n",
    "lqr_df = pd.read_csv(lqr_path)\n",
    "\n",
    "# Map level to true label\n",
    "def get_true_label(level):\n",
    "    if level.strip().lower() == \"easy\":\n",
    "        return \"singlehop\"\n",
    "    elif level.strip().lower() in [\"medium\", \"hard\"]:\n",
    "        return \"multihop\"\n",
    "    return None  # for safety\n",
    "\n",
    "lqr_df[\"true_label\"] = lqr_df[\"level\"].apply(get_true_label)\n",
    "\n",
    "# Strip/clean predicted classification as well\n",
    "lqr_df[\"classification\"] = lqr_df[\"classification\"].str.strip().str.lower()\n",
    "\n",
    "# Compute correctness\n",
    "lqr_df[\"is_correct\"] = lqr_df[\"classification\"] == lqr_df[\"true_label\"]\n",
    "\n",
    "# Overall accuracy\n",
    "overall_accuracy = lqr_df[\"is_correct\"].mean()\n",
    "\n",
    "# Accuracy by level\n",
    "level_grouped = lqr_df.groupby(\"level\")[\"is_correct\"].agg(['count', 'sum'])\n",
    "level_grouped[\"accuracy\"] = level_grouped[\"sum\"] / level_grouped[\"count\"]\n",
    "\n",
    "# Display results\n",
    "print(\"Overall Accuracy: {:.2f}%\".format(overall_accuracy * 100))\n",
    "print(\"\\nAccuracy by Level:\")\n",
    "print(level_grouped[[\"accuracy\"]].rename(columns={\"accuracy\": \"Accuracy (%)\"}) * 100)\n"
   ]
  },
  {
   "cell_type": "code",
   "execution_count": null,
   "id": "6d659743",
   "metadata": {},
   "outputs": [],
   "source": []
  }
 ],
 "metadata": {
  "kernelspec": {
   "display_name": "venv",
   "language": "python",
   "name": "python3"
  },
  "language_info": {
   "codemirror_mode": {
    "name": "ipython",
    "version": 3
   },
   "file_extension": ".py",
   "mimetype": "text/x-python",
   "name": "python",
   "nbconvert_exporter": "python",
   "pygments_lexer": "ipython3",
   "version": "3.10.6"
  }
 },
 "nbformat": 4,
 "nbformat_minor": 5
}
