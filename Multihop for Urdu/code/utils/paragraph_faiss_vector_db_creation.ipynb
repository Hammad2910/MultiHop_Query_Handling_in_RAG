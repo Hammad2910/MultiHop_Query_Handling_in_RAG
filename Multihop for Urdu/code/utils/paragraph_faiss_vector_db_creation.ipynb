{
 "cells": [
  {
   "cell_type": "code",
   "execution_count": 1,
   "id": "4ddb00fb",
   "metadata": {},
   "outputs": [],
   "source": [
    "import pandas as pd\n",
    "import faiss\n",
    "import faiss.contrib.torch_utils  # Enable GPU support for FAISS\n",
    "import os\n",
    "import torch\n",
    "from sentence_transformers import SentenceTransformer\n",
    "from langchain.text_splitter import RecursiveCharacterTextSplitter\n",
    "\n",
    "import pickle"
   ]
  },
  {
   "cell_type": "code",
   "execution_count": 2,
   "id": "cbf8bf56",
   "metadata": {},
   "outputs": [],
   "source": [
    "\n",
    "\n",
    "# Check and set device\n",
    "device = 'cuda' if torch.cuda.is_available() else 'cpu'\n",
    "\n",
    "# Load model from local or HuggingFace and move to GPU\n",
    "model_path = 'E:/Study/Thesis work/Multihop for Urdu/model_weights/embedding_model'\n",
    "if os.path.exists(model_path):\n",
    "    model = SentenceTransformer(model_path, device=device)\n",
    "else:\n",
    "    model = SentenceTransformer('sentence-transformers/paraphrase-multilingual-MiniLM-L12-v2', device=device)\n",
    "    model.save(model_path)\n",
    "\n"
   ]
  },
  {
   "cell_type": "code",
   "execution_count": 3,
   "id": "e754da3c",
   "metadata": {},
   "outputs": [],
   "source": [
    "# Urdu text splitter\n",
    "def split_urdu_text(text, chunk_size=250, chunk_overlap=50):\n",
    "    splitter = RecursiveCharacterTextSplitter(\n",
    "        separators=[\"۔\", \"\\n\", \",\", \" \"],\n",
    "        chunk_size=chunk_size,\n",
    "        chunk_overlap=chunk_overlap,\n",
    "        length_function=len\n",
    "    )\n",
    "    return splitter.split_text(text)\n",
    "\n"
   ]
  },
  {
   "cell_type": "code",
   "execution_count": 4,
   "id": "57ea9a9f",
   "metadata": {},
   "outputs": [],
   "source": [
    "# Load CSV\n",
    "df = pd.read_csv(\"E:\\\\Study\\\\Thesis work\\\\Multihop for Urdu\\\\Dataset\\\\Hotpotqa\\\\1000_paras_100_queries\\\\translated_file_for_100_paras_corrected_Format.csv\")  \n",
    "paragraphs = df[\"Translated_Content\"].dropna().tolist()\n"
   ]
  },
  {
   "cell_type": "code",
   "execution_count": 5,
   "id": "436907a6",
   "metadata": {},
   "outputs": [
    {
     "data": {
      "text/plain": [
       "985"
      ]
     },
     "execution_count": 5,
     "metadata": {},
     "output_type": "execute_result"
    }
   ],
   "source": [
    "len(paragraphs)"
   ]
  },
  {
   "cell_type": "code",
   "execution_count": 6,
   "id": "a4dafe38",
   "metadata": {},
   "outputs": [],
   "source": [
    "# Initialize FAISS IndexFlatL2 (CPU version)\n",
    "embedding_dim = model.get_sentence_embedding_dimension()\n",
    "index = faiss.IndexFlatL2(embedding_dim)\n",
    "\n",
    "all_chunks = []\n",
    "\n",
    "for para in paragraphs:\n",
    "    chunks = split_urdu_text(para)\n",
    "    if not chunks:\n",
    "        continue\n",
    "    embeddings = model.encode(chunks, convert_to_numpy=True)\n",
    "    index.add(embeddings)\n",
    "    all_chunks.extend(chunks)\n",
    "\n",
    "\n",
    "# Save FAISS index to disk\n",
    "faiss.write_index(index, \"E:\\\\Study\\\\Thesis work\\\\Multihop for Urdu\\\\vector_db\\\\paragraphs\\\\urdu_faiss_index_for_100_para.index\")\n",
    "\n",
    "chunks_save_path = \"E:\\\\Study\\\\Thesis work\\\\Multihop for Urdu\\\\data_storage\\\\parachunks\\\\urdu_chunks_for_100_para.pkl\"\n",
    "with open(chunks_save_path, \"wb\") as f:\n",
    "    pickle.dump(all_chunks, f)"
   ]
  },
  {
   "cell_type": "code",
   "execution_count": 7,
   "id": "381cd0db",
   "metadata": {},
   "outputs": [
    {
     "name": "stdout",
     "output_type": "stream",
     "text": [
      "Number of vectors indexed: 2238\n"
     ]
    }
   ],
   "source": [
    "print(f\"Number of vectors indexed: {index.ntotal}\")\n"
   ]
  },
  {
   "cell_type": "code",
   "execution_count": null,
   "id": "c6a0d7d5",
   "metadata": {},
   "outputs": [],
   "source": []
  }
 ],
 "metadata": {
  "kernelspec": {
   "display_name": "Python 3",
   "language": "python",
   "name": "python3"
  },
  "language_info": {
   "codemirror_mode": {
    "name": "ipython",
    "version": 3
   },
   "file_extension": ".py",
   "mimetype": "text/x-python",
   "name": "python",
   "nbconvert_exporter": "python",
   "pygments_lexer": "ipython3",
   "version": "3.10.6"
  }
 },
 "nbformat": 4,
 "nbformat_minor": 5
}
