{
 "cells": [
  {
   "cell_type": "code",
   "execution_count": 7,
   "id": "4ddb00fb",
   "metadata": {},
   "outputs": [],
   "source": [
    "import pandas as pd\n",
    "import faiss\n",
    "# import faiss.contrib.torch_utils  # Enable GPU support for FAISS\n",
    "import os\n",
    "import torch\n",
    "from langchain.text_splitter import RecursiveCharacterTextSplitter\n",
    "from transformers import AutoTokenizer, AutoModel\n",
    "from tqdm import tqdm\n",
    "import pickle"
   ]
  },
  {
   "cell_type": "code",
   "execution_count": 17,
   "id": "cbf8bf56",
   "metadata": {},
   "outputs": [],
   "source": [
    "# === Paths ===\n",
    "csv_path = \"../../../Dataset_code_csvs/hotpotQA/hotpotQA_dataset_versions/5884paras_599queries/Urdu/5884_paras_translated.csv\"  # replace with your actual CSV path\n",
    "column_name = \"Translated_Content\"\n",
    "faiss_index_path = \"../../vector_db/paragraphs/5884_paras/5884_paras_faiss_index.index\"\n",
    "chunks_path = \"../../data_storage/Paragraph_chunks/5884_paragraphs/5884_chunks.pkl\"\n",
    "\n",
    "# === Parameters ===\n",
    "chunk_size = 250\n",
    "chunk_overlap = 50\n",
    "\n",
    "# Create output directory if not exists\n",
    "os.makedirs(os.path.dirname(faiss_index_path), exist_ok=True)\n"
   ]
  },
  {
   "cell_type": "code",
   "execution_count": 18,
   "id": "2bb66ad1",
   "metadata": {},
   "outputs": [
    {
     "name": "stdout",
     "output_type": "stream",
     "text": [
      "✅ SentenceTransformer model loaded\n"
     ]
    }
   ],
   "source": [
    "from sentence_transformers import SentenceTransformer\n",
    "\n",
    "device = \"cuda\" if torch.cuda.is_available() else \"cpu\"\n",
    "model = SentenceTransformer(\"intfloat/e5-large\", device=device)\n",
    "# Configure for Urdu text\n",
    "model.max_seq_length = 512\n",
    "model.tokenizer.do_lower_case = False  # Preserve Urdu characters\n",
    "\n",
    "print(\"✅ SentenceTransformer model loaded\")"
   ]
  },
  {
   "cell_type": "code",
   "execution_count": 19,
   "id": "4bf2f4f6",
   "metadata": {},
   "outputs": [],
   "source": [
    "# Split text into overlapping chunks\n",
    "def split_urdu_text(text, chunk_size=250, chunk_overlap=50):\n",
    "    splitter = RecursiveCharacterTextSplitter(\n",
    "        separators=[\"۔\", \"\\n\", \",\", \" \"],\n",
    "        chunk_size=chunk_size,\n",
    "        chunk_overlap=chunk_overlap,\n",
    "        length_function=len\n",
    "    )\n",
    "    return splitter.split_text(text)\n",
    "\n",
    "# Embed a list of texts WITHOUT adding \"passage: \"\n",
    "def embed_texts(texts):\n",
    "    # SentenceTransformer handles batching and normalization automatically\n",
    "    return model.encode(texts, normalize_embeddings=True, show_progress_bar=False)\n"
   ]
  },
  {
   "cell_type": "code",
   "execution_count": 21,
   "id": "51188ac0",
   "metadata": {},
   "outputs": [
    {
     "name": "stderr",
     "output_type": "stream",
     "text": [
      "Splitting: 100%|██████████| 5884/5884 [00:00<00:00, 47062.66it/s]\n"
     ]
    },
    {
     "name": "stdout",
     "output_type": "stream",
     "text": [
      "✅ Total chunks: 13306\n"
     ]
    },
    {
     "name": "stderr",
     "output_type": "stream",
     "text": [
      "Embedding: 100%|██████████| 416/416 [04:59<00:00,  1.39it/s]"
     ]
    },
    {
     "name": "stdout",
     "output_type": "stream",
     "text": [
      "✅ FAISS index built with 13306 vectors\n"
     ]
    },
    {
     "name": "stderr",
     "output_type": "stream",
     "text": [
      "\n"
     ]
    }
   ],
   "source": [
    "df = pd.read_csv(csv_path)\n",
    "all_chunks = []\n",
    "\n",
    "for text in tqdm(df[column_name].dropna().tolist(), desc=\"Splitting\"):\n",
    "    chunks = split_urdu_text(text, chunk_size, chunk_overlap)\n",
    "    all_chunks.extend(chunks)\n",
    "\n",
    "print(f\"✅ Total chunks: {len(all_chunks)}\")\n",
    "\n",
    "# Change to IndexFlatIP since we're using normalized embeddings\n",
    "dimension = 1024  \n",
    "index = faiss.IndexFlatIP(dimension)  # Changed from IndexFlatL2 to IndexFlatIP\n",
    "\n",
    "batch_size = 32\n",
    "for i in tqdm(range(0, len(all_chunks), batch_size), desc=\"Embedding\"):\n",
    "    batch = all_chunks[i:i + batch_size]\n",
    "    embeddings = embed_texts(batch)\n",
    "    index.add(embeddings)\n",
    "\n",
    "print(f\"✅ FAISS index built with {index.ntotal} vectors\")"
   ]
  },
  {
   "cell_type": "code",
   "execution_count": 22,
   "id": "00a100f2",
   "metadata": {},
   "outputs": [
    {
     "name": "stdout",
     "output_type": "stream",
     "text": [
      "✅ Saved FAISS index to ../../vector_db/paragraphs/5884_paras/5884_paras_faiss_index.index\n",
      "✅ Saved chunks to ../../data_storage/Paragraph_chunks/5884_paragraphs/5884_chunks.pkl\n"
     ]
    }
   ],
   "source": [
    "faiss.write_index(index, faiss_index_path)\n",
    "with open(chunks_path, \"wb\") as f:\n",
    "    pickle.dump(all_chunks, f)\n",
    "\n",
    "print(f\"✅ Saved FAISS index to {faiss_index_path}\")\n",
    "print(f\"✅ Saved chunks to {chunks_path}\")\n"
   ]
  },
  {
   "cell_type": "code",
   "execution_count": null,
   "id": "c6a0d7d5",
   "metadata": {},
   "outputs": [],
   "source": []
  }
 ],
 "metadata": {
  "kernelspec": {
   "display_name": "venv",
   "language": "python",
   "name": "python3"
  },
  "language_info": {
   "codemirror_mode": {
    "name": "ipython",
    "version": 3
   },
   "file_extension": ".py",
   "mimetype": "text/x-python",
   "name": "python",
   "nbconvert_exporter": "python",
   "pygments_lexer": "ipython3",
   "version": "3.11.9"
  }
 },
 "nbformat": 4,
 "nbformat_minor": 5
}
