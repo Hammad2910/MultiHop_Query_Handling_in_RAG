{
 "cells": [
  {
   "cell_type": "code",
   "execution_count": 4,
   "metadata": {},
   "outputs": [
    {
     "name": "stdout",
     "output_type": "stream",
     "text": [
      "Conversion to CSV complete. Check 'output.csv'.\n"
     ]
    }
   ],
   "source": [
    "import json\n",
    "import csv\n",
    "\n",
    "# Load the JSON file\n",
    "with open(\"E:/Study/RAG new Working/dataset/2wiki/data_ids_april7/train.json\", \"r\") as file:\n",
    "    data = json.load(file)\n",
    "\n",
    "# Check if the data is a list\n",
    "if isinstance(data, list):\n",
    "    flattened_data = []\n",
    "    for item in data:\n",
    "        # Flatten each item in the list\n",
    "        row = {\n",
    "            \"_id\": item.get(\"_id\", \"\"),\n",
    "            \"type\": item.get(\"type\", \"\"),\n",
    "            \"question\": item.get(\"question\", \"\"),\n",
    "            \"context\": json.dumps(item.get(\"context\", [])),  # Convert nested lists to JSON string\n",
    "            \"entity_ids\": item.get(\"entity_ids\", \"\"),\n",
    "            \"supporting_facts\": json.dumps(item.get(\"supporting_facts\", [])),\n",
    "            \"evidences\": json.dumps(item.get(\"evidences\", [])),\n",
    "            \"answer\": item.get(\"answer\", \"\"),\n",
    "            \"evidences_id\": json.dumps(item.get(\"evidences_id\", [])),\n",
    "            \"answer_id\": item.get(\"answer_id\", \"\"),\n",
    "        }\n",
    "        flattened_data.append(row)\n",
    "\n",
    "    # Write to CSV\n",
    "    with open(\"E:/Study/RAG new Working/dataset/csv/wiki_data.csv\", \"w\", newline=\"\", encoding=\"utf-8\") as csvfile:\n",
    "        writer = csv.DictWriter(csvfile, fieldnames=row.keys())\n",
    "        writer.writeheader()\n",
    "        writer.writerows(flattened_data)\n",
    "\n",
    "    print(\"Conversion to CSV complete. Check 'output.csv'.\")\n",
    "else:\n",
    "    print(\"The data is not in the expected format. It seems to be a dictionary instead of a list.\")\n"
   ]
  },
  {
   "cell_type": "code",
   "execution_count": 7,
   "metadata": {},
   "outputs": [
    {
     "name": "stdout",
     "output_type": "stream",
     "text": [
      "{'id': '2hop__42543_20093', 'paragraphs': [{'idx': 0, 'title': 'All Things in Time', 'paragraph_text': 'All Things in Time is an album by American R&B singer Lou Rawls, released in June 1976 on the Philadelphia International Records label. Coming after a career lull in the years immediately preceding, \"All Things in Time\" was Rawls\\' first album for PIR; at the time he was the first artist to sign with PIR after having already enjoyed a substantial recording career and chart success with other record labels. The album includes Rawls\\' most famous hit song \"You\\'ll Never Find Another Love Like Mine\".', 'is_supporting': False}, {'idx': 1, 'title': \"Goin' Out of My Head\", 'paragraph_text': \"``Goin 'Out of My Head ''is a song written by Teddy Randazzo and Bobby Weinstein, initially recorded by Little Anthony & the Imperials in 1964. Randazzo, a childhood friend of the group, wrote the song especially for them, having also supplied the group with their previous Top 20 Hit`` I'm on the Outside (Looking In)''. Their original version of the song was a Billboard Top 10 Pop hit, reaching # 6 on the Billboard Hot 100, and # 1 in the Canadian RPM - list in 1965. The song peaked at # 8 on Cashbox magazine's R&B chart (Billboard was in a chart recess for R&B listings at that time). The Little Anthony & the Imperials original recording is a commonly - known version of the song although it's since been covered by many other artists.\", 'is_supporting': False}, {'idx': 2, 'title': 'Every Little Thing U Do', 'paragraph_text': \"``Every Little Thing U Do ''is a song by American R&B artist Christopher Williams recorded for his second album Changes (1992). The song was released as the album's third single in March 1993.\", 'is_supporting': False}, {'idx': 3, 'title': \"She Don't Love You\", 'paragraph_text': \"``She Do n't Love You ''is a song co-written and recorded by American country music artist Eric Paslay. It was released on October 13, 2014 as the fourth and final single from Paslay's self - titled debut album. Paslay wrote the song with Jennifer Wayne. It was originally written for George Strait.\", 'is_supporting': False}, {'idx': 4, 'title': 'Crazy Desire', 'paragraph_text': 'Crazy Desire (originally titled as La voglia matta, also known as \"The Crazy Urge\") is a 1962 Italian comedy film directed by Luciano Salce. It launched the film career of Catherine Spaak. The film was initially banned by the Italian censors and then cut in some parts before being released with a ban for persons under 14 years.', 'is_supporting': False}, {'idx': 5, 'title': \"She's Crazy for Leavin'\", 'paragraph_text': '\"She\\'s Crazy for Leavin\\'\" is a song co-written and recorded by American country music artist Rodney Crowell. It was released in September 1988 as the third single from the album \"Diamonds & Dirt\". \"She\\'s Crazy for Leavin\\'\" was Rodney Crowell\\'s second number one country hit as a solo artist. The single went to number one for one week and spent a total of 14 weeks on the country chart. It was written by Crowell and Guy Clark, who originally recorded it on his 1981 album \"The South Coast of Texas\", which Crowell produced.', 'is_supporting': False}, {'idx': 6, 'title': 'Little League World Series', 'paragraph_text': 'The Little League Baseball World Series is an annual baseball tournament in the eastern United States for children aged 10 to 12 years old. Originally called the National Little League Tournament, it was later renamed for the World Series in Major League Baseball. The Series was first held 71 years ago in 1947 and is held every August in South Williamsport, Pennsylvania. (Although the postal address of the organization is in Williamsport, the Series itself is played at Howard J. Lamade Stadium and Volunteer Stadium at the Little League headquarters complex in South Williamsport.)', 'is_supporting': False}, {'idx': 7, 'title': 'Little League World Series', 'paragraph_text': 'The Little League Baseball World Series is an annual baseball tournament in the eastern United States for children aged 11 to 13 years old. Originally called the National Little League Tournament, it was later renamed for the World Series in Major League Baseball. The Series was first held 70 years ago in 1947 and is held every August in South Williamsport, Pennsylvania. (Although the postal address of the organization is in Williamsport, the Series itself is played at Howard J. Lamade Stadium and Volunteer Stadium at the Little League headquarters complex in South Williamsport.)', 'is_supporting': False}, {'idx': 8, 'title': 'That Most Important Thing: Love', 'paragraph_text': \"That Most Important Thing: Love (original French title: L'important c'est d'aimer) is a French film directed by Polish filmmaker Andrzej Żuławski. It tells the story of a passionate love relationship between Nadine Chevalier, a B-List actress (Romy Schneider) and Servais Mont, a photographer (Fabio Testi) in the violent and unforgiving French show business.\", 'is_supporting': False}, {'idx': 9, 'title': 'Thing (The Addams Family)', 'paragraph_text': \"Thing T. Thing, often referred to as just Thing, is a fictional character in The Addams Family series. Thing was originally conceived as a whole creature (always seen in the background watching the family) that was too horrible to see in person. The only part of it that was tolerable was its human hand (this can be seen in the 1964 television series). The Addamses called it ``Thing ''because it was something that could not be identified. Thing was changed to a disembodied hand for the 1991 and 1993 Addams Family movies.\", 'is_supporting': False}, {'idx': 10, 'title': \"Goin' Out of My Head\", 'paragraph_text': '\"Goin\\' Out of My Head\" is a song written by Teddy Randazzo and Bobby Weinstein, initially recorded by Little Anthony & the Imperials in 1964. Randazzo, a childhood friend of the group, wrote the song especially for them, having also supplied the group with their previous Top 20 Hit \"I\\'m on the Outside (Looking In)\". Their original version of the song was a \"Billboard\" Top 10 Pop smash, reaching #6 on the \"Billboard\" Hot 100, and #1 in the Canadian RPM-list in 1965. The song peaked at #8 on Cashbox magazine\\'s R&B chart (Billboard was in a chart recess for R&B listings at that time). The Little Anthony & the Imperials original recording is the best-known version of the song, although it has since been covered by many other artists.', 'is_supporting': False}, {'idx': 11, 'title': \"That's the Thing About Love\", 'paragraph_text': '\"That\\'s the Thing About Love\" is a song written by Richard Leigh and Gary Nicholson, and recorded by American country music artist Don Williams. It was released in March 1984 as the first single from the album \"Cafe Carolina\". \"That\\'s the Thing About Love\" was Don Williams sixteenth number one on the country chart. The single stayed at number one for a week and spent a total of thirteen weeks on the chart.', 'is_supporting': False}, {'idx': 12, 'title': 'Three Little Birds', 'paragraph_text': \"``Three Little Birds ''is a song by Bob Marley and the Wailers. It is the fourth track on side two of their 1977 album Exodus and was released as a single in 1980. The song reached the Top 20 in the UK, peaking at number 17. It is one of Bob Marley's most popular songs. The song has been covered by numerous other artists. The song is often thought to be named`` Do n't Worry About a Thing'' or ``Every Little Thing is Gonna Be Alright '', because of the prominent and repeated use of these phrases in the chorus.\", 'is_supporting': False}, {'idx': 13, 'title': 'Crazy Frog', 'paragraph_text': 'Crazy Frog, originally known as The Annoying Thing, is a Swedish computer - animated character created in 2003 by Swedish actor and playwright Erik Wernquist. Marketed by the ringtone provider Jamba! (later known as Jamster), the animation was originally created to accompany a sound effect produced by Australian singer songwriter Sav Martino and Daniel Malmedahl in 1997 while attempting to imitate the sound of a two - stroke engine.', 'is_supporting': False}, {'idx': 14, 'title': 'Azure Moon', 'paragraph_text': 'The song \"Azure Moon\" is Every Little Thing\\'s 29th single released by the Avex Trax label. \"Azure Moon\" was a ballad single that also included a special acoustic version of their 2003 single \"Soraai\" for Every Little Thing\\'s concert \"Every Little Thing X\\'mas Acoustic Live at Uragami Tenshudou: Ai no Uta\", which took place at Nagasaki on December 11, 2005. The single peaked in 12th place on its first week at the charts and sold 17,212 copies.', 'is_supporting': False}, {'idx': 15, 'title': 'Decade of Hits (George Canyon album)', 'paragraph_text': 'Decade of Hits is the first greatest hits album by Canadian country music artist George Canyon. It was released on September 9, 2014 by Big Star Recordings. The album features fifteen of Canyon\\'s biggest singles. It also includes two new songs, \"Slow Dance\" and \"Crazy Love\", both of which were released as singles. \"Decade of Hits\" was also released on vinyl.', 'is_supporting': False}, {'idx': 16, 'title': 'Where the Fast Lane Ends', 'paragraph_text': 'Where the Fast Lane Ends is the 12th country studio album by the American country music group The Oak Ridge Boys, released via MCA Records in 1987. The album features the singles \"This Crazy Love\" and \"It Takes a Little Rain (To Make Love Grow)\".', 'is_supporting': False}, {'idx': 17, 'title': \"Ruby, Don't Take Your Love to Town\", 'paragraph_text': \"``Ruby, Do n't Take Your Love to Town ''Single by Johnny Darrell from the album Ruby, Do n't Take Your Love to Town B - side`` The Little Things I Love'' Released 1967 Format 7 ''single Genre Country Length 2: 16 Label United Artists Songwriter (s) Mel Tillis Producer (s) Bob Montgomery Johnny Darrell singles chronology ``She's Mighty Gone'' (1966)`` Ruby, Do n't Take Your Love to Town ''(1967) ``My Elusive Dreams'' (1967)`` She's Mighty Gone ''(1966) ``Ruby, Do n't Take Your Love to Town'' (1967)`` My Elusive Dreams ''(1967)\", 'is_supporting': False}, {'idx': 18, 'title': 'A Thing Called Love', 'paragraph_text': 'A Thing Called Love is the 39th overall album by country singer Johnny Cash, released on Columbia Records in 1972 (see 1972 in music). The title song, written by Jerry Reed, was released successfully as a single (with \"Daddy\" as the B-side, as yet unavailable on CD), reaching No. 2 on the country charts; two more singles charted as well, while the album itself also reached No. 2 on the country album charts. \"A Thing Called Love\" was re-recorded by Cash for \"\" (1988), while \"Tear Stained Letter\" was reprised on \"\" (2002). The Canadian pressing of this album has a different version of \"Kate\" with altered lyrics.', 'is_supporting': False}, {'idx': 19, 'title': 'Pamela Uschuk', 'paragraph_text': 'Pamela Uschuk is an American poet, and 2011 Visiting Poet at University of Tennessee. She won a 2010 American Book Award, for \"Crazy Love: New Poems\".', 'is_supporting': False}], 'question': 'What year did the writer of Crazy Little Thing Called Love die?', 'question_decomposition': [{'id': 42543, 'question': 'who wrote crazy little thing called love original artist', 'answer': 'Freddie Mercury', 'paragraph_support_idx': None}, {'id': 20093, 'question': 'In what year did #1 die?', 'answer': '1991', 'paragraph_support_idx': None}], 'answer': '1991', 'answer_aliases': [], 'answerable': False}\n"
     ]
    }
   ],
   "source": [
    "import json\n",
    "\n",
    "# Path to your .jsonl file\n",
    "file_path = \"E:\\Study\\RAG new Working\\dataset\\musique_data_v1.0\\data\\musique_full_v1.0_train.jsonl\"\n",
    "\n",
    "# Load JSON Lines file\n",
    "data = []\n",
    "with open(file_path, 'r', encoding='utf-8') as file:\n",
    "    for line in file:\n",
    "        data.append(json.loads(line))  # Parse each line as a JSON object\n",
    "\n",
    "# Check the first few records to inspect the data\n",
    "print(data[0])  "
   ]
  },
  {
   "cell_type": "code",
   "execution_count": 8,
   "metadata": {},
   "outputs": [
    {
     "name": "stdout",
     "output_type": "stream",
     "text": [
      "CSV file has been created successfully!\n"
     ]
    }
   ],
   "source": [
    "import pandas as pd\n",
    "df = pd.DataFrame(data)\n",
    "\n",
    "# Save DataFrame to CSV\n",
    "df.to_csv('E:/Study/RAG new Working/dataset/csv/musique_data.csv', index=False)\n",
    "\n",
    "print(\"CSV file has been created successfully!\")"
   ]
  },
  {
   "cell_type": "code",
   "execution_count": null,
   "metadata": {},
   "outputs": [],
   "source": []
  }
 ],
 "metadata": {
  "kernelspec": {
   "display_name": "Python 3",
   "language": "python",
   "name": "python3"
  },
  "language_info": {
   "codemirror_mode": {
    "name": "ipython",
    "version": 3
   },
   "file_extension": ".py",
   "mimetype": "text/x-python",
   "name": "python",
   "nbconvert_exporter": "python",
   "pygments_lexer": "ipython3",
   "version": "3.10.6"
  }
 },
 "nbformat": 4,
 "nbformat_minor": 2
}
