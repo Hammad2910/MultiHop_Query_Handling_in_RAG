{
 "cells": [
  {
   "cell_type": "markdown",
   "metadata": {},
   "source": [
    "Reading Dataset"
   ]
  },
  {
   "cell_type": "code",
   "execution_count": 1,
   "metadata": {},
   "outputs": [
    {
     "name": "stdout",
     "output_type": "stream",
     "text": [
      "                                    supporting_facts   level  \\\n",
      "0  [[\"Arthur's Magazine\", 0], ['First for Women',...  medium   \n",
      "1    [['Oberoi family', 0], ['The Oberoi Group', 0]]  medium   \n",
      "2  [['Allie Goertz', 0], ['Allie Goertz', 1], ['A...    hard   \n",
      "3  [['Peggy Seeger', 0], ['Peggy Seeger', 1], ['E...  medium   \n",
      "4          [['Cadmium chloride', 1], ['Ethanol', 0]]  medium   \n",
      "\n",
      "                                            question  \\\n",
      "0  Which magazine was started first Arthur's Maga...   \n",
      "1  The Oberoi family is part of a hotel company t...   \n",
      "2  Musician and satirist Allie Goertz wrote a son...   \n",
      "3    What nationality was James Henry Miller's wife?   \n",
      "4  Cadmium Chloride is slightly soluble in this c...   \n",
      "\n",
      "                                             context                   answer  \\\n",
      "0  [['Radio City (Indian radio station)', [\"Radio...        Arthur's Magazine   \n",
      "1  [['Ritz-Carlton Jakarta', ['The Ritz-Carlton J...                    Delhi   \n",
      "2  [['Lisa Simpson', ['Lisa Marie Simpson is a fi...  President Richard Nixon   \n",
      "3  [['Moloch: or, This Gentile World', ['Moloch: ...                 American   \n",
      "4  [['Cadmium chloride', ['Cadmium chloride is a ...                  alcohol   \n",
      "\n",
      "                        _id        type  \n",
      "0  5a7a06935542990198eaf050  comparison  \n",
      "1  5a879ab05542996e4f30887e      bridge  \n",
      "2  5a8d7341554299441c6b9fe5      bridge  \n",
      "3  5a82171f5542990a1d231f4a      bridge  \n",
      "4  5a84dd955542997b5ce3ff79      bridge  \n"
     ]
    }
   ],
   "source": [
    "import pandas as pd\n",
    "\n",
    "# Reading the CSV file\n",
    "file_path = '../hotpotQA_complete_dataset/output.csv'  # Replace with the path to your CSV file\n",
    "data = pd.read_csv(file_path)\n",
    "\n",
    "# Display the first few rows\n",
    "print(data.head())"
   ]
  },
  {
   "cell_type": "code",
   "execution_count": 2,
   "metadata": {},
   "outputs": [
    {
     "name": "stdout",
     "output_type": "stream",
     "text": [
      "\n",
      "Data Types:\n",
      "supporting_facts    object\n",
      "level               object\n",
      "question            object\n",
      "context             object\n",
      "answer              object\n",
      "_id                 object\n",
      "type                object\n",
      "dtype: object\n"
     ]
    }
   ],
   "source": [
    "# Get data types of each column\n",
    "print(\"\\nData Types:\")\n",
    "print(data.dtypes)\n"
   ]
  },
  {
   "cell_type": "code",
   "execution_count": 3,
   "metadata": {},
   "outputs": [
    {
     "name": "stdout",
     "output_type": "stream",
     "text": [
      "0    <class 'str'>\n",
      "1    <class 'str'>\n",
      "2    <class 'str'>\n",
      "3    <class 'str'>\n",
      "4    <class 'str'>\n",
      "Name: context, dtype: object\n",
      "[['Radio City (Indian radio station)', [\"Radio City is India's first private FM radio station and was started on 3 July 2001.\", ' It broadcasts on 91.1 (earlier 91.0 in most cities) megahertz from Mumbai (where it was started in 2004), Bengaluru (started first in 2001), Lucknow and New Delhi (since 2003).', ' It plays Hindi, English and regional songs.', ' It was launched in Hyderabad in March 2006, in Chennai on 7 July 2006 and in Visakhapatnam October 2007.', ' Radio City recently forayed into New Media in May 2008 with the launch of a music portal - PlanetRadiocity.com that offers music related news, videos, songs, and other music-related features.', ' The Radio station currently plays a mix of Hindi and Regional music.', ' Abraham Thomas is the CEO of the company.']], ['History of Albanian football', ['Football in Albania existed before the Albanian Football Federation (FSHF) was created.', \" This was evidenced by the team's registration at the Balkan Cup tournament during 1929-1931, which started in 1929 (although Albania eventually had pressure from the teams because of competition, competition started first and was strong enough in the duels) .\", ' Albanian National Team was founded on June 6, 1930, but Albania had to wait 16 years to play its first international match and then defeated Yugoslavia in 1946.', ' In 1932, Albania joined FIFA (during the 12–16 June convention ) And in 1954 she was one of the founding members of UEFA.']], ['Echosmith', ['Echosmith is an American, Corporate indie pop band formed in February 2009 in Chino, California.', ' Originally formed as a quartet of siblings, the band currently consists of Sydney, Noah and Graham Sierota, following the departure of eldest sibling Jamie in late 2016.', ' Echosmith started first as \"Ready Set Go!\"', ' until they signed to Warner Bros.', ' Records in May 2012.', ' They are best known for their hit song \"Cool Kids\", which reached number 13 on the \"Billboard\" Hot 100 and was certified double platinum by the RIAA with over 1,200,000 sales in the United States and also double platinum by ARIA in Australia.', ' The song was Warner Bros.', \" Records' fifth-biggest-selling-digital song of 2014, with 1.3 million downloads sold.\", ' The band\\'s debut album, \"Talking Dreams\", was released on October 8, 2013.']], [\"Women's colleges in the Southern United States\", [\"Women's colleges in the Southern United States refers to undergraduate, bachelor's degree–granting institutions, often liberal arts colleges, whose student populations consist exclusively or almost exclusively of women, located in the Southern United States.\", \" Many started first as girls' seminaries or academies.\", ' Salem College is the oldest female educational institution in the South and Wesleyan College is the first that was established specifically as a college for women.', ' Some schools, such as Mary Baldwin University and Salem College, offer coeducational courses at the graduate level.']], ['First Arthur County Courthouse and Jail', ['The First Arthur County Courthouse and Jail, was perhaps the smallest court house in the United States, and serves now as a museum.']], [\"Arthur's Magazine\", [\"Arthur's Magazine (1844–1846) was an American literary periodical published in Philadelphia in the 19th century.\", ' Edited by T.S. Arthur, it featured work by Edgar A. Poe, J.H. Ingraham, Sarah Josepha Hale, Thomas G. Spear, and others.', ' In May 1846 it was merged into \"Godey\\'s Lady\\'s Book\".']], ['2014–15 Ukrainian Hockey Championship', ['The 2014–15 Ukrainian Hockey Championship was the 23rd season of the Ukrainian Hockey Championship.', ' Only four teams participated in the league this season, because of the instability in Ukraine and that most of the clubs had economical issues.', ' Generals Kiev was the only team that participated in the league the previous season, and the season started first after the year-end of 2014.', ' The regular season included just 12 rounds, where all the teams went to the semifinals.', ' In the final, ATEK Kiev defeated the regular season winner HK Kremenchuk.']], ['First for Women', [\"First for Women is a woman's magazine published by Bauer Media Group in the USA.\", ' The magazine was started in 1989.', ' It is based in Englewood Cliffs, New Jersey.', ' In 2011 the circulation of the magazine was 1,310,696 copies.']], ['Freeway Complex Fire', ['The Freeway Complex Fire was a 2008 wildfire in the Santa Ana Canyon area of Orange County, California.', ' The fire started as two separate fires on November 15, 2008.', ' The \"Freeway Fire\" started first shortly after 9am with the \"Landfill Fire\" igniting approximately 2 hours later.', ' These two separate fires merged a day later and ultimately destroyed 314 residences in Anaheim Hills and Yorba Linda.']], ['William Rast', ['William Rast is an American clothing line founded by Justin Timberlake and Trace Ayala.', ' It is most known for their premium jeans.', ' On October 17, 2006, Justin Timberlake and Trace Ayala put on their first fashion show to launch their new William Rast clothing line.', ' The label also produces other clothing items such as jackets and tops.', ' The company started first as a denim line, later evolving into a men’s and women’s clothing line.']]]\n"
     ]
    }
   ],
   "source": [
    "# Check the type of the first few entries\n",
    "print(data['context'].apply(type).head())\n",
    "\n",
    "# Print one sample entry to understand the structure\n",
    "print(data['context'].iloc[0])"
   ]
  },
  {
   "cell_type": "code",
   "execution_count": 4,
   "metadata": {},
   "outputs": [
    {
     "name": "stdout",
     "output_type": "stream",
     "text": [
      "Sample Data in 'context':\n",
      "0    [['Radio City (Indian radio station)', [\"Radio...\n",
      "1    [['Ritz-Carlton Jakarta', ['The Ritz-Carlton J...\n",
      "Name: context, dtype: object\n"
     ]
    }
   ],
   "source": [
    "print(\"Sample Data in 'context':\")\n",
    "print(data['context'].head(2))"
   ]
  },
  {
   "cell_type": "code",
   "execution_count": 5,
   "metadata": {},
   "outputs": [],
   "source": [
    "import ast\n",
    "data['context'] = data['context'].apply(lambda x: ast.literal_eval(x) if isinstance(x, str) else x)\n"
   ]
  },
  {
   "cell_type": "code",
   "execution_count": 6,
   "metadata": {},
   "outputs": [
    {
     "name": "stdout",
     "output_type": "stream",
     "text": [
      "10\n"
     ]
    }
   ],
   "source": [
    "print(len(data['context'][0]))"
   ]
  },
  {
   "cell_type": "markdown",
   "metadata": {},
   "source": [
    "Separate out All paragraphs"
   ]
  },
  {
   "cell_type": "code",
   "execution_count": 7,
   "metadata": {},
   "outputs": [],
   "source": [
    "unique_paragraphs = set()  # Use a set to avoid duplicates\n",
    "\n",
    "for row in data['context']:\n",
    "    if isinstance(row, list):  # Ensure it's a valid list\n",
    "        for paragraph in row:  # Iterate through each paragraph in the list\n",
    "\n",
    "            if isinstance(paragraph, list) and len(paragraph) == 2:  # Ensure valid structure\n",
    "                title, content = paragraph\n",
    "                unique_paragraphs.add((title, tuple(content)))  # Add (title, content) as a unique entry\n"
   ]
  },
  {
   "cell_type": "markdown",
   "metadata": {},
   "source": []
  },
  {
   "cell_type": "code",
   "execution_count": 8,
   "metadata": {},
   "outputs": [
    {
     "name": "stdout",
     "output_type": "stream",
     "text": [
      "Number of unique paragraphs: 483696\n"
     ]
    }
   ],
   "source": [
    "unique_paragraphs_df = pd.DataFrame(list(unique_paragraphs), columns=['Title', 'Content'])\n",
    "\n",
    "# Step 4: Count the number of unique paragraphs\n",
    "print(f\"Number of unique paragraphs: {len(unique_paragraphs_df)}\")\n"
   ]
  },
  {
   "cell_type": "code",
   "execution_count": 9,
   "metadata": {},
   "outputs": [
    {
     "name": "stdout",
     "output_type": "stream",
     "text": [
      "                                            Title  \\\n",
      "0                   North–South Railway (Vietnam)   \n",
      "1            Naval Nuclear Power Training Command   \n",
      "2                               Beyond: Two Souls   \n",
      "3                   Franklin Humanities Institute   \n",
      "4                       Stockholm Business School   \n",
      "5  2011–12 Arizona Wildcats men's basketball team   \n",
      "6                   George Lorimer (rugby league)   \n",
      "7                              Paratrooper helmet   \n",
      "8                 Jack Nelson (American football)   \n",
      "9              2004 French Open – Women's Doubles   \n",
      "\n",
      "                                             Content  \n",
      "0  (The North–South Railway (Vietnamese: \"Đường s...  \n",
      "1  (The Naval Nuclear Power Training Command (NNP...  \n",
      "2  (Beyond: Two Souls is an interactive drama act...  \n",
      "3  (The Franklin Humanities Institute (FHI) is an...  \n",
      "4  (Stockholm Business School (SBS) is one of the...  \n",
      "5  (The 2011–12 Arizona Wildcats men's basketball...  \n",
      "6  (George Lorimer (birth registered April→June 1...  \n",
      "7  (A Paratrooper helmet is a type of Combat helm...  \n",
      "8  (Jack \"Jocko\" Nelson (July 12, 1927November 20...  \n",
      "9  (Kim Clijsters and Ai Sugiyama were the defend...  \n"
     ]
    }
   ],
   "source": [
    "print(unique_paragraphs_df.head(10))"
   ]
  },
  {
   "cell_type": "code",
   "execution_count": 10,
   "metadata": {},
   "outputs": [
    {
     "data": {
      "text/plain": [
       "('Beyond: Two Souls is an interactive drama action-adventure video game for the PlayStation 3 and Playstation 4 home video game consoles, created by French game developer Quantic Dream and published by Sony Computer Entertainment.',\n",
       " ' It was released in October 2013.',\n",
       " ' The game features Jodie Holmes, one of two player characters.',\n",
       " ' The other is an incorporeal entity named Aiden: a separate soul linked to Jodie since birth.',\n",
       " ' Jodie, who is portrayed by actress Ellen Page, possesses supernatural powers through her psychic link to Aiden, growing from adolescence to adulthood while learning to control Aiden and the powers they share.',\n",
       " \" Willem Dafoe co-stars as Nathan Dawkins, a researcher in the Department of Paranormal Activity and Jodie's surrogate-father-figure.\",\n",
       " \" The actors in the game worked during the year-long project in Quantic Dream's Paris studio to perform on-set voice acting and motion capture acting.\")"
      ]
     },
     "execution_count": 10,
     "metadata": {},
     "output_type": "execute_result"
    }
   ],
   "source": [
    "unique_paragraphs_df['Content'][2]"
   ]
  },
  {
   "cell_type": "code",
   "execution_count": 11,
   "metadata": {},
   "outputs": [
    {
     "name": "stdout",
     "output_type": "stream",
     "text": [
      "\n",
      "Data Types:\n",
      "Title      object\n",
      "Content    object\n",
      "dtype: object\n"
     ]
    }
   ],
   "source": [
    "print(\"\\nData Types:\")\n",
    "print(unique_paragraphs_df.dtypes)"
   ]
  },
  {
   "cell_type": "code",
   "execution_count": 12,
   "metadata": {},
   "outputs": [
    {
     "name": "stdout",
     "output_type": "stream",
     "text": [
      "Number of unique paragraphs: 483696\n",
      "                                  Title  \\\n",
      "0         North–South Railway (Vietnam)   \n",
      "1  Naval Nuclear Power Training Command   \n",
      "2                     Beyond: Two Souls   \n",
      "3         Franklin Humanities Institute   \n",
      "4             Stockholm Business School   \n",
      "\n",
      "                                             Content  \n",
      "0  The North–South Railway (Vietnamese: \"Đường sắ...  \n",
      "1  The Naval Nuclear Power Training Command (NNPT...  \n",
      "2  Beyond: Two Souls is an interactive drama acti...  \n",
      "3  The Franklin Humanities Institute (FHI) is an ...  \n",
      "4  Stockholm Business School (SBS) is one of the ...  \n"
     ]
    }
   ],
   "source": [
    "# Step 3: Convert the set back to a DataFrame for easier analysis\n",
    "unique_paragraphs_df = pd.DataFrame(list(unique_paragraphs), columns=['Title', 'Content'])\n",
    "\n",
    "# Step 4: Convert the 'Content' from tuple to a single string\n",
    "unique_paragraphs_df['Content'] = unique_paragraphs_df['Content'].apply(lambda x: ' '.join(x))\n",
    "\n",
    "# Step 5: Count the number of unique paragraphs\n",
    "print(f\"Number of unique paragraphs: {len(unique_paragraphs_df)}\")\n",
    "\n",
    "# Step 6: Display the DataFrame\n",
    "print(unique_paragraphs_df.head())\n"
   ]
  },
  {
   "cell_type": "code",
   "execution_count": 13,
   "metadata": {},
   "outputs": [
    {
     "data": {
      "text/plain": [
       "483696"
      ]
     },
     "execution_count": 13,
     "metadata": {},
     "output_type": "execute_result"
    }
   ],
   "source": [
    "len(unique_paragraphs_df)"
   ]
  },
  {
   "cell_type": "code",
   "execution_count": 14,
   "metadata": {},
   "outputs": [
    {
     "data": {
      "text/plain": [
       "'The North–South Railway (Vietnamese: \"Đường sắt Bắc–Nam\" , French: \"Chemin de fer Nord-Sud\" ) is the principal railway line serving the country of Vietnam.  It is a single-track metre gauge line connecting the capital Hanoi in the north to Ho Chi Minh City in the south, for a total length of 1726 km .  Trains travelling this line are sometimes referred to as the Reunification Express (referring to the Reunification of Vietnam), although no particular train carries this name officially.  The line was established during French colonial rule, and was completed over a period of nearly forty years, from 1899 to 1936.  As of 2005, there were 278 stations on the Vietnamese railway network, of which 191 were located along the North–South line.'"
      ]
     },
     "execution_count": 14,
     "metadata": {},
     "output_type": "execute_result"
    }
   ],
   "source": [
    "unique_paragraphs_df[\"Content\"][0]"
   ]
  },
  {
   "cell_type": "code",
   "execution_count": 45,
   "metadata": {},
   "outputs": [],
   "source": [
    "unique_paragraphs_df.to_csv(\"E:\\Study\\RAG new Working\\dataset\\hotpot-qa\\paragraphs.csv\")"
   ]
  },
  {
   "cell_type": "code",
   "execution_count": 15,
   "metadata": {},
   "outputs": [
    {
     "name": "stdout",
     "output_type": "stream",
     "text": [
      "Total sampled questions: 600\n",
      "Unique paragraphs extracted: 5884\n",
      "                                    supporting_facts  \\\n",
      "0   [['2017–18 Serie B', 1], ['2016–17 Serie B', 0]]   \n",
      "1  [['Alec Naylor Dakin', 0], ['Bletchley Park', 0]]   \n",
      "2  [['Face Value (play)', 3], ['B. D. Wong', 2], ...   \n",
      "3  [['2003 Oklahoma Sooners football team', 2], [...   \n",
      "4  [['Loan-a Lisa', 0], ['Loan-a Lisa', 2], ['Gra...   \n",
      "\n",
      "                          actual_retrieved_sentences  \n",
      "0   A total of 22 teams are contesting the league...  \n",
      "1  Alec Naylor Dakin (3 April 1912 – 14 June 2003...  \n",
      "2   It was directed by Jerry Zaks, with B. D. Won...  \n",
      "3   They played their home games at Gaylord Famil...  \n",
      "4  \"Loan-a Lisa\" is the second episode of \"The Si...  \n",
      "             Title                                            Content\n",
      "0  2015–16 Serie B  The 2015–16 Serie B (known as the Serie B ConT...\n",
      "1  2016–17 Serie A  The 2016–17 Serie A (known as the Serie A TIM ...\n",
      "2  2011–12 Serie B  The 2011–12 Serie B (known as the Serie bwin f...\n",
      "3  2016–17 Serie B  The 2016–17 Serie B (known as the Serie B ConT...\n",
      "4  2017–18 Serie B  The 2017–18 Serie B (known as the Serie B ConT...\n"
     ]
    }
   ],
   "source": [
    "import pandas as pd\n",
    "import ast\n",
    "\n",
    "def sample_questions_by_level(data, sample_sizes, random_state=42):\n",
    "    \"\"\"\n",
    "    Sample questions from the dataset based on difficulty levels.\n",
    "\n",
    "    Args:\n",
    "        data (pd.DataFrame): Dataset with a 'level' column.\n",
    "        sample_sizes (dict): Number of samples per difficulty level.\n",
    "        random_state (int): Seed for reproducibility.\n",
    "\n",
    "    Returns:\n",
    "        pd.DataFrame: Sampled subset.\n",
    "    \"\"\"\n",
    "    sampled_data = pd.DataFrame()\n",
    "    for level, size in sample_sizes.items():\n",
    "        level_data = data[data['level'] == level]\n",
    "        sampled = level_data.sample(n=size, random_state=random_state)\n",
    "        sampled_data = pd.concat([sampled_data, sampled], ignore_index=True)\n",
    "    return sampled_data\n",
    "\n",
    "def parse_context_column(df, context_col='context'):\n",
    "    \"\"\"\n",
    "    Parse the 'context' column from string to list if needed.\n",
    "\n",
    "    Args:\n",
    "        df (pd.DataFrame): DataFrame with context column.\n",
    "        context_col (str): Name of the context column.\n",
    "\n",
    "    Returns:\n",
    "        pd.DataFrame: DataFrame with parsed context.\n",
    "    \"\"\"\n",
    "    df[context_col] = df[context_col].apply(lambda x: ast.literal_eval(x) if isinstance(x, str) else x)\n",
    "    return df\n",
    "\n",
    "def extract_unique_paragraphs(df, context_col='context'):\n",
    "    \"\"\"\n",
    "    Extract unique paragraphs from the 'context' column.\n",
    "\n",
    "    Args:\n",
    "        df (pd.DataFrame): DataFrame with parsed 'context' column.\n",
    "        context_col (str): Name of the context column.\n",
    "\n",
    "    Returns:\n",
    "        pd.DataFrame: DataFrame of unique paragraphs (Title and Content).\n",
    "    \"\"\"\n",
    "    paragraphs = []\n",
    "    for context in df[context_col]:\n",
    "        if isinstance(context, list):\n",
    "            for paragraph in context:\n",
    "                if isinstance(paragraph, list) and len(paragraph) == 2:\n",
    "                    title, content = paragraph\n",
    "                    paragraphs.append([title, ' '.join(content)])\n",
    "    unique_paragraphs_df = pd.DataFrame(paragraphs, columns=['Title', 'Content'])\n",
    "    unique_paragraphs_df = unique_paragraphs_df.drop_duplicates().reset_index(drop=True)\n",
    "    return unique_paragraphs_df\n",
    "\n",
    "def retrieve_sentences_from_context(supporting_facts, context):\n",
    "    \"\"\"\n",
    "    Retrieve actual supporting sentences from 'supporting_facts' and 'context'.\n",
    "\n",
    "    Args:\n",
    "        supporting_facts (list or str): List of [title, sentence_index] pairs or string repr.\n",
    "        context (list): Parsed context list of paragraphs.\n",
    "\n",
    "    Returns:\n",
    "        str: Concatenated supporting sentences.\n",
    "    \"\"\"\n",
    "    if isinstance(supporting_facts, str):\n",
    "        supporting_facts = ast.literal_eval(supporting_facts)\n",
    "    \n",
    "    retrieved_sentences = []\n",
    "    for fact in supporting_facts:\n",
    "        title, sentence_num = fact\n",
    "        for paragraph in context:\n",
    "            if isinstance(paragraph, list) and len(paragraph) == 2:\n",
    "                paragraph_title, sentences = paragraph\n",
    "                if paragraph_title == title and 0 <= sentence_num < len(sentences):\n",
    "                    retrieved_sentences.append(sentences[sentence_num])\n",
    "    return ' '.join(retrieved_sentences)\n",
    "\n",
    "# === USAGE ===\n",
    "\n",
    "# Your original dataset 'data' must be loaded here.\n",
    "\n",
    "# Define sample sizes per difficulty\n",
    "sample_sizes = {\n",
    "    'easy': 100,\n",
    "    'medium': 250,\n",
    "    'hard': 250\n",
    "}\n",
    "\n",
    "# Step 1: Sample questions\n",
    "sampled_data = sample_questions_by_level(data, sample_sizes)\n",
    "\n",
    "# Step 2: Parse 'context' column\n",
    "sampled_data = parse_context_column(sampled_data, context_col='context')\n",
    "\n",
    "# Step 3: Extract unique paragraphs\n",
    "unique_paragraphs_df = extract_unique_paragraphs(sampled_data, context_col='context')\n",
    "\n",
    "# Step 4: Retrieve actual supporting sentences and add as new column\n",
    "sampled_data['actual_retrieved_sentences'] = sampled_data.apply(\n",
    "    lambda row: retrieve_sentences_from_context(row['supporting_facts'], row['context']),\n",
    "    axis=1\n",
    ")\n",
    "\n",
    "# Display results\n",
    "print(f\"Total sampled questions: {len(sampled_data)}\")\n",
    "print(f\"Unique paragraphs extracted: {len(unique_paragraphs_df)}\")\n",
    "print(sampled_data[['supporting_facts', 'actual_retrieved_sentences']].head())\n",
    "print(unique_paragraphs_df.head())\n"
   ]
  },
  {
   "cell_type": "code",
   "execution_count": 16,
   "metadata": {},
   "outputs": [
    {
     "data": {
      "text/html": [
       "<div>\n",
       "<style scoped>\n",
       "    .dataframe tbody tr th:only-of-type {\n",
       "        vertical-align: middle;\n",
       "    }\n",
       "\n",
       "    .dataframe tbody tr th {\n",
       "        vertical-align: top;\n",
       "    }\n",
       "\n",
       "    .dataframe thead th {\n",
       "        text-align: right;\n",
       "    }\n",
       "</style>\n",
       "<table border=\"1\" class=\"dataframe\">\n",
       "  <thead>\n",
       "    <tr style=\"text-align: right;\">\n",
       "      <th></th>\n",
       "      <th>supporting_facts</th>\n",
       "      <th>level</th>\n",
       "      <th>question</th>\n",
       "      <th>context</th>\n",
       "      <th>answer</th>\n",
       "      <th>_id</th>\n",
       "      <th>type</th>\n",
       "      <th>actual_retrieved_sentences</th>\n",
       "    </tr>\n",
       "  </thead>\n",
       "  <tbody>\n",
       "    <tr>\n",
       "      <th>0</th>\n",
       "      <td>[['2017–18 Serie B', 1], ['2016–17 Serie B', 0]]</td>\n",
       "      <td>easy</td>\n",
       "      <td>The 2017–18 Serie B (known as the Serie B ConT...</td>\n",
       "      <td>[[2015–16 Serie B, [The 2015–16 Serie B (known...</td>\n",
       "      <td>1929</td>\n",
       "      <td>5ac190e55542994ab5c67d7f</td>\n",
       "      <td>bridge</td>\n",
       "      <td>A total of 22 teams are contesting the league...</td>\n",
       "    </tr>\n",
       "    <tr>\n",
       "      <th>1</th>\n",
       "      <td>[['Alec Naylor Dakin', 0], ['Bletchley Park', 0]]</td>\n",
       "      <td>easy</td>\n",
       "      <td>What specialism did Alec Naylor Dakin, fellow ...</td>\n",
       "      <td>[[Heath Robinson (codebreaking machine), [Heat...</td>\n",
       "      <td>cryptologist</td>\n",
       "      <td>5ac402585542997ea680c9b2</td>\n",
       "      <td>bridge</td>\n",
       "      <td>Alec Naylor Dakin (3 April 1912 – 14 June 2003...</td>\n",
       "    </tr>\n",
       "    <tr>\n",
       "      <th>2</th>\n",
       "      <td>[['Face Value (play)', 3], ['B. D. Wong', 2], ...</td>\n",
       "      <td>easy</td>\n",
       "      <td>Which actor from Jurassic Park assisted David ...</td>\n",
       "      <td>[[The Dance and the Railroad, [The Dance and t...</td>\n",
       "      <td>BD Wong</td>\n",
       "      <td>5ab478435542990594ba9c28</td>\n",
       "      <td>bridge</td>\n",
       "      <td>It was directed by Jerry Zaks, with B. D. Won...</td>\n",
       "    </tr>\n",
       "    <tr>\n",
       "      <th>3</th>\n",
       "      <td>[['2003 Oklahoma Sooners football team', 2], [...</td>\n",
       "      <td>easy</td>\n",
       "      <td>What is the population of the city that has th...</td>\n",
       "      <td>[[Oklahoma Sooners football, [The Oklahoma Soo...</td>\n",
       "      <td>110,925</td>\n",
       "      <td>5ae476e555429970de88d974</td>\n",
       "      <td>bridge</td>\n",
       "      <td>They played their home games at Gaylord Famil...</td>\n",
       "    </tr>\n",
       "    <tr>\n",
       "      <th>4</th>\n",
       "      <td>[['Loan-a Lisa', 0], ['Loan-a Lisa', 2], ['Gra...</td>\n",
       "      <td>easy</td>\n",
       "      <td>What character, voiced by Dan Castellaneta, st...</td>\n",
       "      <td>[[The Ned-Liest Catch, [\"The Ned-Liest Catch\" ...</td>\n",
       "      <td>Grampa Simpson</td>\n",
       "      <td>5a8eb60a5542995a26add4f2</td>\n",
       "      <td>bridge</td>\n",
       "      <td>\"Loan-a Lisa\" is the second episode of \"The Si...</td>\n",
       "    </tr>\n",
       "    <tr>\n",
       "      <th>...</th>\n",
       "      <td>...</td>\n",
       "      <td>...</td>\n",
       "      <td>...</td>\n",
       "      <td>...</td>\n",
       "      <td>...</td>\n",
       "      <td>...</td>\n",
       "      <td>...</td>\n",
       "      <td>...</td>\n",
       "    </tr>\n",
       "    <tr>\n",
       "      <th>595</th>\n",
       "      <td>[['Halestorm', 0], ['Say Anything (band)', 0]]</td>\n",
       "      <td>hard</td>\n",
       "      <td>Are the bands \"Halestorm\" and \"Say Anything\" f...</td>\n",
       "      <td>[[The MySpace Transmissions (Say Anything EP),...</td>\n",
       "      <td>yes</td>\n",
       "      <td>5ae3ef005542995ad6573ca8</td>\n",
       "      <td>comparison</td>\n",
       "      <td>Halestorm is an American hard rock band from R...</td>\n",
       "    </tr>\n",
       "    <tr>\n",
       "      <th>596</th>\n",
       "      <td>[['Bralorne', 0], ['Dome Mine', 0]]</td>\n",
       "      <td>hard</td>\n",
       "      <td>Which gold mine is located in the Bridge River...</td>\n",
       "      <td>[[Tyaughton Lake, [Tyaughton Lake, also known ...</td>\n",
       "      <td>Bralorne</td>\n",
       "      <td>5a76b0225542993569682c86</td>\n",
       "      <td>comparison</td>\n",
       "      <td>Bralorne is an historic Canadian gold mining c...</td>\n",
       "    </tr>\n",
       "    <tr>\n",
       "      <th>597</th>\n",
       "      <td>[['Chevrolet Silverado 250', 0], ['Canadian Ti...</td>\n",
       "      <td>hard</td>\n",
       "      <td>Chevrolet Silverado 250 is held at the track l...</td>\n",
       "      <td>[[Chevrolet Silverado, [The Chevrolet Silverad...</td>\n",
       "      <td>Bowmanville</td>\n",
       "      <td>5a8676025542994775f60773</td>\n",
       "      <td>bridge</td>\n",
       "      <td>The Chevrolet Silverado 250 is a NASCAR-sancti...</td>\n",
       "    </tr>\n",
       "    <tr>\n",
       "      <th>598</th>\n",
       "      <td>[['Falsettone', 0], ['Modal voice', 0], ['Moda...</td>\n",
       "      <td>hard</td>\n",
       "      <td>What term, more masculine than falsetto, refer...</td>\n",
       "      <td>[[Modal voice, [Modal voice is the vocal regis...</td>\n",
       "      <td>Modal voice</td>\n",
       "      <td>5a79115c55429974737f7961</td>\n",
       "      <td>bridge</td>\n",
       "      <td>Falsettone is a term used in modern Italian mu...</td>\n",
       "    </tr>\n",
       "    <tr>\n",
       "      <th>599</th>\n",
       "      <td>[['Shane and Friends', 0], ['Shane Dawson', 0]...</td>\n",
       "      <td>hard</td>\n",
       "      <td>Shane and Friends is an American audio podcast...</td>\n",
       "      <td>[[Joey Graceffa, [Joseph Michael Graceffa ( ; ...</td>\n",
       "      <td>comedic vlogs</td>\n",
       "      <td>5a80db8b55429938b614221a</td>\n",
       "      <td>bridge</td>\n",
       "      <td>Shane and Friends is an American audio podcast...</td>\n",
       "    </tr>\n",
       "  </tbody>\n",
       "</table>\n",
       "<p>600 rows × 8 columns</p>\n",
       "</div>"
      ],
      "text/plain": [
       "                                      supporting_facts level  \\\n",
       "0     [['2017–18 Serie B', 1], ['2016–17 Serie B', 0]]  easy   \n",
       "1    [['Alec Naylor Dakin', 0], ['Bletchley Park', 0]]  easy   \n",
       "2    [['Face Value (play)', 3], ['B. D. Wong', 2], ...  easy   \n",
       "3    [['2003 Oklahoma Sooners football team', 2], [...  easy   \n",
       "4    [['Loan-a Lisa', 0], ['Loan-a Lisa', 2], ['Gra...  easy   \n",
       "..                                                 ...   ...   \n",
       "595     [['Halestorm', 0], ['Say Anything (band)', 0]]  hard   \n",
       "596                [['Bralorne', 0], ['Dome Mine', 0]]  hard   \n",
       "597  [['Chevrolet Silverado 250', 0], ['Canadian Ti...  hard   \n",
       "598  [['Falsettone', 0], ['Modal voice', 0], ['Moda...  hard   \n",
       "599  [['Shane and Friends', 0], ['Shane Dawson', 0]...  hard   \n",
       "\n",
       "                                              question  \\\n",
       "0    The 2017–18 Serie B (known as the Serie B ConT...   \n",
       "1    What specialism did Alec Naylor Dakin, fellow ...   \n",
       "2    Which actor from Jurassic Park assisted David ...   \n",
       "3    What is the population of the city that has th...   \n",
       "4    What character, voiced by Dan Castellaneta, st...   \n",
       "..                                                 ...   \n",
       "595  Are the bands \"Halestorm\" and \"Say Anything\" f...   \n",
       "596  Which gold mine is located in the Bridge River...   \n",
       "597  Chevrolet Silverado 250 is held at the track l...   \n",
       "598  What term, more masculine than falsetto, refer...   \n",
       "599  Shane and Friends is an American audio podcast...   \n",
       "\n",
       "                                               context          answer  \\\n",
       "0    [[2015–16 Serie B, [The 2015–16 Serie B (known...            1929   \n",
       "1    [[Heath Robinson (codebreaking machine), [Heat...    cryptologist   \n",
       "2    [[The Dance and the Railroad, [The Dance and t...         BD Wong   \n",
       "3    [[Oklahoma Sooners football, [The Oklahoma Soo...         110,925   \n",
       "4    [[The Ned-Liest Catch, [\"The Ned-Liest Catch\" ...  Grampa Simpson   \n",
       "..                                                 ...             ...   \n",
       "595  [[The MySpace Transmissions (Say Anything EP),...             yes   \n",
       "596  [[Tyaughton Lake, [Tyaughton Lake, also known ...        Bralorne   \n",
       "597  [[Chevrolet Silverado, [The Chevrolet Silverad...     Bowmanville   \n",
       "598  [[Modal voice, [Modal voice is the vocal regis...     Modal voice   \n",
       "599  [[Joey Graceffa, [Joseph Michael Graceffa ( ; ...   comedic vlogs   \n",
       "\n",
       "                          _id        type  \\\n",
       "0    5ac190e55542994ab5c67d7f      bridge   \n",
       "1    5ac402585542997ea680c9b2      bridge   \n",
       "2    5ab478435542990594ba9c28      bridge   \n",
       "3    5ae476e555429970de88d974      bridge   \n",
       "4    5a8eb60a5542995a26add4f2      bridge   \n",
       "..                        ...         ...   \n",
       "595  5ae3ef005542995ad6573ca8  comparison   \n",
       "596  5a76b0225542993569682c86  comparison   \n",
       "597  5a8676025542994775f60773      bridge   \n",
       "598  5a79115c55429974737f7961      bridge   \n",
       "599  5a80db8b55429938b614221a      bridge   \n",
       "\n",
       "                            actual_retrieved_sentences  \n",
       "0     A total of 22 teams are contesting the league...  \n",
       "1    Alec Naylor Dakin (3 April 1912 – 14 June 2003...  \n",
       "2     It was directed by Jerry Zaks, with B. D. Won...  \n",
       "3     They played their home games at Gaylord Famil...  \n",
       "4    \"Loan-a Lisa\" is the second episode of \"The Si...  \n",
       "..                                                 ...  \n",
       "595  Halestorm is an American hard rock band from R...  \n",
       "596  Bralorne is an historic Canadian gold mining c...  \n",
       "597  The Chevrolet Silverado 250 is a NASCAR-sancti...  \n",
       "598  Falsettone is a term used in modern Italian mu...  \n",
       "599  Shane and Friends is an American audio podcast...  \n",
       "\n",
       "[600 rows x 8 columns]"
      ]
     },
     "execution_count": 16,
     "metadata": {},
     "output_type": "execute_result"
    }
   ],
   "source": [
    "sampled_data"
   ]
  },
  {
   "cell_type": "code",
   "execution_count": 17,
   "metadata": {},
   "outputs": [
    {
     "data": {
      "text/html": [
       "<div>\n",
       "<style scoped>\n",
       "    .dataframe tbody tr th:only-of-type {\n",
       "        vertical-align: middle;\n",
       "    }\n",
       "\n",
       "    .dataframe tbody tr th {\n",
       "        vertical-align: top;\n",
       "    }\n",
       "\n",
       "    .dataframe thead th {\n",
       "        text-align: right;\n",
       "    }\n",
       "</style>\n",
       "<table border=\"1\" class=\"dataframe\">\n",
       "  <thead>\n",
       "    <tr style=\"text-align: right;\">\n",
       "      <th></th>\n",
       "      <th>Title</th>\n",
       "      <th>Content</th>\n",
       "    </tr>\n",
       "  </thead>\n",
       "  <tbody>\n",
       "    <tr>\n",
       "      <th>0</th>\n",
       "      <td>2015–16 Serie B</td>\n",
       "      <td>The 2015–16 Serie B (known as the Serie B ConT...</td>\n",
       "    </tr>\n",
       "    <tr>\n",
       "      <th>1</th>\n",
       "      <td>2016–17 Serie A</td>\n",
       "      <td>The 2016–17 Serie A (known as the Serie A TIM ...</td>\n",
       "    </tr>\n",
       "    <tr>\n",
       "      <th>2</th>\n",
       "      <td>2011–12 Serie B</td>\n",
       "      <td>The 2011–12 Serie B (known as the Serie bwin f...</td>\n",
       "    </tr>\n",
       "    <tr>\n",
       "      <th>3</th>\n",
       "      <td>2016–17 Serie B</td>\n",
       "      <td>The 2016–17 Serie B (known as the Serie B ConT...</td>\n",
       "    </tr>\n",
       "    <tr>\n",
       "      <th>4</th>\n",
       "      <td>2017–18 Serie B</td>\n",
       "      <td>The 2017–18 Serie B (known as the Serie B ConT...</td>\n",
       "    </tr>\n",
       "    <tr>\n",
       "      <th>...</th>\n",
       "      <td>...</td>\n",
       "      <td>...</td>\n",
       "    </tr>\n",
       "    <tr>\n",
       "      <th>5879</th>\n",
       "      <td>Slidecasting</td>\n",
       "      <td>A slidecast is an audio podcast that is combin...</td>\n",
       "    </tr>\n",
       "    <tr>\n",
       "      <th>5880</th>\n",
       "      <td>The Nive Nulls</td>\n",
       "      <td>The Nive Nulls is a YouTube channel of daily V...</td>\n",
       "    </tr>\n",
       "    <tr>\n",
       "      <th>5881</th>\n",
       "      <td>Shane and Friends</td>\n",
       "      <td>Shane and Friends is an American audio podcast...</td>\n",
       "    </tr>\n",
       "    <tr>\n",
       "      <th>5882</th>\n",
       "      <td>Auntie Fee</td>\n",
       "      <td>Felicia A. O'Dell (May 7, 1957 – March 17, 201...</td>\n",
       "    </tr>\n",
       "    <tr>\n",
       "      <th>5883</th>\n",
       "      <td>Coyote Peterson</td>\n",
       "      <td>Nathaniel Peterson (born September 1, 1981), w...</td>\n",
       "    </tr>\n",
       "  </tbody>\n",
       "</table>\n",
       "<p>5884 rows × 2 columns</p>\n",
       "</div>"
      ],
      "text/plain": [
       "                  Title                                            Content\n",
       "0       2015–16 Serie B  The 2015–16 Serie B (known as the Serie B ConT...\n",
       "1       2016–17 Serie A  The 2016–17 Serie A (known as the Serie A TIM ...\n",
       "2       2011–12 Serie B  The 2011–12 Serie B (known as the Serie bwin f...\n",
       "3       2016–17 Serie B  The 2016–17 Serie B (known as the Serie B ConT...\n",
       "4       2017–18 Serie B  The 2017–18 Serie B (known as the Serie B ConT...\n",
       "...                 ...                                                ...\n",
       "5879       Slidecasting  A slidecast is an audio podcast that is combin...\n",
       "5880     The Nive Nulls  The Nive Nulls is a YouTube channel of daily V...\n",
       "5881  Shane and Friends  Shane and Friends is an American audio podcast...\n",
       "5882         Auntie Fee  Felicia A. O'Dell (May 7, 1957 – March 17, 201...\n",
       "5883    Coyote Peterson  Nathaniel Peterson (born September 1, 1981), w...\n",
       "\n",
       "[5884 rows x 2 columns]"
      ]
     },
     "execution_count": 17,
     "metadata": {},
     "output_type": "execute_result"
    }
   ],
   "source": [
    "unique_paragraphs_df"
   ]
  },
  {
   "cell_type": "code",
   "execution_count": 18,
   "metadata": {},
   "outputs": [],
   "source": [
    "sampled_data.to_csv(\"../hotpotQA_dataset_versions/5884paras_600queries/English/600_QnAs.csv\")"
   ]
  },
  {
   "cell_type": "code",
   "execution_count": 19,
   "metadata": {},
   "outputs": [],
   "source": [
    "unique_paragraphs_df.to_csv(\"../hotpotQA_dataset_versions/5884paras_600queries/English/5884_paras.csv\")"
   ]
  },
  {
   "cell_type": "code",
   "execution_count": null,
   "metadata": {},
   "outputs": [],
   "source": []
  }
 ],
 "metadata": {
  "kernelspec": {
   "display_name": "venv",
   "language": "python",
   "name": "python3"
  },
  "language_info": {
   "codemirror_mode": {
    "name": "ipython",
    "version": 3
   },
   "file_extension": ".py",
   "mimetype": "text/x-python",
   "name": "python",
   "nbconvert_exporter": "python",
   "pygments_lexer": "ipython3",
   "version": "3.11.9"
  }
 },
 "nbformat": 4,
 "nbformat_minor": 2
}
