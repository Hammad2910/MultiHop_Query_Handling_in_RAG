{
 "cells": [
  {
   "cell_type": "code",
   "execution_count": 4,
   "id": "65685779",
   "metadata": {},
   "outputs": [],
   "source": [
    "import pandas as pd\n",
    "import faiss\n",
    "# import faiss.contrib.torch_utils  # Enable GPU support for FAISS\n",
    "import os\n",
    "import torch\n",
    "from sentence_transformers import SentenceTransformer\n",
    "from langchain.text_splitter import RecursiveCharacterTextSplitter\n",
    "\n",
    "import pickle"
   ]
  },
  {
   "cell_type": "code",
   "execution_count": 17,
   "id": "f33077e1",
   "metadata": {},
   "outputs": [
    {
     "name": "stdout",
     "output_type": "stream",
     "text": [
      "device:  cuda\n"
     ]
    }
   ],
   "source": [
    "# Check and set device\n",
    "device = 'cuda' if torch.cuda.is_available() else 'cpu'\n",
    "print(\"device: \",device)\n",
    "\n",
    "model = SentenceTransformer('sentence-transformers/all-MiniLM-L6-v2', device=device)\n",
    "model = model.to(device)\n"
   ]
  },
  {
   "cell_type": "code",
   "execution_count": 18,
   "id": "394f6e26",
   "metadata": {},
   "outputs": [],
   "source": [
    "from langchain.text_splitter import RecursiveCharacterTextSplitter\n",
    "\n",
    "def split_english_text(text, chunk_size=200, chunk_overlap=50):\n",
    "    splitter = RecursiveCharacterTextSplitter(\n",
    "        separators=[\"\\n\\n\", \".\", \"?\", \"!\", \",\", \" \", \"\\n\"],\n",
    "        chunk_size=chunk_size,\n",
    "        chunk_overlap=chunk_overlap,\n",
    "        length_function=len,\n",
    "        add_start_index=False\n",
    "    )\n",
    "    return [chunk.lstrip(\" .,\\n\") for chunk in splitter.split_text(text)]"
   ]
  },
  {
   "cell_type": "code",
   "execution_count": 19,
   "id": "48e7ef06",
   "metadata": {},
   "outputs": [],
   "source": [
    "df = pd.read_csv(\"../../Dataset_code_csvs/hotpotQA/hotpotQA_dataset_versions/5884paras_600queries/English/5884_paras.csv\")  \n",
    "paragraphs = df[\"Content\"].dropna().tolist()"
   ]
  },
  {
   "cell_type": "code",
   "execution_count": 20,
   "id": "daf7c77c",
   "metadata": {},
   "outputs": [
    {
     "data": {
      "text/plain": [
       "5884"
      ]
     },
     "execution_count": 20,
     "metadata": {},
     "output_type": "execute_result"
    }
   ],
   "source": [
    "len(paragraphs)"
   ]
  },
  {
   "cell_type": "code",
   "execution_count": 21,
   "id": "65c45b0d",
   "metadata": {},
   "outputs": [],
   "source": [
    "# Initialize FAISS IndexFlatL2 (CPU version)\n",
    "embedding_dim = model.get_sentence_embedding_dimension()\n",
    "index = faiss.IndexFlatL2(embedding_dim)\n",
    "\n",
    "all_chunks = []\n",
    "\n",
    "for para in paragraphs:\n",
    "    chunks = split_english_text(para)\n",
    "    if not chunks:\n",
    "        continue\n",
    "    embeddings = model.encode(chunks, convert_to_numpy=True)\n",
    "    index.add(embeddings)\n",
    "    all_chunks.extend(chunks)\n",
    "\n",
    "\n",
    "# Save FAISS index to disk\n",
    "faiss.write_index(index, \"../vector_db/paragraphs/5884_paras/5884_paras_index.faiss\")\n",
    "\n",
    "chunks_save_path = \"../data_storage/parachunks/5884_para_chunks/5884_parachunks.pkl\"\n",
    "with open(chunks_save_path, \"wb\") as f:\n",
    "    pickle.dump(all_chunks, f)"
   ]
  },
  {
   "cell_type": "code",
   "execution_count": null,
   "id": "21fa6d53",
   "metadata": {},
   "outputs": [],
   "source": []
  }
 ],
 "metadata": {
  "kernelspec": {
   "display_name": "venv",
   "language": "python",
   "name": "python3"
  },
  "language_info": {
   "codemirror_mode": {
    "name": "ipython",
    "version": 3
   },
   "file_extension": ".py",
   "mimetype": "text/x-python",
   "name": "python",
   "nbconvert_exporter": "python",
   "pygments_lexer": "ipython3",
   "version": "3.10.6"
  }
 },
 "nbformat": 4,
 "nbformat_minor": 5
}
