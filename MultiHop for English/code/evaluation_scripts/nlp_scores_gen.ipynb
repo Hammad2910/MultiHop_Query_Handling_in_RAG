{
 "cells": [
  {
   "cell_type": "code",
   "execution_count": 6,
   "id": "38ac43b6",
   "metadata": {},
   "outputs": [
    {
     "name": "stderr",
     "output_type": "stream",
     "text": [
      "c:\\hammad workings\\Thesis\\Multihop_Project\\MultiHop_Query_Handling_in_RAG\\venv\\Lib\\site-packages\\tqdm\\auto.py:21: TqdmWarning: IProgress not found. Please update jupyter and ipywidgets. See https://ipywidgets.readthedocs.io/en/stable/user_install.html\n",
      "  from .autonotebook import tqdm as notebook_tqdm\n"
     ]
    }
   ],
   "source": [
    "from nltk.translate.bleu_score import sentence_bleu, SmoothingFunction\n",
    "from sacrebleu import sentence_bleu as sacre_sentence_bleu\n",
    "from evaluate import load\n",
    "from nltk.translate.meteor_score import meteor_score\n",
    "from bert_score import score\n",
    "from rouge_score import rouge_scorer, scoring\n",
    "\n",
    "import evaluate"
   ]
  },
  {
   "cell_type": "code",
   "execution_count": 14,
   "id": "058bd09f",
   "metadata": {},
   "outputs": [
    {
     "ename": "FileNotFoundError",
     "evalue": "Couldn't find a module script at c:\\hammad workings\\Thesis\\Multihop_Project\\MultiHop_Query_Handling_in_RAG\\MultiHop for English\\code\\evaluation_scripts\\rouge\\rouge.py. Module 'rouge' doesn't exist on the Hugging Face Hub either.",
     "output_type": "error",
     "traceback": [
      "\u001b[1;31m---------------------------------------------------------------------------\u001b[0m",
      "\u001b[1;31mFileNotFoundError\u001b[0m                         Traceback (most recent call last)",
      "Cell \u001b[1;32mIn[14], line 5\u001b[0m\n\u001b[0;32m      2\u001b[0m \u001b[38;5;28;01mimport\u001b[39;00m\u001b[38;5;250m \u001b[39m\u001b[38;5;21;01mevaluate\u001b[39;00m\n\u001b[0;32m      4\u001b[0m \u001b[38;5;66;03m# This will now load from Hugging Face, not your local dir\u001b[39;00m\n\u001b[1;32m----> 5\u001b[0m rouge \u001b[38;5;241m=\u001b[39m \u001b[43mevaluate\u001b[49m\u001b[38;5;241;43m.\u001b[39;49m\u001b[43mload\u001b[49m\u001b[43m(\u001b[49m\u001b[38;5;124;43m\"\u001b[39;49m\u001b[38;5;124;43mrouge\u001b[39;49m\u001b[38;5;124;43m\"\u001b[39;49m\u001b[43m)\u001b[49m\n\u001b[0;32m      7\u001b[0m \u001b[38;5;28;01mdef\u001b[39;00m\u001b[38;5;250m \u001b[39m\u001b[38;5;21mcalculate_nltk_bleu\u001b[39m(references, hypotheses):\n\u001b[0;32m      8\u001b[0m     scores \u001b[38;5;241m=\u001b[39m []\n",
      "File \u001b[1;32mc:\\hammad workings\\Thesis\\Multihop_Project\\MultiHop_Query_Handling_in_RAG\\venv\\Lib\\site-packages\\evaluate\\loading.py:748\u001b[0m, in \u001b[0;36mload\u001b[1;34m(path, config_name, module_type, process_id, num_process, cache_dir, experiment_id, keep_in_memory, download_config, download_mode, revision, **init_kwargs)\u001b[0m\n\u001b[0;32m    703\u001b[0m \u001b[38;5;250m\u001b[39m\u001b[38;5;124;03m\"\"\"Load a [`~evaluate.EvaluationModule`].\u001b[39;00m\n\u001b[0;32m    704\u001b[0m \n\u001b[0;32m    705\u001b[0m \u001b[38;5;124;03mArgs:\u001b[39;00m\n\u001b[1;32m   (...)\u001b[0m\n\u001b[0;32m    745\u001b[0m \u001b[38;5;124;03m    ```\u001b[39;00m\n\u001b[0;32m    746\u001b[0m \u001b[38;5;124;03m\"\"\"\u001b[39;00m\n\u001b[0;32m    747\u001b[0m download_mode \u001b[38;5;241m=\u001b[39m DownloadMode(download_mode \u001b[38;5;129;01mor\u001b[39;00m DownloadMode\u001b[38;5;241m.\u001b[39mREUSE_DATASET_IF_EXISTS)\n\u001b[1;32m--> 748\u001b[0m evaluation_module \u001b[38;5;241m=\u001b[39m \u001b[43mevaluation_module_factory\u001b[49m\u001b[43m(\u001b[49m\n\u001b[0;32m    749\u001b[0m \u001b[43m    \u001b[49m\u001b[43mpath\u001b[49m\u001b[43m,\u001b[49m\u001b[43m \u001b[49m\u001b[43mmodule_type\u001b[49m\u001b[38;5;241;43m=\u001b[39;49m\u001b[43mmodule_type\u001b[49m\u001b[43m,\u001b[49m\u001b[43m \u001b[49m\u001b[43mrevision\u001b[49m\u001b[38;5;241;43m=\u001b[39;49m\u001b[43mrevision\u001b[49m\u001b[43m,\u001b[49m\u001b[43m \u001b[49m\u001b[43mdownload_config\u001b[49m\u001b[38;5;241;43m=\u001b[39;49m\u001b[43mdownload_config\u001b[49m\u001b[43m,\u001b[49m\u001b[43m \u001b[49m\u001b[43mdownload_mode\u001b[49m\u001b[38;5;241;43m=\u001b[39;49m\u001b[43mdownload_mode\u001b[49m\n\u001b[0;32m    750\u001b[0m \u001b[43m\u001b[49m\u001b[43m)\u001b[49m\n\u001b[0;32m    751\u001b[0m evaluation_cls \u001b[38;5;241m=\u001b[39m import_main_class(evaluation_module\u001b[38;5;241m.\u001b[39mmodule_path)\n\u001b[0;32m    752\u001b[0m evaluation_instance \u001b[38;5;241m=\u001b[39m evaluation_cls(\n\u001b[0;32m    753\u001b[0m     config_name\u001b[38;5;241m=\u001b[39mconfig_name,\n\u001b[0;32m    754\u001b[0m     process_id\u001b[38;5;241m=\u001b[39mprocess_id,\n\u001b[1;32m   (...)\u001b[0m\n\u001b[0;32m    760\u001b[0m     \u001b[38;5;241m*\u001b[39m\u001b[38;5;241m*\u001b[39minit_kwargs,\n\u001b[0;32m    761\u001b[0m )\n",
      "File \u001b[1;32mc:\\hammad workings\\Thesis\\Multihop_Project\\MultiHop_Query_Handling_in_RAG\\venv\\Lib\\site-packages\\evaluate\\loading.py:681\u001b[0m, in \u001b[0;36mevaluation_module_factory\u001b[1;34m(path, module_type, revision, download_config, download_mode, force_local_path, dynamic_modules_path, **download_kwargs)\u001b[0m\n\u001b[0;32m    679\u001b[0m         \u001b[38;5;28;01mif\u001b[39;00m \u001b[38;5;129;01mnot\u001b[39;00m \u001b[38;5;28misinstance\u001b[39m(e1, (\u001b[38;5;167;01mConnectionError\u001b[39;00m, \u001b[38;5;167;01mFileNotFoundError\u001b[39;00m)):\n\u001b[0;32m    680\u001b[0m             \u001b[38;5;28;01mraise\u001b[39;00m e1 \u001b[38;5;28;01mfrom\u001b[39;00m\u001b[38;5;250m \u001b[39m\u001b[38;5;28;01mNone\u001b[39;00m\n\u001b[1;32m--> 681\u001b[0m         \u001b[38;5;28;01mraise\u001b[39;00m \u001b[38;5;167;01mFileNotFoundError\u001b[39;00m(\n\u001b[0;32m    682\u001b[0m             \u001b[38;5;124mf\u001b[39m\u001b[38;5;124m\"\u001b[39m\u001b[38;5;124mCouldn\u001b[39m\u001b[38;5;124m'\u001b[39m\u001b[38;5;124mt find a module script at \u001b[39m\u001b[38;5;132;01m{\u001b[39;00mrelative_to_absolute_path(combined_path)\u001b[38;5;132;01m}\u001b[39;00m\u001b[38;5;124m. \u001b[39m\u001b[38;5;124m\"\u001b[39m\n\u001b[0;32m    683\u001b[0m             \u001b[38;5;124mf\u001b[39m\u001b[38;5;124m\"\u001b[39m\u001b[38;5;124mModule \u001b[39m\u001b[38;5;124m'\u001b[39m\u001b[38;5;132;01m{\u001b[39;00mpath\u001b[38;5;132;01m}\u001b[39;00m\u001b[38;5;124m'\u001b[39m\u001b[38;5;124m doesn\u001b[39m\u001b[38;5;124m'\u001b[39m\u001b[38;5;124mt exist on the Hugging Face Hub either.\u001b[39m\u001b[38;5;124m\"\u001b[39m\n\u001b[0;32m    684\u001b[0m         ) \u001b[38;5;28;01mfrom\u001b[39;00m\u001b[38;5;250m \u001b[39m\u001b[38;5;28;01mNone\u001b[39;00m\n\u001b[0;32m    685\u001b[0m \u001b[38;5;28;01melse\u001b[39;00m:\n\u001b[0;32m    686\u001b[0m     \u001b[38;5;28;01mraise\u001b[39;00m \u001b[38;5;167;01mFileNotFoundError\u001b[39;00m(\u001b[38;5;124mf\u001b[39m\u001b[38;5;124m\"\u001b[39m\u001b[38;5;124mCouldn\u001b[39m\u001b[38;5;124m'\u001b[39m\u001b[38;5;124mt find a module script at \u001b[39m\u001b[38;5;132;01m{\u001b[39;00mrelative_to_absolute_path(combined_path)\u001b[38;5;132;01m}\u001b[39;00m\u001b[38;5;124m.\u001b[39m\u001b[38;5;124m\"\u001b[39m)\n",
      "\u001b[1;31mFileNotFoundError\u001b[0m: Couldn't find a module script at c:\\hammad workings\\Thesis\\Multihop_Project\\MultiHop_Query_Handling_in_RAG\\MultiHop for English\\code\\evaluation_scripts\\rouge\\rouge.py. Module 'rouge' doesn't exist on the Hugging Face Hub either."
     ]
    }
   ],
   "source": [
    "# Load the Rouge scorer\n",
    "import evaluate\n",
    "\n",
    "# This will now load from Hugging Face, not your local dir\n",
    "rouge = evaluate.load(\"rouge\")\n",
    "\n",
    "def calculate_nltk_bleu(references, hypotheses):\n",
    "    scores = []\n",
    "    smooth = SmoothingFunction().method1\n",
    "    for ref, hyp in zip(references, hypotheses):\n",
    "        score_val = sentence_bleu([ref.split()], hyp.split(), smoothing_function=smooth)\n",
    "        scores.append(score_val * 100)\n",
    "    return scores\n",
    "\n",
    "def calculate_sacrebleu(references, hypotheses):\n",
    "    return [sacre_sentence_bleu(hyp, [ref]).score for ref, hyp in zip(references, hypotheses)]\n",
    "\n",
    "def calculate_rouge(references, hypotheses):\n",
    "    results = rouge.compute(\n",
    "        predictions=hypotheses,\n",
    "        references=references,\n",
    "        tokenizer=lambda x: x.split(),  # default whitespace tokenizer for English\n",
    "        use_aggregator=False\n",
    "    )\n",
    "    return results['rouge1'], results['rouge2'], results['rougeL']\n",
    "\n",
    "def calculate_meteor(references, hypotheses):\n",
    "    return [\n",
    "        meteor_score([ref.split()], hyp.split())\n",
    "        for ref, hyp in zip(references, hypotheses)\n",
    "    ]\n",
    "\n",
    "def calculate_bert_score(references, hypotheses):\n",
    "    # Use English language BERTScore\n",
    "    P, R, F1 = score(hypotheses, references, lang=\"en\", model_type=\"roberta-large\")\n",
    "    return P.tolist(), R.tolist(), F1.tolist()\n",
    "\n",
    "def calculate_exact_match(references, hypotheses):\n",
    "    return [1 if ref.strip() == hyp.strip() else 0 for ref, hyp in zip(references, hypotheses)]\n"
   ]
  },
  {
   "cell_type": "code",
   "execution_count": 1,
   "id": "5dc8c283",
   "metadata": {},
   "outputs": [],
   "source": [
    "import pandas as pd\n",
    "# --- Load Your CSVs --\n",
    "vanilla_df = pd.read_csv(\"../../../Dataset_code_csvs/hotpotQA/hotpotQA_dataset_versions/5884paras_598queries/English/598_QnAs.csv\")\n",
    "simple_rag_df=pd.read_csv(\"../../results/pipeline results/5884paras_598qna/llama3.1_res/simple_rag_qna_results_GPU_version.csv\")\n",
    "lqr_df = pd.read_csv(\"../../results/pipeline results/5884paras_598qna/llama3.1_res/LQR_processed_results_en.csv\")\n",
    "mod_lqr_df = pd.read_csv(\"../../results/pipeline results/5884paras_598qna/llama3.1_res/modLQR_processed_results_en.csv\")\n",
    "\n",
    "# --- Ground Truth ---\n",
    "references = vanilla_df['answer'].astype(str).tolist()\n",
    "\n",
    "# --- Predictions ---\n",
    "vanilla_preds = simple_rag_df['final_answer'].astype(str).tolist()\n",
    "lqr_preds = lqr_df['final_answer'].astype(str).tolist()\n",
    "mod_lqr_preds = mod_lqr_df['final_answer'].astype(str).tolist()"
   ]
  },
  {
   "cell_type": "code",
   "execution_count": 13,
   "id": "607e8e83",
   "metadata": {},
   "outputs": [
    {
     "name": "stdout",
     "output_type": "stream",
     "text": [
      "🔍 Total duplicated rows: 0\n",
      "Empty DataFrame\n",
      "Columns: [level, question, answer, context, retrieved_context, final_answer, retriever_time, generator_time, total_time]\n",
      "Index: []\n"
     ]
    }
   ],
   "source": [
    "# import pandas as pd\n",
    "\n",
    "# # Load the CSV\n",
    "# simple_rag_df = pd.read_csv(\"../../results/pipeline results/5884paras_598qna/simple_rag_qna_results_GPU_version.csv\")\n",
    "\n",
    "# # Check for duplicated index (if index is not set explicitly, use row number)\n",
    "# duplicates = simple_rag_df[simple_rag_df.duplicated(keep=False)]\n",
    "\n",
    "# print(f\"🔍 Total duplicated rows: {duplicates.shape[0]}\")\n",
    "# print(duplicates)\n"
   ]
  },
  {
   "cell_type": "code",
   "execution_count": 2,
   "id": "22428211",
   "metadata": {},
   "outputs": [],
   "source": [
    "def evaluate_pipeline(name, references, predictions):\n",
    "    print(f\"\\n🚀 Evaluating pipeline: {name}\")\n",
    "\n",
    "    # Calculate all scores\n",
    "    nltk_bleu = calculate_nltk_bleu(references, predictions)\n",
    "    sacrebleu_scores = calculate_sacrebleu(references, predictions)\n",
    "    rouge1, rouge2, rougeL = calculate_rouge(references, predictions)\n",
    "    meteor = calculate_meteor(references, predictions)  # ✅ Updated: no tokenizer needed\n",
    "    exact_match = calculate_exact_match(references, predictions)\n",
    "    bert_p, bert_r, bert_f1 = calculate_bert_score(references, predictions)\n",
    "\n",
    "    print(f\"✅ All scores calculated for: {name}\")\n",
    "\n",
    "    # Create and return DataFrame\n",
    "    return pd.DataFrame({\n",
    "        'question': vanilla_df['question'],  # Aligning with each row\n",
    "        f'{name}_nltk_bleu': nltk_bleu,\n",
    "        f'{name}_sacrebleu': sacrebleu_scores,\n",
    "        f'{name}_rouge1': rouge1,\n",
    "        f'{name}_rouge2': rouge2,\n",
    "        f'{name}_rougeL': rougeL,\n",
    "        f'{name}_meteor': meteor,\n",
    "        f'{name}_exact_match': exact_match,\n",
    "        f'{name}_bert_precision': bert_p,\n",
    "        f'{name}_bert_recall': bert_r,\n",
    "        f'{name}_bert_f1': bert_f1\n",
    "    })\n"
   ]
  },
  {
   "cell_type": "code",
   "execution_count": 3,
   "id": "4e8955ec",
   "metadata": {},
   "outputs": [
    {
     "name": "stdout",
     "output_type": "stream",
     "text": [
      "\n",
      "🚀 Evaluating pipeline: Vanilla_RAG\n"
     ]
    },
    {
     "ename": "NameError",
     "evalue": "name 'calculate_nltk_bleu' is not defined",
     "output_type": "error",
     "traceback": [
      "\u001b[1;31m---------------------------------------------------------------------------\u001b[0m",
      "\u001b[1;31mNameError\u001b[0m                                 Traceback (most recent call last)",
      "Cell \u001b[1;32mIn[3], line 1\u001b[0m\n\u001b[1;32m----> 1\u001b[0m vanilla_scores \u001b[38;5;241m=\u001b[39m \u001b[43mevaluate_pipeline\u001b[49m\u001b[43m(\u001b[49m\u001b[38;5;124;43m\"\u001b[39;49m\u001b[38;5;124;43mVanilla_RAG\u001b[39;49m\u001b[38;5;124;43m\"\u001b[39;49m\u001b[43m,\u001b[49m\u001b[43m \u001b[49m\u001b[43mreferences\u001b[49m\u001b[43m,\u001b[49m\u001b[43m \u001b[49m\u001b[43mvanilla_preds\u001b[49m\u001b[43m)\u001b[49m\n\u001b[0;32m      2\u001b[0m lqr_scores \u001b[38;5;241m=\u001b[39m evaluate_pipeline(\u001b[38;5;124m\"\u001b[39m\u001b[38;5;124mLQR_RAG\u001b[39m\u001b[38;5;124m\"\u001b[39m, references, lqr_preds)\n\u001b[0;32m      3\u001b[0m mod_lqr_scores \u001b[38;5;241m=\u001b[39m evaluate_pipeline(\u001b[38;5;124m\"\u001b[39m\u001b[38;5;124mmodLQR_RAG\u001b[39m\u001b[38;5;124m\"\u001b[39m, references, mod_lqr_preds)\n",
      "Cell \u001b[1;32mIn[2], line 5\u001b[0m, in \u001b[0;36mevaluate_pipeline\u001b[1;34m(name, references, predictions)\u001b[0m\n\u001b[0;32m      2\u001b[0m \u001b[38;5;28mprint\u001b[39m(\u001b[38;5;124mf\u001b[39m\u001b[38;5;124m\"\u001b[39m\u001b[38;5;130;01m\\n\u001b[39;00m\u001b[38;5;124m🚀 Evaluating pipeline: \u001b[39m\u001b[38;5;132;01m{\u001b[39;00mname\u001b[38;5;132;01m}\u001b[39;00m\u001b[38;5;124m\"\u001b[39m)\n\u001b[0;32m      4\u001b[0m \u001b[38;5;66;03m# Calculate all scores\u001b[39;00m\n\u001b[1;32m----> 5\u001b[0m nltk_bleu \u001b[38;5;241m=\u001b[39m \u001b[43mcalculate_nltk_bleu\u001b[49m(references, predictions)\n\u001b[0;32m      6\u001b[0m sacrebleu_scores \u001b[38;5;241m=\u001b[39m calculate_sacrebleu(references, predictions)\n\u001b[0;32m      7\u001b[0m rouge1, rouge2, rougeL \u001b[38;5;241m=\u001b[39m calculate_rouge(references, predictions)\n",
      "\u001b[1;31mNameError\u001b[0m: name 'calculate_nltk_bleu' is not defined"
     ]
    }
   ],
   "source": [
    "vanilla_scores = evaluate_pipeline(\"Vanilla_RAG\", references, vanilla_preds)\n",
    "lqr_scores = evaluate_pipeline(\"LQR_RAG\", references, lqr_preds)\n",
    "mod_lqr_scores = evaluate_pipeline(\"modLQR_RAG\", references, mod_lqr_preds)\n"
   ]
  },
  {
   "cell_type": "code",
   "execution_count": 28,
   "id": "321b6ad1",
   "metadata": {},
   "outputs": [
    {
     "name": "stdout",
     "output_type": "stream",
     "text": [
      "\n",
      "📊 Mean Scores (Records 99-598 Only):\n",
      "               Vanilla     LQR  modLQR LQR_vs_modLQR_p\n",
      "nltk_bleu       8.5736  6.9289  5.8009         0.0414*\n",
      "sacrebleu      23.5059 20.6129 18.5155          0.1596\n",
      "rouge1          0.2699  0.2365  0.2250          0.4578\n",
      "rouge2          0.1271  0.1059  0.0893          0.1524\n",
      "rougeL          0.2698  0.2356  0.2240          0.4556\n",
      "meteor          0.2437  0.2151  0.2200          0.7196\n",
      "exact_match     0.1660  0.1380  0.1040         0.0321*\n",
      "bert_precision  0.5911  0.5297  0.5028         0.0241*\n",
      "bert_recall     0.6307  0.6144  0.6223          0.4541\n",
      "bert_f1         0.6044  0.5597  0.5451          0.1820\n",
      "\n",
      "Analyzing 500 records (99-598)\n"
     ]
    }
   ],
   "source": [
    "import pandas as pd\n",
    "from scipy import stats\n",
    "\n",
    "# Slice to exclude first 98 records (keep 99-end)\n",
    "vanilla_subset = vanilla_scores.iloc[98:]\n",
    "lqr_subset = lqr_scores.iloc[98:]\n",
    "mod_lqr_subset = mod_lqr_scores.iloc[98:]\n",
    "\n",
    "# List of all metrics\n",
    "metrics = [\n",
    "    'nltk_bleu', 'sacrebleu', 'rouge1', 'rouge2', 'rougeL',\n",
    "    'meteor', 'exact_match', 'bert_precision', 'bert_recall', 'bert_f1'\n",
    "]\n",
    "\n",
    "# Create summary DataFrame\n",
    "results = pd.DataFrame(index=metrics, columns=['Vanilla', 'LQR', 'modLQR'])\n",
    "\n",
    "# Calculate means for each pipeline (excluding first 98)\n",
    "for metric in metrics:\n",
    "    results.loc[metric, 'Vanilla'] = vanilla_subset[f'Vanilla_RAG_{metric}'].mean()\n",
    "    results.loc[metric, 'LQR'] = lqr_subset[f'LQR_RAG_{metric}'].mean()\n",
    "    results.loc[metric, 'modLQR'] = mod_lqr_subset[f'modLQR_RAG_{metric}'].mean()\n",
    "\n",
    "# Statistical testing on the subset\n",
    "p_values = []\n",
    "for metric in metrics:\n",
    "    _, p_val = stats.ttest_rel(\n",
    "        lqr_subset[f'LQR_RAG_{metric}'],\n",
    "        mod_lqr_subset[f'modLQR_RAG_{metric}']\n",
    "    )\n",
    "    p_values.append(f\"{p_val:.4f}{'*' if p_val < 0.05 else ''}\")\n",
    "\n",
    "results['LQR_vs_modLQR_p'] = p_values\n",
    "\n",
    "# Format and display\n",
    "pd.set_option('display.float_format', lambda x: f\"{x:.4f}\")\n",
    "print(\"\\n📊 Mean Scores (Records 99-598 Only):\")\n",
    "print(results)\n",
    "print(f\"\\nAnalyzing {len(vanilla_subset)} records (99-598)\")"
   ]
  },
  {
   "cell_type": "code",
   "execution_count": null,
   "id": "163fdc38",
   "metadata": {},
   "outputs": [],
   "source": []
  }
 ],
 "metadata": {
  "kernelspec": {
   "display_name": "venv",
   "language": "python",
   "name": "python3"
  },
  "language_info": {
   "codemirror_mode": {
    "name": "ipython",
    "version": 3
   },
   "file_extension": ".py",
   "mimetype": "text/x-python",
   "name": "python",
   "nbconvert_exporter": "python",
   "pygments_lexer": "ipython3",
   "version": "3.11.9"
  }
 },
 "nbformat": 4,
 "nbformat_minor": 5
}
