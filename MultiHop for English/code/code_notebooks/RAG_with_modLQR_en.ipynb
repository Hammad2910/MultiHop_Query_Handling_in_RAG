{
 "cells": [
  {
   "cell_type": "code",
   "execution_count": 1,
   "id": "db6f979e",
   "metadata": {},
   "outputs": [],
   "source": [
    "import ollama"
   ]
  },
  {
   "cell_type": "code",
   "execution_count": 2,
   "id": "47d47995",
   "metadata": {},
   "outputs": [],
   "source": [
    "def classify_english_question(english_question):\n",
    "    prompt = f\"\"\"You are given a question in English. Your task is to classify it as either SINGLEHOP or MULTIHOP.\n",
    "\n",
    "Definitions:\n",
    "- A question is **SINGLEHOP** if it can be answered using a single fact, sentence, or document. The question may be long, but if it doesn't require combining or reasoning over multiple distinct pieces of information, it's SINGLEHOP.\n",
    "- A question is **MULTIHOP** if answering it requires combining multiple facts, reasoning over several steps, or connecting pieces of information from different sources.\n",
    "\n",
    "⚠️ Important:\n",
    "- A question's length does not determine its type. A long, descriptive question can still be SINGLEHOP.\n",
    "- MULTIHOP questions typically require you to first find one piece of information, then use that to find the next.\n",
    "\n",
    "Examples:\n",
    "\n",
    "🔹 Example 1 (SINGLEHOP - factual entity lookup):\n",
    "Question: \"Who wrote Pride and Prejudice?\"\n",
    "Answer: SINGLEHOP\n",
    "\n",
    "🔹 Example 2 (SINGLEHOP - simple date):\n",
    "Question: \"When did the Berlin Wall fall?\"\n",
    "Answer: SINGLEHOP\n",
    "\n",
    "🔹 Example 3 (SINGLEHOP - location fact):\n",
    "Question: \"Where is the Eiffel Tower located?\"\n",
    "Answer: SINGLEHOP\n",
    "\n",
    "🔹 Example 4 (SINGLEHOP - biography-style):\n",
    "Question: \"What is the profession of Elon Musk?\"\n",
    "Answer: SINGLEHOP\n",
    "\n",
    "🔹 Example 5 (SINGLEHOP - short explanation):\n",
    "Question: \"What is photosynthesis?\"\n",
    "Answer: SINGLEHOP\n",
    "\n",
    "🔸 Example 6 (MULTIHOP - indirect relationship):\n",
    "Question: \"Which country was ruled by the emperor who built the Taj Mahal?\"\n",
    "Answer: MULTIHOP\n",
    "\n",
    "🔸 Example 7 (MULTIHOP - event inference):\n",
    "Question: \"Which city hosted the Olympics where Michael Phelps won 8 gold medals?\"\n",
    "Answer: MULTIHOP\n",
    "\n",
    "🔸 Example 8 (MULTIHOP - entity resolution):\n",
    "Question: \"Who is the father of the current King of the United Kingdom?\"\n",
    "Answer: MULTIHOP\n",
    "\n",
    "🔸 Example 9 (MULTIHOP - causal historical link):\n",
    "Question: \"What war led to the independence of the United States?\"\n",
    "Answer: MULTIHOP\n",
    "\n",
    "🔸 Example 10 (MULTIHOP - layered facts):\n",
    "Question: \"Which university did the author of 'The Selfish Gene' attend, and what subject did he study there?\"\n",
    "Answer: MULTIHOP\n",
    "\n",
    "---\n",
    "\n",
    "Now read the following English question and classify it:\n",
    "\n",
    "Question: \"{english_question}\"\n",
    "Answer:\"\"\"\n",
    "\n",
    "    try:\n",
    "        response = ollama.generate(\n",
    "            model='llama3:8b',\n",
    "            prompt=prompt\n",
    "        )\n",
    "        reply = response['response'].strip().lower()\n",
    "\n",
    "        # Normalize and return classification\n",
    "        if 'multihop' in reply:\n",
    "            return 'multihop'\n",
    "        elif 'singlehop' in reply or 'simple' in reply:\n",
    "            return 'singlehop'\n",
    "\n",
    "        print(f\"⚠️ Unexpected response: {reply}\")\n",
    "        return \"unknown\"\n",
    "\n",
    "    except Exception as e:\n",
    "        print(f\"❌ Error processing question: {english_question}\\n↪ {e}\")\n",
    "        return \"error\"\n"
   ]
  },
  {
   "cell_type": "code",
   "execution_count": 21,
   "id": "e9cfd747",
   "metadata": {},
   "outputs": [],
   "source": [
    "def decompose_english_query(english_query: str) -> dict:\n",
    "    \"\"\"Returns dictionary with q1 and q2 keys containing sub-questions\"\"\"\n",
    "    refined_prompt = f\"\"\"\n",
    "You are an expert in breaking down complex English questions into two logically ordered sub-questions.\n",
    "\n",
    "Rules:\n",
    "- Extract exactly 2 sub-questions.\n",
    "- q1 should logically precede q2.\n",
    "- Use clear and grammatically correct English.\n",
    "- Output only in this format:\n",
    "  q1: [First sub-question]\n",
    "  q2: [Second sub-question]\n",
    "\n",
    "Input: {english_query}\n",
    "Output:\n",
    "\"\"\"\n",
    "\n",
    "    try:\n",
    "        response = ollama.generate(\n",
    "            model='llama3:8b',\n",
    "            prompt=refined_prompt,\n",
    "            options={\n",
    "                'temperature': 0.5,\n",
    "                'num_ctx': 2048  # Now you have more room for longer inputs\n",
    "            }\n",
    "        )\n",
    "\n",
    "        output = response['response'].strip()\n",
    "        \n",
    "\n",
    "        result = {}\n",
    "        for line in output.split('\\n'):\n",
    "            line = line.strip()\n",
    "            if line.startswith('q1:'):\n",
    "                result['q1'] = line[3:].strip()\n",
    "            elif line.startswith('q2:'):\n",
    "                result['q2'] = line[3:].strip()\n",
    "\n",
    "        return result if len(result) == 2 else {}\n",
    "\n",
    "    except Exception as e:\n",
    "        print(f\"Decomposition error: {str(e)}\")\n",
    "        return {}\n"
   ]
  },
  {
   "cell_type": "code",
   "execution_count": 22,
   "id": "80eabfa9",
   "metadata": {},
   "outputs": [],
   "source": [
    "def query_context_relevance_check_en(query: str, context: str) -> bool:\n",
    "    prompt = f\"\"\"\n",
    "You are a binary classifier.\n",
    "\n",
    "Your task is to decide whether the following *context* is relevant to the *question*. You must answer ONLY with **True** or **False** — no explanation, no commentary, just one word: True or False.\n",
    "\n",
    "Criteria:\n",
    "- If the context helps answer the question directly or indirectly, reply: True\n",
    "- If the context is unrelated, confusing, or insufficient, reply: False\n",
    "\n",
    "IMPORTANT:\n",
    "- Do NOT explain your answer.\n",
    "- Do NOT include any additional comments.\n",
    "- Just respond with: True or False\n",
    "\n",
    "---\n",
    "\n",
    "Question: {query}\n",
    "\n",
    "Context: {context}\n",
    "\n",
    "Answer (True/False):\n",
    "\"\"\"\n",
    "\n",
    "    try:\n",
    "        import ollama\n",
    "        response = ollama.chat(\n",
    "            model=\"llama3:8b\",\n",
    "            messages=[{\"role\": \"user\", \"content\": prompt}]\n",
    "        )\n",
    "        answer = response['message']['content'].strip().lower()\n",
    "        return answer == 'true'\n",
    "    except Exception as e:\n",
    "        print(f\"Error during relevance check: {e}\")\n",
    "        return False\n"
   ]
  },
  {
   "cell_type": "code",
   "execution_count": 23,
   "id": "de56f7cc",
   "metadata": {},
   "outputs": [],
   "source": [
    "from sentence_transformers import SentenceTransformer\n",
    "import faiss\n",
    "import pickle\n",
    "import torch\n",
    "\n",
    "def load_retriever(\n",
    "    index_path: str,\n",
    "    chunks_path: str\n",
    "):\n",
    "    # Initialize device\n",
    "    device = \"cuda\" if torch.cuda.is_available() else \"cpu\"\n",
    "    \n",
    "    # Load SentenceTransformer MiniLM model (lighter than intfloat/e5-large)\n",
    "    model = SentenceTransformer(\"sentence-transformers/all-MiniLM-L6-v2\", device=device)\n",
    "    \n",
    "    # You can optionally configure max length\n",
    "    model.max_seq_length = 512  # if needed for long sentences\n",
    "    model.tokenizer.do_lower_case = False  # Keep for Urdu if using custom tokenizer\n",
    "\n",
    "    # Load FAISS index\n",
    "    index = faiss.read_index(index_path)\n",
    "    \n",
    "    # Load stored chunks\n",
    "    with open(chunks_path, \"rb\") as f:\n",
    "        chunks_list = pickle.load(f)\n",
    "    \n",
    "    return model, index, chunks_list, device\n"
   ]
  },
  {
   "cell_type": "code",
   "execution_count": 25,
   "id": "c50faf59",
   "metadata": {},
   "outputs": [],
   "source": [
    "model, index, chunks_list, device = load_retriever(\n",
    "    index_path=\"../../vector_db/paragraphs/5884_paras/5884_paras_index.faiss\",\n",
    "    chunks_path=\"../../data_storage/Paragraph_chunks/5884_paragraphs/5884_parachunks.pkl\"\n",
    ")"
   ]
  },
  {
   "cell_type": "code",
   "execution_count": 26,
   "id": "5b04c0b4",
   "metadata": {},
   "outputs": [],
   "source": [
    "def retrieve_documents(query, k=3):\n",
    "    # Encode the query using MiniLM model\n",
    "    query_embedding = model.encode([query])\n",
    "    \n",
    "    # Search the FAISS index\n",
    "    _, indices = index.search(query_embedding, k)\n",
    "    \n",
    "    # Return the top-k retrieved chunks\n",
    "    return [chunks_list[i] for i in indices[0]]"
   ]
  },
  {
   "cell_type": "code",
   "execution_count": 27,
   "id": "5c2152fe",
   "metadata": {},
   "outputs": [],
   "source": [
    "def generate_using_llama3(context, query):\n",
    "    prompt = f\"\"\"You are a helpful assistant designed to generate precise and informative answers based strictly on the given context.\n",
    "\n",
    "Query:\n",
    "{query}\n",
    "\n",
    "Retrieved Context:\n",
    "{context}\n",
    "\n",
    "Instruction:\n",
    "Answer the query using only the information present in the retrieved context. If the answer is not directly stated, make the best possible inference from the available context. Do not say \"no information available\", \"cannot answer\", or provide disclaimers. Only return a clear and direct answer — no introductions, no explanations, and no repetition of the query.\"\"\"\n",
    "\n",
    "\n",
    "    try:\n",
    "        response = ollama.generate(\n",
    "            model='llama3:8b',\n",
    "            prompt=prompt\n",
    "        )\n",
    "        return response['response'].strip()\n",
    "    except Exception as e:\n",
    "        print(\"Error during generation:\", e)\n",
    "        return \"Error generating answer.\"\n"
   ]
  },
  {
   "cell_type": "code",
   "execution_count": 28,
   "id": "26ef9280",
   "metadata": {},
   "outputs": [],
   "source": [
    "import time\n",
    "from concurrent.futures import ThreadPoolExecutor, as_completed\n",
    "\n",
    "def expand_multihop_context(intermediate_ctx, query, q1, q2, k):\n",
    "    try:\n",
    "        combined_query = q1 + intermediate_ctx + q2\n",
    "        second_hop_contexts = retrieve_documents(combined_query, k)\n",
    "\n",
    "        relevant_contexts = []\n",
    "\n",
    "        with ThreadPoolExecutor() as inner_executor:\n",
    "            futures = [\n",
    "                inner_executor.submit(query_context_relevance_check_en, query, ctx)\n",
    "                for ctx in second_hop_contexts\n",
    "            ]\n",
    "\n",
    "            for i, future in enumerate(as_completed(futures)):\n",
    "                try:\n",
    "                    if future.result():\n",
    "                        relevant_contexts.append(second_hop_contexts[i])\n",
    "                except Exception as e:\n",
    "                    print(\"Error during relevance check:\", e)\n",
    "\n",
    "        return relevant_contexts\n",
    "\n",
    "    except Exception as e:\n",
    "        print(\"Error in expand_multihop_context:\", e)\n",
    "        return []\n",
    "\n",
    "\n",
    "def get_context_of_multihop(query, type, k=3):\n",
    "    # Step 1: Classification\n",
    "    start_classification = time.time()\n",
    "    classification = classify_english_question(query)\n",
    "    classification_time = time.time() - start_classification\n",
    "\n",
    "    if type == \"easy\":\n",
    "        decomposition_time = 0.0\n",
    "        start_retrieval = time.time()\n",
    "        context = retrieve_documents(query, k)\n",
    "        retrieval_time = time.time() - start_retrieval\n",
    "        return context, classification, classification_time, decomposition_time, retrieval_time\n",
    "\n",
    "    else:\n",
    "        # Step 2: Decomposition\n",
    "        start_decomposition = time.time()\n",
    "        decomposition = decompose_english_query(query)\n",
    "        print(\"decomposition: \",decomposition)\n",
    "        q1 = decomposition.get(\"q1\", \"\")\n",
    "        q2 = decomposition.get(\"q2\", \"\")\n",
    "        decomposition_time = time.time() - start_decomposition\n",
    "\n",
    "        # Step 3: First-hop retrieval for q1 and q2\n",
    "        start_retrieval = time.time()\n",
    "        context_q1 = retrieve_documents(q1, k)\n",
    "        context_q2 = retrieve_documents(q2, k)\n",
    "\n",
    "        # Combine base context\n",
    "        main_context = context_q1 + context_q2\n",
    "\n",
    "        additional_contexts = []\n",
    "\n",
    "        # Expand q1\n",
    "        with ThreadPoolExecutor() as executor_q1:\n",
    "            futures_q1 = [\n",
    "                executor_q1.submit(expand_multihop_context, ctx, query, q1, q2, k)\n",
    "                for ctx in context_q1[:k]\n",
    "            ]\n",
    "            for future in as_completed(futures_q1):\n",
    "                result = future.result()\n",
    "                additional_contexts.extend(result)\n",
    "\n",
    "        # Expand q2\n",
    "        with ThreadPoolExecutor() as executor_q2:\n",
    "            futures_q2 = [\n",
    "                executor_q2.submit(expand_multihop_context, ctx, query, q1, q2, k)\n",
    "                for ctx in context_q2[:k]\n",
    "            ]\n",
    "            for future in as_completed(futures_q2):\n",
    "                result = future.result()\n",
    "                additional_contexts.extend(result)\n",
    "\n",
    "        # Merge all retrieved content\n",
    "        main_context.extend(additional_contexts)\n",
    "        retrieval_time = time.time() - start_retrieval\n",
    "\n",
    "        return main_context, classification, classification_time, decomposition_time, retrieval_time\n"
   ]
  },
  {
   "cell_type": "code",
   "execution_count": 29,
   "id": "1113f3ba",
   "metadata": {},
   "outputs": [],
   "source": [
    "import time\n",
    "\n",
    "def multihop_handling_modLQR(query, type, k=3):\n",
    "    # Step 1: Get context and timings\n",
    "    context, classification, classification_time, decomposition_time, retrieval_time = get_context_of_multihop(\n",
    "        query, type, k=k\n",
    "    )\n",
    "\n",
    "    # Flatten context if it's a list of strings\n",
    "    if isinstance(context, list):\n",
    "        combined_context = \"\\n\".join(context)\n",
    "    else:\n",
    "        combined_context = context\n",
    "\n",
    "    # Step 2: Generate answer and measure time\n",
    "    start_gen = time.time()\n",
    "    final_answer = generate_using_llama3(combined_context,query)\n",
    "    generation_time = time.time() - start_gen\n",
    "\n",
    "    # Step 3: Compute total time\n",
    "    total_time = classification_time + decomposition_time + retrieval_time + generation_time\n",
    "\n",
    "    return {\n",
    "        \"classification\": classification,\n",
    "        \"retrieved_context\": context,\n",
    "        \"final_answer\": final_answer,\n",
    "        \"timings\": {\n",
    "            \"classification_time\": classification_time,\n",
    "            \"decomposition_time\": decomposition_time,\n",
    "            \"retrieval_time\": retrieval_time,\n",
    "            \"generation_time\": generation_time,\n",
    "            \"total_time\": total_time\n",
    "        }\n",
    "    }\n"
   ]
  },
  {
   "cell_type": "code",
   "execution_count": 30,
   "id": "ae189858",
   "metadata": {},
   "outputs": [
    {
     "name": "stderr",
     "output_type": "stream",
     "text": [
      "  0%|          | 1/598 [00:03<31:55,  3.21s/it]"
     ]
    },
    {
     "name": "stdout",
     "output_type": "stream",
     "text": [
      "Processed record 1/598 in 3.21 seconds.\n"
     ]
    },
    {
     "name": "stderr",
     "output_type": "stream",
     "text": [
      "  0%|          | 2/598 [00:07<36:20,  3.66s/it]"
     ]
    },
    {
     "name": "stdout",
     "output_type": "stream",
     "text": [
      "Processed record 2/598 in 3.97 seconds.\n"
     ]
    },
    {
     "name": "stderr",
     "output_type": "stream",
     "text": [
      "  1%|          | 3/598 [00:10<36:56,  3.73s/it]"
     ]
    },
    {
     "name": "stdout",
     "output_type": "stream",
     "text": [
      "Processed record 3/598 in 3.81 seconds.\n"
     ]
    },
    {
     "name": "stderr",
     "output_type": "stream",
     "text": [
      "  1%|          | 4/598 [00:13<32:10,  3.25s/it]"
     ]
    },
    {
     "name": "stdout",
     "output_type": "stream",
     "text": [
      "Processed record 4/598 in 2.52 seconds.\n"
     ]
    },
    {
     "name": "stderr",
     "output_type": "stream",
     "text": [
      "  1%|          | 5/598 [00:16<30:50,  3.12s/it]"
     ]
    },
    {
     "name": "stdout",
     "output_type": "stream",
     "text": [
      "Processed record 5/598 in 2.89 seconds.\n"
     ]
    },
    {
     "name": "stderr",
     "output_type": "stream",
     "text": [
      "  1%|          | 6/598 [00:19<31:00,  3.14s/it]"
     ]
    },
    {
     "name": "stdout",
     "output_type": "stream",
     "text": [
      "Processed record 6/598 in 3.18 seconds.\n"
     ]
    },
    {
     "name": "stderr",
     "output_type": "stream",
     "text": [
      "  1%|          | 7/598 [00:23<33:42,  3.42s/it]"
     ]
    },
    {
     "name": "stdout",
     "output_type": "stream",
     "text": [
      "Processed record 7/598 in 4.00 seconds.\n"
     ]
    },
    {
     "name": "stderr",
     "output_type": "stream",
     "text": [
      "  1%|▏         | 8/598 [00:28<37:08,  3.78s/it]"
     ]
    },
    {
     "name": "stdout",
     "output_type": "stream",
     "text": [
      "Processed record 8/598 in 4.53 seconds.\n"
     ]
    },
    {
     "name": "stderr",
     "output_type": "stream",
     "text": [
      "  2%|▏         | 9/598 [00:31<36:14,  3.69s/it]"
     ]
    },
    {
     "name": "stdout",
     "output_type": "stream",
     "text": [
      "Processed record 9/598 in 3.50 seconds.\n"
     ]
    },
    {
     "name": "stderr",
     "output_type": "stream",
     "text": [
      "  2%|▏         | 10/598 [00:36<39:31,  4.03s/it]"
     ]
    },
    {
     "name": "stdout",
     "output_type": "stream",
     "text": [
      "Processed record 10/598 in 4.80 seconds.\n"
     ]
    },
    {
     "name": "stderr",
     "output_type": "stream",
     "text": [
      "  2%|▏         | 11/598 [00:39<36:33,  3.74s/it]"
     ]
    },
    {
     "name": "stdout",
     "output_type": "stream",
     "text": [
      "Processed record 11/598 in 3.06 seconds.\n"
     ]
    },
    {
     "name": "stderr",
     "output_type": "stream",
     "text": [
      "  2%|▏         | 12/598 [00:43<36:04,  3.69s/it]"
     ]
    },
    {
     "name": "stdout",
     "output_type": "stream",
     "text": [
      "Processed record 12/598 in 3.60 seconds.\n"
     ]
    },
    {
     "name": "stderr",
     "output_type": "stream",
     "text": [
      "  2%|▏         | 13/598 [00:46<34:02,  3.49s/it]"
     ]
    },
    {
     "name": "stdout",
     "output_type": "stream",
     "text": [
      "Processed record 13/598 in 3.03 seconds.\n"
     ]
    },
    {
     "name": "stderr",
     "output_type": "stream",
     "text": [
      "  2%|▏         | 14/598 [00:49<33:13,  3.41s/it]"
     ]
    },
    {
     "name": "stdout",
     "output_type": "stream",
     "text": [
      "Processed record 14/598 in 3.23 seconds.\n"
     ]
    },
    {
     "name": "stderr",
     "output_type": "stream",
     "text": [
      "  3%|▎         | 15/598 [00:53<36:18,  3.74s/it]"
     ]
    },
    {
     "name": "stdout",
     "output_type": "stream",
     "text": [
      "Processed record 15/598 in 4.49 seconds.\n"
     ]
    },
    {
     "name": "stderr",
     "output_type": "stream",
     "text": [
      "  3%|▎         | 16/598 [00:59<42:45,  4.41s/it]"
     ]
    },
    {
     "name": "stdout",
     "output_type": "stream",
     "text": [
      "Processed record 16/598 in 5.96 seconds.\n"
     ]
    },
    {
     "name": "stderr",
     "output_type": "stream",
     "text": [
      "  3%|▎         | 17/598 [01:02<37:13,  3.84s/it]"
     ]
    },
    {
     "name": "stdout",
     "output_type": "stream",
     "text": [
      "Processed record 17/598 in 2.54 seconds.\n"
     ]
    },
    {
     "name": "stderr",
     "output_type": "stream",
     "text": [
      "  3%|▎         | 18/598 [01:05<33:53,  3.51s/it]"
     ]
    },
    {
     "name": "stdout",
     "output_type": "stream",
     "text": [
      "Processed record 18/598 in 2.71 seconds.\n"
     ]
    },
    {
     "name": "stderr",
     "output_type": "stream",
     "text": [
      "  3%|▎         | 19/598 [01:10<38:56,  4.04s/it]"
     ]
    },
    {
     "name": "stdout",
     "output_type": "stream",
     "text": [
      "Processed record 19/598 in 5.27 seconds.\n"
     ]
    },
    {
     "name": "stderr",
     "output_type": "stream",
     "text": [
      "  3%|▎         | 20/598 [01:12<34:46,  3.61s/it]"
     ]
    },
    {
     "name": "stdout",
     "output_type": "stream",
     "text": [
      "Processed record 20/598 in 2.62 seconds.\n"
     ]
    },
    {
     "name": "stderr",
     "output_type": "stream",
     "text": [
      "  4%|▎         | 21/598 [01:16<33:56,  3.53s/it]"
     ]
    },
    {
     "name": "stdout",
     "output_type": "stream",
     "text": [
      "Processed record 21/598 in 3.34 seconds.\n"
     ]
    },
    {
     "name": "stderr",
     "output_type": "stream",
     "text": [
      "  4%|▎         | 22/598 [01:20<35:46,  3.73s/it]"
     ]
    },
    {
     "name": "stdout",
     "output_type": "stream",
     "text": [
      "Processed record 22/598 in 4.19 seconds.\n"
     ]
    },
    {
     "name": "stderr",
     "output_type": "stream",
     "text": [
      "  4%|▍         | 23/598 [01:23<32:50,  3.43s/it]"
     ]
    },
    {
     "name": "stdout",
     "output_type": "stream",
     "text": [
      "Processed record 23/598 in 2.72 seconds.\n"
     ]
    },
    {
     "name": "stderr",
     "output_type": "stream",
     "text": [
      "  4%|▍         | 24/598 [01:26<31:28,  3.29s/it]"
     ]
    },
    {
     "name": "stdout",
     "output_type": "stream",
     "text": [
      "Processed record 24/598 in 2.97 seconds.\n"
     ]
    },
    {
     "name": "stderr",
     "output_type": "stream",
     "text": [
      "  4%|▍         | 25/598 [01:28<29:10,  3.06s/it]"
     ]
    },
    {
     "name": "stdout",
     "output_type": "stream",
     "text": [
      "Processed record 25/598 in 2.51 seconds.\n"
     ]
    },
    {
     "name": "stderr",
     "output_type": "stream",
     "text": [
      "  4%|▍         | 26/598 [01:31<27:59,  2.94s/it]"
     ]
    },
    {
     "name": "stdout",
     "output_type": "stream",
     "text": [
      "Processed record 26/598 in 2.66 seconds.\n"
     ]
    },
    {
     "name": "stderr",
     "output_type": "stream",
     "text": [
      "  5%|▍         | 27/598 [01:33<27:00,  2.84s/it]"
     ]
    },
    {
     "name": "stdout",
     "output_type": "stream",
     "text": [
      "Processed record 27/598 in 2.61 seconds.\n"
     ]
    },
    {
     "name": "stderr",
     "output_type": "stream",
     "text": [
      "  5%|▍         | 28/598 [01:36<26:18,  2.77s/it]"
     ]
    },
    {
     "name": "stdout",
     "output_type": "stream",
     "text": [
      "Processed record 28/598 in 2.61 seconds.\n"
     ]
    },
    {
     "name": "stderr",
     "output_type": "stream",
     "text": [
      "  5%|▍         | 29/598 [01:39<26:28,  2.79s/it]"
     ]
    },
    {
     "name": "stdout",
     "output_type": "stream",
     "text": [
      "Processed record 29/598 in 2.84 seconds.\n"
     ]
    },
    {
     "name": "stderr",
     "output_type": "stream",
     "text": [
      "  5%|▌         | 30/598 [01:43<30:56,  3.27s/it]"
     ]
    },
    {
     "name": "stdout",
     "output_type": "stream",
     "text": [
      "Processed record 30/598 in 4.38 seconds.\n"
     ]
    },
    {
     "name": "stderr",
     "output_type": "stream",
     "text": [
      "  5%|▌         | 31/598 [01:46<30:01,  3.18s/it]"
     ]
    },
    {
     "name": "stdout",
     "output_type": "stream",
     "text": [
      "Processed record 31/598 in 2.97 seconds.\n"
     ]
    },
    {
     "name": "stderr",
     "output_type": "stream",
     "text": [
      "  5%|▌         | 32/598 [01:49<29:02,  3.08s/it]"
     ]
    },
    {
     "name": "stdout",
     "output_type": "stream",
     "text": [
      "Processed record 32/598 in 2.85 seconds.\n"
     ]
    },
    {
     "name": "stderr",
     "output_type": "stream",
     "text": [
      "  6%|▌         | 33/598 [01:53<30:26,  3.23s/it]"
     ]
    },
    {
     "name": "stdout",
     "output_type": "stream",
     "text": [
      "Processed record 33/598 in 3.59 seconds.\n"
     ]
    },
    {
     "name": "stderr",
     "output_type": "stream",
     "text": [
      "  6%|▌         | 34/598 [01:57<32:31,  3.46s/it]"
     ]
    },
    {
     "name": "stdout",
     "output_type": "stream",
     "text": [
      "Processed record 34/598 in 3.99 seconds.\n"
     ]
    },
    {
     "name": "stderr",
     "output_type": "stream",
     "text": [
      "  6%|▌         | 35/598 [01:59<29:42,  3.17s/it]"
     ]
    },
    {
     "name": "stdout",
     "output_type": "stream",
     "text": [
      "Processed record 35/598 in 2.48 seconds.\n"
     ]
    },
    {
     "name": "stderr",
     "output_type": "stream",
     "text": [
      "  6%|▌         | 36/598 [02:02<27:58,  2.99s/it]"
     ]
    },
    {
     "name": "stdout",
     "output_type": "stream",
     "text": [
      "Processed record 36/598 in 2.56 seconds.\n"
     ]
    },
    {
     "name": "stderr",
     "output_type": "stream",
     "text": [
      "  6%|▌         | 37/598 [02:05<29:48,  3.19s/it]"
     ]
    },
    {
     "name": "stdout",
     "output_type": "stream",
     "text": [
      "Processed record 37/598 in 3.66 seconds.\n"
     ]
    },
    {
     "name": "stderr",
     "output_type": "stream",
     "text": [
      "  6%|▋         | 38/598 [02:08<27:48,  2.98s/it]"
     ]
    },
    {
     "name": "stdout",
     "output_type": "stream",
     "text": [
      "Processed record 38/598 in 2.49 seconds.\n"
     ]
    },
    {
     "name": "stderr",
     "output_type": "stream",
     "text": [
      "  7%|▋         | 39/598 [02:10<26:36,  2.86s/it]"
     ]
    },
    {
     "name": "stdout",
     "output_type": "stream",
     "text": [
      "Processed record 39/598 in 2.57 seconds.\n"
     ]
    },
    {
     "name": "stderr",
     "output_type": "stream",
     "text": [
      "  7%|▋         | 40/598 [02:14<29:20,  3.16s/it]"
     ]
    },
    {
     "name": "stdout",
     "output_type": "stream",
     "text": [
      "Processed record 40/598 in 3.85 seconds.\n"
     ]
    },
    {
     "name": "stderr",
     "output_type": "stream",
     "text": [
      "  7%|▋         | 41/598 [02:17<28:03,  3.02s/it]"
     ]
    },
    {
     "name": "stdout",
     "output_type": "stream",
     "text": [
      "Processed record 41/598 in 2.71 seconds.\n"
     ]
    },
    {
     "name": "stderr",
     "output_type": "stream",
     "text": [
      "  7%|▋         | 42/598 [02:20<27:08,  2.93s/it]"
     ]
    },
    {
     "name": "stdout",
     "output_type": "stream",
     "text": [
      "Processed record 42/598 in 2.71 seconds.\n"
     ]
    },
    {
     "name": "stderr",
     "output_type": "stream",
     "text": [
      "  7%|▋         | 43/598 [02:26<35:20,  3.82s/it]"
     ]
    },
    {
     "name": "stdout",
     "output_type": "stream",
     "text": [
      "Processed record 43/598 in 5.90 seconds.\n"
     ]
    },
    {
     "name": "stderr",
     "output_type": "stream",
     "text": [
      "  7%|▋         | 44/598 [02:28<32:08,  3.48s/it]"
     ]
    },
    {
     "name": "stdout",
     "output_type": "stream",
     "text": [
      "Processed record 44/598 in 2.69 seconds.\n"
     ]
    },
    {
     "name": "stderr",
     "output_type": "stream",
     "text": [
      "  8%|▊         | 45/598 [02:31<29:50,  3.24s/it]"
     ]
    },
    {
     "name": "stdout",
     "output_type": "stream",
     "text": [
      "Processed record 45/598 in 2.67 seconds.\n"
     ]
    },
    {
     "name": "stderr",
     "output_type": "stream",
     "text": [
      "  8%|▊         | 46/598 [02:34<29:23,  3.19s/it]"
     ]
    },
    {
     "name": "stdout",
     "output_type": "stream",
     "text": [
      "Processed record 46/598 in 3.09 seconds.\n"
     ]
    },
    {
     "name": "stderr",
     "output_type": "stream",
     "text": [
      "  8%|▊         | 47/598 [02:37<28:07,  3.06s/it]"
     ]
    },
    {
     "name": "stdout",
     "output_type": "stream",
     "text": [
      "Processed record 47/598 in 2.75 seconds.\n"
     ]
    },
    {
     "name": "stderr",
     "output_type": "stream",
     "text": [
      "  8%|▊         | 48/598 [02:40<28:16,  3.09s/it]"
     ]
    },
    {
     "name": "stdout",
     "output_type": "stream",
     "text": [
      "Processed record 48/598 in 3.14 seconds.\n"
     ]
    },
    {
     "name": "stderr",
     "output_type": "stream",
     "text": [
      "  8%|▊         | 49/598 [02:43<27:18,  2.99s/it]"
     ]
    },
    {
     "name": "stdout",
     "output_type": "stream",
     "text": [
      "Processed record 49/598 in 2.75 seconds.\n"
     ]
    },
    {
     "name": "stderr",
     "output_type": "stream",
     "text": [
      "  8%|▊         | 50/598 [02:46<26:59,  2.95s/it]"
     ]
    },
    {
     "name": "stdout",
     "output_type": "stream",
     "text": [
      "Processed record 50/598 in 2.88 seconds.\n"
     ]
    },
    {
     "name": "stderr",
     "output_type": "stream",
     "text": [
      "  9%|▊         | 51/598 [02:49<28:03,  3.08s/it]"
     ]
    },
    {
     "name": "stdout",
     "output_type": "stream",
     "text": [
      "Processed record 51/598 in 3.37 seconds.\n"
     ]
    },
    {
     "name": "stderr",
     "output_type": "stream",
     "text": [
      "  9%|▊         | 52/598 [02:53<31:04,  3.41s/it]"
     ]
    },
    {
     "name": "stdout",
     "output_type": "stream",
     "text": [
      "Processed record 52/598 in 4.20 seconds.\n"
     ]
    },
    {
     "name": "stderr",
     "output_type": "stream",
     "text": [
      "  9%|▉         | 53/598 [02:56<29:17,  3.23s/it]"
     ]
    },
    {
     "name": "stdout",
     "output_type": "stream",
     "text": [
      "Processed record 53/598 in 2.78 seconds.\n"
     ]
    },
    {
     "name": "stderr",
     "output_type": "stream",
     "text": [
      "  9%|▉         | 54/598 [02:59<29:58,  3.31s/it]"
     ]
    },
    {
     "name": "stdout",
     "output_type": "stream",
     "text": [
      "Processed record 54/598 in 3.49 seconds.\n"
     ]
    },
    {
     "name": "stderr",
     "output_type": "stream",
     "text": [
      "  9%|▉         | 55/598 [03:02<28:34,  3.16s/it]"
     ]
    },
    {
     "name": "stdout",
     "output_type": "stream",
     "text": [
      "Processed record 55/598 in 2.81 seconds.\n"
     ]
    },
    {
     "name": "stderr",
     "output_type": "stream",
     "text": [
      "  9%|▉         | 56/598 [03:05<27:11,  3.01s/it]"
     ]
    },
    {
     "name": "stdout",
     "output_type": "stream",
     "text": [
      "Processed record 56/598 in 2.67 seconds.\n"
     ]
    },
    {
     "name": "stderr",
     "output_type": "stream",
     "text": [
      " 10%|▉         | 57/598 [03:07<25:55,  2.87s/it]"
     ]
    },
    {
     "name": "stdout",
     "output_type": "stream",
     "text": [
      "Processed record 57/598 in 2.56 seconds.\n"
     ]
    },
    {
     "name": "stderr",
     "output_type": "stream",
     "text": [
      " 10%|▉         | 58/598 [03:10<25:49,  2.87s/it]"
     ]
    },
    {
     "name": "stdout",
     "output_type": "stream",
     "text": [
      "Processed record 58/598 in 2.85 seconds.\n"
     ]
    },
    {
     "name": "stderr",
     "output_type": "stream",
     "text": [
      " 10%|▉         | 59/598 [03:13<25:51,  2.88s/it]"
     ]
    },
    {
     "name": "stdout",
     "output_type": "stream",
     "text": [
      "Processed record 59/598 in 2.90 seconds.\n"
     ]
    },
    {
     "name": "stderr",
     "output_type": "stream",
     "text": [
      " 10%|█         | 60/598 [03:17<29:33,  3.30s/it]"
     ]
    },
    {
     "name": "stdout",
     "output_type": "stream",
     "text": [
      "Processed record 60/598 in 4.27 seconds.\n"
     ]
    },
    {
     "name": "stderr",
     "output_type": "stream",
     "text": [
      " 10%|█         | 61/598 [03:20<28:31,  3.19s/it]"
     ]
    },
    {
     "name": "stdout",
     "output_type": "stream",
     "text": [
      "Processed record 61/598 in 2.93 seconds.\n"
     ]
    },
    {
     "name": "stderr",
     "output_type": "stream",
     "text": [
      " 10%|█         | 62/598 [03:24<30:06,  3.37s/it]"
     ]
    },
    {
     "name": "stdout",
     "output_type": "stream",
     "text": [
      "Processed record 62/598 in 3.80 seconds.\n"
     ]
    },
    {
     "name": "stderr",
     "output_type": "stream",
     "text": [
      " 11%|█         | 63/598 [03:27<28:27,  3.19s/it]"
     ]
    },
    {
     "name": "stdout",
     "output_type": "stream",
     "text": [
      "Processed record 63/598 in 2.77 seconds.\n"
     ]
    },
    {
     "name": "stderr",
     "output_type": "stream",
     "text": [
      " 11%|█         | 64/598 [03:31<29:13,  3.28s/it]"
     ]
    },
    {
     "name": "stdout",
     "output_type": "stream",
     "text": [
      "Processed record 64/598 in 3.50 seconds.\n"
     ]
    },
    {
     "name": "stderr",
     "output_type": "stream",
     "text": [
      " 11%|█         | 65/598 [03:33<27:51,  3.14s/it]"
     ]
    },
    {
     "name": "stdout",
     "output_type": "stream",
     "text": [
      "Processed record 65/598 in 2.79 seconds.\n"
     ]
    },
    {
     "name": "stderr",
     "output_type": "stream",
     "text": [
      " 11%|█         | 66/598 [03:38<30:47,  3.47s/it]"
     ]
    },
    {
     "name": "stdout",
     "output_type": "stream",
     "text": [
      "Processed record 66/598 in 4.26 seconds.\n"
     ]
    },
    {
     "name": "stderr",
     "output_type": "stream",
     "text": [
      " 11%|█         | 67/598 [03:40<28:41,  3.24s/it]"
     ]
    },
    {
     "name": "stdout",
     "output_type": "stream",
     "text": [
      "Processed record 67/598 in 2.70 seconds.\n"
     ]
    },
    {
     "name": "stderr",
     "output_type": "stream",
     "text": [
      " 11%|█▏        | 68/598 [03:43<28:34,  3.23s/it]"
     ]
    },
    {
     "name": "stdout",
     "output_type": "stream",
     "text": [
      "Processed record 68/598 in 3.22 seconds.\n"
     ]
    },
    {
     "name": "stderr",
     "output_type": "stream",
     "text": [
      " 12%|█▏        | 69/598 [03:46<26:32,  3.01s/it]"
     ]
    },
    {
     "name": "stdout",
     "output_type": "stream",
     "text": [
      "Processed record 69/598 in 2.49 seconds.\n"
     ]
    },
    {
     "name": "stderr",
     "output_type": "stream",
     "text": [
      " 12%|█▏        | 70/598 [03:49<27:24,  3.11s/it]"
     ]
    },
    {
     "name": "stdout",
     "output_type": "stream",
     "text": [
      "Processed record 70/598 in 3.35 seconds.\n"
     ]
    },
    {
     "name": "stderr",
     "output_type": "stream",
     "text": [
      " 12%|█▏        | 71/598 [03:52<25:53,  2.95s/it]"
     ]
    },
    {
     "name": "stdout",
     "output_type": "stream",
     "text": [
      "Processed record 71/598 in 2.56 seconds.\n"
     ]
    },
    {
     "name": "stderr",
     "output_type": "stream",
     "text": [
      " 12%|█▏        | 72/598 [03:55<25:09,  2.87s/it]"
     ]
    },
    {
     "name": "stdout",
     "output_type": "stream",
     "text": [
      "Processed record 72/598 in 2.69 seconds.\n"
     ]
    },
    {
     "name": "stderr",
     "output_type": "stream",
     "text": [
      " 12%|█▏        | 73/598 [03:58<26:13,  3.00s/it]"
     ]
    },
    {
     "name": "stdout",
     "output_type": "stream",
     "text": [
      "Processed record 73/598 in 3.29 seconds.\n"
     ]
    },
    {
     "name": "stderr",
     "output_type": "stream",
     "text": [
      " 12%|█▏        | 74/598 [04:01<27:01,  3.09s/it]"
     ]
    },
    {
     "name": "stdout",
     "output_type": "stream",
     "text": [
      "Processed record 74/598 in 3.32 seconds.\n"
     ]
    },
    {
     "name": "stderr",
     "output_type": "stream",
     "text": [
      " 13%|█▎        | 75/598 [04:04<26:04,  2.99s/it]"
     ]
    },
    {
     "name": "stdout",
     "output_type": "stream",
     "text": [
      "Processed record 75/598 in 2.75 seconds.\n"
     ]
    },
    {
     "name": "stderr",
     "output_type": "stream",
     "text": [
      " 13%|█▎        | 76/598 [04:07<25:55,  2.98s/it]"
     ]
    },
    {
     "name": "stdout",
     "output_type": "stream",
     "text": [
      "Processed record 76/598 in 2.95 seconds.\n"
     ]
    },
    {
     "name": "stderr",
     "output_type": "stream",
     "text": [
      " 13%|█▎        | 77/598 [04:10<26:29,  3.05s/it]"
     ]
    },
    {
     "name": "stdout",
     "output_type": "stream",
     "text": [
      "Processed record 77/598 in 3.22 seconds.\n"
     ]
    },
    {
     "name": "stderr",
     "output_type": "stream",
     "text": [
      " 13%|█▎        | 78/598 [04:15<32:20,  3.73s/it]"
     ]
    },
    {
     "name": "stdout",
     "output_type": "stream",
     "text": [
      "Processed record 78/598 in 5.32 seconds.\n"
     ]
    },
    {
     "name": "stderr",
     "output_type": "stream",
     "text": [
      " 13%|█▎        | 79/598 [04:19<30:59,  3.58s/it]"
     ]
    },
    {
     "name": "stdout",
     "output_type": "stream",
     "text": [
      "Processed record 79/598 in 3.24 seconds.\n"
     ]
    },
    {
     "name": "stderr",
     "output_type": "stream",
     "text": [
      " 13%|█▎        | 80/598 [04:21<28:23,  3.29s/it]"
     ]
    },
    {
     "name": "stdout",
     "output_type": "stream",
     "text": [
      "Processed record 80/598 in 2.60 seconds.\n"
     ]
    },
    {
     "name": "stderr",
     "output_type": "stream",
     "text": [
      " 14%|█▎        | 81/598 [04:24<28:04,  3.26s/it]"
     ]
    },
    {
     "name": "stdout",
     "output_type": "stream",
     "text": [
      "Processed record 81/598 in 3.19 seconds.\n"
     ]
    },
    {
     "name": "stderr",
     "output_type": "stream",
     "text": [
      " 14%|█▎        | 82/598 [04:27<26:04,  3.03s/it]"
     ]
    },
    {
     "name": "stdout",
     "output_type": "stream",
     "text": [
      "Processed record 82/598 in 2.50 seconds.\n"
     ]
    },
    {
     "name": "stderr",
     "output_type": "stream",
     "text": [
      " 14%|█▍        | 83/598 [04:29<24:45,  2.89s/it]"
     ]
    },
    {
     "name": "stdout",
     "output_type": "stream",
     "text": [
      "Processed record 83/598 in 2.54 seconds.\n"
     ]
    },
    {
     "name": "stderr",
     "output_type": "stream",
     "text": [
      " 14%|█▍        | 84/598 [04:35<32:10,  3.76s/it]"
     ]
    },
    {
     "name": "stdout",
     "output_type": "stream",
     "text": [
      "Processed record 84/598 in 5.78 seconds.\n"
     ]
    },
    {
     "name": "stderr",
     "output_type": "stream",
     "text": [
      " 14%|█▍        | 85/598 [04:39<32:51,  3.84s/it]"
     ]
    },
    {
     "name": "stdout",
     "output_type": "stream",
     "text": [
      "Processed record 85/598 in 4.05 seconds.\n"
     ]
    },
    {
     "name": "stderr",
     "output_type": "stream",
     "text": [
      " 14%|█▍        | 86/598 [04:42<29:48,  3.49s/it]"
     ]
    },
    {
     "name": "stdout",
     "output_type": "stream",
     "text": [
      "Processed record 86/598 in 2.67 seconds.\n"
     ]
    },
    {
     "name": "stderr",
     "output_type": "stream",
     "text": [
      " 15%|█▍        | 87/598 [04:47<32:25,  3.81s/it]"
     ]
    },
    {
     "name": "stdout",
     "output_type": "stream",
     "text": [
      "Processed record 87/598 in 4.54 seconds.\n"
     ]
    },
    {
     "name": "stderr",
     "output_type": "stream",
     "text": [
      " 15%|█▍        | 88/598 [04:50<31:46,  3.74s/it]"
     ]
    },
    {
     "name": "stdout",
     "output_type": "stream",
     "text": [
      "Processed record 88/598 in 3.58 seconds.\n"
     ]
    },
    {
     "name": "stderr",
     "output_type": "stream",
     "text": [
      " 15%|█▍        | 89/598 [04:53<29:11,  3.44s/it]"
     ]
    },
    {
     "name": "stdout",
     "output_type": "stream",
     "text": [
      "Processed record 89/598 in 2.75 seconds.\n"
     ]
    },
    {
     "name": "stderr",
     "output_type": "stream",
     "text": [
      " 15%|█▌        | 90/598 [04:56<27:51,  3.29s/it]"
     ]
    },
    {
     "name": "stdout",
     "output_type": "stream",
     "text": [
      "Processed record 90/598 in 2.94 seconds.\n"
     ]
    },
    {
     "name": "stderr",
     "output_type": "stream",
     "text": [
      " 15%|█▌        | 91/598 [05:00<31:02,  3.67s/it]"
     ]
    },
    {
     "name": "stdout",
     "output_type": "stream",
     "text": [
      "Processed record 91/598 in 4.56 seconds.\n"
     ]
    },
    {
     "name": "stderr",
     "output_type": "stream",
     "text": [
      " 15%|█▌        | 92/598 [05:04<29:52,  3.54s/it]"
     ]
    },
    {
     "name": "stdout",
     "output_type": "stream",
     "text": [
      "Processed record 92/598 in 3.24 seconds.\n"
     ]
    },
    {
     "name": "stderr",
     "output_type": "stream",
     "text": [
      " 16%|█▌        | 93/598 [05:06<27:43,  3.29s/it]"
     ]
    },
    {
     "name": "stdout",
     "output_type": "stream",
     "text": [
      "Processed record 93/598 in 2.71 seconds.\n"
     ]
    },
    {
     "name": "stderr",
     "output_type": "stream",
     "text": [
      " 16%|█▌        | 94/598 [05:09<26:51,  3.20s/it]"
     ]
    },
    {
     "name": "stdout",
     "output_type": "stream",
     "text": [
      "Processed record 94/598 in 2.97 seconds.\n"
     ]
    },
    {
     "name": "stderr",
     "output_type": "stream",
     "text": [
      " 16%|█▌        | 95/598 [05:12<25:40,  3.06s/it]"
     ]
    },
    {
     "name": "stdout",
     "output_type": "stream",
     "text": [
      "Processed record 95/598 in 2.74 seconds.\n"
     ]
    },
    {
     "name": "stderr",
     "output_type": "stream",
     "text": [
      " 16%|█▌        | 96/598 [05:17<29:10,  3.49s/it]"
     ]
    },
    {
     "name": "stdout",
     "output_type": "stream",
     "text": [
      "Processed record 96/598 in 4.48 seconds.\n"
     ]
    },
    {
     "name": "stderr",
     "output_type": "stream",
     "text": [
      " 16%|█▌        | 97/598 [05:19<26:45,  3.20s/it]"
     ]
    },
    {
     "name": "stdout",
     "output_type": "stream",
     "text": [
      "Processed record 97/598 in 2.54 seconds.\n"
     ]
    },
    {
     "name": "stderr",
     "output_type": "stream",
     "text": [
      " 16%|█▋        | 98/598 [05:22<25:50,  3.10s/it]"
     ]
    },
    {
     "name": "stdout",
     "output_type": "stream",
     "text": [
      "Processed record 98/598 in 2.86 seconds.\n",
      "decomposition:  {'q1': 'Were Black Stone Cherry and Gene Loves Jezebel bands that originated from the United Kingdom?', 'q2': 'If so, would their nationality be considered \"British\"?'}\n"
     ]
    },
    {
     "name": "stderr",
     "output_type": "stream",
     "text": [
      " 17%|█▋        | 99/598 [05:28<34:05,  4.10s/it]"
     ]
    },
    {
     "name": "stdout",
     "output_type": "stream",
     "text": [
      "Processed record 99/598 in 6.43 seconds.\n",
      "decomposition:  {'q1': 'Who is the leader of the monarchy of New Zealand?', 'q2': 'In what year did her father die?'}\n"
     ]
    },
    {
     "name": "stderr",
     "output_type": "stream",
     "text": [
      " 17%|█▋        | 100/598 [05:35<40:30,  4.88s/it]"
     ]
    },
    {
     "name": "stdout",
     "output_type": "stream",
     "text": [
      "Processed record 100/598 in 6.70 seconds.\n",
      "\n",
      "--- Saved batch up to record 100\n",
      "Average time for last 100 records: 3.35 seconds\n",
      "\n",
      "decomposition:  {'q1': 'What film does the actress play in, where she stars alongside Annie Whittle and Emily Barclay?', 'q2': 'In which year was this TV film released?'}\n"
     ]
    },
    {
     "name": "stderr",
     "output_type": "stream",
     "text": [
      " 17%|█▋        | 101/598 [05:42<44:57,  5.43s/it]"
     ]
    },
    {
     "name": "stdout",
     "output_type": "stream",
     "text": [
      "Processed record 101/598 in 6.71 seconds.\n",
      "decomposition:  {'q1': 'What 2005 novel is the basis for the 2015 film?', 'q2': 'Which company, FilmNation Entertainment, acquired the rights to that novel?'}\n"
     ]
    },
    {
     "name": "stderr",
     "output_type": "stream",
     "text": [
      " 17%|█▋        | 102/598 [05:49<48:16,  5.84s/it]"
     ]
    },
    {
     "name": "stdout",
     "output_type": "stream",
     "text": [
      "Processed record 102/598 in 6.80 seconds.\n",
      "decomposition:  {'q1': 'Which band was formed in Edinburgh?', 'q2': 'What is the genre of this band that was influenced by the music of Appalachia?'}\n"
     ]
    },
    {
     "name": "stderr",
     "output_type": "stream",
     "text": [
      " 17%|█▋        | 103/598 [05:59<58:55,  7.14s/it]"
     ]
    },
    {
     "name": "stdout",
     "output_type": "stream",
     "text": [
      "Processed record 103/598 in 10.19 seconds.\n",
      "decomposition:  {'q1': 'What is the \"Up Series\"?', 'q2': 'Who produced the new version of that series?'}\n"
     ]
    },
    {
     "name": "stderr",
     "output_type": "stream",
     "text": [
      " 17%|█▋        | 104/598 [06:05<56:05,  6.81s/it]"
     ]
    },
    {
     "name": "stdout",
     "output_type": "stream",
     "text": [
      "Processed record 104/598 in 6.04 seconds.\n",
      "decomposition:  {'q1': 'What is the name of the work that Stravinsky composed before The Cantata?', 'q2': 'Who wrote the libretto for this specific work by Stravinsky?'}\n"
     ]
    },
    {
     "name": "stderr",
     "output_type": "stream",
     "text": [
      " 18%|█▊        | 105/598 [06:14<1:01:37,  7.50s/it]"
     ]
    },
    {
     "name": "stdout",
     "output_type": "stream",
     "text": [
      "Processed record 105/598 in 9.10 seconds.\n",
      "decomposition:  {'q1': 'Who is the politician?', 'q2': 'For what party was he elected to his third Senate term in 1984?'}\n"
     ]
    },
    {
     "name": "stderr",
     "output_type": "stream",
     "text": [
      " 18%|█▊        | 106/598 [06:21<1:00:40,  7.40s/it]"
     ]
    },
    {
     "name": "stdout",
     "output_type": "stream",
     "text": [
      "Processed record 106/598 in 7.17 seconds.\n",
      "decomposition:  {'q1': 'Which direction is Ust-Omchug located in relation to a port town?', 'q2': 'What is the name of the port town?'}\n"
     ]
    },
    {
     "name": "stderr",
     "output_type": "stream",
     "text": [
      " 18%|█▊        | 107/598 [06:27<57:59,  7.09s/it]  "
     ]
    },
    {
     "name": "stdout",
     "output_type": "stream",
     "text": [
      "Processed record 107/598 in 6.36 seconds.\n",
      "decomposition:  {'q1': 'Who is Abraham Bueno de Mesquita?', 'q2': \"Which province is the capital of that person's birthplace?\"}\n"
     ]
    },
    {
     "name": "stderr",
     "output_type": "stream",
     "text": [
      " 18%|█▊        | 108/598 [06:34<56:14,  6.89s/it]"
     ]
    },
    {
     "name": "stdout",
     "output_type": "stream",
     "text": [
      "Processed record 108/598 in 6.42 seconds.\n",
      "decomposition:  {'q1': 'What shows was Michael Wandmacher involved in composing?', 'q2': \"Does the composer's name match the title of one of those shows?\"}\n"
     ]
    },
    {
     "name": "stderr",
     "output_type": "stream",
     "text": [
      " 18%|█▊        | 109/598 [06:41<55:59,  6.87s/it]"
     ]
    },
    {
     "name": "stdout",
     "output_type": "stream",
     "text": [
      "Processed record 109/598 in 6.83 seconds.\n",
      "decomposition:  {'q1': 'Which band was founded in 1991?', 'q2': 'Which band, formed in Leyton, East London, had bassist Steve Harris and influenced this band?'}\n"
     ]
    },
    {
     "name": "stderr",
     "output_type": "stream",
     "text": [
      " 18%|█▊        | 110/598 [06:49<1:00:14,  7.41s/it]"
     ]
    },
    {
     "name": "stdout",
     "output_type": "stream",
     "text": [
      "Processed record 110/598 in 8.66 seconds.\n",
      "decomposition:  {'q1': 'Who is the actor born on October 30, 1964?', 'q2': 'Was this actor in a movie that was distributed by someone?'}\n"
     ]
    },
    {
     "name": "stderr",
     "output_type": "stream",
     "text": [
      " 19%|█▊        | 111/598 [06:57<59:51,  7.37s/it]  "
     ]
    },
    {
     "name": "stdout",
     "output_type": "stream",
     "text": [
      "Processed record 111/598 in 7.29 seconds.\n",
      "decomposition:  {'q1': \"What was Srimathi's profession?\", 'q2': 'Which Indian classical dance form did she choreograph?'}\n"
     ]
    },
    {
     "name": "stderr",
     "output_type": "stream",
     "text": [
      " 19%|█▊        | 112/598 [07:06<1:03:31,  7.84s/it]"
     ]
    },
    {
     "name": "stdout",
     "output_type": "stream",
     "text": [
      "Processed record 112/598 in 8.93 seconds.\n",
      "decomposition:  {'q1': 'What website premiered \"Penelope Princess of Pets\" in 2007?', 'q2': 'Which broadcasting company owned that website?'}\n"
     ]
    },
    {
     "name": "stderr",
     "output_type": "stream",
     "text": [
      " 19%|█▉        | 113/598 [07:13<1:01:53,  7.66s/it]"
     ]
    },
    {
     "name": "stdout",
     "output_type": "stream",
     "text": [
      "Processed record 113/598 in 7.22 seconds.\n",
      "decomposition:  {'q1': 'Who plays Dean Munsch in \"Pumpkin Patch\"?', 'q2': 'In what movie did she make her film debut?'}\n"
     ]
    },
    {
     "name": "stderr",
     "output_type": "stream",
     "text": [
      " 19%|█▉        | 114/598 [07:20<1:01:47,  7.66s/it]"
     ]
    },
    {
     "name": "stdout",
     "output_type": "stream",
     "text": [
      "Processed record 114/598 in 7.67 seconds.\n",
      "decomposition:  {'q1': 'What is the name of the hospital that founded neurosurgery?', 'q2': 'Which express bus route goes to that specific hospital?'}\n"
     ]
    },
    {
     "name": "stderr",
     "output_type": "stream",
     "text": [
      " 19%|█▉        | 115/598 [07:29<1:03:53,  7.94s/it]"
     ]
    },
    {
     "name": "stdout",
     "output_type": "stream",
     "text": [
      "Processed record 115/598 in 8.58 seconds.\n",
      "decomposition:  {'q1': 'Who was the 2014 winner of Miss India Worldwide?', 'q2': 'In which 2016 film did this person star alongside Diljit Dosanjh?'}\n"
     ]
    },
    {
     "name": "stderr",
     "output_type": "stream",
     "text": [
      " 19%|█▉        | 116/598 [07:38<1:05:18,  8.13s/it]"
     ]
    },
    {
     "name": "stdout",
     "output_type": "stream",
     "text": [
      "Processed record 116/598 in 8.58 seconds.\n",
      "decomposition:  {'q1': 'What are the names of the two casinos being compared?', 'q2': 'Which of these two casinos has a larger square footage?'}\n"
     ]
    },
    {
     "name": "stderr",
     "output_type": "stream",
     "text": [
      " 20%|█▉        | 117/598 [07:45<1:02:18,  7.77s/it]"
     ]
    },
    {
     "name": "stdout",
     "output_type": "stream",
     "text": [
      "Processed record 117/598 in 6.94 seconds.\n",
      "decomposition:  {'q1': 'Is Dan W. Reicher the Executive Director of the Steyer-Taylor Center at a specific university?', 'q2': 'If so, how many schools does that university have?'}\n"
     ]
    },
    {
     "name": "stderr",
     "output_type": "stream",
     "text": [
      " 20%|█▉        | 118/598 [07:51<1:00:02,  7.51s/it]"
     ]
    },
    {
     "name": "stdout",
     "output_type": "stream",
     "text": [
      "Processed record 118/598 in 6.88 seconds.\n",
      "decomposition:  {'q1': 'What magazines are we comparing to determine which one was founded first?', 'q2': 'Which of these two magazines, Sojourners or Railroad Model Craftsman, has a founding date that can be verified?'}\n"
     ]
    },
    {
     "name": "stderr",
     "output_type": "stream",
     "text": [
      " 20%|█▉        | 119/598 [07:59<59:55,  7.51s/it]  "
     ]
    },
    {
     "name": "stdout",
     "output_type": "stream",
     "text": [
      "Processed record 119/598 in 7.51 seconds.\n",
      "decomposition:  {'q1': 'Who wrote the Family Guy episode \"Candy, Quahog Marshmallow\"?', 'q2': 'In what year was that person born?'}\n"
     ]
    },
    {
     "name": "stderr",
     "output_type": "stream",
     "text": [
      " 20%|██        | 120/598 [08:06<58:42,  7.37s/it]"
     ]
    },
    {
     "name": "stdout",
     "output_type": "stream",
     "text": [
      "Processed record 120/598 in 7.05 seconds.\n",
      "decomposition:  {'q1': 'What was the name of the law-making authority being described in the question?', 'q2': 'How many members did this authority, The Council of Ireland, have?'}\n"
     ]
    },
    {
     "name": "stderr",
     "output_type": "stream",
     "text": [
      " 20%|██        | 121/598 [08:13<56:38,  7.12s/it]"
     ]
    },
    {
     "name": "stdout",
     "output_type": "stream",
     "text": [
      "Processed record 121/598 in 6.55 seconds.\n",
      "decomposition:  {'q1': 'What is the title of the 2009 fantasy drama film?', 'q2': 'Who played the role of Max in that film?'}\n"
     ]
    },
    {
     "name": "stderr",
     "output_type": "stream",
     "text": [
      " 20%|██        | 122/598 [08:20<57:03,  7.19s/it]"
     ]
    },
    {
     "name": "stdout",
     "output_type": "stream",
     "text": [
      "Processed record 122/598 in 7.35 seconds.\n",
      "decomposition:  {'q1': 'Which railway line does the village lie on?', 'q2': 'Where exactly is the village located in relation to Lincoln?'}\n"
     ]
    },
    {
     "name": "stderr",
     "output_type": "stream",
     "text": [
      " 21%|██        | 123/598 [08:27<57:43,  7.29s/it]"
     ]
    },
    {
     "name": "stdout",
     "output_type": "stream",
     "text": [
      "Processed record 123/598 in 7.52 seconds.\n",
      "decomposition:  {'q1': 'Which college did Joe Holsinger attend?', 'q2': 'What is the official color of that college?'}\n"
     ]
    },
    {
     "name": "stderr",
     "output_type": "stream",
     "text": [
      " 21%|██        | 124/598 [08:34<56:58,  7.21s/it]"
     ]
    },
    {
     "name": "stdout",
     "output_type": "stream",
     "text": [
      "Processed record 124/598 in 7.03 seconds.\n",
      "decomposition:  {'q1': 'Which fell is being referred to as \"distinctive\" in Lake District National Park?', 'q2': 'What is the height of that specific fell?'}\n"
     ]
    },
    {
     "name": "stderr",
     "output_type": "stream",
     "text": [
      " 21%|██        | 125/598 [08:41<55:00,  6.98s/it]"
     ]
    },
    {
     "name": "stdout",
     "output_type": "stream",
     "text": [
      "Processed record 125/598 in 6.43 seconds.\n",
      "decomposition:  {'q1': 'Is the question referring to a specific store or asking about all stores in the Gateway Fashion Mall?', 'q2': 'If yes, which store located in the Gateway Fashion Mall is currently in bankruptcy liquidation?'}\n"
     ]
    },
    {
     "name": "stderr",
     "output_type": "stream",
     "text": [
      " 21%|██        | 126/598 [08:48<55:08,  7.01s/it]"
     ]
    },
    {
     "name": "stdout",
     "output_type": "stream",
     "text": [
      "Processed record 126/598 in 7.09 seconds.\n",
      "decomposition:  {'q1': 'Is the roller coaster located in North Rhine-Westphalia, Germany?', 'q2': 'Which roller coaster in North Rhine-Westphalia, Germany is designed in a western style?'}\n"
     ]
    },
    {
     "name": "stderr",
     "output_type": "stream",
     "text": [
      " 21%|██        | 127/598 [08:55<55:45,  7.10s/it]"
     ]
    },
    {
     "name": "stdout",
     "output_type": "stream",
     "text": [
      "Processed record 127/598 in 7.32 seconds.\n",
      "decomposition:  {'q1': 'Who is the former French footballer and footballing coach being referred to?', 'q2': \"What was the significance of this individual's performance in the 2003 FA Cup Final?\"}\n"
     ]
    },
    {
     "name": "stderr",
     "output_type": "stream",
     "text": [
      " 21%|██▏       | 128/598 [09:04<58:48,  7.51s/it]"
     ]
    },
    {
     "name": "stdout",
     "output_type": "stream",
     "text": [
      "Processed record 128/598 in 8.45 seconds.\n",
      "decomposition:  {'q1': \"When was Rihanna's album Talk That Talk released?\", 'q2': 'Whose sound is similar to that of \"Unapologetic\", which is an album by Rihanna?'}\n"
     ]
    },
    {
     "name": "stderr",
     "output_type": "stream",
     "text": [
      " 22%|██▏       | 129/598 [09:13<1:01:57,  7.93s/it]"
     ]
    },
    {
     "name": "stdout",
     "output_type": "stream",
     "text": [
      "Processed record 129/598 in 8.90 seconds.\n",
      "decomposition:  {'q1': 'Who provided the information about Abuzar Buzjani working wonders and dying in 366-67/988?', 'q2': 'When was that person born?'}\n"
     ]
    },
    {
     "name": "stderr",
     "output_type": "stream",
     "text": [
      " 22%|██▏       | 130/598 [09:20<1:00:44,  7.79s/it]"
     ]
    },
    {
     "name": "stdout",
     "output_type": "stream",
     "text": [
      "Processed record 130/598 in 7.46 seconds.\n",
      "decomposition:  {'q1': 'Who researched \"Underground\"?', 'q2': 'What is the nationality of that person?'}\n"
     ]
    },
    {
     "name": "stderr",
     "output_type": "stream",
     "text": [
      " 22%|██▏       | 131/598 [09:26<57:02,  7.33s/it]  "
     ]
    },
    {
     "name": "stdout",
     "output_type": "stream",
     "text": [
      "Processed record 131/598 in 6.26 seconds.\n",
      "decomposition:  {'q1': 'Who are the \"Taxi\" cast members?', 'q2': 'Which American film features these actors?'}\n"
     ]
    },
    {
     "name": "stderr",
     "output_type": "stream",
     "text": [
      " 22%|██▏       | 132/598 [09:34<58:22,  7.52s/it]"
     ]
    },
    {
     "name": "stdout",
     "output_type": "stream",
     "text": [
      "Processed record 132/598 in 7.95 seconds.\n",
      "decomposition:  {'q1': 'What is the name of the band being compared?', 'q2': 'Which band has a release titled \"The Pillows\" or \"Hurricane No. 1\"?'}\n"
     ]
    },
    {
     "name": "stderr",
     "output_type": "stream",
     "text": [
      " 22%|██▏       | 133/598 [09:41<56:57,  7.35s/it]"
     ]
    },
    {
     "name": "stdout",
     "output_type": "stream",
     "text": [
      "Processed record 133/598 in 6.96 seconds.\n",
      "decomposition:  {'q1': 'Who is the German composer of music that is often played by the Budapest Gypsy Symphony Orchestra?', 'q2': 'Where was this German composer born?'}\n"
     ]
    },
    {
     "name": "stderr",
     "output_type": "stream",
     "text": [
      " 22%|██▏       | 134/598 [09:49<56:46,  7.34s/it]"
     ]
    },
    {
     "name": "stdout",
     "output_type": "stream",
     "text": [
      "Processed record 134/598 in 7.32 seconds.\n",
      "decomposition:  {'q1': 'Which lake is being referred to with an area of 1158 acres?', 'q2': 'Into which river does this lake drain, specifically the Mascoma River?'}\n"
     ]
    },
    {
     "name": "stderr",
     "output_type": "stream",
     "text": [
      " 23%|██▎       | 135/598 [09:55<55:08,  7.15s/it]"
     ]
    },
    {
     "name": "stdout",
     "output_type": "stream",
     "text": [
      "Processed record 135/598 in 6.69 seconds.\n",
      "decomposition:  {'q1': 'What type of award was the singer nominated for?', 'q2': 'How many awards was the singer nominated for?'}\n"
     ]
    },
    {
     "name": "stderr",
     "output_type": "stream",
     "text": [
      " 23%|██▎       | 136/598 [10:02<53:26,  6.94s/it]"
     ]
    },
    {
     "name": "stdout",
     "output_type": "stream",
     "text": [
      "Processed record 136/598 in 6.46 seconds.\n",
      "decomposition:  {'q1': 'Has Jessicka been a member of a band?', 'q2': 'Has Chuck Billy also been a member of that same band?'}\n"
     ]
    },
    {
     "name": "stderr",
     "output_type": "stream",
     "text": [
      " 23%|██▎       | 137/598 [10:08<51:44,  6.73s/it]"
     ]
    },
    {
     "name": "stdout",
     "output_type": "stream",
     "text": [
      "Processed record 137/598 in 6.25 seconds.\n",
      "decomposition:  {'q1': 'Who played Major Lance \"Corky\" Corkoran in the BBC series \"The Night Manager\"?', 'q2': 'Who was the director of the 2013 British short film starring that actor?'}\n"
     ]
    },
    {
     "name": "stderr",
     "output_type": "stream",
     "text": [
      " 23%|██▎       | 138/598 [10:19<1:02:05,  8.10s/it]"
     ]
    },
    {
     "name": "stdout",
     "output_type": "stream",
     "text": [
      "Processed record 138/598 in 11.28 seconds.\n",
      "decomposition:  {'q1': 'Who is the main character in William Shakespeare\\'s \"Macbeth\"?', 'q2': 'Is King Duncan the father of that character?'}\n"
     ]
    },
    {
     "name": "stderr",
     "output_type": "stream",
     "text": [
      " 23%|██▎       | 139/598 [10:26<58:18,  7.62s/it]  "
     ]
    },
    {
     "name": "stdout",
     "output_type": "stream",
     "text": [
      "Processed record 139/598 in 6.51 seconds.\n",
      "decomposition:  {'q1': 'Which song was released in June of 2010?', 'q2': 'By which artist did Sean Kingston record a single that sampled this song?'}\n"
     ]
    },
    {
     "name": "stderr",
     "output_type": "stream",
     "text": [
      " 23%|██▎       | 140/598 [10:33<58:13,  7.63s/it]"
     ]
    },
    {
     "name": "stdout",
     "output_type": "stream",
     "text": [
      "Processed record 140/598 in 7.64 seconds.\n",
      "decomposition:  {'q1': 'Who is Emilio Esefan?', 'q2': 'Was this person a member of Miami Sound Machine?'}\n"
     ]
    },
    {
     "name": "stderr",
     "output_type": "stream",
     "text": [
      " 24%|██▎       | 141/598 [10:40<55:50,  7.33s/it]"
     ]
    },
    {
     "name": "stdout",
     "output_type": "stream",
     "text": [
      "Processed record 141/598 in 6.64 seconds.\n",
      "decomposition:  {'q1': 'What city is formerly known as Pitic?', 'q2': \"Did this city's newspaper form an alliance under the name Frontera?\"}\n"
     ]
    },
    {
     "name": "stderr",
     "output_type": "stream",
     "text": [
      " 24%|██▎       | 142/598 [10:47<55:21,  7.28s/it]"
     ]
    },
    {
     "name": "stdout",
     "output_type": "stream",
     "text": [
      "Processed record 142/598 in 7.18 seconds.\n",
      "decomposition:  {'q1': 'Which Australian territory is being referred to?', 'q2': 'Who was the first Premier of that territory?'}\n"
     ]
    },
    {
     "name": "stderr",
     "output_type": "stream",
     "text": [
      " 24%|██▍       | 143/598 [10:54<52:56,  6.98s/it]"
     ]
    },
    {
     "name": "stdout",
     "output_type": "stream",
     "text": [
      "Processed record 143/598 in 6.27 seconds.\n",
      "decomposition:  {'q1': 'What college did Alice Stone Ilchman serve as the president of?', 'q2': 'In which New York county is that college located?'}\n"
     ]
    },
    {
     "name": "stderr",
     "output_type": "stream",
     "text": [
      " 24%|██▍       | 144/598 [11:01<53:14,  7.04s/it]"
     ]
    },
    {
     "name": "stdout",
     "output_type": "stream",
     "text": [
      "Processed record 144/598 in 7.17 seconds.\n",
      "decomposition:  {'q1': 'Who took over the throne in 1814?', 'q2': 'Of which country was the king?'}\n"
     ]
    },
    {
     "name": "stderr",
     "output_type": "stream",
     "text": [
      " 24%|██▍       | 145/598 [11:08<52:58,  7.02s/it]"
     ]
    },
    {
     "name": "stdout",
     "output_type": "stream",
     "text": [
      "Processed record 145/598 in 6.97 seconds.\n",
      "decomposition:  {'q1': 'Which entity is associated with Planet Fitness?', 'q2': 'In which country can you find Hampton, New Hampshire?'}\n"
     ]
    },
    {
     "name": "stderr",
     "output_type": "stream",
     "text": [
      " 24%|██▍       | 146/598 [11:15<53:02,  7.04s/it]"
     ]
    },
    {
     "name": "stdout",
     "output_type": "stream",
     "text": [
      "Processed record 146/598 in 7.10 seconds.\n",
      "decomposition:  {'q1': 'What is the title of the 2011 American comedy film starring Kali Hawk?', 'q2': 'Who directed that specific film?'}\n"
     ]
    },
    {
     "name": "stderr",
     "output_type": "stream",
     "text": [
      " 25%|██▍       | 147/598 [11:21<51:59,  6.92s/it]"
     ]
    },
    {
     "name": "stdout",
     "output_type": "stream",
     "text": [
      "Processed record 147/598 in 6.63 seconds.\n",
      "decomposition:  {'q1': 'What are the names of the universities being compared?', 'q2': 'Which of these two universities was established earliest?'}\n"
     ]
    },
    {
     "name": "stderr",
     "output_type": "stream",
     "text": [
      " 25%|██▍       | 148/598 [11:29<52:20,  6.98s/it]"
     ]
    },
    {
     "name": "stdout",
     "output_type": "stream",
     "text": [
      "Processed record 148/598 in 7.12 seconds.\n",
      "decomposition:  {'q1': 'Who played the role of Heather Duke in \"Heathers\"?', 'q2': 'Was this actress in a relationship with an American poker player?'}\n"
     ]
    },
    {
     "name": "stderr",
     "output_type": "stream",
     "text": [
      " 25%|██▍       | 149/598 [11:36<53:27,  7.14s/it]"
     ]
    },
    {
     "name": "stdout",
     "output_type": "stream",
     "text": [
      "Processed record 149/598 in 7.53 seconds.\n",
      "decomposition:  {'q1': 'Which Christian pop band was founded by Lacey Sturm?', 'q2': 'In what year was this Christian pop band founded?'}\n"
     ]
    },
    {
     "name": "stderr",
     "output_type": "stream",
     "text": [
      " 25%|██▌       | 150/598 [11:42<51:46,  6.93s/it]"
     ]
    },
    {
     "name": "stdout",
     "output_type": "stream",
     "text": [
      "Processed record 150/598 in 6.44 seconds.\n",
      "decomposition:  {'q1': 'Which uprising against the British East India Company was ultimately unsuccessful?', 'q2': 'Was John Doyle a Private soldier in this uprising?'}\n"
     ]
    },
    {
     "name": "stderr",
     "output_type": "stream",
     "text": [
      " 25%|██▌       | 151/598 [11:50<53:53,  7.23s/it]"
     ]
    },
    {
     "name": "stdout",
     "output_type": "stream",
     "text": [
      "Processed record 151/598 in 7.94 seconds.\n",
      "decomposition:  {'q1': 'Who was Ernest Walter Hives?', 'q2': 'When was that company founded?'}\n"
     ]
    },
    {
     "name": "stderr",
     "output_type": "stream",
     "text": [
      " 25%|██▌       | 152/598 [11:59<56:20,  7.58s/it]"
     ]
    },
    {
     "name": "stdout",
     "output_type": "stream",
     "text": [
      "Processed record 152/598 in 8.38 seconds.\n",
      "decomposition:  {'q1': 'Is Ohio State University a private university?', 'q2': 'If not, then which of Ohio State University and Syracuse University is a private university?'}\n"
     ]
    },
    {
     "name": "stderr",
     "output_type": "stream",
     "text": [
      " 26%|██▌       | 153/598 [12:06<54:18,  7.32s/it]"
     ]
    },
    {
     "name": "stdout",
     "output_type": "stream",
     "text": [
      "Processed record 153/598 in 6.72 seconds.\n",
      "decomposition:  {'q1': 'Who directed the 2008 film \"The Other Man\"?', 'q2': 'And who are the stars of this film, specifically mentioning British actor Paterson Joseph?'}\n"
     ]
    },
    {
     "name": "stderr",
     "output_type": "stream",
     "text": [
      " 26%|██▌       | 154/598 [12:13<53:55,  7.29s/it]"
     ]
    },
    {
     "name": "stdout",
     "output_type": "stream",
     "text": [
      "Processed record 154/598 in 7.20 seconds.\n",
      "decomposition:  {'q1': 'Who were the tenants-in-chief according to the Cornwall Domesday Book?', 'q2': 'Which of these tenants-in-chief died in 1087?'}\n"
     ]
    },
    {
     "name": "stderr",
     "output_type": "stream",
     "text": [
      " 26%|██▌       | 155/598 [12:20<53:17,  7.22s/it]"
     ]
    },
    {
     "name": "stdout",
     "output_type": "stream",
     "text": [
      "Processed record 155/598 in 7.06 seconds.\n",
      "decomposition:  {'q1': 'What kind of colleges are Christopher Newport University and Minnesota State University, Mankato?', 'q2': 'Are they public or private colleges?'}\n"
     ]
    },
    {
     "name": "stderr",
     "output_type": "stream",
     "text": [
      " 26%|██▌       | 156/598 [12:26<51:51,  7.04s/it]"
     ]
    },
    {
     "name": "stdout",
     "output_type": "stream",
     "text": [
      "Processed record 156/598 in 6.62 seconds.\n",
      "decomposition:  {'q1': 'Who was picked as the sixth overall pick in the 2012 NBA draft?', 'q2': 'Who is the MVP of the 2012 NBA Summer League?'}\n"
     ]
    },
    {
     "name": "stderr",
     "output_type": "stream",
     "text": [
      " 26%|██▋       | 157/598 [12:33<51:24,  6.99s/it]"
     ]
    },
    {
     "name": "stdout",
     "output_type": "stream",
     "text": [
      "Processed record 157/598 in 6.89 seconds.\n",
      "decomposition:  {'q1': 'Who created a comic book about a criminal?', 'q2': 'From what city did this person create a comic book?'}\n"
     ]
    },
    {
     "name": "stderr",
     "output_type": "stream",
     "text": [
      " 26%|██▋       | 158/598 [12:40<51:11,  6.98s/it]"
     ]
    },
    {
     "name": "stdout",
     "output_type": "stream",
     "text": [
      "Processed record 158/598 in 6.95 seconds.\n",
      "decomposition:  {'q1': 'What musical ensemble did the singer belong to?', 'q2': 'Is \"A Celtic Journey\" the title of an album by that ensemble?'}\n"
     ]
    },
    {
     "name": "stderr",
     "output_type": "stream",
     "text": [
      " 27%|██▋       | 159/598 [12:47<51:18,  7.01s/it]"
     ]
    },
    {
     "name": "stdout",
     "output_type": "stream",
     "text": [
      "Processed record 159/598 in 7.09 seconds.\n",
      "decomposition:  {'q1': 'How many Academy Awards did Ron Fricke win?', 'q2': 'How many Academy Awards did Neil Jordan win?'}\n"
     ]
    },
    {
     "name": "stderr",
     "output_type": "stream",
     "text": [
      " 27%|██▋       | 160/598 [12:53<48:35,  6.66s/it]"
     ]
    },
    {
     "name": "stdout",
     "output_type": "stream",
     "text": [
      "Processed record 160/598 in 5.83 seconds.\n",
      "decomposition:  {'q1': 'Is Bleeker a Canadian rock band?', 'q2': 'Is The Golden Seals also a Canadian rock band?'}\n"
     ]
    },
    {
     "name": "stderr",
     "output_type": "stream",
     "text": [
      " 27%|██▋       | 161/598 [13:00<48:38,  6.68s/it]"
     ]
    },
    {
     "name": "stdout",
     "output_type": "stream",
     "text": [
      "Processed record 161/598 in 6.73 seconds.\n",
      "decomposition:  {'q1': 'Who is the famous American singer that John Wayne and Michael Tucker worked with?', 'q2': 'What is the title of the album they worked on together?'}\n"
     ]
    },
    {
     "name": "stderr",
     "output_type": "stream",
     "text": [
      " 27%|██▋       | 162/598 [13:07<48:59,  6.74s/it]"
     ]
    },
    {
     "name": "stdout",
     "output_type": "stream",
     "text": [
      "Processed record 162/598 in 6.89 seconds.\n",
      "decomposition:  {'q1': 'Who was the founding owner of the Pittsburgh Steelers?', 'q2': 'Whose son spearheaded a requirement known as the \"Rooney Rule\"?'}\n"
     ]
    },
    {
     "name": "stderr",
     "output_type": "stream",
     "text": [
      " 27%|██▋       | 163/598 [13:15<52:20,  7.22s/it]"
     ]
    },
    {
     "name": "stdout",
     "output_type": "stream",
     "text": [
      "Processed record 163/598 in 8.33 seconds.\n",
      "decomposition:  {'q1': 'Whose album reflects on their depressive state?', 'q2': 'Which song from that album appeared on the Billboard Hot 100 in 1976?'}\n"
     ]
    },
    {
     "name": "stderr",
     "output_type": "stream",
     "text": [
      " 27%|██▋       | 164/598 [13:22<52:29,  7.26s/it]"
     ]
    },
    {
     "name": "stdout",
     "output_type": "stream",
     "text": [
      "Processed record 164/598 in 7.35 seconds.\n",
      "decomposition:  {'q1': 'What is the name of the parent company of Tween Brands?', 'q2': 'In which country is the headquarters of that parent company located?'}\n"
     ]
    },
    {
     "name": "stderr",
     "output_type": "stream",
     "text": [
      " 28%|██▊       | 165/598 [13:29<51:43,  7.17s/it]"
     ]
    },
    {
     "name": "stdout",
     "output_type": "stream",
     "text": [
      "Processed record 165/598 in 6.96 seconds.\n",
      "decomposition:  {'q1': 'When did the attack occur?', 'q2': 'Which building, located near the Irish Hunger Memorial in Manhattan, was destroyed during that attack?'}\n"
     ]
    },
    {
     "name": "stderr",
     "output_type": "stream",
     "text": [
      " 28%|██▊       | 166/598 [13:36<51:00,  7.08s/it]"
     ]
    },
    {
     "name": "stdout",
     "output_type": "stream",
     "text": [
      "Processed record 166/598 in 6.89 seconds.\n",
      "decomposition:  {'q1': 'What are the two cases referred to in the question?', 'q2': 'By what body of government were those two cases decided?'}\n"
     ]
    },
    {
     "name": "stderr",
     "output_type": "stream",
     "text": [
      " 28%|██▊       | 167/598 [13:43<49:38,  6.91s/it]"
     ]
    },
    {
     "name": "stdout",
     "output_type": "stream",
     "text": [
      "Processed record 167/598 in 6.50 seconds.\n",
      "decomposition:  {'q1': 'Who is the professional poker player with over 50 years of experience?', 'q2': \"Which poker tournament did this experienced player win in 1979, specifically the Mixed Doubles - No Limit Hold'em?\"}\n"
     ]
    },
    {
     "name": "stderr",
     "output_type": "stream",
     "text": [
      " 28%|██▊       | 168/598 [13:50<50:39,  7.07s/it]"
     ]
    },
    {
     "name": "stdout",
     "output_type": "stream",
     "text": [
      "Processed record 168/598 in 7.43 seconds.\n",
      "decomposition:  {'q1': 'What was the USCGC Catenary decommissioned from (i.e., what organization or entity)?', 'q2': 'In which state is the academy that purchased the USCGC Catenary located?'}\n"
     ]
    },
    {
     "name": "stderr",
     "output_type": "stream",
     "text": [
      " 28%|██▊       | 169/598 [13:58<51:23,  7.19s/it]"
     ]
    },
    {
     "name": "stdout",
     "output_type": "stream",
     "text": [
      "Processed record 169/598 in 7.47 seconds.\n",
      "decomposition:  {'q1': 'Is Florida Atlantic University located in Florida?', 'q2': 'Is İzmir Institute of Technology also located in Florida?'}\n"
     ]
    },
    {
     "name": "stderr",
     "output_type": "stream",
     "text": [
      " 28%|██▊       | 170/598 [14:04<49:40,  6.96s/it]"
     ]
    },
    {
     "name": "stdout",
     "output_type": "stream",
     "text": [
      "Processed record 170/598 in 6.44 seconds.\n",
      "decomposition:  {'q1': 'Which album featured honky-tonk women?', 'q2': 'Was this album the last one to feature Steven Tyler?'}\n"
     ]
    },
    {
     "name": "stderr",
     "output_type": "stream",
     "text": [
      " 29%|██▊       | 171/598 [14:14<55:40,  7.82s/it]"
     ]
    },
    {
     "name": "stdout",
     "output_type": "stream",
     "text": [
      "Processed record 171/598 in 9.83 seconds.\n",
      "decomposition:  {'q1': 'Who is Les Brewer?', 'q2': 'In what town did he co-found a college?'}\n"
     ]
    },
    {
     "name": "stderr",
     "output_type": "stream",
     "text": [
      " 29%|██▉       | 172/598 [14:20<52:44,  7.43s/it]"
     ]
    },
    {
     "name": "stdout",
     "output_type": "stream",
     "text": [
      "Processed record 172/598 in 6.51 seconds.\n",
      "decomposition:  {'q1': 'Who is the British astronomer and composer in question?', 'q2': 'Which specific galaxy did this individual discover, namely \"NGC 4454\"?'}\n"
     ]
    },
    {
     "name": "stderr",
     "output_type": "stream",
     "text": [
      " 29%|██▉       | 173/598 [14:27<51:32,  7.28s/it]"
     ]
    },
    {
     "name": "stdout",
     "output_type": "stream",
     "text": [
      "Processed record 173/598 in 6.92 seconds.\n",
      "decomposition:  {'q1': 'Is Floor Jansen a vocalist?', 'q2': 'Would you be more likely to take vocal lessons from her if she is?'}\n"
     ]
    },
    {
     "name": "stderr",
     "output_type": "stream",
     "text": [
      " 29%|██▉       | 174/598 [14:34<50:10,  7.10s/it]"
     ]
    },
    {
     "name": "stdout",
     "output_type": "stream",
     "text": [
      "Processed record 174/598 in 6.68 seconds.\n",
      "decomposition:  {'q1': 'What is the name of the North Brighton organization?', 'q2': 'In what year was this organization established?'}\n"
     ]
    },
    {
     "name": "stderr",
     "output_type": "stream",
     "text": [
      " 29%|██▉       | 175/598 [14:40<48:30,  6.88s/it]"
     ]
    },
    {
     "name": "stdout",
     "output_type": "stream",
     "text": [
      "Processed record 175/598 in 6.37 seconds.\n",
      "decomposition:  {'q1': 'Who is the Canadian mass murderer from Montreal, Quebec?', 'q2': 'Did this individual commit suicide after committing a mass murder?'}\n"
     ]
    },
    {
     "name": "stderr",
     "output_type": "stream",
     "text": [
      " 29%|██▉       | 176/598 [14:47<48:22,  6.88s/it]"
     ]
    },
    {
     "name": "stdout",
     "output_type": "stream",
     "text": [
      "Processed record 176/598 in 6.87 seconds.\n",
      "decomposition:  {'q1': 'Which album is the song \"Letting Go\" part of?', 'q2': 'Which Rihanna song from that album is sampled in \"Letting Go\"?'}\n"
     ]
    },
    {
     "name": "stderr",
     "output_type": "stream",
     "text": [
      " 30%|██▉       | 177/598 [14:55<49:00,  6.98s/it]"
     ]
    },
    {
     "name": "stdout",
     "output_type": "stream",
     "text": [
      "Processed record 177/598 in 7.23 seconds.\n",
      "decomposition:  {'q1': 'Is Robin McKinley an American author?', 'q2': 'Is Anita Diamant also an American author?'}\n"
     ]
    },
    {
     "name": "stderr",
     "output_type": "stream",
     "text": [
      " 30%|██▉       | 178/598 [15:02<50:28,  7.21s/it]"
     ]
    },
    {
     "name": "stdout",
     "output_type": "stream",
     "text": [
      "Processed record 178/598 in 7.74 seconds.\n",
      "decomposition:  {'q1': 'What is the name of the county that contains the Edwin H. Armstrong House?', 'q2': 'What is the population of that county?'}\n"
     ]
    },
    {
     "name": "stderr",
     "output_type": "stream",
     "text": [
      " 30%|██▉       | 179/598 [15:09<49:50,  7.14s/it]"
     ]
    },
    {
     "name": "stdout",
     "output_type": "stream",
     "text": [
      "Processed record 179/598 in 6.97 seconds.\n",
      "decomposition:  {'q1': 'Is Anna Bolena an opera?', 'q2': 'If yes, does it have five acts?'}\n"
     ]
    },
    {
     "name": "stderr",
     "output_type": "stream",
     "text": [
      " 30%|███       | 180/598 [15:16<48:40,  6.99s/it]"
     ]
    },
    {
     "name": "stdout",
     "output_type": "stream",
     "text": [
      "Processed record 180/598 in 6.64 seconds.\n",
      "decomposition:  {'q1': 'Which opera by Richard Wagner is known for being a three-act work?', 'q2': 'Who directed that specific opera at the Bayreuth Festival, and was it Uwe Eric Laufenberg?'}\n"
     ]
    },
    {
     "name": "stderr",
     "output_type": "stream",
     "text": [
      " 30%|███       | 181/598 [15:24<51:40,  7.44s/it]"
     ]
    },
    {
     "name": "stdout",
     "output_type": "stream",
     "text": [
      "Processed record 181/598 in 8.48 seconds.\n",
      "decomposition:  {'q1': 'Who is credited with directing the 1939 film Gunga Din?', 'q2': 'Which actor played a role in the 1939 film Gunga Din alongside Cary Grant?'}\n"
     ]
    },
    {
     "name": "stderr",
     "output_type": "stream",
     "text": [
      " 30%|███       | 182/598 [15:32<51:05,  7.37s/it]"
     ]
    },
    {
     "name": "stdout",
     "output_type": "stream",
     "text": [
      "Processed record 182/598 in 7.21 seconds.\n",
      "decomposition:  {'q1': 'Which character is typically associated with being a DC Comic book hero?', 'q2': 'In which title did this character appear, and was it revived in 2007?'}\n"
     ]
    },
    {
     "name": "stderr",
     "output_type": "stream",
     "text": [
      " 31%|███       | 183/598 [15:40<52:14,  7.55s/it]"
     ]
    },
    {
     "name": "stdout",
     "output_type": "stream",
     "text": [
      "Processed record 183/598 in 7.99 seconds.\n",
      "decomposition:  {'q1': 'What 1983 American romantic comedy film featured the song \"Johnny Are You Queer\" on its soundtrack?', 'q2': 'Who directed this 1983 American romantic comedy film?'}\n"
     ]
    },
    {
     "name": "stderr",
     "output_type": "stream",
     "text": [
      " 31%|███       | 184/598 [15:48<54:52,  7.95s/it]"
     ]
    },
    {
     "name": "stdout",
     "output_type": "stream",
     "text": [
      "Processed record 184/598 in 8.88 seconds.\n",
      "decomposition:  {'q1': 'What is the name of the web series that features Emily Meade?', 'q2': 'When did this web series air its final episode?'}\n"
     ]
    },
    {
     "name": "stderr",
     "output_type": "stream",
     "text": [
      " 31%|███       | 185/598 [15:56<52:51,  7.68s/it]"
     ]
    },
    {
     "name": "stdout",
     "output_type": "stream",
     "text": [
      "Processed record 185/598 in 7.04 seconds.\n",
      "decomposition:  {'q1': \"What is the American actor's claim to fame?\", 'q2': 'In what role did he star on \"House of Cards\"?'}\n"
     ]
    },
    {
     "name": "stderr",
     "output_type": "stream",
     "text": [
      " 31%|███       | 186/598 [16:03<52:52,  7.70s/it]"
     ]
    },
    {
     "name": "stdout",
     "output_type": "stream",
     "text": [
      "Processed record 186/598 in 7.74 seconds.\n",
      "decomposition:  {'q1': 'Who is the Irish actor and musician?', 'q2': 'Does this person star alongside Carrie Pilby?'}\n"
     ]
    },
    {
     "name": "stderr",
     "output_type": "stream",
     "text": [
      " 31%|███▏      | 187/598 [16:10<50:12,  7.33s/it]"
     ]
    },
    {
     "name": "stdout",
     "output_type": "stream",
     "text": [
      "Processed record 187/598 in 6.46 seconds.\n",
      "decomposition:  {'q1': 'Which singer appears as a guest in the album \"Strange Clouds\"?', 'q2': 'Who was born on December 13, 1989?'}\n"
     ]
    },
    {
     "name": "stderr",
     "output_type": "stream",
     "text": [
      " 31%|███▏      | 188/598 [16:17<49:51,  7.30s/it]"
     ]
    },
    {
     "name": "stdout",
     "output_type": "stream",
     "text": [
      "Processed record 188/598 in 7.22 seconds.\n",
      "decomposition:  {'q1': 'Who is the English football former football player being referred to?', 'q2': 'What is the relationship between this individual and Salford City?'}\n"
     ]
    },
    {
     "name": "stderr",
     "output_type": "stream",
     "text": [
      " 32%|███▏      | 189/598 [16:24<48:41,  7.14s/it]"
     ]
    },
    {
     "name": "stdout",
     "output_type": "stream",
     "text": [
      "Processed record 189/598 in 6.79 seconds.\n",
      "decomposition:  {'q1': 'Which game was released by a company in 2006?', 'q2': 'Does this game include a mission based on the real-life event of the Iranian Embassy siege in 1980?'}\n"
     ]
    },
    {
     "name": "stderr",
     "output_type": "stream",
     "text": [
      " 32%|███▏      | 190/598 [16:33<53:53,  7.93s/it]"
     ]
    },
    {
     "name": "stdout",
     "output_type": "stream",
     "text": [
      "Processed record 190/598 in 9.75 seconds.\n",
      "decomposition:  {'q1': 'Is Rusty Nail a cocktail?', 'q2': 'Is French Connection also a cocktail?'}\n"
     ]
    },
    {
     "name": "stderr",
     "output_type": "stream",
     "text": [
      " 32%|███▏      | 191/598 [16:40<50:52,  7.50s/it]"
     ]
    },
    {
     "name": "stdout",
     "output_type": "stream",
     "text": [
      "Processed record 191/598 in 6.51 seconds.\n",
      "decomposition:  {'q1': 'Who fought at WEC 38?', 'q2': 'Among those fighters, which one is commonly referred to as the \"busiest\" fighter in the UFC?'}\n"
     ]
    },
    {
     "name": "stderr",
     "output_type": "stream",
     "text": [
      " 32%|███▏      | 192/598 [16:47<49:42,  7.35s/it]"
     ]
    },
    {
     "name": "stdout",
     "output_type": "stream",
     "text": [
      "Processed record 192/598 in 6.98 seconds.\n",
      "decomposition:  {'q1': 'Who is the Argentine footballer that won the Crystal Palace Football Club Player of the Year award four times?', 'q2': 'What position does this Argentine footballer play in for Crystal Palace?'}\n"
     ]
    },
    {
     "name": "stderr",
     "output_type": "stream",
     "text": [
      " 32%|███▏      | 193/598 [16:54<49:45,  7.37s/it]"
     ]
    },
    {
     "name": "stdout",
     "output_type": "stream",
     "text": [
      "Processed record 193/598 in 7.43 seconds.\n",
      "decomposition:  {'q1': 'Which region of Ghana shares a boundary with the Amansie East District?', 'q2': 'How many districts are there in that particular region?'}\n"
     ]
    },
    {
     "name": "stderr",
     "output_type": "stream",
     "text": [
      " 32%|███▏      | 194/598 [17:02<49:25,  7.34s/it]"
     ]
    },
    {
     "name": "stdout",
     "output_type": "stream",
     "text": [
      "Processed record 194/598 in 7.27 seconds.\n",
      "decomposition:  {'q1': 'When was the film released?', 'q2': 'In which film did Jay Chou play the role of Kato, and what year was it?'}\n"
     ]
    },
    {
     "name": "stderr",
     "output_type": "stream",
     "text": [
      " 33%|███▎      | 195/598 [17:10<51:42,  7.70s/it]"
     ]
    },
    {
     "name": "stdout",
     "output_type": "stream",
     "text": [
      "Processed record 195/598 in 8.53 seconds.\n",
      "decomposition:  {'q1': 'Who is the man that recruited Peter Brown for their management team?', 'q2': 'Which band did this man discover?'}\n"
     ]
    },
    {
     "name": "stderr",
     "output_type": "stream",
     "text": [
      " 33%|███▎      | 196/598 [17:17<50:19,  7.51s/it]"
     ]
    },
    {
     "name": "stdout",
     "output_type": "stream",
     "text": [
      "Processed record 196/598 in 7.07 seconds.\n",
      "decomposition:  {'q1': 'Who is the man that used the pen name \"Harun Yahya\"?', 'q2': 'In what year was he born?'}\n"
     ]
    },
    {
     "name": "stderr",
     "output_type": "stream",
     "text": [
      " 33%|███▎      | 197/598 [17:25<50:19,  7.53s/it]"
     ]
    },
    {
     "name": "stdout",
     "output_type": "stream",
     "text": [
      "Processed record 197/598 in 7.57 seconds.\n",
      "decomposition:  {'q1': 'What type of animal are the Koolie and the Sakhalin Husky breeds of?', 'q2': 'What specific breed or category of that animal do the Koolie and the Sakhalin Husky fall under?'}\n"
     ]
    },
    {
     "name": "stderr",
     "output_type": "stream",
     "text": [
      " 33%|███▎      | 198/598 [17:33<50:32,  7.58s/it]"
     ]
    },
    {
     "name": "stdout",
     "output_type": "stream",
     "text": [
      "Processed record 198/598 in 7.70 seconds.\n",
      "decomposition:  {'q1': 'Who are Ronnie Dunn and Jane Relf?', 'q2': 'What is something that they both do?'}\n"
     ]
    },
    {
     "name": "stderr",
     "output_type": "stream",
     "text": [
      " 33%|███▎      | 199/598 [17:40<50:29,  7.59s/it]"
     ]
    },
    {
     "name": "stdout",
     "output_type": "stream",
     "text": [
      "Processed record 199/598 in 7.62 seconds.\n",
      "decomposition:  {'q1': 'Who designed the original hotel and casino on this site?', 'q2': 'What is the ownership structure of the resort, luxury hotel, and casino?'}\n"
     ]
    },
    {
     "name": "stderr",
     "output_type": "stream",
     "text": [
      " 33%|███▎      | 200/598 [17:47<49:42,  7.49s/it]"
     ]
    },
    {
     "name": "stdout",
     "output_type": "stream",
     "text": [
      "Processed record 200/598 in 7.25 seconds.\n",
      "\n",
      "--- Saved batch up to record 200\n",
      "Average time for last 100 records: 7.32 seconds\n",
      "\n",
      "decomposition:  {'q1': 'Who is Henry Ramsden Bramley?', 'q2': 'Which song by this person is listed as number 394 in the Roxburghe Collection?'}\n"
     ]
    },
    {
     "name": "stderr",
     "output_type": "stream",
     "text": [
      " 34%|███▎      | 201/598 [17:55<50:27,  7.62s/it]"
     ]
    },
    {
     "name": "stdout",
     "output_type": "stream",
     "text": [
      "Processed record 201/598 in 7.93 seconds.\n",
      "decomposition:  {'q1': 'Who wrote \"Washing of the Spears\"?', 'q2': 'Which historical figure is associated with Shaka?'}\n"
     ]
    },
    {
     "name": "stderr",
     "output_type": "stream",
     "text": [
      " 34%|███▍      | 202/598 [18:03<49:53,  7.56s/it]"
     ]
    },
    {
     "name": "stdout",
     "output_type": "stream",
     "text": [
      "Processed record 202/598 in 7.40 seconds.\n",
      "decomposition:  {'q1': 'Who is the American professional boxer?', 'q2': 'Is this person also an activist, and if so, who is it?'}\n"
     ]
    },
    {
     "name": "stderr",
     "output_type": "stream",
     "text": [
      " 34%|███▍      | 203/598 [18:09<48:01,  7.30s/it]"
     ]
    },
    {
     "name": "stdout",
     "output_type": "stream",
     "text": [
      "Processed record 203/598 in 6.68 seconds.\n",
      "decomposition:  {'q1': 'Who is the Horne in \"Round the Horne\"?', 'q2': 'Which English actor did that person co-star with?'}\n"
     ]
    },
    {
     "name": "stderr",
     "output_type": "stream",
     "text": [
      " 34%|███▍      | 204/598 [18:16<46:50,  7.13s/it]"
     ]
    },
    {
     "name": "stdout",
     "output_type": "stream",
     "text": [
      "Processed record 204/598 in 6.76 seconds.\n",
      "decomposition:  {'q1': 'What is the category being compared (i.e., what type of things are we comparing)?', 'q2': 'How many species do Evolvulus and Centradenia have, respectively?'}\n"
     ]
    },
    {
     "name": "stderr",
     "output_type": "stream",
     "text": [
      " 34%|███▍      | 205/598 [18:22<45:02,  6.88s/it]"
     ]
    },
    {
     "name": "stdout",
     "output_type": "stream",
     "text": [
      "Processed record 205/598 in 6.27 seconds.\n",
      "decomposition:  {'q1': 'Is \"Working for a Nuclear Free City\" a musical group?', 'q2': 'If so, is that same group also known as \"The Innocence Mission\"?'}\n"
     ]
    },
    {
     "name": "stderr",
     "output_type": "stream",
     "text": [
      " 34%|███▍      | 206/598 [18:29<43:45,  6.70s/it]"
     ]
    },
    {
     "name": "stdout",
     "output_type": "stream",
     "text": [
      "Processed record 206/598 in 6.28 seconds.\n",
      "decomposition:  {'q1': 'Which movie features a young wizard?', 'q2': 'In this movie, what is the nature of the danger and opposition faced by the young wizard?'}\n"
     ]
    },
    {
     "name": "stderr",
     "output_type": "stream",
     "text": [
      " 35%|███▍      | 207/598 [18:36<44:36,  6.85s/it]"
     ]
    },
    {
     "name": "stdout",
     "output_type": "stream",
     "text": [
      "Processed record 207/598 in 7.19 seconds.\n",
      "decomposition:  {'q1': 'What is the location where the Rathausmann is situated?', 'q2': 'Was the city hall at that location constructed over what years?'}\n"
     ]
    },
    {
     "name": "stderr",
     "output_type": "stream",
     "text": [
      " 35%|███▍      | 208/598 [18:44<46:43,  7.19s/it]"
     ]
    },
    {
     "name": "stdout",
     "output_type": "stream",
     "text": [
      "Processed record 208/598 in 7.99 seconds.\n",
      "decomposition:  {'q1': 'What 2010 movie did Paul Warren star in?', 'q2': 'Who else starred alongside him in that movie (Liam Neeson, Ralph Fiennes, or Sam Worthington)?'}\n"
     ]
    },
    {
     "name": "stderr",
     "output_type": "stream",
     "text": [
      " 35%|███▍      | 209/598 [18:52<47:45,  7.37s/it]"
     ]
    },
    {
     "name": "stdout",
     "output_type": "stream",
     "text": [
      "Processed record 209/598 in 7.78 seconds.\n",
      "decomposition:  {'q1': 'What is the co-educational, non-profit liberal arts college that James L. Morison served as head coach at?', 'q2': \"At what institution's curriculum is most of the curriculum based on and centered on the teaching of western heritage as a product of Greco-Roman culture and Judeo-Christian tradition?\"}\n"
     ]
    },
    {
     "name": "stderr",
     "output_type": "stream",
     "text": [
      " 35%|███▌      | 210/598 [19:03<54:51,  8.48s/it]"
     ]
    },
    {
     "name": "stdout",
     "output_type": "stream",
     "text": [
      "Processed record 210/598 in 11.09 seconds.\n",
      "decomposition:  {'q1': 'Who is Ian Young?', 'q2': 'What did this group deny the existence of?'}\n"
     ]
    },
    {
     "name": "stderr",
     "output_type": "stream",
     "text": [
      " 35%|███▌      | 211/598 [19:10<52:53,  8.20s/it]"
     ]
    },
    {
     "name": "stdout",
     "output_type": "stream",
     "text": [
      "Processed record 211/598 in 7.54 seconds.\n",
      "decomposition:  {'q1': 'Which film was directed by Wong Kar-wai?', 'q2': 'Which film won most awards at the 24th Hong Kong Film Awards?'}\n"
     ]
    },
    {
     "name": "stderr",
     "output_type": "stream",
     "text": [
      " 35%|███▌      | 212/598 [19:17<48:56,  7.61s/it]"
     ]
    },
    {
     "name": "stdout",
     "output_type": "stream",
     "text": [
      "Processed record 212/598 in 6.22 seconds.\n",
      "decomposition:  {'q1': 'Who is Steve Kokoska?', 'q2': 'Is Melbourne Knights FC a team from that state?'}\n"
     ]
    },
    {
     "name": "stderr",
     "output_type": "stream",
     "text": [
      " 36%|███▌      | 213/598 [19:23<46:00,  7.17s/it]"
     ]
    },
    {
     "name": "stdout",
     "output_type": "stream",
     "text": [
      "Processed record 213/598 in 6.15 seconds.\n",
      "decomposition:  {'q1': 'Was Brentwood Cathedral or Bradford Cathedral the parish church of St Peter at some point in its history?', 'q2': 'For how long was this cathedral known as the parish church of St Peter, and did it change throughout its history?'}\n"
     ]
    },
    {
     "name": "stderr",
     "output_type": "stream",
     "text": [
      " 36%|███▌      | 214/598 [19:31<47:07,  7.36s/it]"
     ]
    },
    {
     "name": "stdout",
     "output_type": "stream",
     "text": [
      "Processed record 214/598 in 7.81 seconds.\n",
      "decomposition:  {'q1': 'Which American comic-book publisher is John Higgins known to have worked with?', 'q2': 'For which specific limited series published by that publisher did John Higgins serve as a colorist?'}\n"
     ]
    },
    {
     "name": "stderr",
     "output_type": "stream",
     "text": [
      " 36%|███▌      | 215/598 [19:37<45:52,  7.19s/it]"
     ]
    },
    {
     "name": "stdout",
     "output_type": "stream",
     "text": [
      "Processed record 215/598 in 6.77 seconds.\n",
      "decomposition:  {'q1': 'Is \"Cake\" a song title by an American artist?', 'q2': 'Is \"The Darling Buds\" also a song title by an American artist?'}\n"
     ]
    },
    {
     "name": "stderr",
     "output_type": "stream",
     "text": [
      " 36%|███▌      | 216/598 [19:44<45:01,  7.07s/it]"
     ]
    },
    {
     "name": "stdout",
     "output_type": "stream",
     "text": [
      "Processed record 216/598 in 6.80 seconds.\n",
      "decomposition:  {'q1': 'Who is the German YouTube personality, actor, and comedian?', 'q2': 'In which films did this person appear (specifically, Pitch Perfect 2 and Buddymoon)?'}\n"
     ]
    },
    {
     "name": "stderr",
     "output_type": "stream",
     "text": [
      " 36%|███▋      | 217/598 [19:51<44:19,  6.98s/it]"
     ]
    },
    {
     "name": "stdout",
     "output_type": "stream",
     "text": [
      "Processed record 217/598 in 6.77 seconds.\n",
      "decomposition:  {'q1': 'What director was recognized at the 13th César Awards?', 'q2': 'Which film directed by this person won the award for Best Film?'}\n"
     ]
    },
    {
     "name": "stderr",
     "output_type": "stream",
     "text": [
      " 36%|███▋      | 218/598 [19:58<44:31,  7.03s/it]"
     ]
    },
    {
     "name": "stdout",
     "output_type": "stream",
     "text": [
      "Processed record 218/598 in 7.14 seconds.\n",
      "decomposition:  {'q1': 'Which Roman-British province was inhabited by Celtics, Britons, Belgae, and Picts?', 'q2': 'Which province has the best-preserved Roman architecture north of the Alps?'}\n"
     ]
    },
    {
     "name": "stderr",
     "output_type": "stream",
     "text": [
      " 37%|███▋      | 219/598 [20:05<44:20,  7.02s/it]"
     ]
    },
    {
     "name": "stdout",
     "output_type": "stream",
     "text": [
      "Processed record 219/598 in 6.99 seconds.\n",
      "decomposition:  {'q1': 'Which car was first produced by Porsche in 1948?', 'q2': 'Did Nick Faure achieve fame by racing that car?'}\n"
     ]
    },
    {
     "name": "stderr",
     "output_type": "stream",
     "text": [
      " 37%|███▋      | 220/598 [20:12<43:53,  6.97s/it]"
     ]
    },
    {
     "name": "stdout",
     "output_type": "stream",
     "text": [
      "Processed record 220/598 in 6.85 seconds.\n",
      "decomposition:  {'q1': 'Who is the Soviet revolutionary whose death shortly preceded The Norilsk uprising?', 'q2': 'Where was this Soviet revolutionary born?'}\n"
     ]
    },
    {
     "name": "stderr",
     "output_type": "stream",
     "text": [
      " 37%|███▋      | 221/598 [20:20<45:45,  7.28s/it]"
     ]
    },
    {
     "name": "stdout",
     "output_type": "stream",
     "text": [
      "Processed record 221/598 in 8.02 seconds.\n",
      "decomposition:  {'q1': 'Which group is known for having a song called \"Work from Home\"?', 'q2': 'In which city is this group based?'}\n"
     ]
    },
    {
     "name": "stderr",
     "output_type": "stream",
     "text": [
      " 37%|███▋      | 222/598 [20:26<44:03,  7.03s/it]"
     ]
    },
    {
     "name": "stdout",
     "output_type": "stream",
     "text": [
      "Processed record 222/598 in 6.44 seconds.\n",
      "decomposition:  {'q1': 'Who is born on June 30, 1983?', 'q2': 'Who fronted the second series of the British reality television series Hair?'}\n"
     ]
    },
    {
     "name": "stderr",
     "output_type": "stream",
     "text": [
      " 37%|███▋      | 223/598 [20:33<43:10,  6.91s/it]"
     ]
    },
    {
     "name": "stdout",
     "output_type": "stream",
     "text": [
      "Processed record 223/598 in 6.63 seconds.\n",
      "decomposition:  {'q1': 'What is the title of the horror movie that Stephanie Reaves starred in as Norma Bates?', 'q2': 'For which studio was the 1998 horror remake of this movie directed?'}\n"
     ]
    },
    {
     "name": "stderr",
     "output_type": "stream",
     "text": [
      " 37%|███▋      | 224/598 [20:40<43:19,  6.95s/it]"
     ]
    },
    {
     "name": "stdout",
     "output_type": "stream",
     "text": [
      "Processed record 224/598 in 7.04 seconds.\n",
      "decomposition:  {'q1': 'Which players were part of the 1995 Steelers Super Bowl XXX roster and the Steelers roster that defeated the Seahawks in 2006?', 'q2': 'Who is the cousin of one of these shared players?'}\n"
     ]
    },
    {
     "name": "stderr",
     "output_type": "stream",
     "text": [
      " 38%|███▊      | 225/598 [20:50<47:59,  7.72s/it]"
     ]
    },
    {
     "name": "stdout",
     "output_type": "stream",
     "text": [
      "Processed record 225/598 in 9.52 seconds.\n",
      "decomposition:  {'q1': 'What kind of suburb is Tonsley Park located in?', 'q2': 'How many inhabitants does this type of suburb have?'}\n"
     ]
    },
    {
     "name": "stderr",
     "output_type": "stream",
     "text": [
      " 38%|███▊      | 226/598 [20:56<46:18,  7.47s/it]"
     ]
    },
    {
     "name": "stdout",
     "output_type": "stream",
     "text": [
      "Processed record 226/598 in 6.88 seconds.\n",
      "decomposition:  {'q1': 'When was Tim Slade driving a car for Brad Jones Racing?', 'q2': 'Has the car he drove during that time been produced?'}\n"
     ]
    },
    {
     "name": "stderr",
     "output_type": "stream",
     "text": [
      " 38%|███▊      | 227/598 [21:03<44:12,  7.15s/it]"
     ]
    },
    {
     "name": "stdout",
     "output_type": "stream",
     "text": [
      "Processed record 227/598 in 6.40 seconds.\n",
      "decomposition:  {'q1': 'Is Emily Haines a member of a band?', 'q2': 'Is Tyler Joseph a member of that same band?'}\n"
     ]
    },
    {
     "name": "stderr",
     "output_type": "stream",
     "text": [
      " 38%|███▊      | 228/598 [21:10<43:57,  7.13s/it]"
     ]
    },
    {
     "name": "stdout",
     "output_type": "stream",
     "text": [
      "Processed record 228/598 in 7.08 seconds.\n",
      "decomposition:  {'q1': 'What is the name of the orchestra being referred to?', 'q2': 'What street is the primary venue of that specific orchestra?'}\n"
     ]
    },
    {
     "name": "stderr",
     "output_type": "stream",
     "text": [
      " 38%|███▊      | 229/598 [21:16<42:03,  6.84s/it]"
     ]
    },
    {
     "name": "stdout",
     "output_type": "stream",
     "text": [
      "Processed record 229/598 in 6.16 seconds.\n",
      "decomposition:  {'q1': 'Who is Brendon Small and who is Paul Day?', 'q2': 'Which one of them has more credits to their name?'}\n"
     ]
    },
    {
     "name": "stderr",
     "output_type": "stream",
     "text": [
      " 38%|███▊      | 230/598 [21:22<40:52,  6.67s/it]"
     ]
    },
    {
     "name": "stdout",
     "output_type": "stream",
     "text": [
      "Processed record 230/598 in 6.26 seconds.\n",
      "decomposition:  {'q1': 'Did Pedro Sienna direct movies?', 'q2': 'Did Irving Cummings direct movies?'}\n"
     ]
    },
    {
     "name": "stderr",
     "output_type": "stream",
     "text": [
      " 39%|███▊      | 231/598 [21:29<39:59,  6.54s/it]"
     ]
    },
    {
     "name": "stdout",
     "output_type": "stream",
     "text": [
      "Processed record 231/598 in 6.24 seconds.\n",
      "decomposition:  {'q1': 'What is the location being referred to (i.e., what state)?', 'q2': 'On Long Island, which state highway ends at Wading River?'}\n"
     ]
    },
    {
     "name": "stderr",
     "output_type": "stream",
     "text": [
      " 39%|███▉      | 232/598 [21:36<40:38,  6.66s/it]"
     ]
    },
    {
     "name": "stdout",
     "output_type": "stream",
     "text": [
      "Processed record 232/598 in 6.95 seconds.\n",
      "decomposition:  {'q1': 'Which company does Shanta Gold have a relationship with that involves banking services?', 'q2': 'Is this company a Swiss financial institution?'}\n"
     ]
    },
    {
     "name": "stderr",
     "output_type": "stream",
     "text": [
      " 39%|███▉      | 233/598 [21:42<40:23,  6.64s/it]"
     ]
    },
    {
     "name": "stdout",
     "output_type": "stream",
     "text": [
      "Processed record 233/598 in 6.59 seconds.\n",
      "decomposition:  {'q1': 'What are La Roue and Napoleon?', 'q2': 'Who directed those silent films?'}\n"
     ]
    },
    {
     "name": "stderr",
     "output_type": "stream",
     "text": [
      " 39%|███▉      | 234/598 [21:49<40:24,  6.66s/it]"
     ]
    },
    {
     "name": "stdout",
     "output_type": "stream",
     "text": [
      "Processed record 234/598 in 6.71 seconds.\n",
      "decomposition:  {'q1': 'Who is Aglaia Mortcheva?', 'q2': 'Who wrote the Flash cartoon series that features a character named Aglaia Mortcheva as Vendetta?'}\n"
     ]
    },
    {
     "name": "stderr",
     "output_type": "stream",
     "text": [
      " 39%|███▉      | 235/598 [21:58<45:07,  7.46s/it]"
     ]
    },
    {
     "name": "stdout",
     "output_type": "stream",
     "text": [
      "Processed record 235/598 in 9.32 seconds.\n",
      "decomposition:  {'q1': 'Is Giorgio Simonelli a director?', 'q2': 'Is Peter Weir also a director?'}\n"
     ]
    },
    {
     "name": "stderr",
     "output_type": "stream",
     "text": [
      " 39%|███▉      | 236/598 [22:05<43:34,  7.22s/it]"
     ]
    },
    {
     "name": "stdout",
     "output_type": "stream",
     "text": [
      "Processed record 236/598 in 6.67 seconds.\n",
      "decomposition:  {'q1': \"Who directed the American disaster-suspense film that was Craig Wasson's film debut?\", 'q2': 'What kind of film (American disaster-suspense) is being referred to in this context?'}\n"
     ]
    },
    {
     "name": "stderr",
     "output_type": "stream",
     "text": [
      " 40%|███▉      | 237/598 [22:12<42:37,  7.08s/it]"
     ]
    },
    {
     "name": "stdout",
     "output_type": "stream",
     "text": [
      "Processed record 237/598 in 6.76 seconds.\n",
      "decomposition:  {'q1': 'What is the criteria for determining a game as \"attainable\" for someone to play?', 'q2': 'How do the games Medici and Break the Safe differ in terms of attainability?'}\n"
     ]
    },
    {
     "name": "stderr",
     "output_type": "stream",
     "text": [
      " 40%|███▉      | 238/598 [22:19<42:53,  7.15s/it]"
     ]
    },
    {
     "name": "stdout",
     "output_type": "stream",
     "text": [
      "Processed record 238/598 in 7.30 seconds.\n",
      "decomposition:  {'q1': 'Which type of folk songs is \"Cotton Eye Joe\" inspired by?', 'q2': 'Which part of the US are these folk songs mostly associated with today?'}\n"
     ]
    },
    {
     "name": "stderr",
     "output_type": "stream",
     "text": [
      " 40%|███▉      | 239/598 [22:26<42:52,  7.17s/it]"
     ]
    },
    {
     "name": "stdout",
     "output_type": "stream",
     "text": [
      "Processed record 239/598 in 7.21 seconds.\n",
      "decomposition:  {'q1': 'Who is the American actress?', 'q2': 'What are some notable films she has appeared in?'}\n"
     ]
    },
    {
     "name": "stderr",
     "output_type": "stream",
     "text": [
      " 40%|████      | 240/598 [22:35<45:16,  7.59s/it]"
     ]
    },
    {
     "name": "stdout",
     "output_type": "stream",
     "text": [
      "Processed record 240/598 in 8.57 seconds.\n",
      "decomposition:  {'q1': 'What is the name of the corporation that created Speedpass?', 'q2': 'In which California city is the headquarters of the corporation located?'}\n"
     ]
    },
    {
     "name": "stderr",
     "output_type": "stream",
     "text": [
      " 40%|████      | 241/598 [22:41<43:35,  7.33s/it]"
     ]
    },
    {
     "name": "stdout",
     "output_type": "stream",
     "text": [
      "Processed record 241/598 in 6.72 seconds.\n",
      "decomposition:  {'q1': 'Which magazine was illustrated by Wallace Hester?', 'q2': 'Did this magazine cease to publish, or when did it stop publishing?'}\n"
     ]
    },
    {
     "name": "stderr",
     "output_type": "stream",
     "text": [
      " 40%|████      | 242/598 [22:49<43:44,  7.37s/it]"
     ]
    },
    {
     "name": "stdout",
     "output_type": "stream",
     "text": [
      "Processed record 242/598 in 7.48 seconds.\n",
      "decomposition:  {'q1': 'Who is the actress that stars in the ABC sitcom \"American Housewife\"?', 'q2': 'In which year was this actress born?'}\n"
     ]
    },
    {
     "name": "stderr",
     "output_type": "stream",
     "text": [
      " 41%|████      | 243/598 [22:57<44:35,  7.54s/it]"
     ]
    },
    {
     "name": "stdout",
     "output_type": "stream",
     "text": [
      "Processed record 243/598 in 7.92 seconds.\n",
      "decomposition:  {'q1': 'Which city in Cochise County, Arizona is known for having historic significance?', 'q2': 'Who were some of the most famous inhabitants of that city?'}\n"
     ]
    },
    {
     "name": "stderr",
     "output_type": "stream",
     "text": [
      " 41%|████      | 244/598 [23:03<42:39,  7.23s/it]"
     ]
    },
    {
     "name": "stdout",
     "output_type": "stream",
     "text": [
      "Processed record 244/598 in 6.52 seconds.\n",
      "decomposition:  {'q1': 'Who is the Swiss airline that operates scheduled services for other airlines and charter flights for corporations?', 'q2': 'Is Lufthansa one of the airlines this Swiss airline operates flights on behalf of, along with others mentioned in the question?'}\n"
     ]
    },
    {
     "name": "stderr",
     "output_type": "stream",
     "text": [
      " 41%|████      | 245/598 [23:11<42:37,  7.24s/it]"
     ]
    },
    {
     "name": "stdout",
     "output_type": "stream",
     "text": [
      "Processed record 245/598 in 7.27 seconds.\n",
      "decomposition:  {'q1': 'What is the town that is near Butcher Hills?', 'q2': 'What was the population of that town in 2010?'}\n"
     ]
    },
    {
     "name": "stderr",
     "output_type": "stream",
     "text": [
      " 41%|████      | 246/598 [23:18<42:05,  7.18s/it]"
     ]
    },
    {
     "name": "stdout",
     "output_type": "stream",
     "text": [
      "Processed record 246/598 in 7.01 seconds.\n",
      "decomposition:  {'q1': 'Which country music genre is known as \"Red Dirt\"?', 'q2': 'Which country group from Palestine, Texas, specializes in playing this genre?'}\n"
     ]
    },
    {
     "name": "stderr",
     "output_type": "stream",
     "text": [
      " 41%|████▏     | 247/598 [23:24<40:33,  6.93s/it]"
     ]
    },
    {
     "name": "stdout",
     "output_type": "stream",
     "text": [
      "Processed record 247/598 in 6.36 seconds.\n",
      "decomposition:  {'q1': 'Who portrayed Mike Hammer in the film \"Kiss Me Deadly\"?', 'q2': 'Who was the director of the 1952 musical drama film starring this actor?'}\n"
     ]
    },
    {
     "name": "stderr",
     "output_type": "stream",
     "text": [
      " 41%|████▏     | 248/598 [23:32<43:03,  7.38s/it]"
     ]
    },
    {
     "name": "stdout",
     "output_type": "stream",
     "text": [
      "Processed record 248/598 in 8.43 seconds.\n",
      "decomposition:  {'q1': 'What is the definition of \"broader\" market in this context?', 'q2': 'Which pizza company (Pizza Corner or Round Table Pizza) does the market size exceed?'}\n"
     ]
    },
    {
     "name": "stderr",
     "output_type": "stream",
     "text": [
      " 42%|████▏     | 249/598 [23:39<41:23,  7.12s/it]"
     ]
    },
    {
     "name": "stdout",
     "output_type": "stream",
     "text": [
      "Processed record 249/598 in 6.50 seconds.\n",
      "decomposition:  {'q1': \"Who is Vano's uncle?\", 'q2': 'What did he design?'}\n"
     ]
    },
    {
     "name": "stderr",
     "output_type": "stream",
     "text": [
      " 42%|████▏     | 250/598 [23:45<39:17,  6.77s/it]"
     ]
    },
    {
     "name": "stdout",
     "output_type": "stream",
     "text": [
      "Processed record 250/598 in 5.97 seconds.\n",
      "decomposition:  {'q1': 'In what genre of music is the song \"Constant Conversations\"?', 'q2': 'What is the birth year of the musician who wrote and produced this song?'}\n"
     ]
    },
    {
     "name": "stderr",
     "output_type": "stream",
     "text": [
      " 42%|████▏     | 251/598 [23:51<38:09,  6.60s/it]"
     ]
    },
    {
     "name": "stdout",
     "output_type": "stream",
     "text": [
      "Processed record 251/598 in 6.18 seconds.\n",
      "decomposition:  {'q1': 'What is the type of entity that Sanford H. Calhoun High School is part of?', 'q2': 'Which geographic area does this district cover?'}\n"
     ]
    },
    {
     "name": "stderr",
     "output_type": "stream",
     "text": [
      " 42%|████▏     | 252/598 [23:58<38:21,  6.65s/it]"
     ]
    },
    {
     "name": "stdout",
     "output_type": "stream",
     "text": [
      "Processed record 252/598 in 6.78 seconds.\n",
      "decomposition:  {'q1': 'What is the name of the show from which the CD \"Dora\\'s Party Favorites\" was created?', 'q2': 'Who created that show?'}\n"
     ]
    },
    {
     "name": "stderr",
     "output_type": "stream",
     "text": [
      " 42%|████▏     | 253/598 [24:05<39:44,  6.91s/it]"
     ]
    },
    {
     "name": "stdout",
     "output_type": "stream",
     "text": [
      "Processed record 253/598 in 7.51 seconds.\n",
      "decomposition:  {'q1': 'What American actor starred in the 2004 biographical film Ray?', 'q2': 'Who did this actor win an Academy Award for portraying?'}\n"
     ]
    },
    {
     "name": "stderr",
     "output_type": "stream",
     "text": [
      " 42%|████▏     | 254/598 [24:12<39:32,  6.90s/it]"
     ]
    },
    {
     "name": "stdout",
     "output_type": "stream",
     "text": [
      "Processed record 254/598 in 6.87 seconds.\n",
      "decomposition:  {'q1': 'Who is the American rapper?', 'q2': 'Did that rapper write the song \"3005\"?'}\n"
     ]
    },
    {
     "name": "stderr",
     "output_type": "stream",
     "text": [
      " 43%|████▎     | 255/598 [24:19<38:41,  6.77s/it]"
     ]
    },
    {
     "name": "stdout",
     "output_type": "stream",
     "text": [
      "Processed record 255/598 in 6.46 seconds.\n",
      "decomposition:  {'q1': 'Who is the star of the movie \"I Kill Giants\"?', 'q2': 'What is the title of the post-apocalyptic science fiction horror film that this actor also played in?'}\n"
     ]
    },
    {
     "name": "stderr",
     "output_type": "stream",
     "text": [
      " 43%|████▎     | 256/598 [24:26<40:23,  7.09s/it]"
     ]
    },
    {
     "name": "stdout",
     "output_type": "stream",
     "text": [
      "Processed record 256/598 in 7.83 seconds.\n",
      "decomposition:  {'q1': 'What is the name of the theater where \"In Darfur\" was read in the summer of 2007?', 'q2': 'How many seats does this specific theater have?'}\n"
     ]
    },
    {
     "name": "stderr",
     "output_type": "stream",
     "text": [
      " 43%|████▎     | 257/598 [24:34<40:36,  7.14s/it]"
     ]
    },
    {
     "name": "stdout",
     "output_type": "stream",
     "text": [
      "Processed record 257/598 in 7.28 seconds.\n",
      "decomposition:  {'q1': 'Which baseball team was established in 1883?', 'q2': 'In which city and state does this team play?'}\n"
     ]
    },
    {
     "name": "stderr",
     "output_type": "stream",
     "text": [
      " 43%|████▎     | 258/598 [24:41<39:54,  7.04s/it]"
     ]
    },
    {
     "name": "stdout",
     "output_type": "stream",
     "text": [
      "Processed record 258/598 in 6.80 seconds.\n",
      "decomposition:  {'q1': 'Who is K. K. Chen?', 'q2': 'At which global company did K. K. Chen head pharmacological research for 34 years?'}\n"
     ]
    },
    {
     "name": "stderr",
     "output_type": "stream",
     "text": [
      " 43%|████▎     | 259/598 [24:48<40:14,  7.12s/it]"
     ]
    },
    {
     "name": "stdout",
     "output_type": "stream",
     "text": [
      "Processed record 259/598 in 7.31 seconds.\n",
      "decomposition:  {'q1': 'Which team beat the U.S. national soccer team on February 5, 1961?', 'q2': 'Who oversees this team?'}\n"
     ]
    },
    {
     "name": "stderr",
     "output_type": "stream",
     "text": [
      " 43%|████▎     | 260/598 [24:56<41:32,  7.37s/it]"
     ]
    },
    {
     "name": "stdout",
     "output_type": "stream",
     "text": [
      "Processed record 260/598 in 7.96 seconds.\n",
      "decomposition:  {'q1': 'What group does the player serve as a special assistant to the executive director of?', 'q2': 'Who was elected to the Baseball Hall of Fame in 2001?'}\n"
     ]
    },
    {
     "name": "stderr",
     "output_type": "stream",
     "text": [
      " 44%|████▎     | 261/598 [25:03<40:51,  7.28s/it]"
     ]
    },
    {
     "name": "stdout",
     "output_type": "stream",
     "text": [
      "Processed record 261/598 in 7.04 seconds.\n",
      "decomposition:  {'q1': 'Who is the American Tejano and musician who released \"Living It Down\"?', 'q2': 'In what year did this artist release \"Living It Down\"?'}\n"
     ]
    },
    {
     "name": "stderr",
     "output_type": "stream",
     "text": [
      " 44%|████▍     | 262/598 [25:10<40:15,  7.19s/it]"
     ]
    },
    {
     "name": "stdout",
     "output_type": "stream",
     "text": [
      "Processed record 262/598 in 6.99 seconds.\n",
      "decomposition:  {'q1': 'Is Acantholimon and Podranea both plants?', 'q2': 'If so, what type of plant category do they share?'}\n"
     ]
    },
    {
     "name": "stderr",
     "output_type": "stream",
     "text": [
      " 44%|████▍     | 263/598 [25:17<40:32,  7.26s/it]"
     ]
    },
    {
     "name": "stdout",
     "output_type": "stream",
     "text": [
      "Processed record 263/598 in 7.43 seconds.\n",
      "decomposition:  {'q1': 'Which American space drama film features Clint Eastwood as a main character?', 'q2': 'Who is the actor that played Bret Maverick in the 1950s western comedy series \"Maverick\"?'}\n"
     ]
    },
    {
     "name": "stderr",
     "output_type": "stream",
     "text": [
      " 44%|████▍     | 264/598 [25:27<45:06,  8.10s/it]"
     ]
    },
    {
     "name": "stdout",
     "output_type": "stream",
     "text": [
      "Processed record 264/598 in 10.06 seconds.\n",
      "decomposition:  {'q1': 'Who is the person being described as having been a former science teacher?', 'q2': 'Why was this individual, who was previously a science teacher, fired?'}\n"
     ]
    },
    {
     "name": "stderr",
     "output_type": "stream",
     "text": [
      " 44%|████▍     | 265/598 [25:35<43:51,  7.90s/it]"
     ]
    },
    {
     "name": "stdout",
     "output_type": "stream",
     "text": [
      "Processed record 265/598 in 7.44 seconds.\n",
      "decomposition:  {'q1': \"What is the name of the Missouri Tigers women's basketball team?\", 'q2': 'At which indoor arena do they play their games?'}\n"
     ]
    },
    {
     "name": "stderr",
     "output_type": "stream",
     "text": [
      " 44%|████▍     | 266/598 [25:42<42:16,  7.64s/it]"
     ]
    },
    {
     "name": "stdout",
     "output_type": "stream",
     "text": [
      "Processed record 266/598 in 7.03 seconds.\n",
      "decomposition:  {'q1': 'When did Golden Gate Capital acquire something from someone?', 'q2': 'What was the thing that Golden Gate Capital acquired, and who was it acquired from?'}\n"
     ]
    },
    {
     "name": "stderr",
     "output_type": "stream",
     "text": [
      " 45%|████▍     | 267/598 [25:49<41:03,  7.44s/it]"
     ]
    },
    {
     "name": "stdout",
     "output_type": "stream",
     "text": [
      "Processed record 267/598 in 6.98 seconds.\n",
      "decomposition:  {'q1': 'Which airport is being referred to as the destination?', 'q2': 'Which airline is headquartered in Petaling Jaya, Selangor, Malaysia?'}\n"
     ]
    },
    {
     "name": "stderr",
     "output_type": "stream",
     "text": [
      " 45%|████▍     | 268/598 [25:56<39:59,  7.27s/it]"
     ]
    },
    {
     "name": "stdout",
     "output_type": "stream",
     "text": [
      "Processed record 268/598 in 6.86 seconds.\n",
      "decomposition:  {'q1': \"Which city has N'Dolo Airport?\", 'q2': 'On which river is that city situated?'}\n"
     ]
    },
    {
     "name": "stderr",
     "output_type": "stream",
     "text": [
      " 45%|████▍     | 269/598 [26:01<37:29,  6.84s/it]"
     ]
    },
    {
     "name": "stdout",
     "output_type": "stream",
     "text": [
      "Processed record 269/598 in 5.83 seconds.\n",
      "decomposition:  {'q1': 'Who stars in the Indian film \"Gunahon Ka Devta\"?', 'q2': 'How many national film awards has this actor received?'}\n"
     ]
    },
    {
     "name": "stderr",
     "output_type": "stream",
     "text": [
      " 45%|████▌     | 270/598 [26:09<38:23,  7.02s/it]"
     ]
    },
    {
     "name": "stdout",
     "output_type": "stream",
     "text": [
      "Processed record 270/598 in 7.46 seconds.\n",
      "decomposition:  {'q1': 'Who wrote Black Nativity?', 'q2': 'Where is this person from?'}\n"
     ]
    },
    {
     "name": "stderr",
     "output_type": "stream",
     "text": [
      " 45%|████▌     | 271/598 [26:16<37:54,  6.96s/it]"
     ]
    },
    {
     "name": "stdout",
     "output_type": "stream",
     "text": [
      "Processed record 271/598 in 6.80 seconds.\n",
      "decomposition:  {'q1': 'Who is Hall Bartlett and Catherine Breillat?', 'q2': 'In what type of industry do these individuals have a common connection?'}\n"
     ]
    },
    {
     "name": "stderr",
     "output_type": "stream",
     "text": [
      " 45%|████▌     | 272/598 [26:23<37:54,  6.98s/it]"
     ]
    },
    {
     "name": "stdout",
     "output_type": "stream",
     "text": [
      "Processed record 272/598 in 7.03 seconds.\n",
      "decomposition:  {'q1': 'Who is the American actor, screenwriter, director, producer, singer-songwriter, and author who sang this song from the 1971 movie \"Willy Wonka & the Chocolate Factory\"?', 'q2': 'Was the song written by British composers Leslie Bricusse and Anthony Newley?'}\n"
     ]
    },
    {
     "name": "stderr",
     "output_type": "stream",
     "text": [
      " 46%|████▌     | 273/598 [26:32<41:15,  7.62s/it]"
     ]
    },
    {
     "name": "stdout",
     "output_type": "stream",
     "text": [
      "Processed record 273/598 in 9.11 seconds.\n",
      "decomposition:  {'q1': 'Who produced the studio album?', 'q2': 'When was the studio album released?'}\n"
     ]
    },
    {
     "name": "stderr",
     "output_type": "stream",
     "text": [
      " 46%|████▌     | 274/598 [26:39<39:45,  7.36s/it]"
     ]
    },
    {
     "name": "stdout",
     "output_type": "stream",
     "text": [
      "Processed record 274/598 in 6.77 seconds.\n",
      "decomposition:  {'q1': 'Who is Ildar Isangulov?', 'q2': 'In which league does he play?'}\n"
     ]
    },
    {
     "name": "stderr",
     "output_type": "stream",
     "text": [
      " 46%|████▌     | 275/598 [26:45<38:43,  7.19s/it]"
     ]
    },
    {
     "name": "stdout",
     "output_type": "stream",
     "text": [
      "Processed record 275/598 in 6.80 seconds.\n",
      "decomposition:  {'q1': 'Is Point Pleasant Canal located in the United States?', 'q2': 'Is Sturgeon Bay Ship Canal also located in the United States?'}\n"
     ]
    },
    {
     "name": "stderr",
     "output_type": "stream",
     "text": [
      " 46%|████▌     | 276/598 [26:52<37:57,  7.07s/it]"
     ]
    },
    {
     "name": "stdout",
     "output_type": "stream",
     "text": [
      "Processed record 276/598 in 6.80 seconds.\n",
      "decomposition:  {'q1': 'Is George Stambolian a person who is associated with a specific nationality?', 'q2': 'Is David Hedison also a person who is associated with that same nationality?'}\n"
     ]
    },
    {
     "name": "stderr",
     "output_type": "stream",
     "text": [
      " 46%|████▋     | 277/598 [26:58<36:27,  6.82s/it]"
     ]
    },
    {
     "name": "stdout",
     "output_type": "stream",
     "text": [
      "Processed record 277/598 in 6.21 seconds.\n",
      "decomposition:  {'q1': 'Who is the vocalist on \"Sofi Needs a Ladder\"?', 'q2': 'What is the ethnic origin of that vocalist?'}\n"
     ]
    },
    {
     "name": "stderr",
     "output_type": "stream",
     "text": [
      " 46%|████▋     | 278/598 [27:05<36:11,  6.79s/it]"
     ]
    },
    {
     "name": "stdout",
     "output_type": "stream",
     "text": [
      "Processed record 278/598 in 6.72 seconds.\n",
      "decomposition:  {'q1': 'Who is the father of Alonso López?', 'q2': 'What title did his father defend twice before retiring?'}\n"
     ]
    },
    {
     "name": "stderr",
     "output_type": "stream",
     "text": [
      " 47%|████▋     | 279/598 [27:11<34:39,  6.52s/it]"
     ]
    },
    {
     "name": "stdout",
     "output_type": "stream",
     "text": [
      "Processed record 279/598 in 5.89 seconds.\n",
      "decomposition:  {'q1': 'Who is the singer-songwriter of Suspending Disbelief?', 'q2': 'In what year was that person born?'}\n"
     ]
    },
    {
     "name": "stderr",
     "output_type": "stream",
     "text": [
      " 47%|████▋     | 280/598 [27:17<34:00,  6.42s/it]"
     ]
    },
    {
     "name": "stdout",
     "output_type": "stream",
     "text": [
      "Processed record 280/598 in 6.18 seconds.\n",
      "decomposition:  {'q1': \"Which fictional character is Sequoia's parent?\", 'q2': 'Is this character a superheroine appearing in American comic books published by Marvel Comics?'}\n"
     ]
    },
    {
     "name": "stderr",
     "output_type": "stream",
     "text": [
      " 47%|████▋     | 281/598 [27:24<35:10,  6.66s/it]"
     ]
    },
    {
     "name": "stdout",
     "output_type": "stream",
     "text": [
      "Processed record 281/598 in 7.22 seconds.\n",
      "decomposition:  {'q1': 'What are the twin cities?', 'q2': 'Separated by what landform?'}\n"
     ]
    },
    {
     "name": "stderr",
     "output_type": "stream",
     "text": [
      " 47%|████▋     | 282/598 [27:31<34:27,  6.54s/it]"
     ]
    },
    {
     "name": "stdout",
     "output_type": "stream",
     "text": [
      "Processed record 282/598 in 6.27 seconds.\n",
      "decomposition:  {'q1': 'What is the name of the band being compared?', 'q2': 'In what year were each of these bands formed?'}\n"
     ]
    },
    {
     "name": "stderr",
     "output_type": "stream",
     "text": [
      " 47%|████▋     | 283/598 [27:37<33:41,  6.42s/it]"
     ]
    },
    {
     "name": "stdout",
     "output_type": "stream",
     "text": [
      "Processed record 283/598 in 6.13 seconds.\n",
      "decomposition:  {'q1': 'Who is the American retired professional basketball player born in 1963?', 'q2': \"What was the player's ranking in all-time scoring during the 1995-96 Utah Jazz season?\"}\n"
     ]
    },
    {
     "name": "stderr",
     "output_type": "stream",
     "text": [
      " 47%|████▋     | 284/598 [27:45<35:59,  6.88s/it]"
     ]
    },
    {
     "name": "stdout",
     "output_type": "stream",
     "text": [
      "Processed record 284/598 in 7.95 seconds.\n",
      "decomposition:  {'q1': 'What is the name of the court that Judge Shigeru Oda retired from in 2003?', 'q2': 'From which location is this court more commonly known as \"The Hague\"?'}\n"
     ]
    },
    {
     "name": "stderr",
     "output_type": "stream",
     "text": [
      " 48%|████▊     | 285/598 [27:53<37:15,  7.14s/it]"
     ]
    },
    {
     "name": "stdout",
     "output_type": "stream",
     "text": [
      "Processed record 285/598 in 7.76 seconds.\n",
      "decomposition:  {'q1': 'Which folk rock music duo is being referred to?', 'q2': 'Has Sara Lee collaborated with this duo?'}\n"
     ]
    },
    {
     "name": "stderr",
     "output_type": "stream",
     "text": [
      " 48%|████▊     | 286/598 [27:59<36:20,  6.99s/it]"
     ]
    },
    {
     "name": "stdout",
     "output_type": "stream",
     "text": [
      "Processed record 286/598 in 6.63 seconds.\n",
      "decomposition:  {'q1': 'What is the title of the 1962 film that Madeleine Sherwood starred in as Mae?', 'q2': 'Is this film based on a play by Tennessee Williams?'}\n"
     ]
    },
    {
     "name": "stderr",
     "output_type": "stream",
     "text": [
      " 48%|████▊     | 287/598 [28:07<37:35,  7.25s/it]"
     ]
    },
    {
     "name": "stdout",
     "output_type": "stream",
     "text": [
      "Processed record 287/598 in 7.87 seconds.\n",
      "decomposition:  {'q1': 'What is the occupation of the person Intiman Theatre Festival has hosted?', 'q2': 'Of what nationality is the actress and singer who holds that occupation?'}\n"
     ]
    },
    {
     "name": "stderr",
     "output_type": "stream",
     "text": [
      " 48%|████▊     | 288/598 [28:14<36:10,  7.00s/it]"
     ]
    },
    {
     "name": "stdout",
     "output_type": "stream",
     "text": [
      "Processed record 288/598 in 6.42 seconds.\n",
      "decomposition:  {'q1': 'Which band released the song \"Back to the 80\\'s\"?', 'q2': 'Approximately how many albums and singles has that band sold?'}\n"
     ]
    },
    {
     "name": "stderr",
     "output_type": "stream",
     "text": [
      " 48%|████▊     | 289/598 [28:21<36:25,  7.07s/it]"
     ]
    },
    {
     "name": "stdout",
     "output_type": "stream",
     "text": [
      "Processed record 289/598 in 7.23 seconds.\n",
      "decomposition:  {'q1': 'Was Mary Ramsey a lead singer?', 'q2': 'Was Ryan Key also a lead singer?'}\n"
     ]
    },
    {
     "name": "stderr",
     "output_type": "stream",
     "text": [
      " 48%|████▊     | 290/598 [28:27<35:47,  6.97s/it]"
     ]
    },
    {
     "name": "stdout",
     "output_type": "stream",
     "text": [
      "Processed record 290/598 in 6.74 seconds.\n",
      "decomposition:  {'q1': 'Which Supreme Court decision involved Robert Cooper Grier serving as a juror?', 'q2': 'Who was the Chief Justice behind that specific Supreme Court decision?'}\n"
     ]
    },
    {
     "name": "stderr",
     "output_type": "stream",
     "text": [
      " 49%|████▊     | 291/598 [28:35<35:54,  7.02s/it]"
     ]
    },
    {
     "name": "stdout",
     "output_type": "stream",
     "text": [
      "Processed record 291/598 in 7.13 seconds.\n",
      "decomposition:  {'q1': 'Who is the composer that Anthony Newman is recognized as a specialist on?', 'q2': 'What nationality is this composer?'}\n"
     ]
    },
    {
     "name": "stderr",
     "output_type": "stream",
     "text": [
      " 49%|████▉     | 292/598 [28:42<35:50,  7.03s/it]"
     ]
    },
    {
     "name": "stdout",
     "output_type": "stream",
     "text": [
      "Processed record 292/598 in 7.05 seconds.\n",
      "decomposition:  {'q1': 'What is the city in southwest England that The Breeze broadcasts to?', 'q2': 'As of 2017, what was the population of this city?'}\n"
     ]
    },
    {
     "name": "stderr",
     "output_type": "stream",
     "text": [
      " 49%|████▉     | 293/598 [28:48<35:02,  6.89s/it]"
     ]
    },
    {
     "name": "stdout",
     "output_type": "stream",
     "text": [
      "Processed record 293/598 in 6.58 seconds.\n",
      "decomposition:  {'q1': 'Is Howea belmoreana a plant species?', 'q2': 'Is Crinodendron the name of the family to which Howea belmoreana belongs?'}\n"
     ]
    },
    {
     "name": "stderr",
     "output_type": "stream",
     "text": [
      " 49%|████▉     | 294/598 [28:55<34:50,  6.88s/it]"
     ]
    },
    {
     "name": "stdout",
     "output_type": "stream",
     "text": [
      "Processed record 294/598 in 6.83 seconds.\n",
      "decomposition:  {'q1': 'What is the location of the dormitory that Edgeplain is?', 'q2': 'How many acres does this campus have?'}\n"
     ]
    },
    {
     "name": "stderr",
     "output_type": "stream",
     "text": [
      " 49%|████▉     | 295/598 [29:02<34:21,  6.80s/it]"
     ]
    },
    {
     "name": "stdout",
     "output_type": "stream",
     "text": [
      "Processed record 295/598 in 6.63 seconds.\n",
      "decomposition:  {'q1': 'In what film did Sally Mortemore appear as Madame Pince?', 'q2': 'Who wrote the novel that this film is based on?'}\n"
     ]
    },
    {
     "name": "stderr",
     "output_type": "stream",
     "text": [
      " 49%|████▉     | 296/598 [29:09<34:38,  6.88s/it]"
     ]
    },
    {
     "name": "stdout",
     "output_type": "stream",
     "text": [
      "Processed record 296/598 in 7.07 seconds.\n",
      "decomposition:  {'q1': 'Who is the player in the St. Louis Cardinals 2006 team?', 'q2': 'What are the nicknames of this specific player?'}\n"
     ]
    },
    {
     "name": "stderr",
     "output_type": "stream",
     "text": [
      " 50%|████▉     | 297/598 [29:17<37:14,  7.42s/it]"
     ]
    },
    {
     "name": "stdout",
     "output_type": "stream",
     "text": [
      "Processed record 297/598 in 8.68 seconds.\n",
      "decomposition:  {'q1': 'What is the name of the film that was preceded by the 1968 film?', 'q2': 'Which death metal band Mortician takes its title from a slogan used to promote this film?'}\n"
     ]
    },
    {
     "name": "stderr",
     "output_type": "stream",
     "text": [
      " 50%|████▉     | 298/598 [29:27<40:33,  8.11s/it]"
     ]
    },
    {
     "name": "stdout",
     "output_type": "stream",
     "text": [
      "Processed record 298/598 in 9.72 seconds.\n",
      "decomposition:  {'q1': 'Who wrote The Curious Republic of Gondour?', 'q2': 'What is the name of the author who also wrote The Adventures of Tom Sawyer?'}\n"
     ]
    },
    {
     "name": "stderr",
     "output_type": "stream",
     "text": [
      " 50%|█████     | 299/598 [29:33<37:09,  7.46s/it]"
     ]
    },
    {
     "name": "stdout",
     "output_type": "stream",
     "text": [
      "Processed record 299/598 in 5.93 seconds.\n",
      "decomposition:  {'q1': 'What is the location of the Denmark town being referred to?', 'q2': 'Who is the mayor of that specific town in Denmark?'}\n"
     ]
    },
    {
     "name": "stderr",
     "output_type": "stream",
     "text": [
      " 50%|█████     | 300/598 [29:40<36:32,  7.36s/it]"
     ]
    },
    {
     "name": "stdout",
     "output_type": "stream",
     "text": [
      "Processed record 300/598 in 7.13 seconds.\n",
      "\n",
      "--- Saved batch up to record 300\n",
      "Average time for last 100 records: 7.13 seconds\n",
      "\n",
      "decomposition:  {'q1': 'Who did Junya Kodo fight in the DREAM 5 Lightweight GP Final in 2008?', 'q2': 'What is the nationality of that fighter?'}\n"
     ]
    },
    {
     "name": "stderr",
     "output_type": "stream",
     "text": [
      " 50%|█████     | 301/598 [29:47<35:43,  7.22s/it]"
     ]
    },
    {
     "name": "stdout",
     "output_type": "stream",
     "text": [
      "Processed record 301/598 in 6.89 seconds.\n",
      "decomposition:  {'q1': 'Which company publishes Entertainment Weekly?', 'q2': 'Does that same company own and publish Fortune magazine?'}\n"
     ]
    },
    {
     "name": "stderr",
     "output_type": "stream",
     "text": [
      " 51%|█████     | 302/598 [29:53<34:09,  6.92s/it]"
     ]
    },
    {
     "name": "stdout",
     "output_type": "stream",
     "text": [
      "Processed record 302/598 in 6.24 seconds.\n",
      "decomposition:  {'q1': 'Which company is known for using fiber from goats in its fabrics?', 'q2': 'When and where did this company open its first shop?'}\n"
     ]
    },
    {
     "name": "stderr",
     "output_type": "stream",
     "text": [
      " 51%|█████     | 303/598 [30:00<33:55,  6.90s/it]"
     ]
    },
    {
     "name": "stdout",
     "output_type": "stream",
     "text": [
      "Processed record 303/598 in 6.84 seconds.\n",
      "decomposition:  {'q1': \"Which restaurants are being compared, Gino's Pizza and Spaghetti or Valentino's?\", 'q2': 'Which of these two restaurants was founded first?'}\n"
     ]
    },
    {
     "name": "stderr",
     "output_type": "stream",
     "text": [
      " 51%|█████     | 304/598 [30:07<34:02,  6.95s/it]"
     ]
    },
    {
     "name": "stdout",
     "output_type": "stream",
     "text": [
      "Processed record 304/598 in 7.06 seconds.\n",
      "decomposition:  {'q1': 'What conflict is being referred to as having transformed into a war in May 1948?', 'q2': 'In which month, specifically May, did this conflict transform into a war?'}\n"
     ]
    },
    {
     "name": "stderr",
     "output_type": "stream",
     "text": [
      " 51%|█████     | 305/598 [30:15<34:55,  7.15s/it]"
     ]
    },
    {
     "name": "stdout",
     "output_type": "stream",
     "text": [
      "Processed record 305/598 in 7.64 seconds.\n",
      "decomposition:  {'q1': 'Who is the Indian film director?', 'q2': 'In whose film did he win Best Director, and what was the role of the actor he starred with?'}\n"
     ]
    },
    {
     "name": "stderr",
     "output_type": "stream",
     "text": [
      " 51%|█████     | 306/598 [30:22<35:17,  7.25s/it]"
     ]
    },
    {
     "name": "stdout",
     "output_type": "stream",
     "text": [
      "Processed record 306/598 in 7.48 seconds.\n",
      "decomposition:  {'q1': 'Who are Cassadee Pope and Park So-yeon?', 'q2': 'What is their shared occupation?'}\n"
     ]
    },
    {
     "name": "stderr",
     "output_type": "stream",
     "text": [
      " 51%|█████▏    | 307/598 [30:29<34:45,  7.17s/it]"
     ]
    },
    {
     "name": "stdout",
     "output_type": "stream",
     "text": [
      "Processed record 307/598 in 6.97 seconds.\n",
      "decomposition:  {'q1': 'Who stars in Grow House?', 'q2': \"Is that person DeRay Davis's older brother?\"}\n"
     ]
    },
    {
     "name": "stderr",
     "output_type": "stream",
     "text": [
      " 52%|█████▏    | 308/598 [30:36<33:40,  6.97s/it]"
     ]
    },
    {
     "name": "stdout",
     "output_type": "stream",
     "text": [
      "Processed record 308/598 in 6.50 seconds.\n",
      "decomposition:  {'q1': 'Is Atom Smash a band?', 'q2': 'Is Gorillaz also a band?'}\n"
     ]
    },
    {
     "name": "stderr",
     "output_type": "stream",
     "text": [
      " 52%|█████▏    | 309/598 [30:43<33:25,  6.94s/it]"
     ]
    },
    {
     "name": "stdout",
     "output_type": "stream",
     "text": [
      "Processed record 309/598 in 6.87 seconds.\n",
      "decomposition:  {'q1': 'Who is the creator of the Mexican sitcom that features Ale Müller as Clara Licona?', 'q2': 'In what capacity does Ale Müller play the role of Clara Licona in this Mexican sitcom?'}\n"
     ]
    },
    {
     "name": "stderr",
     "output_type": "stream",
     "text": [
      " 52%|█████▏    | 310/598 [30:49<32:45,  6.82s/it]"
     ]
    },
    {
     "name": "stdout",
     "output_type": "stream",
     "text": [
      "Processed record 310/598 in 6.56 seconds.\n",
      "decomposition:  {'q1': 'What is the definition of \"genus\" in biology?', 'q2': 'How many species does each of Psilotum and Austrocylindropuntia have, respectively?'}\n"
     ]
    },
    {
     "name": "stderr",
     "output_type": "stream",
     "text": [
      " 52%|█████▏    | 311/598 [30:58<35:30,  7.42s/it]"
     ]
    },
    {
     "name": "stdout",
     "output_type": "stream",
     "text": [
      "Processed record 311/598 in 8.82 seconds.\n",
      "decomposition:  {'q1': 'Which organization has its headquarters in Lausanne, Switzerland?', 'q2': 'Who are the employees of this organization that founded Deportivo Thomas Bata?'}\n"
     ]
    },
    {
     "name": "stderr",
     "output_type": "stream",
     "text": [
      " 52%|█████▏    | 312/598 [31:07<37:11,  7.80s/it]"
     ]
    },
    {
     "name": "stdout",
     "output_type": "stream",
     "text": [
      "Processed record 312/598 in 8.69 seconds.\n",
      "decomposition:  {'q1': 'Which movie is known as \"The Killing Fields\"?', 'q2': 'In which country did this movie take place?'}\n"
     ]
    },
    {
     "name": "stderr",
     "output_type": "stream",
     "text": [
      " 52%|█████▏    | 313/598 [31:13<35:08,  7.40s/it]"
     ]
    },
    {
     "name": "stdout",
     "output_type": "stream",
     "text": [
      "Processed record 313/598 in 6.46 seconds.\n",
      "decomposition:  {'q1': 'Who owned Ashok Leyland?', 'q2': 'Where were their headquarters located?'}\n"
     ]
    },
    {
     "name": "stderr",
     "output_type": "stream",
     "text": [
      " 53%|█████▎    | 314/598 [31:20<33:41,  7.12s/it]"
     ]
    },
    {
     "name": "stdout",
     "output_type": "stream",
     "text": [
      "Processed record 314/598 in 6.46 seconds.\n",
      "decomposition:  {'q1': 'What was the date range of the Entry Draft that Tim Erixon was selected from?', 'q2': 'At what location in Montreal was the Entry Draft held on June 26-27, 2009?'}\n"
     ]
    },
    {
     "name": "stderr",
     "output_type": "stream",
     "text": [
      " 53%|█████▎    | 315/598 [31:28<34:33,  7.33s/it]"
     ]
    },
    {
     "name": "stdout",
     "output_type": "stream",
     "text": [
      "Processed record 315/598 in 7.82 seconds.\n",
      "decomposition:  {'q1': 'What is the title of the 1995 French black-and-white crime drama film?', 'q2': 'Who was the director of the film mentioned in the previous question?'}\n"
     ]
    },
    {
     "name": "stderr",
     "output_type": "stream",
     "text": [
      " 53%|█████▎    | 316/598 [31:35<34:08,  7.27s/it]"
     ]
    },
    {
     "name": "stdout",
     "output_type": "stream",
     "text": [
      "Processed record 316/598 in 7.12 seconds.\n",
      "decomposition:  {'q1': 'What is the Second Battle of Bull Run?', 'q2': 'Is Operation Grenade a battle that occurred before or after the Second Battle of Bull Run?'}\n"
     ]
    },
    {
     "name": "stderr",
     "output_type": "stream",
     "text": [
      " 53%|█████▎    | 317/598 [31:43<35:15,  7.53s/it]"
     ]
    },
    {
     "name": "stdout",
     "output_type": "stream",
     "text": [
      "Processed record 317/598 in 8.15 seconds.\n",
      "decomposition:  {'q1': 'Who was the Baltimore Colts defensive end?', 'q2': 'Did this defensive end join Alan Ameche in starting a fast-food restaurant chain?'}\n"
     ]
    },
    {
     "name": "stderr",
     "output_type": "stream",
     "text": [
      " 53%|█████▎    | 318/598 [31:50<34:16,  7.34s/it]"
     ]
    },
    {
     "name": "stdout",
     "output_type": "stream",
     "text": [
      "Processed record 318/598 in 6.91 seconds.\n",
      "decomposition:  {'q1': 'What enclosed shopping mall was formerly named for Benjamin Franklin?', 'q2': 'Is this mall located next to the Millbrook, Philadelphia neighborhood?'}\n"
     ]
    },
    {
     "name": "stderr",
     "output_type": "stream",
     "text": [
      " 53%|█████▎    | 319/598 [31:58<35:10,  7.57s/it]"
     ]
    },
    {
     "name": "stdout",
     "output_type": "stream",
     "text": [
      "Processed record 319/598 in 8.08 seconds.\n",
      "decomposition:  {'q1': 'What is the hotel and casino that launched Mansfield\\'s revue \"The House of Love\"?', 'q2': 'Where is this hotel and casino located?'}\n"
     ]
    },
    {
     "name": "stderr",
     "output_type": "stream",
     "text": [
      " 54%|█████▎    | 320/598 [32:06<35:21,  7.63s/it]"
     ]
    },
    {
     "name": "stdout",
     "output_type": "stream",
     "text": [
      "Processed record 320/598 in 7.79 seconds.\n",
      "decomposition:  {'q1': 'What fantasy novels did J.K. Rowling draw inspiration from to create Fantastic Beasts and her Wizarding World?', 'q2': \"How did these fantasy novels influence the creation of Fantastic Beasts and J.K. Rowling's Wizarding World?\"}\n"
     ]
    },
    {
     "name": "stderr",
     "output_type": "stream",
     "text": [
      " 54%|█████▎    | 321/598 [32:13<35:20,  7.65s/it]"
     ]
    },
    {
     "name": "stdout",
     "output_type": "stream",
     "text": [
      "Processed record 321/598 in 7.71 seconds.\n",
      "decomposition:  {'q1': 'What are the names of the two films being compared?', 'q2': 'Which of these two films was released earlier?'}\n"
     ]
    },
    {
     "name": "stderr",
     "output_type": "stream",
     "text": [
      " 54%|█████▍    | 322/598 [32:19<32:51,  7.14s/it]"
     ]
    },
    {
     "name": "stdout",
     "output_type": "stream",
     "text": [
      "Processed record 322/598 in 5.95 seconds.\n",
      "decomposition:  {'q1': 'Has Marat Safin been a tennis player?', 'q2': 'Has Jimmy Arias also been a tennis player?'}\n"
     ]
    },
    {
     "name": "stderr",
     "output_type": "stream",
     "text": [
      " 54%|█████▍    | 323/598 [32:26<32:12,  7.03s/it]"
     ]
    },
    {
     "name": "stdout",
     "output_type": "stream",
     "text": [
      "Processed record 323/598 in 6.75 seconds.\n",
      "decomposition:  {'q1': 'Which is the principal river in question located in the southwest United States and northern Mexico?', 'q2': 'In which direction did this river shift, causing the Chamizal dispute?'}\n"
     ]
    },
    {
     "name": "stderr",
     "output_type": "stream",
     "text": [
      " 54%|█████▍    | 324/598 [32:33<32:11,  7.05s/it]"
     ]
    },
    {
     "name": "stdout",
     "output_type": "stream",
     "text": [
      "Processed record 324/598 in 7.10 seconds.\n",
      "decomposition:  {'q1': 'Is Sam Peckinpah a film producer?', 'q2': 'Is Seth Holt also a film producer?'}\n"
     ]
    },
    {
     "name": "stderr",
     "output_type": "stream",
     "text": [
      " 54%|█████▍    | 325/598 [32:40<32:07,  7.06s/it]"
     ]
    },
    {
     "name": "stdout",
     "output_type": "stream",
     "text": [
      "Processed record 325/598 in 7.08 seconds.\n",
      "decomposition:  {'q1': 'Are Ray Ruffels and Peter Curtis the same person?', 'q2': 'If not, do they both play the same sport?'}\n"
     ]
    },
    {
     "name": "stderr",
     "output_type": "stream",
     "text": [
      " 55%|█████▍    | 326/598 [32:46<30:40,  6.77s/it]"
     ]
    },
    {
     "name": "stdout",
     "output_type": "stream",
     "text": [
      "Processed record 326/598 in 6.08 seconds.\n",
      "decomposition:  {'q1': 'Is Tom Johnston a male and Simone Simons a female?', 'q2': 'Which of these individuals, Tom Johnston or Simone Simons, has a birthdate recorded?'}\n"
     ]
    },
    {
     "name": "stderr",
     "output_type": "stream",
     "text": [
      " 55%|█████▍    | 327/598 [32:53<30:36,  6.78s/it]"
     ]
    },
    {
     "name": "stdout",
     "output_type": "stream",
     "text": [
      "Processed record 327/598 in 6.80 seconds.\n",
      "decomposition:  {'q1': 'Who is the conservationist who introduced a lion into the wild?', 'q2': 'Which lion was born in captivity and introduced into the wild by this conservationist?'}\n"
     ]
    },
    {
     "name": "stderr",
     "output_type": "stream",
     "text": [
      " 55%|█████▍    | 328/598 [33:00<30:18,  6.73s/it]"
     ]
    },
    {
     "name": "stdout",
     "output_type": "stream",
     "text": [
      "Processed record 328/598 in 6.63 seconds.\n",
      "decomposition:  {'q1': 'Who is the English folk singer?', 'q2': 'In what year did this singer pass away?'}\n"
     ]
    },
    {
     "name": "stderr",
     "output_type": "stream",
     "text": [
      " 55%|█████▌    | 329/598 [33:06<29:45,  6.64s/it]"
     ]
    },
    {
     "name": "stdout",
     "output_type": "stream",
     "text": [
      "Processed record 329/598 in 6.41 seconds.\n",
      "decomposition:  {'q1': 'In which country is Beidha found?', 'q2': 'What direction does this country border?'}\n"
     ]
    },
    {
     "name": "stderr",
     "output_type": "stream",
     "text": [
      " 55%|█████▌    | 330/598 [33:13<30:13,  6.77s/it]"
     ]
    },
    {
     "name": "stdout",
     "output_type": "stream",
     "text": [
      "Processed record 330/598 in 7.06 seconds.\n",
      "decomposition:  {'q1': 'Who is the subject that receives insults?', 'q2': 'Which character is responsible for delivering those insults to the young Henry V?'}\n"
     ]
    },
    {
     "name": "stderr",
     "output_type": "stream",
     "text": [
      " 55%|█████▌    | 331/598 [33:20<30:39,  6.89s/it]"
     ]
    },
    {
     "name": "stdout",
     "output_type": "stream",
     "text": [
      "Processed record 331/598 in 7.17 seconds.\n",
      "decomposition:  {'q1': 'Who is Ivor Gurney and what is his significance in a particular context?', 'q2': 'How does Wilhelm Reich compare to Ivor Gurney in terms of radicalism?'}\n"
     ]
    },
    {
     "name": "stderr",
     "output_type": "stream",
     "text": [
      " 56%|█████▌    | 332/598 [33:28<31:37,  7.13s/it]"
     ]
    },
    {
     "name": "stdout",
     "output_type": "stream",
     "text": [
      "Processed record 332/598 in 7.70 seconds.\n",
      "decomposition:  {'q1': 'Were Monsters, Inc. and The Good Dinosaur produced by Pixar animation?', 'q2': 'Were they released by Walt Disney?'}\n"
     ]
    },
    {
     "name": "stderr",
     "output_type": "stream",
     "text": [
      " 56%|█████▌    | 333/598 [33:35<30:42,  6.95s/it]"
     ]
    },
    {
     "name": "stdout",
     "output_type": "stream",
     "text": [
      "Processed record 333/598 in 6.54 seconds.\n",
      "decomposition:  {'q1': 'Who is the creator of the British soap opera where Martin Barrass plays Mike Conrad?', 'q2': 'What British soap opera features Martin Barrass playing the role of Mike Conrad?'}\n"
     ]
    },
    {
     "name": "stderr",
     "output_type": "stream",
     "text": [
      " 56%|█████▌    | 334/598 [33:42<30:41,  6.97s/it]"
     ]
    },
    {
     "name": "stdout",
     "output_type": "stream",
     "text": [
      "Processed record 334/598 in 7.02 seconds.\n",
      "decomposition:  {'q1': 'Who is the American fiddler who gained national fame at the Hodag Country Festival?', 'q2': 'On which television series did this American fiddler appear?'}\n"
     ]
    },
    {
     "name": "stderr",
     "output_type": "stream",
     "text": [
      " 56%|█████▌    | 335/598 [33:50<33:05,  7.55s/it]"
     ]
    },
    {
     "name": "stdout",
     "output_type": "stream",
     "text": [
      "Processed record 335/598 in 8.89 seconds.\n",
      "decomposition:  {'q1': 'Who was blacklisted during the McCarthy era?', 'q2': 'Which 1960 film was made by this person?'}\n"
     ]
    },
    {
     "name": "stderr",
     "output_type": "stream",
     "text": [
      " 56%|█████▌    | 336/598 [33:58<32:58,  7.55s/it]"
     ]
    },
    {
     "name": "stdout",
     "output_type": "stream",
     "text": [
      "Processed record 336/598 in 7.56 seconds.\n",
      "decomposition:  {'q1': 'Who is Silvio Meißner and what German sports club did he play for?', 'q2': 'How many times has this German sports club won the national championship?'}\n"
     ]
    },
    {
     "name": "stderr",
     "output_type": "stream",
     "text": [
      " 56%|█████▋    | 337/598 [34:05<32:05,  7.38s/it]"
     ]
    },
    {
     "name": "stdout",
     "output_type": "stream",
     "text": [
      "Processed record 337/598 in 6.96 seconds.\n",
      "decomposition:  {'q1': 'Which railroad is being referred to?', 'q2': 'When was this particular railroad opened, and what is its relation to Bates Pond (specifically, that it is located north of it)?'}\n"
     ]
    },
    {
     "name": "stderr",
     "output_type": "stream",
     "text": [
      " 57%|█████▋    | 338/598 [34:13<32:26,  7.49s/it]"
     ]
    },
    {
     "name": "stdout",
     "output_type": "stream",
     "text": [
      "Processed record 338/598 in 7.75 seconds.\n",
      "decomposition:  {'q1': 'Who is the American animator?', 'q2': 'And who is the American actor?'}\n"
     ]
    },
    {
     "name": "stderr",
     "output_type": "stream",
     "text": [
      " 57%|█████▋    | 339/598 [34:20<31:37,  7.33s/it]"
     ]
    },
    {
     "name": "stdout",
     "output_type": "stream",
     "text": [
      "Processed record 339/598 in 6.95 seconds.\n",
      "decomposition:  {'q1': 'Who was Paul Berg part of a group that won the 1980 Nobel Prize in Chemistry with?', 'q2': 'In what field was this pioneer?'}\n"
     ]
    },
    {
     "name": "stderr",
     "output_type": "stream",
     "text": [
      " 57%|█████▋    | 340/598 [34:27<30:55,  7.19s/it]"
     ]
    },
    {
     "name": "stdout",
     "output_type": "stream",
     "text": [
      "Processed record 340/598 in 6.87 seconds.\n",
      "decomposition:  {'q1': 'What kind of company did Thomas Love Peacock work for?', 'q2': 'With whom did this company primarily trade?'}\n"
     ]
    },
    {
     "name": "stderr",
     "output_type": "stream",
     "text": [
      " 57%|█████▋    | 341/598 [34:34<31:03,  7.25s/it]"
     ]
    },
    {
     "name": "stdout",
     "output_type": "stream",
     "text": [
      "Processed record 341/598 in 7.39 seconds.\n",
      "decomposition:  {'q1': 'Which games were held from November 12 to 27th?', 'q2': 'In which event did Lee Choon-Huan win a gold medal and what was the composition of the winning team?'}\n"
     ]
    },
    {
     "name": "stderr",
     "output_type": "stream",
     "text": [
      " 57%|█████▋    | 342/598 [34:43<33:24,  7.83s/it]"
     ]
    },
    {
     "name": "stdout",
     "output_type": "stream",
     "text": [
      "Processed record 342/598 in 9.18 seconds.\n",
      "decomposition:  {'q1': 'Who was cited by Pele as the greatest defender he had ever played?', 'q2': 'Was this person part of a British television series that first broadcasted on 13 January 2017?'}\n"
     ]
    },
    {
     "name": "stderr",
     "output_type": "stream",
     "text": [
      " 57%|█████▋    | 343/598 [34:52<34:04,  8.02s/it]"
     ]
    },
    {
     "name": "stdout",
     "output_type": "stream",
     "text": [
      "Processed record 343/598 in 8.46 seconds.\n",
      "decomposition:  {'q1': \"Who was the king that reigned at the time of Roger Hillary's marriage?\", 'q2': 'What is the name of the older brother of this king?'}\n"
     ]
    },
    {
     "name": "stderr",
     "output_type": "stream",
     "text": [
      " 58%|█████▊    | 344/598 [35:00<34:37,  8.18s/it]"
     ]
    },
    {
     "name": "stdout",
     "output_type": "stream",
     "text": [
      "Processed record 344/598 in 8.55 seconds.\n",
      "decomposition:  {'q1': 'Which band did Kurt Cobain found?', 'q2': 'Which 2006 album by that band features a guitarist who was part of it?'}\n"
     ]
    },
    {
     "name": "stderr",
     "output_type": "stream",
     "text": [
      " 58%|█████▊    | 345/598 [35:08<33:57,  8.05s/it]"
     ]
    },
    {
     "name": "stdout",
     "output_type": "stream",
     "text": [
      "Processed record 345/598 in 7.75 seconds.\n",
      "decomposition:  {'q1': 'In what university did Patrick Daniel Gaffney earn his PhD?', 'q2': 'When was that university established?'}\n"
     ]
    },
    {
     "name": "stderr",
     "output_type": "stream",
     "text": [
      " 58%|█████▊    | 346/598 [35:14<31:49,  7.58s/it]"
     ]
    },
    {
     "name": "stdout",
     "output_type": "stream",
     "text": [
      "Processed record 346/598 in 6.47 seconds.\n",
      "decomposition:  {'q1': 'Who is the award-winning game designer and New York Times best-selling author?', 'q2': 'Did this person design the game \"En Garde!\"?'}\n"
     ]
    },
    {
     "name": "stderr",
     "output_type": "stream",
     "text": [
      " 58%|█████▊    | 347/598 [35:21<30:59,  7.41s/it]"
     ]
    },
    {
     "name": "stdout",
     "output_type": "stream",
     "text": [
      "Processed record 347/598 in 7.01 seconds.\n",
      "decomposition:  {'q1': 'What is the branch of government that the English land owner and politician sat in?', 'q2': 'Which government does this refer to, given its connection to a small town and civil parish on the River Calder?'}\n"
     ]
    },
    {
     "name": "stderr",
     "output_type": "stream",
     "text": [
      " 58%|█████▊    | 348/598 [35:28<30:05,  7.22s/it]"
     ]
    },
    {
     "name": "stdout",
     "output_type": "stream",
     "text": [
      "Processed record 348/598 in 6.79 seconds.\n",
      "decomposition:  {'q1': 'What is another name for King Hussein of Jordan?', 'q2': 'Who founded the Dubai English Speaking College?'}\n"
     ]
    },
    {
     "name": "stderr",
     "output_type": "stream",
     "text": [
      " 58%|█████▊    | 349/598 [35:35<29:12,  7.04s/it]"
     ]
    },
    {
     "name": "stdout",
     "output_type": "stream",
     "text": [
      "Processed record 349/598 in 6.61 seconds.\n",
      "decomposition:  {'q1': 'Which band is being compared to determine which one was formed earlier?', 'q2': 'When were each of these bands formed?'}\n"
     ]
    },
    {
     "name": "stderr",
     "output_type": "stream",
     "text": [
      " 59%|█████▊    | 350/598 [35:41<28:28,  6.89s/it]"
     ]
    },
    {
     "name": "stdout",
     "output_type": "stream",
     "text": [
      "Processed record 350/598 in 6.54 seconds.\n",
      "decomposition:  {'q1': 'Who are Colt and Case McCoy?', 'q2': 'Which college team did they play for?'}\n"
     ]
    },
    {
     "name": "stderr",
     "output_type": "stream",
     "text": [
      " 59%|█████▊    | 351/598 [35:48<28:20,  6.89s/it]"
     ]
    },
    {
     "name": "stdout",
     "output_type": "stream",
     "text": [
      "Processed record 351/598 in 6.88 seconds.\n",
      "decomposition:  {'q1': 'What is the top brand of beer in North Korea?', 'q2': 'Which company brews that top brand of beer?'}\n"
     ]
    },
    {
     "name": "stderr",
     "output_type": "stream",
     "text": [
      " 59%|█████▉    | 352/598 [35:55<27:42,  6.76s/it]"
     ]
    },
    {
     "name": "stdout",
     "output_type": "stream",
     "text": [
      "Processed record 352/598 in 6.46 seconds.\n",
      "decomposition:  {'q1': 'Who is the Russian physician being referred to?', 'q2': 'What was the specific contribution or idea (i.e., the \"death drive\") proposed by this Russian physician in her paper?'}\n"
     ]
    },
    {
     "name": "stderr",
     "output_type": "stream",
     "text": [
      " 59%|█████▉    | 353/598 [36:03<29:58,  7.34s/it]"
     ]
    },
    {
     "name": "stdout",
     "output_type": "stream",
     "text": [
      "Processed record 353/598 in 8.70 seconds.\n",
      "decomposition:  {'q1': 'What is the name given to the Sarbanes-Oxley Act in the Senate?', 'q2': 'As what is Helix ALM software known?'}\n"
     ]
    },
    {
     "name": "stderr",
     "output_type": "stream",
     "text": [
      " 59%|█████▉    | 354/598 [36:12<31:05,  7.65s/it]"
     ]
    },
    {
     "name": "stdout",
     "output_type": "stream",
     "text": [
      "Processed record 354/598 in 8.36 seconds.\n",
      "decomposition:  {'q1': 'What type of priest was Candido Amantini?', 'q2': 'Was Candido Amantini able to cast out demons?'}\n"
     ]
    },
    {
     "name": "stderr",
     "output_type": "stream",
     "text": [
      " 59%|█████▉    | 355/598 [36:19<30:40,  7.58s/it]"
     ]
    },
    {
     "name": "stdout",
     "output_type": "stream",
     "text": [
      "Processed record 355/598 in 7.41 seconds.\n",
      "decomposition:  {'q1': 'What are Pandikona and Alpine Mastiff?', 'q2': 'Are they both breeds of dogs?'}\n"
     ]
    },
    {
     "name": "stderr",
     "output_type": "stream",
     "text": [
      " 60%|█████▉    | 356/598 [36:26<29:47,  7.38s/it]"
     ]
    },
    {
     "name": "stdout",
     "output_type": "stream",
     "text": [
      "Processed record 356/598 in 6.94 seconds.\n",
      "decomposition:  {'q1': 'Does the magazine provide information on nutrition?', 'q2': 'If not, is it Prevention or Bloomberg Businessweek that provides such information?'}\n"
     ]
    },
    {
     "name": "stderr",
     "output_type": "stream",
     "text": [
      " 60%|█████▉    | 357/598 [36:33<28:48,  7.17s/it]"
     ]
    },
    {
     "name": "stdout",
     "output_type": "stream",
     "text": [
      "Processed record 357/598 in 6.68 seconds.\n",
      "decomposition:  {'q1': 'Are Robert Lindstedt and Piet Norval the same person?', 'q2': 'If not, which of them was born earlier?'}\n"
     ]
    },
    {
     "name": "stderr",
     "output_type": "stream",
     "text": [
      " 60%|█████▉    | 358/598 [36:39<27:52,  6.97s/it]"
     ]
    },
    {
     "name": "stdout",
     "output_type": "stream",
     "text": [
      "Processed record 358/598 in 6.48 seconds.\n",
      "decomposition:  {'q1': 'Who was once regarded as the natural successor to Laurence Olivier?', 'q2': \"Alongside whom did Daniel Massey star in The Queen's Guards?\"}\n"
     ]
    },
    {
     "name": "stderr",
     "output_type": "stream",
     "text": [
      " 60%|██████    | 359/598 [36:46<26:56,  6.76s/it]"
     ]
    },
    {
     "name": "stdout",
     "output_type": "stream",
     "text": [
      "Processed record 359/598 in 6.29 seconds.\n",
      "decomposition:  {'q1': 'Who is the British-American actress who starred in \"Parade\\'s End?\"', 'q2': 'When did she have her first onscreen appearance?'}\n"
     ]
    },
    {
     "name": "stderr",
     "output_type": "stream",
     "text": [
      " 60%|██████    | 360/598 [36:53<28:16,  7.13s/it]"
     ]
    },
    {
     "name": "stdout",
     "output_type": "stream",
     "text": [
      "Processed record 360/598 in 7.98 seconds.\n",
      "decomposition:  {'q1': 'Who is Wilco Melissant?', 'q2': 'Is Ilya Naishuller also a [film-making position] like Wilco Melissant?'}\n"
     ]
    },
    {
     "name": "stderr",
     "output_type": "stream",
     "text": [
      " 60%|██████    | 361/598 [37:01<28:46,  7.29s/it]"
     ]
    },
    {
     "name": "stdout",
     "output_type": "stream",
     "text": [
      "Processed record 361/598 in 7.66 seconds.\n",
      "decomposition:  {'q1': 'Which Indian state includes the village of Bhando?', 'q2': 'What is the capital of that Indian state?'}\n"
     ]
    },
    {
     "name": "stderr",
     "output_type": "stream",
     "text": [
      " 61%|██████    | 362/598 [37:08<27:54,  7.09s/it]"
     ]
    },
    {
     "name": "stdout",
     "output_type": "stream",
     "text": [
      "Processed record 362/598 in 6.65 seconds.\n",
      "decomposition:  {'q1': 'Is Gymnocladus a genus of tree?', 'q2': 'If not, then which one is?'}\n"
     ]
    },
    {
     "name": "stderr",
     "output_type": "stream",
     "text": [
      " 61%|██████    | 363/598 [37:15<27:49,  7.11s/it]"
     ]
    },
    {
     "name": "stdout",
     "output_type": "stream",
     "text": [
      "Processed record 363/598 in 7.13 seconds.\n",
      "decomposition:  {'q1': 'What country is Lakewood Ranch located in?', 'q2': 'How many states does this country have?'}\n"
     ]
    },
    {
     "name": "stderr",
     "output_type": "stream",
     "text": [
      " 61%|██████    | 364/598 [37:22<27:22,  7.02s/it]"
     ]
    },
    {
     "name": "stdout",
     "output_type": "stream",
     "text": [
      "Processed record 364/598 in 6.82 seconds.\n",
      "decomposition:  {'q1': 'Who was Henry Marshall Ashby serving under in the Confederate States Army?', 'q2': \"What was this person's title as a former United States Secretary of War?\"}\n"
     ]
    },
    {
     "name": "stderr",
     "output_type": "stream",
     "text": [
      " 61%|██████    | 365/598 [37:29<27:43,  7.14s/it]"
     ]
    },
    {
     "name": "stdout",
     "output_type": "stream",
     "text": [
      "Processed record 365/598 in 7.42 seconds.\n",
      "decomposition:  {'q1': 'Who is the South Korean boy band that is known for their album named \"Bring It Back 2 Old School\"?', 'q2': 'What is the meaning of the acronym of this South Korean boy band, U-KISS?'}\n"
     ]
    },
    {
     "name": "stderr",
     "output_type": "stream",
     "text": [
      " 61%|██████    | 366/598 [37:37<28:21,  7.34s/it]"
     ]
    },
    {
     "name": "stdout",
     "output_type": "stream",
     "text": [
      "Processed record 366/598 in 7.79 seconds.\n",
      "decomposition:  {'q1': 'Who is Herodias Gardiner?', 'q2': 'Where was she whipped for sharing her religious testimony?'}\n"
     ]
    },
    {
     "name": "stderr",
     "output_type": "stream",
     "text": [
      " 61%|██████▏   | 367/598 [37:44<27:25,  7.12s/it]"
     ]
    },
    {
     "name": "stdout",
     "output_type": "stream",
     "text": [
      "Processed record 367/598 in 6.62 seconds.\n",
      "decomposition:  {'q1': 'Who is the actor known for portraying gangsters in a 1940 film?', 'q2': 'Which actress starred alongside this actor?'}\n"
     ]
    },
    {
     "name": "stderr",
     "output_type": "stream",
     "text": [
      " 62%|██████▏   | 368/598 [37:50<27:00,  7.04s/it]"
     ]
    },
    {
     "name": "stdout",
     "output_type": "stream",
     "text": [
      "Processed record 368/598 in 6.86 seconds.\n",
      "decomposition:  {'q1': 'What type of entity is known for releasing movies?', 'q2': 'Which specific movies, namely Snow Dogs and Return from Witch Mountain, were released by this entity?'}\n"
     ]
    },
    {
     "name": "stderr",
     "output_type": "stream",
     "text": [
      " 62%|██████▏   | 369/598 [37:57<26:24,  6.92s/it]"
     ]
    },
    {
     "name": "stdout",
     "output_type": "stream",
     "text": [
      "Processed record 369/598 in 6.62 seconds.\n",
      "decomposition:  {'q1': 'Which company does Datuk Kamarudin chair?', 'q2': 'Does this company have its head office at Kuala Lumpur International Airport?'}\n"
     ]
    },
    {
     "name": "stderr",
     "output_type": "stream",
     "text": [
      " 62%|██████▏   | 370/598 [38:04<26:15,  6.91s/it]"
     ]
    },
    {
     "name": "stdout",
     "output_type": "stream",
     "text": [
      "Processed record 370/598 in 6.89 seconds.\n",
      "decomposition:  {'q1': 'What Disney Channel Original Movie did Corbin Bleu star in?', 'q2': 'In which year did he star in that movie?'}\n"
     ]
    },
    {
     "name": "stderr",
     "output_type": "stream",
     "text": [
      " 62%|██████▏   | 371/598 [38:11<26:38,  7.04s/it]"
     ]
    },
    {
     "name": "stdout",
     "output_type": "stream",
     "text": [
      "Processed record 371/598 in 7.35 seconds.\n",
      "decomposition:  {'q1': 'In what context did TeamTNT create the \"TNT:Evolution\" episode for?', 'q2': 'What year was the game in which this episode was created released?'}\n"
     ]
    },
    {
     "name": "stderr",
     "output_type": "stream",
     "text": [
      " 62%|██████▏   | 372/598 [38:19<27:23,  7.27s/it]"
     ]
    },
    {
     "name": "stdout",
     "output_type": "stream",
     "text": [
      "Processed record 372/598 in 7.81 seconds.\n",
      "decomposition:  {'q1': 'What are the names of the documentaries being compared?', 'q2': 'In what year were each of these documentaries released?'}\n"
     ]
    },
    {
     "name": "stderr",
     "output_type": "stream",
     "text": [
      " 62%|██████▏   | 373/598 [38:25<25:27,  6.79s/it]"
     ]
    },
    {
     "name": "stdout",
     "output_type": "stream",
     "text": [
      "Processed record 373/598 in 5.67 seconds.\n",
      "decomposition:  {'q1': 'Who is Amanda Crew?', 'q2': 'In which movie does she play a role?'}\n"
     ]
    },
    {
     "name": "stderr",
     "output_type": "stream",
     "text": [
      " 63%|██████▎   | 374/598 [38:31<25:14,  6.76s/it]"
     ]
    },
    {
     "name": "stdout",
     "output_type": "stream",
     "text": [
      "Processed record 374/598 in 6.69 seconds.\n",
      "decomposition:  {'q1': 'Who founded a company that sponsored the 2010 AMA Pro American Superbike Championship?', 'q2': 'In which year did this person or entity found the company in Birmingham, England?'}\n"
     ]
    },
    {
     "name": "stderr",
     "output_type": "stream",
     "text": [
      " 63%|██████▎   | 375/598 [38:40<26:53,  7.23s/it]"
     ]
    },
    {
     "name": "stdout",
     "output_type": "stream",
     "text": [
      "Processed record 375/598 in 8.34 seconds.\n",
      "decomposition:  {'q1': 'Who is the former Michigan Governor that Howard Edelson served as campaign manager for?', 'q2': 'At which station does this person work today?'}\n"
     ]
    },
    {
     "name": "stderr",
     "output_type": "stream",
     "text": [
      " 63%|██████▎   | 376/598 [38:48<27:17,  7.37s/it]"
     ]
    },
    {
     "name": "stdout",
     "output_type": "stream",
     "text": [
      "Processed record 376/598 in 7.70 seconds.\n",
      "decomposition:  {'q1': 'Who wrote Libra, a novel?', 'q2': \"What has this American essayist's work covered?\"}\n"
     ]
    },
    {
     "name": "stderr",
     "output_type": "stream",
     "text": [
      " 63%|██████▎   | 377/598 [38:55<26:53,  7.30s/it]"
     ]
    },
    {
     "name": "stdout",
     "output_type": "stream",
     "text": [
      "Processed record 377/598 in 7.13 seconds.\n",
      "decomposition:  {'q1': 'Who wrote the novel \"Kepler\"?', 'q2': 'In which year was this Irish novelist born?'}\n"
     ]
    },
    {
     "name": "stderr",
     "output_type": "stream",
     "text": [
      " 63%|██████▎   | 378/598 [39:01<25:21,  6.92s/it]"
     ]
    },
    {
     "name": "stdout",
     "output_type": "stream",
     "text": [
      "Processed record 378/598 in 6.02 seconds.\n",
      "decomposition:  {'q1': 'Who is the American-Canadian actor?', 'q2': 'What are some of the notable roles or projects that this actor has been involved in?'}\n"
     ]
    },
    {
     "name": "stderr",
     "output_type": "stream",
     "text": [
      " 63%|██████▎   | 379/598 [39:08<25:35,  7.01s/it]"
     ]
    },
    {
     "name": "stdout",
     "output_type": "stream",
     "text": [
      "Processed record 379/598 in 7.22 seconds.\n",
      "decomposition:  {'q1': 'What submarine sank the Tsushima Maru?', 'q2': 'When did this submarine open to public tours?'}\n"
     ]
    },
    {
     "name": "stderr",
     "output_type": "stream",
     "text": [
      " 64%|██████▎   | 380/598 [39:16<26:20,  7.25s/it]"
     ]
    },
    {
     "name": "stdout",
     "output_type": "stream",
     "text": [
      "Processed record 380/598 in 7.81 seconds.\n",
      "decomposition:  {'q1': 'Is Clap Your Hands Say Yeah a country music band?', 'q2': 'Is Joywave a country music band?'}\n"
     ]
    },
    {
     "name": "stderr",
     "output_type": "stream",
     "text": [
      " 64%|██████▎   | 381/598 [39:22<25:15,  6.98s/it]"
     ]
    },
    {
     "name": "stdout",
     "output_type": "stream",
     "text": [
      "Processed record 381/598 in 6.36 seconds.\n",
      "decomposition:  {'q1': 'What are the names of the films being compared?', 'q2': 'Which of these films premiered first, Pokémon: Arceus and the Jewel of Life or The Secret of Kells?'}\n"
     ]
    },
    {
     "name": "stderr",
     "output_type": "stream",
     "text": [
      " 64%|██████▍   | 382/598 [39:28<23:43,  6.59s/it]"
     ]
    },
    {
     "name": "stdout",
     "output_type": "stream",
     "text": [
      "Processed record 382/598 in 5.67 seconds.\n",
      "decomposition:  {'q1': 'Who is the charismatic Jewish American mobster?', 'q2': 'When did this mobster create the Cohen crime family?'}\n"
     ]
    },
    {
     "name": "stderr",
     "output_type": "stream",
     "text": [
      " 64%|██████▍   | 383/598 [39:36<25:17,  7.06s/it]"
     ]
    },
    {
     "name": "stdout",
     "output_type": "stream",
     "text": [
      "Processed record 383/598 in 8.14 seconds.\n",
      "decomposition:  {'q1': 'What is aguardiente?', 'q2': 'Is the ingredient used to make Poncha derived from this word?'}\n"
     ]
    },
    {
     "name": "stderr",
     "output_type": "stream",
     "text": [
      " 64%|██████▍   | 384/598 [39:44<26:06,  7.32s/it]"
     ]
    },
    {
     "name": "stdout",
     "output_type": "stream",
     "text": [
      "Processed record 384/598 in 7.93 seconds.\n",
      "decomposition:  {'q1': 'Who is the caliph that built Masjid al-Hisn?', 'q2': 'What were the years during which this caliph ruled?'}\n"
     ]
    },
    {
     "name": "stderr",
     "output_type": "stream",
     "text": [
      " 64%|██████▍   | 385/598 [39:51<25:54,  7.30s/it]"
     ]
    },
    {
     "name": "stdout",
     "output_type": "stream",
     "text": [
      "Processed record 385/598 in 7.24 seconds.\n",
      "decomposition:  {'q1': 'Who is the American rock singer who died of a heroin overdose?', 'q2': 'At what age did this singer die?'}\n"
     ]
    },
    {
     "name": "stderr",
     "output_type": "stream",
     "text": [
      " 65%|██████▍   | 386/598 [39:58<24:56,  7.06s/it]"
     ]
    },
    {
     "name": "stdout",
     "output_type": "stream",
     "text": [
      "Processed record 386/598 in 6.50 seconds.\n",
      "decomposition:  {'q1': 'What was the location where Cardinal Pole served as Archbishop?', 'q2': 'Who was the last Roman Catholic Archbishop of that location?'}\n"
     ]
    },
    {
     "name": "stderr",
     "output_type": "stream",
     "text": [
      " 65%|██████▍   | 387/598 [40:04<24:14,  6.89s/it]"
     ]
    },
    {
     "name": "stdout",
     "output_type": "stream",
     "text": [
      "Processed record 387/598 in 6.50 seconds.\n",
      "decomposition:  {'q1': \"Who is the author of the children's book that inspired a film?\", 'q2': 'Which film, based on this book, featured the song \"Dancing in the Dark\" as part of its soundtrack?'}\n"
     ]
    },
    {
     "name": "stderr",
     "output_type": "stream",
     "text": [
      " 65%|██████▍   | 388/598 [40:12<25:24,  7.26s/it]"
     ]
    },
    {
     "name": "stdout",
     "output_type": "stream",
     "text": [
      "Processed record 388/598 in 8.12 seconds.\n",
      "decomposition:  {'q1': \"Who were the performers that Scottsboro Boys' writers frequently worked with?\", 'q2': 'For which of these performers did the team write music and lyrics, including those for Scottsboro Boys?'}\n"
     ]
    },
    {
     "name": "stderr",
     "output_type": "stream",
     "text": [
      " 65%|██████▌   | 389/598 [40:20<25:35,  7.35s/it]"
     ]
    },
    {
     "name": "stdout",
     "output_type": "stream",
     "text": [
      "Processed record 389/598 in 7.55 seconds.\n",
      "decomposition:  {'q1': 'When did George Kisevalter and Oleg Penkovsky live?', 'q2': 'Which of them lived earlier?'}\n"
     ]
    },
    {
     "name": "stderr",
     "output_type": "stream",
     "text": [
      " 65%|██████▌   | 390/598 [40:27<25:02,  7.23s/it]"
     ]
    },
    {
     "name": "stdout",
     "output_type": "stream",
     "text": [
      "Processed record 390/598 in 6.94 seconds.\n",
      "decomposition:  {'q1': 'Is Echium a genus that is being compared to another genus (Ptilotus) in the question?', 'q2': 'If so, what is the nature of the comparison being asked about (i.e., which aspect of the genera is being compared, such as number of species)?'}\n"
     ]
    },
    {
     "name": "stderr",
     "output_type": "stream",
     "text": [
      " 65%|██████▌   | 391/598 [40:34<24:44,  7.17s/it]"
     ]
    },
    {
     "name": "stdout",
     "output_type": "stream",
     "text": [
      "Processed record 391/598 in 7.05 seconds.\n",
      "decomposition:  {'q1': 'What type of vehicle was revealed by Honda at the 1997 Tokyo Motor Show?', 'q2': 'How many cylinders does that specific vehicle (the hatchback) have in its engine?'}\n"
     ]
    },
    {
     "name": "stderr",
     "output_type": "stream",
     "text": [
      " 66%|██████▌   | 392/598 [40:41<24:54,  7.26s/it]"
     ]
    },
    {
     "name": "stdout",
     "output_type": "stream",
     "text": [
      "Processed record 392/598 in 7.45 seconds.\n",
      "decomposition:  {'q1': 'What type of people did Mike Gibbons and Stanley Ketchel refer to?', 'q2': 'Were they referring to each other or a third category?'}\n"
     ]
    },
    {
     "name": "stderr",
     "output_type": "stream",
     "text": [
      " 66%|██████▌   | 393/598 [40:48<24:25,  7.15s/it]"
     ]
    },
    {
     "name": "stdout",
     "output_type": "stream",
     "text": [
      "Processed record 393/598 in 6.89 seconds.\n",
      "decomposition:  {'q1': 'Who is Jeffrey Combs?', 'q2': 'In which science fiction franchise has this actor appeared?'}\n"
     ]
    },
    {
     "name": "stderr",
     "output_type": "stream",
     "text": [
      " 66%|██████▌   | 394/598 [40:55<23:59,  7.06s/it]"
     ]
    },
    {
     "name": "stdout",
     "output_type": "stream",
     "text": [
      "Processed record 394/598 in 6.84 seconds.\n",
      "decomposition:  {'q1': 'Who played three seasons of college basketball for Georgetown?', 'q2': 'Was this person later given the Dave Gavitt Trophy?'}\n"
     ]
    },
    {
     "name": "stderr",
     "output_type": "stream",
     "text": [
      " 66%|██████▌   | 395/598 [41:02<23:26,  6.93s/it]"
     ]
    },
    {
     "name": "stdout",
     "output_type": "stream",
     "text": [
      "Processed record 395/598 in 6.63 seconds.\n",
      "decomposition:  {'q1': 'Which film features an appearance from Lena Maria Jonna Olin?', 'q2': 'In which year and location (Germany) did this film begin production?'}\n"
     ]
    },
    {
     "name": "stderr",
     "output_type": "stream",
     "text": [
      " 66%|██████▌   | 396/598 [41:08<23:09,  6.88s/it]"
     ]
    },
    {
     "name": "stdout",
     "output_type": "stream",
     "text": [
      "Processed record 396/598 in 6.77 seconds.\n",
      "decomposition:  {'q1': 'Who are Dan Andriano and Hansi Kürsch?', 'q2': 'Which one of them is older?'}\n"
     ]
    },
    {
     "name": "stderr",
     "output_type": "stream",
     "text": [
      " 66%|██████▋   | 397/598 [41:15<22:37,  6.75s/it]"
     ]
    },
    {
     "name": "stdout",
     "output_type": "stream",
     "text": [
      "Processed record 397/598 in 6.45 seconds.\n",
      "decomposition:  {'q1': 'Who won the 36th Toulon Tournament?', 'q2': 'From which country does that winner come?'}\n"
     ]
    },
    {
     "name": "stderr",
     "output_type": "stream",
     "text": [
      " 67%|██████▋   | 398/598 [41:23<23:39,  7.10s/it]"
     ]
    },
    {
     "name": "stdout",
     "output_type": "stream",
     "text": [
      "Processed record 398/598 in 7.90 seconds.\n",
      "decomposition:  {'q1': 'Who is the governor that Karen Jackson served as Deputy Secretary of Technology under?', 'q2': 'Which party does this governor belong to?'}\n"
     ]
    },
    {
     "name": "stderr",
     "output_type": "stream",
     "text": [
      " 67%|██████▋   | 399/598 [41:30<23:38,  7.13s/it]"
     ]
    },
    {
     "name": "stdout",
     "output_type": "stream",
     "text": [
      "Processed record 399/598 in 7.20 seconds.\n",
      "decomposition:  {'q1': 'Who is the Cabaret Cartoon artist?', 'q2': 'Where did he get his Mancunian accent?'}\n"
     ]
    },
    {
     "name": "stderr",
     "output_type": "stream",
     "text": [
      " 67%|██████▋   | 400/598 [41:38<24:38,  7.47s/it]"
     ]
    },
    {
     "name": "stdout",
     "output_type": "stream",
     "text": [
      "Processed record 400/598 in 8.26 seconds.\n",
      "\n",
      "--- Saved batch up to record 400\n",
      "Average time for last 100 records: 7.18 seconds\n",
      "\n",
      "decomposition:  {'q1': 'Who is the center fielder that Johnny Narron helped in his recovery from drug addiction?', 'q2': 'In what year did this center fielder win the MVP award?'}\n"
     ]
    },
    {
     "name": "stderr",
     "output_type": "stream",
     "text": [
      " 67%|██████▋   | 401/598 [41:46<25:08,  7.66s/it]"
     ]
    },
    {
     "name": "stdout",
     "output_type": "stream",
     "text": [
      "Processed record 401/598 in 8.09 seconds.\n",
      "decomposition:  {'q1': 'Is Justin Currie a Japanese singer?', 'q2': 'Is Kyo also a Japanese singer?'}\n"
     ]
    },
    {
     "name": "stderr",
     "output_type": "stream",
     "text": [
      " 67%|██████▋   | 402/598 [41:53<24:12,  7.41s/it]"
     ]
    },
    {
     "name": "stdout",
     "output_type": "stream",
     "text": [
      "Processed record 402/598 in 6.84 seconds.\n",
      "decomposition:  {'q1': 'Who directed the 2011 American black comedy film?', 'q2': 'Which band released the song \"Perfect Day\" that appears on this film?'}\n"
     ]
    },
    {
     "name": "stderr",
     "output_type": "stream",
     "text": [
      " 67%|██████▋   | 403/598 [42:00<23:28,  7.22s/it]"
     ]
    },
    {
     "name": "stdout",
     "output_type": "stream",
     "text": [
      "Processed record 403/598 in 6.78 seconds.\n",
      "decomposition:  {'q1': 'Did MTV acquire Domo TV or Kappa Mikey?', 'q2': 'Which one was acquired by MTV first, Domo TV or Kappa Mikey?'}\n"
     ]
    },
    {
     "name": "stderr",
     "output_type": "stream",
     "text": [
      " 68%|██████▊   | 404/598 [42:07<22:54,  7.09s/it]"
     ]
    },
    {
     "name": "stdout",
     "output_type": "stream",
     "text": [
      "Processed record 404/598 in 6.77 seconds.\n",
      "decomposition:  {'q1': 'Who is the star of \"Get on Up\"?', 'q2': 'Was this person also in \"The Blues Brothers\"?'}\n"
     ]
    },
    {
     "name": "stderr",
     "output_type": "stream",
     "text": [
      " 68%|██████▊   | 405/598 [42:14<22:35,  7.02s/it]"
     ]
    },
    {
     "name": "stdout",
     "output_type": "stream",
     "text": [
      "Processed record 405/598 in 6.87 seconds.\n",
      "decomposition:  {'q1': 'What happened in the United States in the 1880s?', 'q2': 'Who were the main organizers behind this event?'}\n"
     ]
    },
    {
     "name": "stderr",
     "output_type": "stream",
     "text": [
      " 68%|██████▊   | 406/598 [42:20<21:41,  6.78s/it]"
     ]
    },
    {
     "name": "stdout",
     "output_type": "stream",
     "text": [
      "Processed record 406/598 in 6.21 seconds.\n",
      "decomposition:  {'q1': 'Was the University of Chicago founded before the University of New York?', 'q2': 'If so, is the University of Chicago the one that was founded?'}\n"
     ]
    },
    {
     "name": "stderr",
     "output_type": "stream",
     "text": [
      " 68%|██████▊   | 407/598 [42:26<21:29,  6.75s/it]"
     ]
    },
    {
     "name": "stdout",
     "output_type": "stream",
     "text": [
      "Processed record 407/598 in 6.68 seconds.\n",
      "decomposition:  {'q1': 'What company is being referred to?', 'q2': 'In what context did this company produce 40 million varieties of watches?'}\n"
     ]
    },
    {
     "name": "stderr",
     "output_type": "stream",
     "text": [
      " 68%|██████▊   | 408/598 [42:33<21:35,  6.82s/it]"
     ]
    },
    {
     "name": "stdout",
     "output_type": "stream",
     "text": [
      "Processed record 408/598 in 6.98 seconds.\n",
      "decomposition:  {'q1': 'What is the relationship between Presidential Food Service and First Family of the United States?', 'q2': 'In what way do they share a common position?'}\n"
     ]
    },
    {
     "name": "stderr",
     "output_type": "stream",
     "text": [
      " 68%|██████▊   | 409/598 [42:40<21:22,  6.78s/it]"
     ]
    },
    {
     "name": "stdout",
     "output_type": "stream",
     "text": [
      "Processed record 409/598 in 6.70 seconds.\n",
      "decomposition:  {'q1': 'Is Bae Woo-hee a singer?', 'q2': 'Is Gary Louris also a singer?'}\n"
     ]
    },
    {
     "name": "stderr",
     "output_type": "stream",
     "text": [
      " 69%|██████▊   | 410/598 [42:47<21:05,  6.73s/it]"
     ]
    },
    {
     "name": "stdout",
     "output_type": "stream",
     "text": [
      "Processed record 410/598 in 6.61 seconds.\n",
      "decomposition:  {'q1': 'What is the landlocked country where Bédogo-Nabiga is located?', 'q2': 'What is the population of that country?'}\n"
     ]
    },
    {
     "name": "stderr",
     "output_type": "stream",
     "text": [
      " 69%|██████▊   | 411/598 [42:53<20:43,  6.65s/it]"
     ]
    },
    {
     "name": "stdout",
     "output_type": "stream",
     "text": [
      "Processed record 411/598 in 6.45 seconds.\n",
      "decomposition:  {'q1': 'What are Beautiful Losers and American Harmony?', 'q2': 'Are they what?'}\n"
     ]
    },
    {
     "name": "stderr",
     "output_type": "stream",
     "text": [
      " 69%|██████▉   | 412/598 [43:00<20:46,  6.70s/it]"
     ]
    },
    {
     "name": "stdout",
     "output_type": "stream",
     "text": [
      "Processed record 412/598 in 6.83 seconds.\n",
      "decomposition:  {'q1': 'Who did Kubrat Pulev beat to reach the final (or semifinal) at the 2008 European Championships?', 'q2': 'What medal did Kubrat Pulev win as a result of reaching the final (or semifinal) at the 2008 European Championships?'}\n"
     ]
    },
    {
     "name": "stderr",
     "output_type": "stream",
     "text": [
      " 69%|██████▉   | 413/598 [43:09<22:47,  7.39s/it]"
     ]
    },
    {
     "name": "stdout",
     "output_type": "stream",
     "text": [
      "Processed record 413/598 in 9.00 seconds.\n",
      "decomposition:  {'q1': 'Who is the publisher of the Minion Hunter board game?', 'q2': 'Did this company release the Minion Hunter board game in conjunction with a near-future horror role-playing game (RPG) in 1991?'}\n"
     ]
    },
    {
     "name": "stderr",
     "output_type": "stream",
     "text": [
      " 69%|██████▉   | 414/598 [43:18<23:58,  7.82s/it]"
     ]
    },
    {
     "name": "stdout",
     "output_type": "stream",
     "text": [
      "Processed record 414/598 in 8.82 seconds.\n",
      "decomposition:  {'q1': 'Which band is The Amps?', 'q2': 'Was The Amps founded before Moist?'}\n"
     ]
    },
    {
     "name": "stderr",
     "output_type": "stream",
     "text": [
      " 69%|██████▉   | 415/598 [43:24<22:10,  7.27s/it]"
     ]
    },
    {
     "name": "stdout",
     "output_type": "stream",
     "text": [
      "Processed record 415/598 in 5.98 seconds.\n",
      "decomposition:  {'q1': 'What airline carrier does Régional Compagnie Aérienne Européenne have as its parent company?', 'q2': 'Where is the corporate headquarters of this parent airline carrier located?'}\n"
     ]
    },
    {
     "name": "stderr",
     "output_type": "stream",
     "text": [
      " 70%|██████▉   | 416/598 [43:30<21:24,  7.06s/it]"
     ]
    },
    {
     "name": "stdout",
     "output_type": "stream",
     "text": [
      "Processed record 416/598 in 6.56 seconds.\n",
      "decomposition:  {'q1': \"Where was Petronella Oortman's dollhouse on display?\", 'q2': 'What is the significance of this location in relation to the 2014 novel \"The Miniaturist\"?'}\n"
     ]
    },
    {
     "name": "stderr",
     "output_type": "stream",
     "text": [
      " 70%|██████▉   | 417/598 [43:39<23:05,  7.66s/it]"
     ]
    },
    {
     "name": "stdout",
     "output_type": "stream",
     "text": [
      "Processed record 417/598 in 9.05 seconds.\n",
      "decomposition:  {'q1': 'What kind of event is the \"Las Vegas Uncork\" festival centered around?', 'q2': 'What are the two main themes or aspects of this type of event?'}\n"
     ]
    },
    {
     "name": "stderr",
     "output_type": "stream",
     "text": [
      " 70%|██████▉   | 418/598 [43:46<22:13,  7.41s/it]"
     ]
    },
    {
     "name": "stdout",
     "output_type": "stream",
     "text": [
      "Processed record 418/598 in 6.83 seconds.\n",
      "decomposition:  {'q1': 'What movie inspired Karle Pyaar Karle?', 'q2': 'Which actors star in that movie?'}\n"
     ]
    },
    {
     "name": "stderr",
     "output_type": "stream",
     "text": [
      " 70%|███████   | 419/598 [43:54<22:13,  7.45s/it]"
     ]
    },
    {
     "name": "stdout",
     "output_type": "stream",
     "text": [
      "Processed record 419/598 in 7.56 seconds.\n",
      "decomposition:  {'q1': 'Who is the American voice actor known for starring in an animated television sitcom?', 'q2': 'In which animated television sitcom does this actor star?'}\n"
     ]
    },
    {
     "name": "stderr",
     "output_type": "stream",
     "text": [
      " 70%|███████   | 420/598 [44:02<22:21,  7.54s/it]"
     ]
    },
    {
     "name": "stdout",
     "output_type": "stream",
     "text": [
      "Processed record 420/598 in 7.74 seconds.\n",
      "decomposition:  {'q1': \"Who beat the American's record in strato jumping?\", 'q2': 'On what date did the Austrian skydiver make the jump that broke the record?'}\n"
     ]
    },
    {
     "name": "stderr",
     "output_type": "stream",
     "text": [
      " 70%|███████   | 421/598 [44:10<22:42,  7.70s/it]"
     ]
    },
    {
     "name": "stdout",
     "output_type": "stream",
     "text": [
      "Processed record 421/598 in 8.07 seconds.\n",
      "decomposition:  {'q1': 'Who is the person who invented the V-2 rocket?', 'q2': 'What kinds of systems did Ernst Stuhlinger develop with this person?'}\n"
     ]
    },
    {
     "name": "stderr",
     "output_type": "stream",
     "text": [
      " 71%|███████   | 422/598 [44:17<22:12,  7.57s/it]"
     ]
    },
    {
     "name": "stdout",
     "output_type": "stream",
     "text": [
      "Processed record 422/598 in 7.28 seconds.\n",
      "decomposition:  {'q1': 'Is Obogu a village?', 'q2': 'If yes, how many districts is it in?'}\n"
     ]
    },
    {
     "name": "stderr",
     "output_type": "stream",
     "text": [
      " 71%|███████   | 423/598 [44:23<20:44,  7.11s/it]"
     ]
    },
    {
     "name": "stdout",
     "output_type": "stream",
     "text": [
      "Processed record 423/598 in 6.04 seconds.\n",
      "decomposition:  {'q1': 'Is the Dutch company a type of organization that can be classified (e.g., corporation, non-profit)?', 'q2': 'Does this classification depend on the specific industry or sector the company operates within?'}\n"
     ]
    },
    {
     "name": "stderr",
     "output_type": "stream",
     "text": [
      " 71%|███████   | 424/598 [44:29<19:58,  6.89s/it]"
     ]
    },
    {
     "name": "stdout",
     "output_type": "stream",
     "text": [
      "Processed record 424/598 in 6.37 seconds.\n",
      "decomposition:  {'q1': 'What were the Townshend Acts?', 'q2': 'What was the consequence of those acts that led to the deaths of five people by British soldiers?'}\n"
     ]
    },
    {
     "name": "stderr",
     "output_type": "stream",
     "text": [
      " 71%|███████   | 425/598 [44:38<21:08,  7.33s/it]"
     ]
    },
    {
     "name": "stdout",
     "output_type": "stream",
     "text": [
      "Processed record 425/598 in 8.37 seconds.\n",
      "decomposition:  {'q1': 'Which Disney film featured Danielle Nicole Panabaker?', 'q2': 'Who was the director of that Disney film?'}\n"
     ]
    },
    {
     "name": "stderr",
     "output_type": "stream",
     "text": [
      " 71%|███████   | 426/598 [44:44<20:11,  7.04s/it]"
     ]
    },
    {
     "name": "stdout",
     "output_type": "stream",
     "text": [
      "Processed record 426/598 in 6.37 seconds.\n",
      "decomposition:  {'q1': 'Which abbey constructed the castle?', 'q2': 'Is the castle located in Dalton Town with Newton?'}\n"
     ]
    },
    {
     "name": "stderr",
     "output_type": "stream",
     "text": [
      " 71%|███████▏  | 427/598 [44:52<20:38,  7.24s/it]"
     ]
    },
    {
     "name": "stdout",
     "output_type": "stream",
     "text": [
      "Processed record 427/598 in 7.70 seconds.\n",
      "decomposition:  {'q1': 'Is 3OH!3 a musician or group?', 'q2': 'If not, then which musician or group is from the US, Regina Spektor?'}\n"
     ]
    },
    {
     "name": "stderr",
     "output_type": "stream",
     "text": [
      " 72%|███████▏  | 428/598 [44:59<20:31,  7.24s/it]"
     ]
    },
    {
     "name": "stdout",
     "output_type": "stream",
     "text": [
      "Processed record 428/598 in 7.25 seconds.\n",
      "decomposition:  {'q1': 'Is John Galsworthy a Nobel prize winner for literature?', 'q2': 'If not, then who is the Nobel prize winner for literature among the options (John Galsworthy and Fernando Pessoa)?'}\n"
     ]
    },
    {
     "name": "stderr",
     "output_type": "stream",
     "text": [
      " 72%|███████▏  | 429/598 [45:06<19:58,  7.09s/it]"
     ]
    },
    {
     "name": "stdout",
     "output_type": "stream",
     "text": [
      "Processed record 429/598 in 6.73 seconds.\n",
      "decomposition:  {'q1': 'Who was the 2006 Iowa Hawkeyes football coach?', 'q2': 'Did this coach play for University of Connecticut in 1976 as a linebacker?'}\n"
     ]
    },
    {
     "name": "stderr",
     "output_type": "stream",
     "text": [
      " 72%|███████▏  | 430/598 [45:15<21:40,  7.74s/it]"
     ]
    },
    {
     "name": "stdout",
     "output_type": "stream",
     "text": [
      "Processed record 430/598 in 9.25 seconds.\n",
      "decomposition:  {'q1': 'Is Baz Luhrmann a person?', 'q2': 'If so, how old is he compared to Ryan Gosling?'}\n"
     ]
    },
    {
     "name": "stderr",
     "output_type": "stream",
     "text": [
      " 72%|███████▏  | 431/598 [45:22<20:54,  7.51s/it]"
     ]
    },
    {
     "name": "stdout",
     "output_type": "stream",
     "text": [
      "Processed record 431/598 in 6.99 seconds.\n",
      "decomposition:  {'q1': 'Is the question comparing two specific buildings?', 'q2': 'Which of these two buildings, Bertelsmann Building or CitySpire Center, is actually taller?'}\n"
     ]
    },
    {
     "name": "stderr",
     "output_type": "stream",
     "text": [
      " 72%|███████▏  | 432/598 [45:29<20:37,  7.45s/it]"
     ]
    },
    {
     "name": "stdout",
     "output_type": "stream",
     "text": [
      "Processed record 432/598 in 7.31 seconds.\n",
      "decomposition:  {'q1': 'What is the name of the channel that airs Business Nation monthly?', 'q2': 'Who owns the channel mentioned in question 1?'}\n"
     ]
    },
    {
     "name": "stderr",
     "output_type": "stream",
     "text": [
      " 72%|███████▏  | 433/598 [45:36<20:16,  7.37s/it]"
     ]
    },
    {
     "name": "stdout",
     "output_type": "stream",
     "text": [
      "Processed record 433/598 in 7.17 seconds.\n",
      "decomposition:  {'q1': 'What is the debut novel of John Michael Green, born in 1977?', 'q2': 'Why was this novel, \"Looking For Alaska\", challenged in 2015?'}\n"
     ]
    },
    {
     "name": "stderr",
     "output_type": "stream",
     "text": [
      " 73%|███████▎  | 434/598 [45:43<19:48,  7.24s/it]"
     ]
    },
    {
     "name": "stdout",
     "output_type": "stream",
     "text": [
      "Processed record 434/598 in 6.95 seconds.\n",
      "decomposition:  {'q1': 'What is the name of the role-playing game that the \"D6 System\" was derived from?', 'q2': 'In what setting was this original role-playing game set, which was then used to create the generic science fiction RPG?'}\n"
     ]
    },
    {
     "name": "stderr",
     "output_type": "stream",
     "text": [
      " 73%|███████▎  | 435/598 [45:52<20:58,  7.72s/it]"
     ]
    },
    {
     "name": "stdout",
     "output_type": "stream",
     "text": [
      "Processed record 435/598 in 8.82 seconds.\n",
      "decomposition:  {'q1': 'Is Muling a city?', 'q2': \"Is Zhangye also a city, and if so, what is its administrative level compared to Muling's?\"}\n"
     ]
    },
    {
     "name": "stderr",
     "output_type": "stream",
     "text": [
      " 73%|███████▎  | 436/598 [46:00<21:04,  7.81s/it]"
     ]
    },
    {
     "name": "stdout",
     "output_type": "stream",
     "text": [
      "Processed record 436/598 in 8.02 seconds.\n",
      "decomposition:  {'q1': 'Which mayor featured in The Jazz of the City Atlanta is being referred to?', 'q2': 'Does that mayor currently serve as a member of the board of directors for Delta Air Lines?'}\n"
     ]
    },
    {
     "name": "stderr",
     "output_type": "stream",
     "text": [
      " 73%|███████▎  | 437/598 [46:08<21:19,  7.95s/it]"
     ]
    },
    {
     "name": "stdout",
     "output_type": "stream",
     "text": [
      "Processed record 437/598 in 8.28 seconds.\n",
      "decomposition:  {'q1': \"Which actor's film debut was it that featured a portrayal of a terrorist group member?\", 'q2': \"What is the name of the terrorist group portrayed in this actor's film debut?\"}\n"
     ]
    },
    {
     "name": "stderr",
     "output_type": "stream",
     "text": [
      " 73%|███████▎  | 438/598 [46:16<20:54,  7.84s/it]"
     ]
    },
    {
     "name": "stdout",
     "output_type": "stream",
     "text": [
      "Processed record 438/598 in 7.59 seconds.\n",
      "decomposition:  {'q1': 'What is Tunjungan Plaza to Surabaya?', 'q2': 'Which mall has a larger area than Tunjungan Plaza?'}\n"
     ]
    },
    {
     "name": "stderr",
     "output_type": "stream",
     "text": [
      " 73%|███████▎  | 439/598 [46:23<20:07,  7.59s/it]"
     ]
    },
    {
     "name": "stdout",
     "output_type": "stream",
     "text": [
      "Processed record 439/598 in 7.01 seconds.\n",
      "decomposition:  {'q1': 'Who is Julian Edwin Adderley also known as?', 'q2': 'What is the title of his 11th album?'}\n"
     ]
    },
    {
     "name": "stderr",
     "output_type": "stream",
     "text": [
      " 74%|███████▎  | 440/598 [46:31<20:13,  7.68s/it]"
     ]
    },
    {
     "name": "stdout",
     "output_type": "stream",
     "text": [
      "Processed record 440/598 in 7.89 seconds.\n",
      "decomposition:  {'q1': 'Who is the actor who appears in both the movie \"Men With Guns\" and the TV show \"Narcos\"?', 'q2': 'What role does this actor play in the TV show \"Narcos\"?'}\n"
     ]
    },
    {
     "name": "stderr",
     "output_type": "stream",
     "text": [
      " 74%|███████▎  | 441/598 [46:40<21:13,  8.11s/it]"
     ]
    },
    {
     "name": "stdout",
     "output_type": "stream",
     "text": [
      "Processed record 441/598 in 9.10 seconds.\n",
      "decomposition:  {'q1': \"Which movies feature a story not related to the United States men's hockey team?\", 'q2': \"Of the remaining movies, which one is about the 1980 United States men's hockey team?\"}\n"
     ]
    },
    {
     "name": "stderr",
     "output_type": "stream",
     "text": [
      " 74%|███████▍  | 442/598 [46:49<21:25,  8.24s/it]"
     ]
    },
    {
     "name": "stdout",
     "output_type": "stream",
     "text": [
      "Processed record 442/598 in 8.54 seconds.\n",
      "decomposition:  {'q1': 'Is there a paragraph mentioned that talks about a music artist?', 'q2': 'If so, what is the name of the music artist being discussed?'}\n"
     ]
    },
    {
     "name": "stderr",
     "output_type": "stream",
     "text": [
      " 74%|███████▍  | 443/598 [46:57<21:12,  8.21s/it]"
     ]
    },
    {
     "name": "stdout",
     "output_type": "stream",
     "text": [
      "Processed record 443/598 in 8.13 seconds.\n",
      "decomposition:  {'q1': 'Which Danish football club lost in the 2010-11 Danish Superliga?', 'q2': 'Where is the clubhouse of [that] Danish football club?'}\n"
     ]
    },
    {
     "name": "stderr",
     "output_type": "stream",
     "text": [
      " 74%|███████▍  | 444/598 [47:04<20:19,  7.92s/it]"
     ]
    },
    {
     "name": "stdout",
     "output_type": "stream",
     "text": [
      "Processed record 444/598 in 7.24 seconds.\n",
      "decomposition:  {'q1': 'Which company operates its helicopters from the Juhu Aerodrome?', 'q2': 'Does this company have a service at IIT Kanpur Airport?'}\n"
     ]
    },
    {
     "name": "stderr",
     "output_type": "stream",
     "text": [
      " 74%|███████▍  | 445/598 [47:11<19:40,  7.72s/it]"
     ]
    },
    {
     "name": "stdout",
     "output_type": "stream",
     "text": [
      "Processed record 445/598 in 7.25 seconds.\n",
      "decomposition:  {'q1': 'What mountains are being compared to determine which one is higher?', 'q2': 'How high are Chamlang in Nepal and Baintha Brakk in Pakistan, respectively?'}\n"
     ]
    },
    {
     "name": "stderr",
     "output_type": "stream",
     "text": [
      " 75%|███████▍  | 446/598 [47:20<20:16,  8.00s/it]"
     ]
    },
    {
     "name": "stdout",
     "output_type": "stream",
     "text": [
      "Processed record 446/598 in 8.67 seconds.\n",
      "decomposition:  {'q1': 'Which Division I college is part of the Big 12 Conference?', 'q2': 'Did Clint Ingram attend that specific college?'}\n"
     ]
    },
    {
     "name": "stderr",
     "output_type": "stream",
     "text": [
      " 75%|███████▍  | 447/598 [47:27<19:09,  7.61s/it]"
     ]
    },
    {
     "name": "stdout",
     "output_type": "stream",
     "text": [
      "Processed record 447/598 in 6.70 seconds.\n",
      "decomposition:  {'q1': 'Is Finger Eleven a European band?', 'q2': 'If not, then which of these bands (Finger Eleven or Fatherson) is from Europe?'}\n"
     ]
    },
    {
     "name": "stderr",
     "output_type": "stream",
     "text": [
      " 75%|███████▍  | 448/598 [47:33<18:22,  7.35s/it]"
     ]
    },
    {
     "name": "stdout",
     "output_type": "stream",
     "text": [
      "Processed record 448/598 in 6.73 seconds.\n",
      "decomposition:  {'q1': 'What is the job title of Mousa Esmaeilpour that involves supporting someone?', 'q2': 'In which nation does Mousa Esmaeilpour work as [job title] to help clients or learners achieve a specific goal in bodybuilding?'}\n"
     ]
    },
    {
     "name": "stderr",
     "output_type": "stream",
     "text": [
      " 75%|███████▌  | 449/598 [47:40<18:01,  7.26s/it]"
     ]
    },
    {
     "name": "stdout",
     "output_type": "stream",
     "text": [
      "Processed record 449/598 in 7.06 seconds.\n",
      "decomposition:  {'q1': 'Who was drafted by the Jacksonville Jaguars in 2013?', 'q2': 'Was this person a backup player on the 2009 Michigan football team?'}\n"
     ]
    },
    {
     "name": "stderr",
     "output_type": "stream",
     "text": [
      " 75%|███████▌  | 450/598 [47:48<17:53,  7.25s/it]"
     ]
    },
    {
     "name": "stdout",
     "output_type": "stream",
     "text": [
      "Processed record 450/598 in 7.24 seconds.\n",
      "decomposition:  {'q1': 'Who is the inventor of a certain device?', 'q2': 'What type of device did this person invent?'}\n"
     ]
    },
    {
     "name": "stderr",
     "output_type": "stream",
     "text": [
      " 75%|███████▌  | 451/598 [47:54<16:55,  6.91s/it]"
     ]
    },
    {
     "name": "stdout",
     "output_type": "stream",
     "text": [
      "Processed record 451/598 in 6.10 seconds.\n",
      "decomposition:  {'q1': 'Who is Kendall Dewan Marshall?', 'q2': 'Where was the NBA draft ceremony held when he was drafted?'}\n"
     ]
    },
    {
     "name": "stderr",
     "output_type": "stream",
     "text": [
      " 76%|███████▌  | 452/598 [48:01<16:56,  6.96s/it]"
     ]
    },
    {
     "name": "stdout",
     "output_type": "stream",
     "text": [
      "Processed record 452/598 in 7.09 seconds.\n",
      "decomposition:  {'q1': 'Who is the director of \"Before the Revolution\"?', 'q2': 'In what year was that person born?'}\n"
     ]
    },
    {
     "name": "stderr",
     "output_type": "stream",
     "text": [
      " 76%|███████▌  | 453/598 [48:07<16:05,  6.66s/it]"
     ]
    },
    {
     "name": "stdout",
     "output_type": "stream",
     "text": [
      "Processed record 453/598 in 5.95 seconds.\n",
      "decomposition:  {'q1': 'Who is an American physicist?', 'q2': 'Was this person a spokesperson at the LIGO Scientific Collaboration?'}\n"
     ]
    },
    {
     "name": "stderr",
     "output_type": "stream",
     "text": [
      " 76%|███████▌  | 454/598 [48:13<15:42,  6.54s/it]"
     ]
    },
    {
     "name": "stdout",
     "output_type": "stream",
     "text": [
      "Processed record 454/598 in 6.27 seconds.\n",
      "decomposition:  {'q1': 'What is the nickname of the Icelandic professional strongman?', 'q2': 'In which series of novels does the character with this nickname appear?'}\n"
     ]
    },
    {
     "name": "stderr",
     "output_type": "stream",
     "text": [
      " 76%|███████▌  | 455/598 [48:20<15:50,  6.65s/it]"
     ]
    },
    {
     "name": "stdout",
     "output_type": "stream",
     "text": [
      "Processed record 455/598 in 6.88 seconds.\n",
      "decomposition:  {'q1': 'Which team played in the 2013 Super Bowl?', 'q2': 'Did this team defeat the 49ers by a score of 34-31?'}\n"
     ]
    },
    {
     "name": "stderr",
     "output_type": "stream",
     "text": [
      " 76%|███████▋  | 456/598 [48:27<15:58,  6.75s/it]"
     ]
    },
    {
     "name": "stdout",
     "output_type": "stream",
     "text": [
      "Processed record 456/598 in 6.99 seconds.\n",
      "decomposition:  {'q1': 'Who is the real-life criminal that Sherlock Holmes miraculously survives a deadly fight with?', 'q2': \"What specific circumstances or details of this real-life criminal's character allow for a miraculous survival in a deadly fight?\"}\n"
     ]
    },
    {
     "name": "stderr",
     "output_type": "stream",
     "text": [
      " 76%|███████▋  | 457/598 [48:34<15:46,  6.71s/it]"
     ]
    },
    {
     "name": "stdout",
     "output_type": "stream",
     "text": [
      "Processed record 457/598 in 6.63 seconds.\n",
      "decomposition:  {'q1': \"What book is Will's book second only in translations to?\", 'q2': 'Which book has the most translations?'}\n"
     ]
    },
    {
     "name": "stderr",
     "output_type": "stream",
     "text": [
      " 77%|███████▋  | 458/598 [48:40<15:27,  6.62s/it]"
     ]
    },
    {
     "name": "stdout",
     "output_type": "stream",
     "text": [
      "Processed record 458/598 in 6.42 seconds.\n",
      "decomposition:  {'q1': 'What is the genre of the film \"Bordello of Blood\"?', 'q2': \"Is that same genre also associated with Dennis Miller's work?\"}\n"
     ]
    },
    {
     "name": "stderr",
     "output_type": "stream",
     "text": [
      " 77%|███████▋  | 459/598 [48:47<15:37,  6.74s/it]"
     ]
    },
    {
     "name": "stdout",
     "output_type": "stream",
     "text": [
      "Processed record 459/598 in 7.02 seconds.\n",
      "decomposition:  {'q1': 'Who is Gabrielle Union in the movie \"10 Things I Hate About You\"?', 'q2': 'Where does she film her scenes in this movie?'}\n"
     ]
    },
    {
     "name": "stderr",
     "output_type": "stream",
     "text": [
      " 77%|███████▋  | 460/598 [48:54<15:37,  6.79s/it]"
     ]
    },
    {
     "name": "stdout",
     "output_type": "stream",
     "text": [
      "Processed record 460/598 in 6.90 seconds.\n",
      "decomposition:  {'q1': \"Are Saludos Amigos and Disney's The Kid animated films?\", 'q2': 'If not, are they live-action films?'}\n"
     ]
    },
    {
     "name": "stderr",
     "output_type": "stream",
     "text": [
      " 77%|███████▋  | 461/598 [49:00<15:07,  6.63s/it]"
     ]
    },
    {
     "name": "stdout",
     "output_type": "stream",
     "text": [
      "Processed record 461/598 in 6.24 seconds.\n",
      "decomposition:  {'q1': 'Did Edwin Greenwood and Curtis Hanson have a career as film directors/makers?', 'q2': 'Were their careers active during the same time period?'}\n"
     ]
    },
    {
     "name": "stderr",
     "output_type": "stream",
     "text": [
      " 77%|███████▋  | 462/598 [49:08<15:32,  6.85s/it]"
     ]
    },
    {
     "name": "stdout",
     "output_type": "stream",
     "text": [
      "Processed record 462/598 in 7.39 seconds.\n",
      "decomposition:  {'q1': 'Who is the actor known for his deep and ebullient voice?', 'q2': 'Was this actor featured in the film \"Henry V\"?'}\n"
     ]
    },
    {
     "name": "stderr",
     "output_type": "stream",
     "text": [
      " 77%|███████▋  | 463/598 [49:15<15:40,  6.97s/it]"
     ]
    },
    {
     "name": "stdout",
     "output_type": "stream",
     "text": [
      "Processed record 463/598 in 7.23 seconds.\n",
      "decomposition:  {'q1': 'What is the genus of Centradenia and Lindera?', 'q2': 'Which of these two genera has more species?'}\n"
     ]
    },
    {
     "name": "stderr",
     "output_type": "stream",
     "text": [
      " 78%|███████▊  | 464/598 [49:22<15:34,  6.97s/it]"
     ]
    },
    {
     "name": "stdout",
     "output_type": "stream",
     "text": [
      "Processed record 464/598 in 6.99 seconds.\n",
      "decomposition:  {'q1': 'Who is the prince who works with David Manning and The Duke and Duchess of Cambridge?', 'q2': 'In what succession does this prince stand to the British throne?'}\n"
     ]
    },
    {
     "name": "stderr",
     "output_type": "stream",
     "text": [
      " 78%|███████▊  | 465/598 [49:30<16:17,  7.35s/it]"
     ]
    },
    {
     "name": "stdout",
     "output_type": "stream",
     "text": [
      "Processed record 465/598 in 8.23 seconds.\n",
      "decomposition:  {'q1': 'Is \"Audrey\" a magazine name?', 'q2': 'If so, how does its publication frequency compare to that of \"Lucire\"?'}\n"
     ]
    },
    {
     "name": "stderr",
     "output_type": "stream",
     "text": [
      " 78%|███████▊  | 466/598 [49:36<15:14,  6.93s/it]"
     ]
    },
    {
     "name": "stdout",
     "output_type": "stream",
     "text": [
      "Processed record 466/598 in 5.94 seconds.\n",
      "decomposition:  {'q1': 'Which district is located in Lincolnshire, England?', 'q2': 'In which village within that district does the Ferrers Baronetcy have its title?'}\n"
     ]
    },
    {
     "name": "stderr",
     "output_type": "stream",
     "text": [
      " 78%|███████▊  | 467/598 [49:44<16:02,  7.35s/it]"
     ]
    },
    {
     "name": "stdout",
     "output_type": "stream",
     "text": [
      "Processed record 467/598 in 8.33 seconds.\n",
      "decomposition:  {'q1': 'Who is the German forward that Souleyman Sané is the father of?', 'q2': 'Which Premier League team does this German forward play for?'}\n"
     ]
    },
    {
     "name": "stderr",
     "output_type": "stream",
     "text": [
      " 78%|███████▊  | 468/598 [49:51<15:49,  7.31s/it]"
     ]
    },
    {
     "name": "stdout",
     "output_type": "stream",
     "text": [
      "Processed record 468/598 in 7.21 seconds.\n",
      "decomposition:  {'q1': 'What is the location of Lonesome Lake?', 'q2': 'What lived at or near the 4080 ft peak that Lonesome Lake is located south of?'}\n"
     ]
    },
    {
     "name": "stderr",
     "output_type": "stream",
     "text": [
      " 78%|███████▊  | 469/598 [49:58<15:30,  7.21s/it]"
     ]
    },
    {
     "name": "stdout",
     "output_type": "stream",
     "text": [
      "Processed record 469/598 in 7.00 seconds.\n",
      "decomposition:  {'q1': 'Was \"The Happiest Millionaire\" produced before \"Inside Out\"?', 'q2': 'If not, then which of these movies is more recent?'}\n"
     ]
    },
    {
     "name": "stderr",
     "output_type": "stream",
     "text": [
      " 79%|███████▊  | 470/598 [50:06<15:17,  7.17s/it]"
     ]
    },
    {
     "name": "stdout",
     "output_type": "stream",
     "text": [
      "Processed record 470/598 in 7.05 seconds.\n",
      "decomposition:  {'q1': 'When was The Twilight Saga: The Official Illustrated Guide written?', 'q2': 'In what year was the first vampire-themed fantasy romance novel that this guide serves as a spin-off for first published?'}\n"
     ]
    },
    {
     "name": "stderr",
     "output_type": "stream",
     "text": [
      " 79%|███████▉  | 471/598 [50:16<17:08,  8.10s/it]"
     ]
    },
    {
     "name": "stdout",
     "output_type": "stream",
     "text": [
      "Processed record 471/598 in 10.26 seconds.\n",
      "decomposition:  {'q1': 'Which commuter airline has its head office in the Isle of Man Airport?', 'q2': 'Was this airline sometimes operated by Links Air?'}\n"
     ]
    },
    {
     "name": "stderr",
     "output_type": "stream",
     "text": [
      " 79%|███████▉  | 472/598 [50:23<16:16,  7.75s/it]"
     ]
    },
    {
     "name": "stdout",
     "output_type": "stream",
     "text": [
      "Processed record 472/598 in 6.94 seconds.\n",
      "decomposition:  {'q1': 'Who was the famous architect and engineer who designed the cricket ground?', 'q2': 'Which team won a 2017 cricket match played at the cricket ground constructed by Mian Abdul Khaliq and Company in 1959?'}\n"
     ]
    },
    {
     "name": "stderr",
     "output_type": "stream",
     "text": [
      " 79%|███████▉  | 473/598 [50:33<17:50,  8.56s/it]"
     ]
    },
    {
     "name": "stdout",
     "output_type": "stream",
     "text": [
      "Processed record 473/598 in 10.46 seconds.\n",
      "decomposition:  {'q1': 'Who is the coach whose football philosophy Johan Cruyff was an exponent of?', 'q2': 'What is the nationality of that coach?'}\n"
     ]
    },
    {
     "name": "stderr",
     "output_type": "stream",
     "text": [
      " 79%|███████▉  | 474/598 [50:40<16:48,  8.14s/it]"
     ]
    },
    {
     "name": "stdout",
     "output_type": "stream",
     "text": [
      "Processed record 474/598 in 7.14 seconds.\n",
      "decomposition:  {'q1': 'Who is the brewess with a song and jig tune bearing her name?', 'q2': 'In which county in England did this brewess live?'}\n"
     ]
    },
    {
     "name": "stderr",
     "output_type": "stream",
     "text": [
      " 79%|███████▉  | 475/598 [50:47<15:53,  7.75s/it]"
     ]
    },
    {
     "name": "stdout",
     "output_type": "stream",
     "text": [
      "Processed record 475/598 in 6.85 seconds.\n",
      "decomposition:  {'q1': 'Who is the British actor and former professional footballer?', 'q2': 'What was his birthdate, and what movie did he star alongside John Travolta in?'}\n"
     ]
    },
    {
     "name": "stderr",
     "output_type": "stream",
     "text": [
      " 80%|███████▉  | 476/598 [50:54<15:26,  7.59s/it]"
     ]
    },
    {
     "name": "stdout",
     "output_type": "stream",
     "text": [
      "Processed record 476/598 in 7.23 seconds.\n",
      "decomposition:  {'q1': \"Are Planter's Punch and Fizzy Apple Cocktail two distinct types of cocktails?\", 'q2': \"Are both Planter's Punch and Fizzy Apple Cocktail, if they exist as separate cocktails, inherently or potentially containing alcohol?\"}\n"
     ]
    },
    {
     "name": "stderr",
     "output_type": "stream",
     "text": [
      " 80%|███████▉  | 477/598 [51:01<14:53,  7.38s/it]"
     ]
    },
    {
     "name": "stdout",
     "output_type": "stream",
     "text": [
      "Processed record 477/598 in 6.88 seconds.\n",
      "decomposition:  {'q1': 'Who is the Punjabi singer featured in \"Lak Mera Kach Warga\"?', 'q2': 'When was that singer born?'}\n"
     ]
    },
    {
     "name": "stderr",
     "output_type": "stream",
     "text": [
      " 80%|███████▉  | 478/598 [51:09<14:55,  7.46s/it]"
     ]
    },
    {
     "name": "stdout",
     "output_type": "stream",
     "text": [
      "Processed record 478/598 in 7.65 seconds.\n",
      "decomposition:  {'q1': \"Who is The Autodidact, and what role does this character play in Sartre's novel?\", 'q2': \"What was Sartre's opinion on his novel that features this character?\"}\n"
     ]
    },
    {
     "name": "stderr",
     "output_type": "stream",
     "text": [
      " 80%|████████  | 479/598 [51:18<15:44,  7.94s/it]"
     ]
    },
    {
     "name": "stdout",
     "output_type": "stream",
     "text": [
      "Processed record 479/598 in 9.05 seconds.\n",
      "decomposition:  {'q1': 'What novel did Europa lose the Booker Prize to in 1997?', 'q2': 'Is this novel a story about the childhood experiences of fraternal twins whose lives are destroyed by Love Laws?'}\n"
     ]
    },
    {
     "name": "stderr",
     "output_type": "stream",
     "text": [
      " 80%|████████  | 480/598 [51:27<16:13,  8.25s/it]"
     ]
    },
    {
     "name": "stdout",
     "output_type": "stream",
     "text": [
      "Processed record 480/598 in 8.97 seconds.\n",
      "decomposition:  {'q1': 'Who are Gary Wayne Goldman and Don Bluth?', 'q2': 'What was the name and release year of their last collaborative project?'}\n"
     ]
    },
    {
     "name": "stderr",
     "output_type": "stream",
     "text": [
      " 80%|████████  | 481/598 [51:36<16:20,  8.38s/it]"
     ]
    },
    {
     "name": "stdout",
     "output_type": "stream",
     "text": [
      "Processed record 481/598 in 8.69 seconds.\n",
      "decomposition:  {'q1': 'Are Marianas Trench and Poe both musicians or bands with their own distinct music styles?', 'q2': 'If so, do the specific styles of Marianas Trench (Canadian) and Poe (American) differ from each other?'}\n"
     ]
    },
    {
     "name": "stderr",
     "output_type": "stream",
     "text": [
      " 81%|████████  | 482/598 [51:44<16:06,  8.33s/it]"
     ]
    },
    {
     "name": "stdout",
     "output_type": "stream",
     "text": [
      "Processed record 482/598 in 8.21 seconds.\n",
      "decomposition:  {'q1': 'What label was the Modern Jazz Quartet\\'s album \"Space\" released on?', 'q2': 'In what year was the label founded?'}\n"
     ]
    },
    {
     "name": "stderr",
     "output_type": "stream",
     "text": [
      " 81%|████████  | 483/598 [51:50<14:47,  7.72s/it]"
     ]
    },
    {
     "name": "stdout",
     "output_type": "stream",
     "text": [
      "Processed record 483/598 in 6.29 seconds.\n",
      "decomposition:  {'q1': 'What are the headquarters locations of American Airlines Group and News Corporation?', 'q2': 'Which of these two locations lies farther north?'}\n"
     ]
    },
    {
     "name": "stderr",
     "output_type": "stream",
     "text": [
      " 81%|████████  | 484/598 [51:57<14:16,  7.51s/it]"
     ]
    },
    {
     "name": "stdout",
     "output_type": "stream",
     "text": [
      "Processed record 484/598 in 7.02 seconds.\n",
      "decomposition:  {'q1': 'Was \"Darby O\\'Gill and the Little People\" a Disney family film?', 'q2': 'If so, did it precede the release of \"Big Red\"?'}\n"
     ]
    },
    {
     "name": "stderr",
     "output_type": "stream",
     "text": [
      " 81%|████████  | 485/598 [52:04<13:55,  7.40s/it]"
     ]
    },
    {
     "name": "stdout",
     "output_type": "stream",
     "text": [
      "Processed record 485/598 in 7.14 seconds.\n",
      "decomposition:  {'q1': 'Who is the first winner of EFL Young Player of the Month?', 'q2': 'For which national team does this player play?'}\n"
     ]
    },
    {
     "name": "stderr",
     "output_type": "stream",
     "text": [
      " 81%|████████▏ | 486/598 [52:11<13:35,  7.28s/it]"
     ]
    },
    {
     "name": "stdout",
     "output_type": "stream",
     "text": [
      "Processed record 486/598 in 7.01 seconds.\n",
      "decomposition:  {'q1': 'Was Jesus Jones a band that existed before Morcheeba?', 'q2': 'If so, when was Jesus Jones formed?'}\n"
     ]
    },
    {
     "name": "stderr",
     "output_type": "stream",
     "text": [
      " 81%|████████▏ | 487/598 [52:18<13:11,  7.13s/it]"
     ]
    },
    {
     "name": "stdout",
     "output_type": "stream",
     "text": [
      "Processed record 487/598 in 6.76 seconds.\n",
      "decomposition:  {'q1': 'What is the meaning of the name \"Kardashian\"?', 'q2': 'Does Kay Armen share a similar origin or characteristic with the name \"Kardashian\"?'}\n"
     ]
    },
    {
     "name": "stderr",
     "output_type": "stream",
     "text": [
      " 82%|████████▏ | 488/598 [52:26<13:26,  7.33s/it]"
     ]
    },
    {
     "name": "stdout",
     "output_type": "stream",
     "text": [
      "Processed record 488/598 in 7.80 seconds.\n",
      "decomposition:  {'q1': 'Who wrote the book that the 1987 film is based on?', 'q2': 'What author did Lindsay Parker play Carrie in a film about?'}\n"
     ]
    },
    {
     "name": "stderr",
     "output_type": "stream",
     "text": [
      " 82%|████████▏ | 489/598 [52:33<13:02,  7.18s/it]"
     ]
    },
    {
     "name": "stdout",
     "output_type": "stream",
     "text": [
      "Processed record 489/598 in 6.81 seconds.\n",
      "decomposition:  {'q1': 'Who is the English novelist?', 'q2': \"Was their work published by a children's book editor based in Oxford?\"}\n"
     ]
    },
    {
     "name": "stderr",
     "output_type": "stream",
     "text": [
      " 82%|████████▏ | 490/598 [52:39<12:18,  6.84s/it]"
     ]
    },
    {
     "name": "stdout",
     "output_type": "stream",
     "text": [
      "Processed record 490/598 in 6.05 seconds.\n",
      "decomposition:  {'q1': 'Who made their debut in \"A Rather English Marriage\"?', 'q2': 'And who later starred in \"Surrogates?\"'}\n"
     ]
    },
    {
     "name": "stderr",
     "output_type": "stream",
     "text": [
      " 82%|████████▏ | 491/598 [52:47<12:50,  7.20s/it]"
     ]
    },
    {
     "name": "stdout",
     "output_type": "stream",
     "text": [
      "Processed record 491/598 in 8.04 seconds.\n",
      "decomposition:  {'q1': 'Who is the footballer who plays forward?', 'q2': 'For which English team did CO Les Ulis develop him as a youth prospect?'}\n"
     ]
    },
    {
     "name": "stderr",
     "output_type": "stream",
     "text": [
      " 82%|████████▏ | 492/598 [52:54<12:55,  7.31s/it]"
     ]
    },
    {
     "name": "stdout",
     "output_type": "stream",
     "text": [
      "Processed record 492/598 in 7.59 seconds.\n",
      "decomposition:  {'q1': 'Who was the host of Whodunnit?', 'q2': 'Did that host die on November 16, 2009?'}\n"
     ]
    },
    {
     "name": "stderr",
     "output_type": "stream",
     "text": [
      " 82%|████████▏ | 493/598 [53:01<12:27,  7.12s/it]"
     ]
    },
    {
     "name": "stdout",
     "output_type": "stream",
     "text": [
      "Processed record 493/598 in 6.67 seconds.\n",
      "decomposition:  {'q1': \"Who is Mana's favorite drummer?\", 'q2': 'Is the band Deep Purple one of the bands that drummer has played with?'}\n"
     ]
    },
    {
     "name": "stderr",
     "output_type": "stream",
     "text": [
      " 83%|████████▎ | 494/598 [53:08<12:01,  6.94s/it]"
     ]
    },
    {
     "name": "stdout",
     "output_type": "stream",
     "text": [
      "Processed record 494/598 in 6.52 seconds.\n",
      "decomposition:  {'q1': 'Was a national forest created on Roan Mountain at some point in time?', 'q2': 'If so, which one of those national forests was created specifically in 1920?'}\n"
     ]
    },
    {
     "name": "stderr",
     "output_type": "stream",
     "text": [
      " 83%|████████▎ | 495/598 [53:15<11:55,  6.95s/it]"
     ]
    },
    {
     "name": "stdout",
     "output_type": "stream",
     "text": [
      "Processed record 495/598 in 6.96 seconds.\n",
      "decomposition:  {'q1': 'Who was Samuel Henry Kress?', 'q2': 'At which retail department stores was Romeo Records exclusively sold?'}\n"
     ]
    },
    {
     "name": "stderr",
     "output_type": "stream",
     "text": [
      " 83%|████████▎ | 496/598 [53:22<12:12,  7.18s/it]"
     ]
    },
    {
     "name": "stdout",
     "output_type": "stream",
     "text": [
      "Processed record 496/598 in 7.71 seconds.\n",
      "decomposition:  {'q1': 'What is the name of the band being referred to (Tohoshinki or DBSK)?', 'q2': 'What is the debut single of that band, specifically in Japanese releases?'}\n"
     ]
    },
    {
     "name": "stderr",
     "output_type": "stream",
     "text": [
      " 83%|████████▎ | 497/598 [53:31<12:40,  7.53s/it]"
     ]
    },
    {
     "name": "stdout",
     "output_type": "stream",
     "text": [
      "Processed record 497/598 in 8.34 seconds.\n",
      "decomposition:  {'q1': \"Who is Claude Christophe's brother?\", 'q2': \"What is the name of Claude Christophe's brother?\"}\n"
     ]
    },
    {
     "name": "stderr",
     "output_type": "stream",
     "text": [
      " 83%|████████▎ | 498/598 [53:38<12:26,  7.47s/it]"
     ]
    },
    {
     "name": "stdout",
     "output_type": "stream",
     "text": [
      "Processed record 498/598 in 7.34 seconds.\n",
      "decomposition:  {'q1': 'What is this intertidal zone?', 'q2': 'In what location is this intertidal zone situated, specifically in relation to The Frisian Islands and the North Sea?'}\n"
     ]
    },
    {
     "name": "stderr",
     "output_type": "stream",
     "text": [
      " 83%|████████▎ | 499/598 [53:48<13:24,  8.13s/it]"
     ]
    },
    {
     "name": "stdout",
     "output_type": "stream",
     "text": [
      "Processed record 499/598 in 9.67 seconds.\n",
      "decomposition:  {'q1': 'Who directed the comedy-drama?', 'q2': 'What was the worldwide gross of the comedy-drama directed by that person, which was released by Fox Searchlight Pictures?'}\n"
     ]
    },
    {
     "name": "stderr",
     "output_type": "stream",
     "text": [
      " 84%|████████▎ | 500/598 [53:55<12:56,  7.92s/it]"
     ]
    },
    {
     "name": "stdout",
     "output_type": "stream",
     "text": [
      "Processed record 500/598 in 7.43 seconds.\n",
      "\n",
      "--- Saved batch up to record 500\n",
      "Average time for last 100 records: 7.37 seconds\n",
      "\n",
      "decomposition:  {'q1': 'What team did Jordan Phillips play college football for?', 'q2': 'Is this team a member of which conference?'}\n"
     ]
    },
    {
     "name": "stderr",
     "output_type": "stream",
     "text": [
      " 84%|████████▍ | 501/598 [54:02<12:27,  7.71s/it]"
     ]
    },
    {
     "name": "stdout",
     "output_type": "stream",
     "text": [
      "Processed record 501/598 in 7.21 seconds.\n",
      "decomposition:  {'q1': 'How many naval guns did these battleships carry?', 'q2': 'In which battleships was the Japanese aircraft carrier Shinano the third?'}\n"
     ]
    },
    {
     "name": "stderr",
     "output_type": "stream",
     "text": [
      " 84%|████████▍ | 502/598 [54:10<12:07,  7.58s/it]"
     ]
    },
    {
     "name": "stdout",
     "output_type": "stream",
     "text": [
      "Processed record 502/598 in 7.28 seconds.\n",
      "decomposition:  {'q1': 'Where are Lavant and Lienz located?', 'q2': 'What is the location of Lavant and Lienz?'}\n"
     ]
    },
    {
     "name": "stderr",
     "output_type": "stream",
     "text": [
      " 84%|████████▍ | 503/598 [54:16<11:40,  7.38s/it]"
     ]
    },
    {
     "name": "stdout",
     "output_type": "stream",
     "text": [
      "Processed record 503/598 in 6.91 seconds.\n",
      "decomposition:  {'q1': 'Which heavy metal band is being referred to?', 'q2': 'At what point in their career did they switch genres?'}\n"
     ]
    },
    {
     "name": "stderr",
     "output_type": "stream",
     "text": [
      " 84%|████████▍ | 504/598 [54:24<11:25,  7.30s/it]"
     ]
    },
    {
     "name": "stdout",
     "output_type": "stream",
     "text": [
      "Processed record 504/598 in 7.11 seconds.\n",
      "decomposition:  {'q1': 'Who is the English singer and songwriter?', 'q2': 'Which 1995 film did this English singer and songwriter produce?'}\n"
     ]
    },
    {
     "name": "stderr",
     "output_type": "stream",
     "text": [
      " 84%|████████▍ | 505/598 [54:32<11:36,  7.49s/it]"
     ]
    },
    {
     "name": "stdout",
     "output_type": "stream",
     "text": [
      "Processed record 505/598 in 7.95 seconds.\n",
      "decomposition:  {'q1': 'Who is Roger Batzel?', 'q2': 'As a director, what kind of facility was he best known for?'}\n"
     ]
    },
    {
     "name": "stderr",
     "output_type": "stream",
     "text": [
      " 85%|████████▍ | 506/598 [54:38<11:06,  7.25s/it]"
     ]
    },
    {
     "name": "stdout",
     "output_type": "stream",
     "text": [
      "Processed record 506/598 in 6.67 seconds.\n",
      "decomposition:  {'q1': 'Who created and portrayed the comic fictional character that had a pen pal named Oki Doki?', 'q2': 'What is the name of this American comedian?'}\n"
     ]
    },
    {
     "name": "stderr",
     "output_type": "stream",
     "text": [
      " 85%|████████▍ | 507/598 [54:48<11:58,  7.90s/it]"
     ]
    },
    {
     "name": "stdout",
     "output_type": "stream",
     "text": [
      "Processed record 507/598 in 9.42 seconds.\n",
      "decomposition:  {'q1': 'Is Taksim Gezi Park a location with Ottoman architecture?', 'q2': 'If not, does Nuruosmaniye Mosque feature Ottoman architecture?'}\n"
     ]
    },
    {
     "name": "stderr",
     "output_type": "stream",
     "text": [
      " 85%|████████▍ | 508/598 [54:55<11:39,  7.77s/it]"
     ]
    },
    {
     "name": "stdout",
     "output_type": "stream",
     "text": [
      "Processed record 508/598 in 7.48 seconds.\n",
      "decomposition:  {'q1': 'Who composed the symphony?', 'q2': 'To which city was the symphony dedicated?'}\n"
     ]
    },
    {
     "name": "stderr",
     "output_type": "stream",
     "text": [
      " 85%|████████▌ | 509/598 [55:02<11:18,  7.63s/it]"
     ]
    },
    {
     "name": "stdout",
     "output_type": "stream",
     "text": [
      "Processed record 509/598 in 7.29 seconds.\n",
      "decomposition:  {'q1': 'What does \"Verrit\" refer to in the context of the Hillary Clinton presidential campaign?', 'q2': 'Which part of the Hillary Clinton presidential campaign is being referred to by Verrit\\'s slogan \"media for the 65.8 million\"?'}\n"
     ]
    },
    {
     "name": "stderr",
     "output_type": "stream",
     "text": [
      " 85%|████████▌ | 510/598 [55:11<11:42,  7.99s/it]"
     ]
    },
    {
     "name": "stdout",
     "output_type": "stream",
     "text": [
      "Processed record 510/598 in 8.82 seconds.\n",
      "decomposition:  {'q1': 'What were Operation Nordwind and Gothic Line?', 'q2': 'Where did these operations take place in relation to each other?'}\n"
     ]
    },
    {
     "name": "stderr",
     "output_type": "stream",
     "text": [
      " 85%|████████▌ | 511/598 [55:18<11:09,  7.69s/it]"
     ]
    },
    {
     "name": "stdout",
     "output_type": "stream",
     "text": [
      "Processed record 511/598 in 7.01 seconds.\n",
      "decomposition:  {'q1': 'Who is the author of Eat to Live?', 'q2': 'When was that person born?'}\n"
     ]
    },
    {
     "name": "stderr",
     "output_type": "stream",
     "text": [
      " 86%|████████▌ | 512/598 [55:24<10:23,  7.25s/it]"
     ]
    },
    {
     "name": "stdout",
     "output_type": "stream",
     "text": [
      "Processed record 512/598 in 6.21 seconds.\n",
      "decomposition:  {'q1': \"What was Jenny McCarthy's profession when she started her career in 1993?\", 'q2': 'How did she transition from that profession to become an American sports comedy actress, specifically a BASEketball star?'}\n"
     ]
    },
    {
     "name": "stderr",
     "output_type": "stream",
     "text": [
      " 86%|████████▌ | 513/598 [55:32<10:21,  7.32s/it]"
     ]
    },
    {
     "name": "stdout",
     "output_type": "stream",
     "text": [
      "Processed record 513/598 in 7.47 seconds.\n",
      "decomposition:  {'q1': 'Is Manon a play?', 'q2': 'If not, which of the two plays being compared (Antony and Cleopatra) has more acts?'}\n"
     ]
    },
    {
     "name": "stderr",
     "output_type": "stream",
     "text": [
      " 86%|████████▌ | 514/598 [55:39<10:11,  7.27s/it]"
     ]
    },
    {
     "name": "stdout",
     "output_type": "stream",
     "text": [
      "Processed record 514/598 in 7.18 seconds.\n",
      "decomposition:  {'q1': 'Who was compared to a stage and motion picture actor, vaudeville performer, American cowboy, humorist, newspaper columnist, and social commentator?', 'q2': 'In what year was this person born?'}\n"
     ]
    },
    {
     "name": "stderr",
     "output_type": "stream",
     "text": [
      " 86%|████████▌ | 515/598 [55:47<10:15,  7.41s/it]"
     ]
    },
    {
     "name": "stdout",
     "output_type": "stream",
     "text": [
      "Processed record 515/598 in 7.73 seconds.\n",
      "decomposition:  {'q1': 'Which actor is featured in the film \"Ikke Pe Ikka\" alongside Shanti Priya and Chandni?', 'q2': 'How many Filmfare Awards has this actor won?'}\n"
     ]
    },
    {
     "name": "stderr",
     "output_type": "stream",
     "text": [
      " 86%|████████▋ | 516/598 [55:54<10:03,  7.36s/it]"
     ]
    },
    {
     "name": "stdout",
     "output_type": "stream",
     "text": [
      "Processed record 516/598 in 7.23 seconds.\n",
      "decomposition:  {'q1': 'Who acted as Glenn in the eighth episode of \"Made to Suffer\"?', 'q2': 'When was this Korean-American actor born?'}\n"
     ]
    },
    {
     "name": "stderr",
     "output_type": "stream",
     "text": [
      " 86%|████████▋ | 517/598 [56:01<09:50,  7.29s/it]"
     ]
    },
    {
     "name": "stdout",
     "output_type": "stream",
     "text": [
      "Processed record 517/598 in 7.12 seconds.\n",
      "decomposition:  {'q1': 'Who is the Rutgers College graduate?', 'q2': 'Did Max Yergan work with this person?'}\n"
     ]
    },
    {
     "name": "stderr",
     "output_type": "stream",
     "text": [
      " 87%|████████▋ | 518/598 [56:08<09:24,  7.06s/it]"
     ]
    },
    {
     "name": "stdout",
     "output_type": "stream",
     "text": [
      "Processed record 518/598 in 6.52 seconds.\n",
      "decomposition:  {'q1': 'Who is Edwin Brown, and what movie does he play a role in?', 'q2': \"What are the identities of the people that Edwin Brown's character executes in this movie?\"}\n"
     ]
    },
    {
     "name": "stderr",
     "output_type": "stream",
     "text": [
      " 87%|████████▋ | 519/598 [56:16<09:51,  7.49s/it]"
     ]
    },
    {
     "name": "stdout",
     "output_type": "stream",
     "text": [
      "Processed record 519/598 in 8.49 seconds.\n",
      "decomposition:  {'q1': \"Is Tim O'Brien a U.S. citizen?\", 'q2': 'Is Erica Jong also a U.S. citizen?'}\n"
     ]
    },
    {
     "name": "stderr",
     "output_type": "stream",
     "text": [
      " 87%|████████▋ | 520/598 [56:22<09:14,  7.11s/it]"
     ]
    },
    {
     "name": "stdout",
     "output_type": "stream",
     "text": [
      "Processed record 520/598 in 6.22 seconds.\n",
      "decomposition:  {'q1': 'Which opera house houses the Paris National Opera?', 'q2': 'Does this opera house frequently feature Vasyl Slipak?'}\n"
     ]
    },
    {
     "name": "stderr",
     "output_type": "stream",
     "text": [
      " 87%|████████▋ | 521/598 [56:29<08:49,  6.87s/it]"
     ]
    },
    {
     "name": "stdout",
     "output_type": "stream",
     "text": [
      "Processed record 521/598 in 6.33 seconds.\n",
      "decomposition:  {'q1': 'When was id Tech 5 developed?', 'q2': 'In what year was it first used in a video game?'}\n"
     ]
    },
    {
     "name": "stderr",
     "output_type": "stream",
     "text": [
      " 87%|████████▋ | 522/598 [56:35<08:39,  6.84s/it]"
     ]
    },
    {
     "name": "stdout",
     "output_type": "stream",
     "text": [
      "Processed record 522/598 in 6.75 seconds.\n",
      "decomposition:  {'q1': \"What kind of film is A Woman's Revenge?\", 'q2': \"Was the actress in A Woman's Revenge also a dancer?\"}\n"
     ]
    },
    {
     "name": "stderr",
     "output_type": "stream",
     "text": [
      " 87%|████████▋ | 523/598 [56:43<08:44,  6.99s/it]"
     ]
    },
    {
     "name": "stdout",
     "output_type": "stream",
     "text": [
      "Processed record 523/598 in 7.36 seconds.\n",
      "decomposition:  {'q1': 'Are Great Pyrenees and Terceira Mastiff types of animals?', 'q2': 'Are they classified as dog breeds?'}\n"
     ]
    },
    {
     "name": "stderr",
     "output_type": "stream",
     "text": [
      " 88%|████████▊ | 524/598 [56:50<08:42,  7.06s/it]"
     ]
    },
    {
     "name": "stdout",
     "output_type": "stream",
     "text": [
      "Processed record 524/598 in 7.21 seconds.\n",
      "decomposition:  {'q1': 'In which state is Beatty Airport located?', 'q2': 'What Nevada county has a town with a 2010 population of 44,946?'}\n"
     ]
    },
    {
     "name": "stderr",
     "output_type": "stream",
     "text": [
      " 88%|████████▊ | 525/598 [56:59<09:20,  7.68s/it]"
     ]
    },
    {
     "name": "stdout",
     "output_type": "stream",
     "text": [
      "Processed record 525/598 in 9.11 seconds.\n",
      "decomposition:  {'q1': 'Who directed the film \"Office\"?', 'q2': 'Is Kim Eui-sung one of the actors who starred in that film?'}\n"
     ]
    },
    {
     "name": "stderr",
     "output_type": "stream",
     "text": [
      " 88%|████████▊ | 526/598 [57:06<09:01,  7.52s/it]"
     ]
    },
    {
     "name": "stdout",
     "output_type": "stream",
     "text": [
      "Processed record 526/598 in 7.16 seconds.\n",
      "decomposition:  {'q1': 'Who is the American socialite who lived in Bulloch Hall as a child?', 'q2': 'Whose great-grandfather was this American socialite?'}\n"
     ]
    },
    {
     "name": "stderr",
     "output_type": "stream",
     "text": [
      " 88%|████████▊ | 527/598 [57:13<08:37,  7.29s/it]"
     ]
    },
    {
     "name": "stdout",
     "output_type": "stream",
     "text": [
      "Processed record 527/598 in 6.74 seconds.\n",
      "decomposition:  {'q1': 'Who is Clara Rockmore?', 'q2': 'What instrument is she a virtuoso of in the novel Us Conducters?'}\n"
     ]
    },
    {
     "name": "stderr",
     "output_type": "stream",
     "text": [
      " 88%|████████▊ | 528/598 [57:20<08:15,  7.07s/it]"
     ]
    },
    {
     "name": "stdout",
     "output_type": "stream",
     "text": [
      "Processed record 528/598 in 6.58 seconds.\n",
      "decomposition:  {'q1': 'What type of vegetation do Lythrum and Erythrina have?', 'q2': 'What do they have in common?'}\n"
     ]
    },
    {
     "name": "stderr",
     "output_type": "stream",
     "text": [
      " 88%|████████▊ | 529/598 [57:26<07:59,  6.95s/it]"
     ]
    },
    {
     "name": "stdout",
     "output_type": "stream",
     "text": [
      "Processed record 529/598 in 6.67 seconds.\n",
      "decomposition:  {'q1': 'Who succeeded John Arbuthnott as President of the Royal Society of Edinburgh?', 'q2': 'How did Jocelyn Bell Burnell achieve this position?'}\n"
     ]
    },
    {
     "name": "stderr",
     "output_type": "stream",
     "text": [
      " 89%|████████▊ | 530/598 [57:33<07:56,  7.00s/it]"
     ]
    },
    {
     "name": "stdout",
     "output_type": "stream",
     "text": [
      "Processed record 530/598 in 7.12 seconds.\n",
      "decomposition:  {'q1': 'Who is the athlete featured on the cover of the FIFA 17 video game?', 'q2': 'For which team does that athlete play?'}\n"
     ]
    },
    {
     "name": "stderr",
     "output_type": "stream",
     "text": [
      " 89%|████████▉ | 531/598 [57:40<07:42,  6.90s/it]"
     ]
    },
    {
     "name": "stdout",
     "output_type": "stream",
     "text": [
      "Processed record 531/598 in 6.67 seconds.\n",
      "decomposition:  {'q1': 'What is the origin of Moscow Nights?', 'q2': 'Is Vladimir Troshin a native of that same country?'}\n"
     ]
    },
    {
     "name": "stderr",
     "output_type": "stream",
     "text": [
      " 89%|████████▉ | 532/598 [57:47<07:37,  6.93s/it]"
     ]
    },
    {
     "name": "stdout",
     "output_type": "stream",
     "text": [
      "Processed record 532/598 in 7.01 seconds.\n",
      "decomposition:  {'q1': 'Who is Katy Perry?', 'q2': 'Which singer did Katy Perry feature in her song \"E.T.\"?'}\n"
     ]
    },
    {
     "name": "stderr",
     "output_type": "stream",
     "text": [
      " 89%|████████▉ | 533/598 [57:54<07:36,  7.02s/it]"
     ]
    },
    {
     "name": "stdout",
     "output_type": "stream",
     "text": [
      "Processed record 533/598 in 7.23 seconds.\n",
      "decomposition:  {'q1': 'What is the name of the league that Eray Cümart plays football in?', 'q2': 'Has this league been playing in its current format for a certain amount of time?'}\n"
     ]
    },
    {
     "name": "stderr",
     "output_type": "stream",
     "text": [
      " 89%|████████▉ | 534/598 [58:01<07:31,  7.06s/it]"
     ]
    },
    {
     "name": "stdout",
     "output_type": "stream",
     "text": [
      "Processed record 534/598 in 7.13 seconds.\n",
      "decomposition:  {'q1': 'Which American multinational automaker has a 50:50 joint venture with Changan Automobile?', 'q2': 'In what state are the headquarters of that American multinational automaker?'}\n"
     ]
    },
    {
     "name": "stderr",
     "output_type": "stream",
     "text": [
      " 89%|████████▉ | 535/598 [58:08<07:20,  6.99s/it]"
     ]
    },
    {
     "name": "stdout",
     "output_type": "stream",
     "text": [
      "Processed record 535/598 in 6.82 seconds.\n",
      "decomposition:  {'q1': 'At which public high school did Freddie James become the head coach?', 'q2': 'Where is that public high school located?'}\n"
     ]
    },
    {
     "name": "stderr",
     "output_type": "stream",
     "text": [
      " 90%|████████▉ | 536/598 [58:15<07:02,  6.82s/it]"
     ]
    },
    {
     "name": "stdout",
     "output_type": "stream",
     "text": [
      "Processed record 536/598 in 6.43 seconds.\n",
      "decomposition:  {'q1': 'When were Samantha Cristoforetti and Vladimír Remek born?', 'q2': 'Which of them has an earlier birthdate?'}\n"
     ]
    },
    {
     "name": "stderr",
     "output_type": "stream",
     "text": [
      " 90%|████████▉ | 537/598 [58:21<06:53,  6.78s/it]"
     ]
    },
    {
     "name": "stdout",
     "output_type": "stream",
     "text": [
      "Processed record 537/598 in 6.70 seconds.\n",
      "decomposition:  {'q1': 'What is the pen name used by James D. Grant?', 'q2': 'Which of these individuals - James D. Grant, Lee Child, or Bernhard Schlink - was born earliest?'}\n"
     ]
    },
    {
     "name": "stderr",
     "output_type": "stream",
     "text": [
      " 90%|████████▉ | 538/598 [58:29<06:57,  6.96s/it]"
     ]
    },
    {
     "name": "stdout",
     "output_type": "stream",
     "text": [
      "Processed record 538/598 in 7.37 seconds.\n",
      "decomposition:  {'q1': 'Is Ana Ivanovic a European person?', 'q2': 'Is Jimmy Arias less European than Ana Ivanovic?'}\n"
     ]
    },
    {
     "name": "stderr",
     "output_type": "stream",
     "text": [
      " 90%|█████████ | 539/598 [58:36<06:54,  7.03s/it]"
     ]
    },
    {
     "name": "stdout",
     "output_type": "stream",
     "text": [
      "Processed record 539/598 in 7.18 seconds.\n",
      "decomposition:  {'q1': 'Who is Christopher Carlson?', 'q2': 'Where did he live?'}\n"
     ]
    },
    {
     "name": "stderr",
     "output_type": "stream",
     "text": [
      " 90%|█████████ | 540/598 [58:42<06:36,  6.83s/it]"
     ]
    },
    {
     "name": "stdout",
     "output_type": "stream",
     "text": [
      "Processed record 540/598 in 6.37 seconds.\n",
      "decomposition:  {'q1': 'Who wrote \"The Coral Sea\"?', 'q2': \"What was the title of the author's 1975 debut album?\"}\n"
     ]
    },
    {
     "name": "stderr",
     "output_type": "stream",
     "text": [
      " 90%|█████████ | 541/598 [58:50<06:46,  7.13s/it]"
     ]
    },
    {
     "name": "stdout",
     "output_type": "stream",
     "text": [
      "Processed record 541/598 in 7.84 seconds.\n",
      "decomposition:  {'q1': 'Did Brandenburg v. Ohio happen at all?', 'q2': 'If so, was it before Miranda v. Arizona occurred?'}\n"
     ]
    },
    {
     "name": "stderr",
     "output_type": "stream",
     "text": [
      " 91%|█████████ | 542/598 [58:57<06:33,  7.03s/it]"
     ]
    },
    {
     "name": "stdout",
     "output_type": "stream",
     "text": [
      "Processed record 542/598 in 6.78 seconds.\n",
      "decomposition:  {'q1': 'Is the folklore which Huldra belongs to a specific cultural or national tradition?', 'q2': 'Which geographical locations within that tradition is the folklore representative of?'}\n"
     ]
    },
    {
     "name": "stderr",
     "output_type": "stream",
     "text": [
      " 91%|█████████ | 543/598 [59:04<06:22,  6.95s/it]"
     ]
    },
    {
     "name": "stdout",
     "output_type": "stream",
     "text": [
      "Processed record 543/598 in 6.78 seconds.\n",
      "decomposition:  {'q1': 'Who is Craig Northey?', 'q2': 'With which band did Craig Northey formerly play before releasing his solo album Giddy Up?'}\n"
     ]
    },
    {
     "name": "stderr",
     "output_type": "stream",
     "text": [
      " 91%|█████████ | 544/598 [59:10<06:07,  6.81s/it]"
     ]
    },
    {
     "name": "stdout",
     "output_type": "stream",
     "text": [
      "Processed record 544/598 in 6.47 seconds.\n",
      "decomposition:  {'q1': 'Who were the Los Angeles Rams in 1983?', 'q2': 'Which of these players was their running back?'}\n"
     ]
    },
    {
     "name": "stderr",
     "output_type": "stream",
     "text": [
      " 91%|█████████ | 545/598 [59:16<05:44,  6.50s/it]"
     ]
    },
    {
     "name": "stdout",
     "output_type": "stream",
     "text": [
      "Processed record 545/598 in 5.77 seconds.\n",
      "decomposition:  {'q1': 'What is the name of a kit violin?', 'q2': 'And what is the name of an opera?'}\n"
     ]
    },
    {
     "name": "stderr",
     "output_type": "stream",
     "text": [
      " 91%|█████████▏| 546/598 [59:23<05:47,  6.69s/it]"
     ]
    },
    {
     "name": "stdout",
     "output_type": "stream",
     "text": [
      "Processed record 546/598 in 7.14 seconds.\n",
      "decomposition:  {'q1': 'What type of store is being referred to as having an event called \"Wawa Welcome America\"?', 'q2': 'Which East Coast chain of stores hosts this event?'}\n"
     ]
    },
    {
     "name": "stderr",
     "output_type": "stream",
     "text": [
      " 91%|█████████▏| 547/598 [59:30<05:40,  6.69s/it]"
     ]
    },
    {
     "name": "stdout",
     "output_type": "stream",
     "text": [
      "Processed record 547/598 in 6.67 seconds.\n",
      "decomposition:  {'q1': 'Is Lake Memphremagog a freshwater lake?', 'q2': 'Is Lake Prespa also a freshwater lake?'}\n"
     ]
    },
    {
     "name": "stderr",
     "output_type": "stream",
     "text": [
      " 92%|█████████▏| 548/598 [59:37<05:43,  6.86s/it]"
     ]
    },
    {
     "name": "stdout",
     "output_type": "stream",
     "text": [
      "Processed record 548/598 in 7.28 seconds.\n",
      "decomposition:  {'q1': 'Which United States President did Grand Trunk Western 6325 gain notoriety for pulling the campaign train of in 1946?', 'q2': 'Whose (successor) campaign train was pulled by Grand Trunk Western 6325 in 1946?'}\n"
     ]
    },
    {
     "name": "stderr",
     "output_type": "stream",
     "text": [
      " 92%|█████████▏| 549/598 [59:45<05:48,  7.12s/it]"
     ]
    },
    {
     "name": "stdout",
     "output_type": "stream",
     "text": [
      "Processed record 549/598 in 7.71 seconds.\n",
      "decomposition:  {'q1': 'Is Choisya endemic to the Americas?', 'q2': 'Is Oenothera endemic to the Americas?'}\n"
     ]
    },
    {
     "name": "stderr",
     "output_type": "stream",
     "text": [
      " 92%|█████████▏| 550/598 [59:52<05:40,  7.09s/it]"
     ]
    },
    {
     "name": "stdout",
     "output_type": "stream",
     "text": [
      "Processed record 550/598 in 7.04 seconds.\n",
      "decomposition:  {'q1': 'Who was the commander of the Totskoye nuclear exercise?', 'q2': 'Which battle did this commander lead, resulting in the defeat of Nazi Germany?'}\n"
     ]
    },
    {
     "name": "stderr",
     "output_type": "stream",
     "text": [
      " 92%|█████████▏| 551/598 [59:59<05:34,  7.12s/it]"
     ]
    },
    {
     "name": "stdout",
     "output_type": "stream",
     "text": [
      "Processed record 551/598 in 7.18 seconds.\n",
      "decomposition:  {'q1': \"Who is Rossif Sutherland's half-brother?\", 'q2': 'For what show on Fox did his half-brother earn numerous awards?'}\n"
     ]
    },
    {
     "name": "stderr",
     "output_type": "stream",
     "text": [
      " 92%|█████████▏| 552/598 [1:00:06<05:27,  7.12s/it]"
     ]
    },
    {
     "name": "stdout",
     "output_type": "stream",
     "text": [
      "Processed record 552/598 in 7.10 seconds.\n",
      "decomposition:  {'q1': \"What was the retired footballer's role in his playing days?\", 'q2': 'In what capacity did he play for FC Barcelona before becoming the current manager?'}\n"
     ]
    },
    {
     "name": "stderr",
     "output_type": "stream",
     "text": [
      " 92%|█████████▏| 553/598 [1:00:14<05:33,  7.40s/it]"
     ]
    },
    {
     "name": "stdout",
     "output_type": "stream",
     "text": [
      "Processed record 553/598 in 8.06 seconds.\n",
      "decomposition:  {'q1': 'Are Cars and Prom film titles?', 'q2': 'Are Cars 2 and Prom animated films?'}\n"
     ]
    },
    {
     "name": "stderr",
     "output_type": "stream",
     "text": [
      " 93%|█████████▎| 554/598 [1:00:22<05:37,  7.67s/it]"
     ]
    },
    {
     "name": "stdout",
     "output_type": "stream",
     "text": [
      "Processed record 554/598 in 8.31 seconds.\n",
      "decomposition:  {'q1': 'What is the name of the championship that Sunderland Association Football Club plays in?', 'q2': 'For what reasons does Sunderland Association Football Club play in the Sky Bet Championship?'}\n"
     ]
    },
    {
     "name": "stderr",
     "output_type": "stream",
     "text": [
      " 93%|█████████▎| 555/598 [1:00:29<05:18,  7.41s/it]"
     ]
    },
    {
     "name": "stdout",
     "output_type": "stream",
     "text": [
      "Processed record 555/598 in 6.79 seconds.\n",
      "decomposition:  {'q1': 'Which ship was built in the US?', 'q2': 'For which naval warfare force?'}\n"
     ]
    },
    {
     "name": "stderr",
     "output_type": "stream",
     "text": [
      " 93%|█████████▎| 556/598 [1:00:36<05:00,  7.15s/it]"
     ]
    },
    {
     "name": "stdout",
     "output_type": "stream",
     "text": [
      "Processed record 556/598 in 6.55 seconds.\n",
      "decomposition:  {'q1': 'Which country in North America existed from 1861 to 1865 and did not have international recognition?', 'q2': 'What institution used the Maria A Wook to patrol navigable waterways within that unrecognized country?'}\n"
     ]
    },
    {
     "name": "stderr",
     "output_type": "stream",
     "text": [
      " 93%|█████████▎| 557/598 [1:00:45<05:15,  7.69s/it]"
     ]
    },
    {
     "name": "stdout",
     "output_type": "stream",
     "text": [
      "Processed record 557/598 in 8.94 seconds.\n",
      "decomposition:  {'q1': 'What regional bank did First Charter Bank become part of?', 'q2': 'Where is the headquarters of that regional bank located?'}\n"
     ]
    },
    {
     "name": "stderr",
     "output_type": "stream",
     "text": [
      " 93%|█████████▎| 558/598 [1:00:51<04:56,  7.41s/it]"
     ]
    },
    {
     "name": "stdout",
     "output_type": "stream",
     "text": [
      "Processed record 558/598 in 6.75 seconds.\n",
      "decomposition:  {'q1': \"What talk show was hosted by Mary Ann Parkinson's husband?\", 'q2': 'When did her husband host this talk show?'}\n"
     ]
    },
    {
     "name": "stderr",
     "output_type": "stream",
     "text": [
      " 93%|█████████▎| 559/598 [1:00:59<04:49,  7.43s/it]"
     ]
    },
    {
     "name": "stdout",
     "output_type": "stream",
     "text": [
      "Processed record 559/598 in 7.50 seconds.\n",
      "decomposition:  {'q1': 'Who is \"the Guard\" referring to?', 'q2': 'For that specific guard, how many seasons did they play in the NBA?'}\n"
     ]
    },
    {
     "name": "stderr",
     "output_type": "stream",
     "text": [
      " 94%|█████████▎| 560/598 [1:01:06<04:36,  7.28s/it]"
     ]
    },
    {
     "name": "stdout",
     "output_type": "stream",
     "text": [
      "Processed record 560/598 in 6.91 seconds.\n",
      "decomposition:  {'q1': 'Who was the 16-year head football coach at University of Oklahoma?', 'q2': 'Did he win a title in 2000 after his departure?'}\n"
     ]
    },
    {
     "name": "stderr",
     "output_type": "stream",
     "text": [
      " 94%|█████████▍| 561/598 [1:01:13<04:26,  7.19s/it]"
     ]
    },
    {
     "name": "stdout",
     "output_type": "stream",
     "text": [
      "Processed record 561/598 in 6.99 seconds.\n",
      "decomposition:  {'q1': 'Who was the coach of the 2017 Gujarat Lions?', 'q2': 'From which college did that person graduate?'}\n"
     ]
    },
    {
     "name": "stderr",
     "output_type": "stream",
     "text": [
      " 94%|█████████▍| 562/598 [1:01:19<04:09,  6.93s/it]"
     ]
    },
    {
     "name": "stdout",
     "output_type": "stream",
     "text": [
      "Processed record 562/598 in 6.32 seconds.\n",
      "decomposition:  {'q1': 'Are the Trump Palace Condominiums a type of building that can be compared in terms of height (i.e., are they buildings)?', 'q2': 'If so, are the One Dag Hammarskjöld Plaza taller than them?'}\n"
     ]
    },
    {
     "name": "stderr",
     "output_type": "stream",
     "text": [
      " 94%|█████████▍| 563/598 [1:01:27<04:10,  7.16s/it]"
     ]
    },
    {
     "name": "stdout",
     "output_type": "stream",
     "text": [
      "Processed record 563/598 in 7.68 seconds.\n",
      "decomposition:  {'q1': 'Who was the coach of the 1994 Tampa Bay Buccaneers?', 'q2': 'Does this person currently coach anywhere?'}\n"
     ]
    },
    {
     "name": "stderr",
     "output_type": "stream",
     "text": [
      " 94%|█████████▍| 564/598 [1:01:33<03:53,  6.86s/it]"
     ]
    },
    {
     "name": "stdout",
     "output_type": "stream",
     "text": [
      "Processed record 564/598 in 6.15 seconds.\n",
      "decomposition:  {'q1': 'How many solo albums did Lindsey Buckingham release in total?', 'q2': 'Was \"Gift of Screams\" his fifth solo album among those releases?'}\n"
     ]
    },
    {
     "name": "stderr",
     "output_type": "stream",
     "text": [
      " 94%|█████████▍| 565/598 [1:01:40<03:42,  6.75s/it]"
     ]
    },
    {
     "name": "stdout",
     "output_type": "stream",
     "text": [
      "Processed record 565/598 in 6.49 seconds.\n",
      "decomposition:  {'q1': 'What is the duration of the Korean War?', 'q2': 'How long did the Battle of Mindanao last?'}\n"
     ]
    },
    {
     "name": "stderr",
     "output_type": "stream",
     "text": [
      " 95%|█████████▍| 566/598 [1:01:48<03:52,  7.26s/it]"
     ]
    },
    {
     "name": "stdout",
     "output_type": "stream",
     "text": [
      "Processed record 566/598 in 8.45 seconds.\n",
      "decomposition:  {'q1': 'Were Friedrich Dürrenmatt and Joseph Heller authors who wrote about World War II?', 'q2': 'Were their most famous works dramatizations of events that took place during World War II?'}\n"
     ]
    },
    {
     "name": "stderr",
     "output_type": "stream",
     "text": [
      " 95%|█████████▍| 567/598 [1:01:56<03:55,  7.59s/it]"
     ]
    },
    {
     "name": "stdout",
     "output_type": "stream",
     "text": [
      "Processed record 567/598 in 8.37 seconds.\n",
      "decomposition:  {'q1': 'What was Chile and Argentina disputing?', 'q2': 'What was the nature of this disputed possession that led to Operation Soberania?'}\n"
     ]
    },
    {
     "name": "stderr",
     "output_type": "stream",
     "text": [
      " 95%|█████████▍| 568/598 [1:02:03<03:40,  7.35s/it]"
     ]
    },
    {
     "name": "stdout",
     "output_type": "stream",
     "text": [
      "Processed record 568/598 in 6.79 seconds.\n",
      "decomposition:  {'q1': 'What are Keri Collins and James Kerwin?', 'q2': 'Are they the same thing?'}\n"
     ]
    },
    {
     "name": "stderr",
     "output_type": "stream",
     "text": [
      " 95%|█████████▌| 569/598 [1:02:10<03:26,  7.11s/it]"
     ]
    },
    {
     "name": "stdout",
     "output_type": "stream",
     "text": [
      "Processed record 569/598 in 6.55 seconds.\n",
      "decomposition:  {'q1': 'What is the name of the first British football club to win a major European tournament?', 'q2': 'Which stadium has been recently demolished and was previously home to this club?'}\n"
     ]
    },
    {
     "name": "stderr",
     "output_type": "stream",
     "text": [
      " 95%|█████████▌| 570/598 [1:02:17<03:24,  7.30s/it]"
     ]
    },
    {
     "name": "stdout",
     "output_type": "stream",
     "text": [
      "Processed record 570/598 in 7.73 seconds.\n",
      "decomposition:  {'q1': 'Which WFL team did the player play for?', 'q2': 'For how many seasons did the player play with that WFL team?'}\n"
     ]
    },
    {
     "name": "stderr",
     "output_type": "stream",
     "text": [
      " 95%|█████████▌| 571/598 [1:02:25<03:19,  7.40s/it]"
     ]
    },
    {
     "name": "stdout",
     "output_type": "stream",
     "text": [
      "Processed record 571/598 in 7.64 seconds.\n",
      "decomposition:  {'q1': 'Who is the American football wide receiver for the Dallas Cowboys of the NFL?', 'q2': 'What are some notable achievements of this individual, including their birthdate, a guest appearance on Back of the Shop, and earning All-American honors in 2008?'}\n"
     ]
    },
    {
     "name": "stderr",
     "output_type": "stream",
     "text": [
      " 96%|█████████▌| 572/598 [1:02:35<03:32,  8.18s/it]"
     ]
    },
    {
     "name": "stdout",
     "output_type": "stream",
     "text": [
      "Processed record 572/598 in 10.00 seconds.\n",
      "decomposition:  {'q1': 'What girl group is the singer a member of?', 'q2': 'Is the \"Yes? No?\" the debut extended play of that girl group?'}\n"
     ]
    },
    {
     "name": "stderr",
     "output_type": "stream",
     "text": [
      " 96%|█████████▌| 573/598 [1:02:43<03:23,  8.12s/it]"
     ]
    },
    {
     "name": "stdout",
     "output_type": "stream",
     "text": [
      "Processed record 573/598 in 7.99 seconds.\n",
      "decomposition:  {'q1': 'Which American alternative rock band formed in 1999?', 'q2': 'Did this band perform in concerts opened by Mulchmen?'}\n"
     ]
    },
    {
     "name": "stderr",
     "output_type": "stream",
     "text": [
      " 96%|█████████▌| 574/598 [1:02:50<03:03,  7.65s/it]"
     ]
    },
    {
     "name": "stdout",
     "output_type": "stream",
     "text": [
      "Processed record 574/598 in 6.53 seconds.\n",
      "decomposition:  {'q1': 'Which film opened the 48th annual Berlin International Film Festival?', 'q2': 'Who starred in that film?'}\n"
     ]
    },
    {
     "name": "stderr",
     "output_type": "stream",
     "text": [
      " 96%|█████████▌| 575/598 [1:02:57<02:52,  7.48s/it]"
     ]
    },
    {
     "name": "stdout",
     "output_type": "stream",
     "text": [
      "Processed record 575/598 in 7.09 seconds.\n",
      "decomposition:  {'q1': 'Who is Lynn Cartwright?', 'q2': \"In what movie did she play the older version of Gena Davis' character Dottie Hinson?\"}\n"
     ]
    },
    {
     "name": "stderr",
     "output_type": "stream",
     "text": [
      " 96%|█████████▋| 576/598 [1:03:06<02:58,  8.11s/it]"
     ]
    },
    {
     "name": "stdout",
     "output_type": "stream",
     "text": [
      "Processed record 576/598 in 9.57 seconds.\n",
      "decomposition:  {'q1': 'Who is the author of \"Hell on Earth\"?', 'q2': 'What is the nationality of this author?'}\n"
     ]
    },
    {
     "name": "stderr",
     "output_type": "stream",
     "text": [
      " 96%|█████████▋| 577/598 [1:03:13<02:40,  7.63s/it]"
     ]
    },
    {
     "name": "stdout",
     "output_type": "stream",
     "text": [
      "Processed record 577/598 in 6.51 seconds.\n",
      "decomposition:  {'q1': 'Who is Sydney Pollack?', 'q2': 'What was the type of film for his last film?'}\n"
     ]
    },
    {
     "name": "stderr",
     "output_type": "stream",
     "text": [
      " 97%|█████████▋| 578/598 [1:03:19<02:22,  7.13s/it]"
     ]
    },
    {
     "name": "stdout",
     "output_type": "stream",
     "text": [
      "Processed record 578/598 in 5.97 seconds.\n",
      "decomposition:  {'q1': 'Is the Trailing bellflower a type of plant that has been classified into a specific plant family?', 'q2': 'Does the Pseudocydonia sinensis, if it is also a plant, belong to the same plant family as the Trailing bellflower?'}\n"
     ]
    },
    {
     "name": "stderr",
     "output_type": "stream",
     "text": [
      " 97%|█████████▋| 579/598 [1:03:26<02:14,  7.10s/it]"
     ]
    },
    {
     "name": "stdout",
     "output_type": "stream",
     "text": [
      "Processed record 579/598 in 7.02 seconds.\n",
      "decomposition:  {'q1': 'Who directed a drama film about Jeff Bauman?', 'q2': 'Was this film about Jeff Bauman?'}\n"
     ]
    },
    {
     "name": "stderr",
     "output_type": "stream",
     "text": [
      " 97%|█████████▋| 580/598 [1:03:33<02:05,  6.99s/it]"
     ]
    },
    {
     "name": "stdout",
     "output_type": "stream",
     "text": [
      "Processed record 580/598 in 6.75 seconds.\n",
      "decomposition:  {'q1': 'Who died, necessitating the 2014 mayoral election in Jackson, Mississippi?', 'q2': 'In which city was that person born?'}\n"
     ]
    },
    {
     "name": "stderr",
     "output_type": "stream",
     "text": [
      " 97%|█████████▋| 581/598 [1:03:40<01:59,  7.02s/it]"
     ]
    },
    {
     "name": "stdout",
     "output_type": "stream",
     "text": [
      "Processed record 581/598 in 7.10 seconds.\n",
      "decomposition:  {'q1': 'What is the city that the Dunedin Isles Golf Club Golf Course refers to?', 'q2': 'From where does this city get its name?'}\n"
     ]
    },
    {
     "name": "stderr",
     "output_type": "stream",
     "text": [
      " 97%|█████████▋| 582/598 [1:03:48<01:59,  7.49s/it]"
     ]
    },
    {
     "name": "stdout",
     "output_type": "stream",
     "text": [
      "Processed record 582/598 in 8.59 seconds.\n",
      "decomposition:  {'q1': 'What type of product does methyl ethyl ketone typically serve as a solvent for?', 'q2': 'Is the product in question something that requires an organic compound like methyl ethyl ketone as its solvent?'}\n"
     ]
    },
    {
     "name": "stderr",
     "output_type": "stream",
     "text": [
      " 97%|█████████▋| 583/598 [1:03:56<01:53,  7.59s/it]"
     ]
    },
    {
     "name": "stdout",
     "output_type": "stream",
     "text": [
      "Processed record 583/598 in 7.83 seconds.\n",
      "decomposition:  {'q1': 'Who is the actor from \"Lost\"?', 'q2': 'Is this actor also in the film Another Earth?'}\n"
     ]
    },
    {
     "name": "stderr",
     "output_type": "stream",
     "text": [
      " 98%|█████████▊| 584/598 [1:04:03<01:43,  7.39s/it]"
     ]
    },
    {
     "name": "stdout",
     "output_type": "stream",
     "text": [
      "Processed record 584/598 in 6.90 seconds.\n",
      "decomposition:  {'q1': 'Who was married to Woody Allen and appeared in his early films?', 'q2': 'Who directed a film written by that actress?'}\n"
     ]
    },
    {
     "name": "stderr",
     "output_type": "stream",
     "text": [
      " 98%|█████████▊| 585/598 [1:04:12<01:43,  7.94s/it]"
     ]
    },
    {
     "name": "stdout",
     "output_type": "stream",
     "text": [
      "Processed record 585/598 in 9.25 seconds.\n",
      "decomposition:  {'q1': 'Who was the terrorist killed in a raid led by stealth helicopters in May 2011?', 'q2': 'What is the ethnicity of that individual?'}\n"
     ]
    },
    {
     "name": "stderr",
     "output_type": "stream",
     "text": [
      " 98%|█████████▊| 586/598 [1:04:20<01:35,  7.93s/it]"
     ]
    },
    {
     "name": "stdout",
     "output_type": "stream",
     "text": [
      "Processed record 586/598 in 7.91 seconds.\n",
      "decomposition:  {'q1': 'Is Del Lord a film director?', 'q2': 'If so, how does his age compare to that of Wang Xiaoshuai?'}\n"
     ]
    },
    {
     "name": "stderr",
     "output_type": "stream",
     "text": [
      " 98%|█████████▊| 587/598 [1:04:27<01:25,  7.73s/it]"
     ]
    },
    {
     "name": "stdout",
     "output_type": "stream",
     "text": [
      "Processed record 587/598 in 7.27 seconds.\n",
      "decomposition:  {'q1': 'What is the name of the dialect being referred to, i.e. what is the \"Walserdeutsch\" dialect?', 'q2': 'To which group of dialects does the identified \"Walserdeutsch\" dialect belong?'}\n"
     ]
    },
    {
     "name": "stderr",
     "output_type": "stream",
     "text": [
      " 98%|█████████▊| 588/598 [1:04:34<01:14,  7.48s/it]"
     ]
    },
    {
     "name": "stdout",
     "output_type": "stream",
     "text": [
      "Processed record 588/598 in 6.87 seconds.\n",
      "decomposition:  {'q1': 'Who starred in the British miniseries Goodbye Cruel World?', 'q2': 'What role did this actress play in the BBC drama \"Waking the Dead\"?'}\n"
     ]
    },
    {
     "name": "stderr",
     "output_type": "stream",
     "text": [
      " 98%|█████████▊| 589/598 [1:04:42<01:07,  7.47s/it]"
     ]
    },
    {
     "name": "stdout",
     "output_type": "stream",
     "text": [
      "Processed record 589/598 in 7.46 seconds.\n",
      "decomposition:  {'q1': 'Which team does George Williams play for?', 'q2': 'What is another name for this team?'}\n"
     ]
    },
    {
     "name": "stderr",
     "output_type": "stream",
     "text": [
      " 99%|█████████▊| 590/598 [1:04:50<01:00,  7.60s/it]"
     ]
    },
    {
     "name": "stdout",
     "output_type": "stream",
     "text": [
      "Processed record 590/598 in 7.91 seconds.\n",
      "decomposition:  {'q1': 'What series recounts the adventures of Anne Shirley?', 'q2': 'In which year was this series published by Scholastic Press?'}\n"
     ]
    },
    {
     "name": "stderr",
     "output_type": "stream",
     "text": [
      " 99%|█████████▉| 591/598 [1:04:56<00:50,  7.25s/it]"
     ]
    },
    {
     "name": "stdout",
     "output_type": "stream",
     "text": [
      "Processed record 591/598 in 6.43 seconds.\n",
      "decomposition:  {'q1': 'Who was born first, Simone Cipriani or Stella McCartney?', 'q2': 'What is the year of birth of that person?'}\n"
     ]
    },
    {
     "name": "stderr",
     "output_type": "stream",
     "text": [
      " 99%|█████████▉| 592/598 [1:05:03<00:43,  7.30s/it]"
     ]
    },
    {
     "name": "stdout",
     "output_type": "stream",
     "text": [
      "Processed record 592/598 in 7.43 seconds.\n",
      "decomposition:  {'q1': 'What kind of setting is the story set in (World War II)?', 'q2': 'Where were the women imprisoned during this time period?'}\n"
     ]
    },
    {
     "name": "stderr",
     "output_type": "stream",
     "text": [
      " 99%|█████████▉| 593/598 [1:05:11<00:36,  7.40s/it]"
     ]
    },
    {
     "name": "stdout",
     "output_type": "stream",
     "text": [
      "Processed record 593/598 in 7.61 seconds.\n",
      "decomposition:  {'q1': 'Is \"Halestorm\" a band from one state, while \"Say Anything\" is also a band from another state?', 'q2': 'Are the states of origin for these two bands different?'}\n"
     ]
    },
    {
     "name": "stderr",
     "output_type": "stream",
     "text": [
      " 99%|█████████▉| 594/598 [1:05:19<00:29,  7.44s/it]"
     ]
    },
    {
     "name": "stdout",
     "output_type": "stream",
     "text": [
      "Processed record 594/598 in 7.55 seconds.\n",
      "decomposition:  {'q1': 'Is the gold mine located in the Bridge River District either Bralorne or Dome Mine?', 'q2': 'If so, which one of these two mines is it?'}\n"
     ]
    },
    {
     "name": "stderr",
     "output_type": "stream",
     "text": [
      " 99%|█████████▉| 595/598 [1:05:25<00:21,  7.27s/it]"
     ]
    },
    {
     "name": "stdout",
     "output_type": "stream",
     "text": [
      "Processed record 595/598 in 6.86 seconds.\n",
      "decomposition:  {'q1': 'What track is being referred to?', 'q2': 'In which Ontario city is this track located?'}\n"
     ]
    },
    {
     "name": "stderr",
     "output_type": "stream",
     "text": [
      "100%|█████████▉| 596/598 [1:05:32<00:14,  7.09s/it]"
     ]
    },
    {
     "name": "stdout",
     "output_type": "stream",
     "text": [
      "Processed record 596/598 in 6.67 seconds.\n",
      "decomposition:  {'q1': 'What is the term that refers to the optimal combination of airflow and glottal tensions?', 'q2': 'What type of vibration does this term yield?'}\n"
     ]
    },
    {
     "name": "stderr",
     "output_type": "stream",
     "text": [
      "100%|█████████▉| 597/598 [1:05:39<00:07,  7.04s/it]"
     ]
    },
    {
     "name": "stdout",
     "output_type": "stream",
     "text": [
      "Processed record 597/598 in 6.91 seconds.\n",
      "decomposition:  {'q1': \"What is the purpose of the creator's second YouTube channel?\", 'q2': 'What type of content does he typically post on that channel?'}\n"
     ]
    },
    {
     "name": "stderr",
     "output_type": "stream",
     "text": [
      "100%|██████████| 598/598 [1:05:47<00:00,  6.60s/it]"
     ]
    },
    {
     "name": "stdout",
     "output_type": "stream",
     "text": [
      "Processed record 598/598 in 7.90 seconds.\n",
      "\n",
      "✅ All records processed.\n",
      "Total processing time: 3947.45 seconds.\n",
      "Average time per record: 6.60 seconds.\n"
     ]
    },
    {
     "name": "stderr",
     "output_type": "stream",
     "text": [
      "\n"
     ]
    }
   ],
   "source": [
    "import pandas as pd\n",
    "from tqdm import tqdm\n",
    "import time\n",
    "\n",
    "# Load your source CSV\n",
    "df = pd.read_csv(\"../../../Dataset_code_csvs/hotpotQA/hotpotQA_dataset_versions/5884paras_598queries/English/598_QnAs.csv\")\n",
    "\n",
    "# Output CSV path\n",
    "output_path = \"../../results/pipeline results/5884paras_598qna/modLQR_processed_results_en.csv\"\n",
    "\n",
    "# Initialize storage\n",
    "results = []\n",
    "batch_times = []\n",
    "total_start = time.time()\n",
    "\n",
    "# Loop over each row\n",
    "for idx, row in tqdm(df.iterrows(), total=len(df)):\n",
    "    query = row[\"question\"]\n",
    "    answer = row[\"answer\"]\n",
    "    question_type = row[\"level\"]\n",
    "\n",
    "    start_time = time.time()\n",
    "\n",
    "    try:\n",
    "        result = multihop_handling_modLQR(query, question_type)\n",
    "\n",
    "        classification = result[\"classification\"]\n",
    "        retrieved_context = result[\"retrieved_context\"]\n",
    "        final_answer = result[\"final_answer\"]\n",
    "        timings = result[\"timings\"]\n",
    "        total_time_one = timings[\"total_time\"]\n",
    "\n",
    "    except Exception as e:\n",
    "        print(f\"Error processing query {idx}: {e}\")\n",
    "        classification = \"Error\"\n",
    "        retrieved_context = \"Error\"\n",
    "        final_answer = \"Error\"\n",
    "        timings = {\n",
    "            \"classification_time\": 0,\n",
    "            \"decomposition_time\": 0,\n",
    "            \"retrieval_time\": 0,\n",
    "            \"generation_time\": 0,\n",
    "            \"total_time\": 0\n",
    "        }\n",
    "        total_time_one = 0\n",
    "\n",
    "    elapsed = time.time() - start_time\n",
    "    batch_times.append(elapsed)\n",
    "\n",
    "    results.append({\n",
    "        \"translated_question\": query,\n",
    "        \"translated_answer\": answer,\n",
    "        \"classification\": classification,\n",
    "        \"retrieved_context\": retrieved_context,\n",
    "        \"final_answer\": final_answer,\n",
    "        \"classification_time\": timings[\"classification_time\"],\n",
    "        \"decomposition_time\": timings[\"decomposition_time\"],\n",
    "        \"retrieval_time\": timings[\"retrieval_time\"],\n",
    "        \"generation_time\": timings[\"generation_time\"],\n",
    "        \"total_time\": timings[\"total_time\"],\n",
    "        \"level\": question_type\n",
    "    })\n",
    "\n",
    "    print(f\"Processed record {idx+1}/{len(df)} in {elapsed:.2f} seconds.\")\n",
    "\n",
    "    # Write batch every 100 queries\n",
    "    if (idx + 1) % 100 == 0:\n",
    "        pd.DataFrame(results).to_csv(output_path, mode='a', header=not bool(idx), index=False, encoding=\"utf-8-sig\")\n",
    "        avg_batch_time = sum(batch_times) / len(batch_times)\n",
    "        print(f\"\\n--- Saved batch up to record {idx+1}\")\n",
    "        print(f\"Average time for last 100 records: {avg_batch_time:.2f} seconds\\n\")\n",
    "        results = []\n",
    "        batch_times = []\n",
    "\n",
    "# Save any remaining records\n",
    "if results:\n",
    "    pd.DataFrame(results).to_csv(output_path, mode='a', header=not bool(len(df) % 100), index=False, encoding=\"utf-8-sig\")\n",
    "\n",
    "# Final stats\n",
    "total_elapsed = time.time() - total_start\n",
    "avg_total_time = total_elapsed / len(df)\n",
    "print(f\"\\n✅ All records processed.\")\n",
    "print(f\"Total processing time: {total_elapsed:.2f} seconds.\")\n",
    "print(f\"Average time per record: {avg_total_time:.2f} seconds.\")\n"
   ]
  },
  {
   "cell_type": "code",
   "execution_count": null,
   "id": "4205508c",
   "metadata": {},
   "outputs": [],
   "source": []
  }
 ],
 "metadata": {
  "kernelspec": {
   "display_name": "venv",
   "language": "python",
   "name": "python3"
  },
  "language_info": {
   "codemirror_mode": {
    "name": "ipython",
    "version": 3
   },
   "file_extension": ".py",
   "mimetype": "text/x-python",
   "name": "python",
   "nbconvert_exporter": "python",
   "pygments_lexer": "ipython3",
   "version": "3.11.9"
  }
 },
 "nbformat": 4,
 "nbformat_minor": 5
}
