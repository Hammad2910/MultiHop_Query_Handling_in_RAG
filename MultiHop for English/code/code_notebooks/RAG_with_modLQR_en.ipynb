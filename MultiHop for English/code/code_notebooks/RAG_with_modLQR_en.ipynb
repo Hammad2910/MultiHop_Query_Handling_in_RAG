{
 "cells": [
  {
   "cell_type": "code",
   "execution_count": 11,
   "id": "db6f979e",
   "metadata": {},
   "outputs": [],
   "source": [
    "import ollama"
   ]
  },
  {
   "cell_type": "code",
   "execution_count": 12,
   "id": "47d47995",
   "metadata": {},
   "outputs": [],
   "source": [
    "def classify_english_question(english_question):\n",
    "    prompt = f\"\"\"You are given a question in English. Your task is to classify it as either SINGLEHOP or MULTIHOP.\n",
    "\n",
    "Definitions:\n",
    "- A question is **SINGLEHOP** if it can be answered using a single fact, sentence, or document. The question may be long, but if it doesn't require combining or reasoning over multiple distinct pieces of information, it's SINGLEHOP.\n",
    "- A question is **MULTIHOP** if answering it requires combining multiple facts, reasoning over several steps, or connecting pieces of information from different sources.\n",
    "\n",
    "⚠️ Important:\n",
    "- A question's length does not determine its type. A long, descriptive question can still be SINGLEHOP.\n",
    "- MULTIHOP questions typically require you to first find one piece of information, then use that to find the next.\n",
    "\n",
    "Examples:\n",
    "\n",
    "🔹 Example 1 (SINGLEHOP - factual entity lookup):\n",
    "Question: \"Who wrote Pride and Prejudice?\"\n",
    "Answer: SINGLEHOP\n",
    "\n",
    "🔹 Example 2 (SINGLEHOP - simple date):\n",
    "Question: \"When did the Berlin Wall fall?\"\n",
    "Answer: SINGLEHOP\n",
    "\n",
    "🔹 Example 3 (SINGLEHOP - location fact):\n",
    "Question: \"Where is the Eiffel Tower located?\"\n",
    "Answer: SINGLEHOP\n",
    "\n",
    "🔹 Example 4 (SINGLEHOP - biography-style):\n",
    "Question: \"What is the profession of Elon Musk?\"\n",
    "Answer: SINGLEHOP\n",
    "\n",
    "🔹 Example 5 (SINGLEHOP - short explanation):\n",
    "Question: \"What is photosynthesis?\"\n",
    "Answer: SINGLEHOP\n",
    "\n",
    "🔸 Example 6 (MULTIHOP - indirect relationship):\n",
    "Question: \"Which country was ruled by the emperor who built the Taj Mahal?\"\n",
    "Answer: MULTIHOP\n",
    "\n",
    "🔸 Example 7 (MULTIHOP - event inference):\n",
    "Question: \"Which city hosted the Olympics where Michael Phelps won 8 gold medals?\"\n",
    "Answer: MULTIHOP\n",
    "\n",
    "🔸 Example 8 (MULTIHOP - entity resolution):\n",
    "Question: \"Who is the father of the current King of the United Kingdom?\"\n",
    "Answer: MULTIHOP\n",
    "\n",
    "🔸 Example 9 (MULTIHOP - causal historical link):\n",
    "Question: \"What war led to the independence of the United States?\"\n",
    "Answer: MULTIHOP\n",
    "\n",
    "🔸 Example 10 (MULTIHOP - layered facts):\n",
    "Question: \"Which university did the author of 'The Selfish Gene' attend, and what subject did he study there?\"\n",
    "Answer: MULTIHOP\n",
    "\n",
    "---\n",
    "\n",
    "Now read the following English question and classify it:\n",
    "\n",
    "Question: \"{english_question}\"\n",
    "Answer:\"\"\"\n",
    "\n",
    "    try:\n",
    "        response = ollama.generate(\n",
    "            model='llama3:8b',\n",
    "            prompt=prompt\n",
    "        )\n",
    "        reply = response['response'].strip().lower()\n",
    "\n",
    "        # Normalize and return classification\n",
    "        if 'multihop' in reply:\n",
    "            return 'multihop'\n",
    "        elif 'singlehop' in reply or 'simple' in reply:\n",
    "            return 'singlehop'\n",
    "\n",
    "        print(f\"⚠️ Unexpected response: {reply}\")\n",
    "        return \"unknown\"\n",
    "\n",
    "    except Exception as e:\n",
    "        print(f\"❌ Error processing question: {english_question}\\n↪ {e}\")\n",
    "        return \"error\"\n",
    "    \n",
    "\n",
    "\n",
    "def classify_english_question_using_gemma(english_question):\n",
    "    prompt = f\"\"\"You are given a question in English. Your task is to classify it as either SINGLEHOP or MULTIHOP.\n",
    "\n",
    "Definitions:\n",
    "- A question is **SINGLEHOP** if it can be answered using a single fact, sentence, or document. The question may be long, but if it doesn't require combining or reasoning over multiple distinct pieces of information, it's SINGLEHOP.\n",
    "- A question is **MULTIHOP** if answering it requires combining multiple facts, reasoning over several steps, or connecting pieces of information from different sources.\n",
    "\n",
    "⚠️ Important:\n",
    "- A question's length does not determine its type. A long, descriptive question can still be SINGLEHOP.\n",
    "- MULTIHOP questions typically require you to first find one piece of information, then use that to find the next.\n",
    "\n",
    "\n",
    "---\n",
    "\n",
    "Now read the following English question and classify it:\n",
    "\n",
    "Question: \"{english_question}\"\n",
    "Answer:\"\"\"\n",
    "\n",
    "    try:\n",
    "        response = ollama.generate(\n",
    "            model='gemma:7b-instruct',\n",
    "            prompt=prompt\n",
    "        )\n",
    "        reply = response['response'].strip().lower()\n",
    "\n",
    "        # Normalize and return classification\n",
    "        if 'multihop' in reply:\n",
    "            return 'multihop'\n",
    "        elif 'singlehop' in reply or 'simple' in reply:\n",
    "            return 'singlehop'\n",
    "\n",
    "        print(f\"⚠️ Unexpected response: {reply}\")\n",
    "        return \"unknown\"\n",
    "\n",
    "    except Exception as e:\n",
    "        print(f\"❌ Error processing question: {english_question}\\n↪ {e}\")\n",
    "        return \"error\"\n",
    "\n",
    "\n"
   ]
  },
  {
   "cell_type": "code",
   "execution_count": 13,
   "id": "e9cfd747",
   "metadata": {},
   "outputs": [],
   "source": [
    "def decompose_english_query(english_query: str) -> dict:\n",
    "    \"\"\"Returns dictionary with q1 and q2 keys containing sub-questions\"\"\"\n",
    "    refined_prompt = f\"\"\"\n",
    "You are an expert in breaking down complex English questions into two logically ordered sub-questions.\n",
    "\n",
    "Rules:\n",
    "- Extract exactly 2 sub-questions.\n",
    "- q1 should logically precede q2.\n",
    "- Use clear and grammatically correct English.\n",
    "- Output only in this format:\n",
    "  q1: [First sub-question]\n",
    "  q2: [Second sub-question]\n",
    "\n",
    "Input: {english_query}\n",
    "Output:\n",
    "\"\"\"\n",
    "\n",
    "    try:\n",
    "        response = ollama.generate(\n",
    "            model='llama3:8b',\n",
    "            prompt=refined_prompt,\n",
    "            options={\n",
    "                'temperature': 0.5,\n",
    "                'num_ctx': 2048  # Now you have more room for longer inputs\n",
    "            }\n",
    "        )\n",
    "\n",
    "        output = response['response'].strip()\n",
    "        \n",
    "\n",
    "        result = {}\n",
    "        for line in output.split('\\n'):\n",
    "            line = line.strip()\n",
    "            if line.startswith('q1:'):\n",
    "                result['q1'] = line[3:].strip()\n",
    "            elif line.startswith('q2:'):\n",
    "                result['q2'] = line[3:].strip()\n",
    "\n",
    "        return result if len(result) == 2 else {}\n",
    "\n",
    "    except Exception as e:\n",
    "        print(f\"Decomposition error: {str(e)}\")\n",
    "        return {}\n",
    "    \n",
    "\n",
    "\n",
    "def decompose_english_query_using_gemma(english_query: str) -> dict:\n",
    "    \"\"\"Returns dictionary with q1 and q2 keys containing sub-questions\"\"\"\n",
    "    refined_prompt = f\"\"\"\n",
    "You are an expert in breaking down complex English questions into two logically ordered sub-questions.\n",
    "\n",
    "Rules:\n",
    "- Extract exactly 2 sub-questions.\n",
    "- q1 should logically precede q2.\n",
    "- Use clear and grammatically correct English.\n",
    "- Output only in this format:\n",
    "  q1: [First sub-question]\n",
    "  q2: [Second sub-question]\n",
    "\n",
    "Input: {english_query}\n",
    "Output:\n",
    "\"\"\"\n",
    "\n",
    "    try:\n",
    "        response = ollama.generate(\n",
    "            model='gemma:7b-instruct',\n",
    "            prompt=refined_prompt,\n",
    "            options={\n",
    "                'temperature': 0.5,\n",
    "                'num_ctx': 2048  # Now you have more room for longer inputs\n",
    "            }\n",
    "        )\n",
    "\n",
    "        output = response['response'].strip()\n",
    "\n",
    "        result = {}\n",
    "        for line in output.split('\\n'):\n",
    "            line = line.strip()\n",
    "            if line.startswith('q1:'):\n",
    "                result['q1'] = line[3:].strip()\n",
    "            elif line.startswith('q2:'):\n",
    "                result['q2'] = line[3:].strip()\n",
    "\n",
    "        return result if len(result) == 2 else {}\n",
    "\n",
    "    except Exception as e:\n",
    "        print(f\"Decomposition error: {str(e)}\")\n",
    "        return {}\n",
    "\n",
    "\n"
   ]
  },
  {
   "cell_type": "code",
   "execution_count": 14,
   "id": "80eabfa9",
   "metadata": {},
   "outputs": [],
   "source": [
    "def query_context_relevance_check_en(query: str, context: str) -> bool:\n",
    "    prompt = f\"\"\"\n",
    "You are a binary classifier.\n",
    "\n",
    "Your task is to decide whether the following *context* is relevant to the *question*. You must answer ONLY with **True** or **False** — no explanation, no commentary, just one word: True or False.\n",
    "\n",
    "Criteria:\n",
    "- If the context helps answer the question directly or indirectly, reply: True\n",
    "- If the context is unrelated, confusing, or insufficient, reply: False\n",
    "\n",
    "IMPORTANT:\n",
    "- Do NOT explain your answer.\n",
    "- Do NOT include any additional comments.\n",
    "- Just respond with: True or False\n",
    "\n",
    "---\n",
    "\n",
    "Question: {query}\n",
    "\n",
    "Context: {context}\n",
    "\n",
    "Answer (True/False):\n",
    "\"\"\"\n",
    "\n",
    "    try:\n",
    "        import ollama\n",
    "        response = ollama.chat(\n",
    "            model=\"llama3:8b\",\n",
    "            messages=[{\"role\": \"user\", \"content\": prompt}]\n",
    "        )\n",
    "        answer = response['message']['content'].strip().lower()\n",
    "        return answer == 'true'\n",
    "    except Exception as e:\n",
    "        print(f\"Error during relevance check: {e}\")\n",
    "        return False\n",
    "    \n",
    "\n",
    "\n",
    "def query_context_relevance_check_en_using_gemma(query: str, context: str) -> bool:\n",
    "    prompt = f\"\"\"\n",
    "You are a binary classifier.\n",
    "\n",
    "Your task is to decide whether the following *context* is relevant to the *question*. You must answer ONLY with **True** or **False** — no explanation, no commentary, just one word: True or False.\n",
    "\n",
    "Criteria:\n",
    "- If the context helps answer the question directly or indirectly, reply: True\n",
    "- If the context is unrelated, confusing, or insufficient, reply: False\n",
    "\n",
    "IMPORTANT:\n",
    "- Do NOT explain your answer.\n",
    "- Do NOT include any additional comments.\n",
    "- Just respond with: True or False\n",
    "\n",
    "---\n",
    "\n",
    "Question: {query}\n",
    "\n",
    "Context: {context}\n",
    "\n",
    "Answer (True/False):\n",
    "\"\"\"\n",
    "\n",
    "    try:\n",
    "        import ollama\n",
    "        response = ollama.chat(\n",
    "            model=\"gemma:7b-instruct\",\n",
    "            messages=[{\"role\": \"user\", \"content\": prompt}]\n",
    "        )\n",
    "        answer = response['message']['content'].strip().lower()\n",
    "        return answer == 'true'\n",
    "    except Exception as e:\n",
    "        print(f\"Error during relevance check: {e}\")\n",
    "        return False\n",
    "\n"
   ]
  },
  {
   "cell_type": "code",
   "execution_count": 15,
   "id": "de56f7cc",
   "metadata": {},
   "outputs": [],
   "source": [
    "from sentence_transformers import SentenceTransformer\n",
    "import faiss\n",
    "import pickle\n",
    "import torch\n",
    "\n",
    "def load_retriever(\n",
    "    index_path: str,\n",
    "    chunks_path: str\n",
    "):\n",
    "    # Initialize device\n",
    "    device = \"cuda\" if torch.cuda.is_available() else \"cpu\"\n",
    "    \n",
    "    # Load SentenceTransformer MiniLM model (lighter than intfloat/e5-large)\n",
    "    model = SentenceTransformer(\"sentence-transformers/all-MiniLM-L6-v2\", device=device)\n",
    "    \n",
    "    # You can optionally configure max length\n",
    "    model.max_seq_length = 512  # if needed for long sentences\n",
    "    model.tokenizer.do_lower_case = False  # Keep for Urdu if using custom tokenizer\n",
    "\n",
    "    # Load FAISS index\n",
    "    index = faiss.read_index(index_path)\n",
    "    \n",
    "    # Load stored chunks\n",
    "    with open(chunks_path, \"rb\") as f:\n",
    "        chunks_list = pickle.load(f)\n",
    "    \n",
    "    return model, index, chunks_list, device\n"
   ]
  },
  {
   "cell_type": "code",
   "execution_count": 16,
   "id": "c50faf59",
   "metadata": {},
   "outputs": [],
   "source": [
    "model, index, chunks_list, device = load_retriever(\n",
    "    index_path=\"../../vector_db/paragraphs/5884_paras/5884_paras_index.faiss\",\n",
    "    chunks_path=\"../../data_storage/Paragraph_chunks/5884_paragraphs/5884_parachunks.pkl\"\n",
    ")"
   ]
  },
  {
   "cell_type": "code",
   "execution_count": 17,
   "id": "5b04c0b4",
   "metadata": {},
   "outputs": [],
   "source": [
    "def retrieve_documents(query, k=3):\n",
    "    # Encode the query using MiniLM model\n",
    "    query_embedding = model.encode([query])\n",
    "    \n",
    "    # Search the FAISS index\n",
    "    _, indices = index.search(query_embedding, k)\n",
    "    \n",
    "    # Return the top-k retrieved chunks\n",
    "    return [chunks_list[i] for i in indices[0]]"
   ]
  },
  {
   "cell_type": "code",
   "execution_count": 18,
   "id": "5c2152fe",
   "metadata": {},
   "outputs": [],
   "source": [
    "def generate_using_llama3(context, query):\n",
    "    prompt = f\"\"\"You are a helpful assistant designed to generate precise and informative answers based strictly on the given context.\n",
    "\n",
    "Query:\n",
    "{query}\n",
    "\n",
    "Retrieved Context:\n",
    "{context}\n",
    "\n",
    "Instruction:\n",
    "Answer the query using only the information present in the retrieved context. If the answer is not directly stated, make the best possible inference from the available context. Do not say \"no information available\", \"cannot answer\", or provide disclaimers. Only return a clear and direct answer — no introductions, no explanations, and no repetition of the query.\"\"\"\n",
    "\n",
    "\n",
    "    try:\n",
    "        response = ollama.generate(\n",
    "            model='llama3:8b',\n",
    "            prompt=prompt\n",
    "        )\n",
    "        return response['response'].strip()\n",
    "    except Exception as e:\n",
    "        print(\"Error during generation:\", e)\n",
    "        return \"Error generating answer.\"\n"
   ]
  },
  {
   "cell_type": "code",
   "execution_count": 19,
   "id": "26ef9280",
   "metadata": {},
   "outputs": [],
   "source": [
    "import time\n",
    "from concurrent.futures import ThreadPoolExecutor, as_completed\n",
    "\n",
    "def expand_multihop_context(intermediate_ctx, query, q1, q2, k):\n",
    "    try:\n",
    "        combined_query = q1 + intermediate_ctx + q2\n",
    "        second_hop_contexts = retrieve_documents(combined_query, k)\n",
    "\n",
    "        relevant_contexts = []\n",
    "\n",
    "        with ThreadPoolExecutor() as inner_executor:\n",
    "            futures = [\n",
    "                inner_executor.submit(query_context_relevance_check_en_using_gemma, query, ctx)\n",
    "                for ctx in second_hop_contexts\n",
    "            ]\n",
    "\n",
    "            for i, future in enumerate(as_completed(futures)):\n",
    "                try:\n",
    "                    if future.result():\n",
    "                        relevant_contexts.append(second_hop_contexts[i])\n",
    "                except Exception as e:\n",
    "                    print(\"Error during relevance check:\", e)\n",
    "\n",
    "        return relevant_contexts\n",
    "\n",
    "    except Exception as e:\n",
    "        print(\"Error in expand_multihop_context:\", e)\n",
    "        return []\n",
    "\n",
    "\n",
    "def get_context_of_multihop(query, type, k=3):\n",
    "    # Step 1: Classification\n",
    "    start_classification = time.time()\n",
    "    classification = classify_english_question_using_gemma(query)\n",
    "    classification_time = time.time() - start_classification\n",
    "\n",
    "    if type == \"easy\":\n",
    "        decomposition_time = 0.0\n",
    "        start_retrieval = time.time()\n",
    "        context = retrieve_documents(query, k)\n",
    "        retrieval_time = time.time() - start_retrieval\n",
    "        return context, classification, classification_time, decomposition_time, retrieval_time\n",
    "\n",
    "    else:\n",
    "        # Step 2: Decomposition\n",
    "        start_decomposition = time.time()\n",
    "        decomposition = decompose_english_query_using_gemma(query)\n",
    "        print(\"decomposition: \",decomposition)\n",
    "        q1 = decomposition.get(\"q1\", \"\")\n",
    "        q2 = decomposition.get(\"q2\", \"\")\n",
    "        decomposition_time = time.time() - start_decomposition\n",
    "\n",
    "        # Step 3: First-hop retrieval for q1 and q2\n",
    "        start_retrieval = time.time()\n",
    "        context_q1 = retrieve_documents(q1, k)\n",
    "        context_q2 = retrieve_documents(q2, k)\n",
    "\n",
    "        # Combine base context\n",
    "        main_context = context_q1 + context_q2\n",
    "\n",
    "        additional_contexts = []\n",
    "\n",
    "        # Expand q1\n",
    "        with ThreadPoolExecutor() as executor_q1:\n",
    "            futures_q1 = [\n",
    "                executor_q1.submit(expand_multihop_context, ctx, query, q1, q2, k)\n",
    "                for ctx in context_q1[:k]\n",
    "            ]\n",
    "            for future in as_completed(futures_q1):\n",
    "                result = future.result()\n",
    "                additional_contexts.extend(result)\n",
    "\n",
    "        # Expand q2\n",
    "        with ThreadPoolExecutor() as executor_q2:\n",
    "            futures_q2 = [\n",
    "                executor_q2.submit(expand_multihop_context, ctx, query, q1, q2, k)\n",
    "                for ctx in context_q2[:k]\n",
    "            ]\n",
    "            for future in as_completed(futures_q2):\n",
    "                result = future.result()\n",
    "                additional_contexts.extend(result)\n",
    "\n",
    "        # Merge all retrieved content\n",
    "        main_context.extend(additional_contexts)\n",
    "        retrieval_time = time.time() - start_retrieval\n",
    "\n",
    "        return main_context, classification, classification_time, decomposition_time, retrieval_time\n"
   ]
  },
  {
   "cell_type": "code",
   "execution_count": 20,
   "id": "1113f3ba",
   "metadata": {},
   "outputs": [],
   "source": [
    "import time\n",
    "\n",
    "def multihop_handling_modLQR(query, type, k=3):\n",
    "    # Step 1: Get context and timings\n",
    "    context, classification, classification_time, decomposition_time, retrieval_time = get_context_of_multihop(\n",
    "        query, type, k=k\n",
    "    )\n",
    "\n",
    "    # Flatten context if it's a list of strings\n",
    "    if isinstance(context, list):\n",
    "        combined_context = \"\\n\".join(context)\n",
    "    else:\n",
    "        combined_context = context\n",
    "\n",
    "    # Step 2: Generate answer and measure time\n",
    "    start_gen = time.time()\n",
    "    final_answer = generate_using_llama3(combined_context,query)\n",
    "    generation_time = time.time() - start_gen\n",
    "\n",
    "    # Step 3: Compute total time\n",
    "    total_time = classification_time + decomposition_time + retrieval_time + generation_time\n",
    "\n",
    "    return {\n",
    "        \"classification\": classification,\n",
    "        \"retrieved_context\": context,\n",
    "        \"final_answer\": final_answer,\n",
    "        \"timings\": {\n",
    "            \"classification_time\": classification_time,\n",
    "            \"decomposition_time\": decomposition_time,\n",
    "            \"retrieval_time\": retrieval_time,\n",
    "            \"generation_time\": generation_time,\n",
    "            \"total_time\": total_time\n",
    "        }\n",
    "    }\n"
   ]
  },
  {
   "cell_type": "code",
   "execution_count": 21,
   "id": "ae189858",
   "metadata": {},
   "outputs": [
    {
     "name": "stderr",
     "output_type": "stream",
     "text": [
      "  0%|          | 1/598 [00:04<44:42,  4.49s/it]"
     ]
    },
    {
     "name": "stdout",
     "output_type": "stream",
     "text": [
      "Processed record 1/598 in 4.49 seconds.\n"
     ]
    },
    {
     "name": "stderr",
     "output_type": "stream",
     "text": [
      "  0%|          | 2/598 [00:11<59:32,  5.99s/it]"
     ]
    },
    {
     "name": "stdout",
     "output_type": "stream",
     "text": [
      "Processed record 2/598 in 7.04 seconds.\n"
     ]
    },
    {
     "name": "stderr",
     "output_type": "stream",
     "text": [
      "  1%|          | 3/598 [00:18<1:02:30,  6.30s/it]"
     ]
    },
    {
     "name": "stdout",
     "output_type": "stream",
     "text": [
      "Processed record 3/598 in 6.67 seconds.\n"
     ]
    },
    {
     "name": "stderr",
     "output_type": "stream",
     "text": [
      "  1%|          | 4/598 [00:24<1:03:44,  6.44s/it]"
     ]
    },
    {
     "name": "stdout",
     "output_type": "stream",
     "text": [
      "Processed record 4/598 in 6.65 seconds.\n"
     ]
    },
    {
     "name": "stderr",
     "output_type": "stream",
     "text": [
      "  1%|          | 5/598 [00:31<1:04:30,  6.53s/it]"
     ]
    },
    {
     "name": "stdout",
     "output_type": "stream",
     "text": [
      "Processed record 5/598 in 6.68 seconds.\n"
     ]
    },
    {
     "name": "stderr",
     "output_type": "stream",
     "text": [
      "  1%|          | 6/598 [00:39<1:07:32,  6.85s/it]"
     ]
    },
    {
     "name": "stdout",
     "output_type": "stream",
     "text": [
      "Processed record 6/598 in 7.46 seconds.\n"
     ]
    },
    {
     "name": "stderr",
     "output_type": "stream",
     "text": [
      "  1%|          | 7/598 [00:46<1:08:16,  6.93s/it]"
     ]
    },
    {
     "name": "stdout",
     "output_type": "stream",
     "text": [
      "Processed record 7/598 in 7.11 seconds.\n"
     ]
    },
    {
     "name": "stderr",
     "output_type": "stream",
     "text": [
      "  1%|▏         | 8/598 [00:53<1:09:28,  7.07s/it]"
     ]
    },
    {
     "name": "stdout",
     "output_type": "stream",
     "text": [
      "Processed record 8/598 in 7.35 seconds.\n"
     ]
    },
    {
     "name": "stderr",
     "output_type": "stream",
     "text": [
      "  2%|▏         | 9/598 [01:00<1:08:27,  6.97s/it]"
     ]
    },
    {
     "name": "stdout",
     "output_type": "stream",
     "text": [
      "Processed record 9/598 in 6.77 seconds.\n"
     ]
    },
    {
     "name": "stderr",
     "output_type": "stream",
     "text": [
      "  2%|▏         | 10/598 [01:06<1:07:25,  6.88s/it]"
     ]
    },
    {
     "name": "stdout",
     "output_type": "stream",
     "text": [
      "Processed record 10/598 in 6.67 seconds.\n"
     ]
    },
    {
     "name": "stderr",
     "output_type": "stream",
     "text": [
      "  2%|▏         | 11/598 [01:13<1:06:13,  6.77s/it]"
     ]
    },
    {
     "name": "stdout",
     "output_type": "stream",
     "text": [
      "Processed record 11/598 in 6.52 seconds.\n"
     ]
    },
    {
     "name": "stderr",
     "output_type": "stream",
     "text": [
      "  2%|▏         | 12/598 [01:20<1:06:01,  6.76s/it]"
     ]
    },
    {
     "name": "stdout",
     "output_type": "stream",
     "text": [
      "Processed record 12/598 in 6.74 seconds.\n"
     ]
    },
    {
     "name": "stderr",
     "output_type": "stream",
     "text": [
      "  2%|▏         | 13/598 [01:26<1:05:00,  6.67s/it]"
     ]
    },
    {
     "name": "stdout",
     "output_type": "stream",
     "text": [
      "Processed record 13/598 in 6.46 seconds.\n"
     ]
    },
    {
     "name": "stderr",
     "output_type": "stream",
     "text": [
      "  2%|▏         | 14/598 [01:33<1:04:32,  6.63s/it]"
     ]
    },
    {
     "name": "stdout",
     "output_type": "stream",
     "text": [
      "Processed record 14/598 in 6.55 seconds.\n"
     ]
    },
    {
     "name": "stderr",
     "output_type": "stream",
     "text": [
      "  3%|▎         | 15/598 [01:40<1:05:03,  6.70s/it]"
     ]
    },
    {
     "name": "stdout",
     "output_type": "stream",
     "text": [
      "Processed record 15/598 in 6.85 seconds.\n"
     ]
    },
    {
     "name": "stderr",
     "output_type": "stream",
     "text": [
      "  3%|▎         | 16/598 [01:46<1:04:55,  6.69s/it]"
     ]
    },
    {
     "name": "stdout",
     "output_type": "stream",
     "text": [
      "Processed record 16/598 in 6.69 seconds.\n"
     ]
    },
    {
     "name": "stderr",
     "output_type": "stream",
     "text": [
      "  3%|▎         | 17/598 [01:53<1:04:10,  6.63s/it]"
     ]
    },
    {
     "name": "stdout",
     "output_type": "stream",
     "text": [
      "Processed record 17/598 in 6.47 seconds.\n"
     ]
    },
    {
     "name": "stderr",
     "output_type": "stream",
     "text": [
      "  3%|▎         | 18/598 [02:00<1:05:43,  6.80s/it]"
     ]
    },
    {
     "name": "stdout",
     "output_type": "stream",
     "text": [
      "Processed record 18/598 in 7.20 seconds.\n"
     ]
    },
    {
     "name": "stderr",
     "output_type": "stream",
     "text": [
      "  3%|▎         | 19/598 [02:08<1:08:24,  7.09s/it]"
     ]
    },
    {
     "name": "stdout",
     "output_type": "stream",
     "text": [
      "Processed record 19/598 in 7.76 seconds.\n"
     ]
    },
    {
     "name": "stderr",
     "output_type": "stream",
     "text": [
      "  3%|▎         | 20/598 [02:14<1:07:20,  6.99s/it]"
     ]
    },
    {
     "name": "stdout",
     "output_type": "stream",
     "text": [
      "Processed record 20/598 in 6.76 seconds.\n"
     ]
    },
    {
     "name": "stderr",
     "output_type": "stream",
     "text": [
      "  4%|▎         | 21/598 [02:21<1:07:15,  6.99s/it]"
     ]
    },
    {
     "name": "stdout",
     "output_type": "stream",
     "text": [
      "Processed record 21/598 in 7.00 seconds.\n"
     ]
    },
    {
     "name": "stderr",
     "output_type": "stream",
     "text": [
      "  4%|▎         | 22/598 [02:28<1:05:37,  6.84s/it]"
     ]
    },
    {
     "name": "stdout",
     "output_type": "stream",
     "text": [
      "Processed record 22/598 in 6.47 seconds.\n"
     ]
    },
    {
     "name": "stderr",
     "output_type": "stream",
     "text": [
      "  4%|▍         | 23/598 [02:35<1:06:46,  6.97s/it]"
     ]
    },
    {
     "name": "stdout",
     "output_type": "stream",
     "text": [
      "Processed record 23/598 in 7.27 seconds.\n"
     ]
    },
    {
     "name": "stderr",
     "output_type": "stream",
     "text": [
      "  4%|▍         | 24/598 [02:42<1:06:16,  6.93s/it]"
     ]
    },
    {
     "name": "stdout",
     "output_type": "stream",
     "text": [
      "Processed record 24/598 in 6.84 seconds.\n"
     ]
    },
    {
     "name": "stderr",
     "output_type": "stream",
     "text": [
      "  4%|▍         | 25/598 [02:49<1:05:37,  6.87s/it]"
     ]
    },
    {
     "name": "stdout",
     "output_type": "stream",
     "text": [
      "Processed record 25/598 in 6.74 seconds.\n"
     ]
    },
    {
     "name": "stderr",
     "output_type": "stream",
     "text": [
      "  4%|▍         | 26/598 [02:55<1:04:19,  6.75s/it]"
     ]
    },
    {
     "name": "stdout",
     "output_type": "stream",
     "text": [
      "Processed record 26/598 in 6.46 seconds.\n"
     ]
    },
    {
     "name": "stderr",
     "output_type": "stream",
     "text": [
      "  5%|▍         | 27/598 [03:02<1:03:27,  6.67s/it]"
     ]
    },
    {
     "name": "stdout",
     "output_type": "stream",
     "text": [
      "Processed record 27/598 in 6.48 seconds.\n"
     ]
    },
    {
     "name": "stderr",
     "output_type": "stream",
     "text": [
      "  5%|▍         | 28/598 [03:09<1:04:23,  6.78s/it]"
     ]
    },
    {
     "name": "stdout",
     "output_type": "stream",
     "text": [
      "Processed record 28/598 in 7.04 seconds.\n"
     ]
    },
    {
     "name": "stderr",
     "output_type": "stream",
     "text": [
      "  5%|▍         | 29/598 [03:16<1:04:44,  6.83s/it]"
     ]
    },
    {
     "name": "stdout",
     "output_type": "stream",
     "text": [
      "Processed record 29/598 in 6.94 seconds.\n"
     ]
    },
    {
     "name": "stderr",
     "output_type": "stream",
     "text": [
      "  5%|▌         | 30/598 [03:22<1:04:25,  6.81s/it]"
     ]
    },
    {
     "name": "stdout",
     "output_type": "stream",
     "text": [
      "Processed record 30/598 in 6.76 seconds.\n"
     ]
    },
    {
     "name": "stderr",
     "output_type": "stream",
     "text": [
      "  5%|▌         | 31/598 [03:29<1:04:07,  6.79s/it]"
     ]
    },
    {
     "name": "stdout",
     "output_type": "stream",
     "text": [
      "Processed record 31/598 in 6.74 seconds.\n"
     ]
    },
    {
     "name": "stderr",
     "output_type": "stream",
     "text": [
      "  5%|▌         | 32/598 [03:36<1:03:50,  6.77s/it]"
     ]
    },
    {
     "name": "stdout",
     "output_type": "stream",
     "text": [
      "Processed record 32/598 in 6.72 seconds.\n"
     ]
    },
    {
     "name": "stderr",
     "output_type": "stream",
     "text": [
      "  6%|▌         | 33/598 [03:43<1:05:32,  6.96s/it]"
     ]
    },
    {
     "name": "stdout",
     "output_type": "stream",
     "text": [
      "Processed record 33/598 in 7.41 seconds.\n"
     ]
    },
    {
     "name": "stderr",
     "output_type": "stream",
     "text": [
      "  6%|▌         | 34/598 [03:50<1:05:18,  6.95s/it]"
     ]
    },
    {
     "name": "stdout",
     "output_type": "stream",
     "text": [
      "Processed record 34/598 in 6.92 seconds.\n"
     ]
    },
    {
     "name": "stderr",
     "output_type": "stream",
     "text": [
      "  6%|▌         | 35/598 [03:57<1:04:09,  6.84s/it]"
     ]
    },
    {
     "name": "stdout",
     "output_type": "stream",
     "text": [
      "Processed record 35/598 in 6.58 seconds.\n"
     ]
    },
    {
     "name": "stderr",
     "output_type": "stream",
     "text": [
      "  6%|▌         | 36/598 [04:03<1:03:13,  6.75s/it]"
     ]
    },
    {
     "name": "stdout",
     "output_type": "stream",
     "text": [
      "Processed record 36/598 in 6.54 seconds.\n"
     ]
    },
    {
     "name": "stderr",
     "output_type": "stream",
     "text": [
      "  6%|▌         | 37/598 [04:11<1:05:41,  7.03s/it]"
     ]
    },
    {
     "name": "stdout",
     "output_type": "stream",
     "text": [
      "Processed record 37/598 in 7.67 seconds.\n"
     ]
    },
    {
     "name": "stderr",
     "output_type": "stream",
     "text": [
      "  6%|▋         | 38/598 [04:18<1:04:48,  6.94s/it]"
     ]
    },
    {
     "name": "stdout",
     "output_type": "stream",
     "text": [
      "Processed record 38/598 in 6.75 seconds.\n"
     ]
    },
    {
     "name": "stderr",
     "output_type": "stream",
     "text": [
      "  7%|▋         | 39/598 [04:24<1:04:04,  6.88s/it]"
     ]
    },
    {
     "name": "stdout",
     "output_type": "stream",
     "text": [
      "Processed record 39/598 in 6.72 seconds.\n"
     ]
    },
    {
     "name": "stderr",
     "output_type": "stream",
     "text": [
      "  7%|▋         | 40/598 [04:31<1:03:52,  6.87s/it]"
     ]
    },
    {
     "name": "stdout",
     "output_type": "stream",
     "text": [
      "Processed record 40/598 in 6.85 seconds.\n"
     ]
    },
    {
     "name": "stderr",
     "output_type": "stream",
     "text": [
      "  7%|▋         | 41/598 [04:38<1:02:57,  6.78s/it]"
     ]
    },
    {
     "name": "stdout",
     "output_type": "stream",
     "text": [
      "Processed record 41/598 in 6.58 seconds.\n"
     ]
    },
    {
     "name": "stderr",
     "output_type": "stream",
     "text": [
      "  7%|▋         | 42/598 [04:45<1:04:21,  6.95s/it]"
     ]
    },
    {
     "name": "stdout",
     "output_type": "stream",
     "text": [
      "Processed record 42/598 in 7.33 seconds.\n"
     ]
    },
    {
     "name": "stderr",
     "output_type": "stream",
     "text": [
      "  7%|▋         | 43/598 [04:53<1:05:29,  7.08s/it]"
     ]
    },
    {
     "name": "stdout",
     "output_type": "stream",
     "text": [
      "Processed record 43/598 in 7.39 seconds.\n"
     ]
    },
    {
     "name": "stderr",
     "output_type": "stream",
     "text": [
      "  7%|▋         | 44/598 [05:00<1:04:54,  7.03s/it]"
     ]
    },
    {
     "name": "stdout",
     "output_type": "stream",
     "text": [
      "Processed record 44/598 in 6.91 seconds.\n"
     ]
    },
    {
     "name": "stderr",
     "output_type": "stream",
     "text": [
      "  8%|▊         | 45/598 [05:06<1:04:24,  6.99s/it]"
     ]
    },
    {
     "name": "stdout",
     "output_type": "stream",
     "text": [
      "Processed record 45/598 in 6.89 seconds.\n"
     ]
    },
    {
     "name": "stderr",
     "output_type": "stream",
     "text": [
      "  8%|▊         | 46/598 [05:13<1:03:59,  6.96s/it]"
     ]
    },
    {
     "name": "stdout",
     "output_type": "stream",
     "text": [
      "Processed record 46/598 in 6.88 seconds.\n"
     ]
    },
    {
     "name": "stderr",
     "output_type": "stream",
     "text": [
      "  8%|▊         | 47/598 [05:20<1:02:55,  6.85s/it]"
     ]
    },
    {
     "name": "stdout",
     "output_type": "stream",
     "text": [
      "Processed record 47/598 in 6.61 seconds.\n"
     ]
    },
    {
     "name": "stderr",
     "output_type": "stream",
     "text": [
      "  8%|▊         | 48/598 [05:27<1:02:37,  6.83s/it]"
     ]
    },
    {
     "name": "stdout",
     "output_type": "stream",
     "text": [
      "Processed record 48/598 in 6.79 seconds.\n"
     ]
    },
    {
     "name": "stderr",
     "output_type": "stream",
     "text": [
      "  8%|▊         | 49/598 [05:33<1:02:26,  6.82s/it]"
     ]
    },
    {
     "name": "stdout",
     "output_type": "stream",
     "text": [
      "Processed record 49/598 in 6.80 seconds.\n"
     ]
    },
    {
     "name": "stderr",
     "output_type": "stream",
     "text": [
      "  8%|▊         | 50/598 [05:40<1:01:15,  6.71s/it]"
     ]
    },
    {
     "name": "stdout",
     "output_type": "stream",
     "text": [
      "Processed record 50/598 in 6.43 seconds.\n"
     ]
    },
    {
     "name": "stderr",
     "output_type": "stream",
     "text": [
      "  9%|▊         | 51/598 [05:47<1:01:55,  6.79s/it]"
     ]
    },
    {
     "name": "stdout",
     "output_type": "stream",
     "text": [
      "Processed record 51/598 in 6.99 seconds.\n"
     ]
    },
    {
     "name": "stderr",
     "output_type": "stream",
     "text": [
      "  9%|▊         | 52/598 [05:54<1:01:47,  6.79s/it]"
     ]
    },
    {
     "name": "stdout",
     "output_type": "stream",
     "text": [
      "Processed record 52/598 in 6.78 seconds.\n"
     ]
    },
    {
     "name": "stderr",
     "output_type": "stream",
     "text": [
      "  9%|▉         | 53/598 [06:01<1:02:06,  6.84s/it]"
     ]
    },
    {
     "name": "stdout",
     "output_type": "stream",
     "text": [
      "Processed record 53/598 in 6.95 seconds.\n"
     ]
    },
    {
     "name": "stderr",
     "output_type": "stream",
     "text": [
      "  9%|▉         | 54/598 [06:08<1:04:09,  7.08s/it]"
     ]
    },
    {
     "name": "stdout",
     "output_type": "stream",
     "text": [
      "Processed record 54/598 in 7.63 seconds.\n"
     ]
    },
    {
     "name": "stderr",
     "output_type": "stream",
     "text": [
      "  9%|▉         | 55/598 [06:15<1:03:24,  7.01s/it]"
     ]
    },
    {
     "name": "stdout",
     "output_type": "stream",
     "text": [
      "Processed record 55/598 in 6.84 seconds.\n"
     ]
    },
    {
     "name": "stderr",
     "output_type": "stream",
     "text": [
      "  9%|▉         | 56/598 [06:22<1:02:10,  6.88s/it]"
     ]
    },
    {
     "name": "stdout",
     "output_type": "stream",
     "text": [
      "Processed record 56/598 in 6.59 seconds.\n"
     ]
    },
    {
     "name": "stderr",
     "output_type": "stream",
     "text": [
      " 10%|▉         | 57/598 [06:28<1:01:25,  6.81s/it]"
     ]
    },
    {
     "name": "stdout",
     "output_type": "stream",
     "text": [
      "Processed record 57/598 in 6.65 seconds.\n"
     ]
    },
    {
     "name": "stderr",
     "output_type": "stream",
     "text": [
      " 10%|▉         | 58/598 [06:35<1:01:19,  6.81s/it]"
     ]
    },
    {
     "name": "stdout",
     "output_type": "stream",
     "text": [
      "Processed record 58/598 in 6.81 seconds.\n"
     ]
    },
    {
     "name": "stderr",
     "output_type": "stream",
     "text": [
      " 10%|▉         | 59/598 [06:42<1:00:40,  6.75s/it]"
     ]
    },
    {
     "name": "stdout",
     "output_type": "stream",
     "text": [
      "Processed record 59/598 in 6.62 seconds.\n"
     ]
    },
    {
     "name": "stderr",
     "output_type": "stream",
     "text": [
      " 10%|█         | 60/598 [06:49<1:02:56,  7.02s/it]"
     ]
    },
    {
     "name": "stdout",
     "output_type": "stream",
     "text": [
      "Processed record 60/598 in 7.64 seconds.\n"
     ]
    },
    {
     "name": "stderr",
     "output_type": "stream",
     "text": [
      " 10%|█         | 61/598 [06:56<1:02:53,  7.03s/it]"
     ]
    },
    {
     "name": "stdout",
     "output_type": "stream",
     "text": [
      "Processed record 61/598 in 7.05 seconds.\n"
     ]
    },
    {
     "name": "stderr",
     "output_type": "stream",
     "text": [
      " 10%|█         | 62/598 [07:03<1:01:05,  6.84s/it]"
     ]
    },
    {
     "name": "stdout",
     "output_type": "stream",
     "text": [
      "Processed record 62/598 in 6.40 seconds.\n"
     ]
    },
    {
     "name": "stderr",
     "output_type": "stream",
     "text": [
      " 11%|█         | 63/598 [07:10<1:00:51,  6.82s/it]"
     ]
    },
    {
     "name": "stdout",
     "output_type": "stream",
     "text": [
      "Processed record 63/598 in 6.79 seconds.\n"
     ]
    },
    {
     "name": "stderr",
     "output_type": "stream",
     "text": [
      " 11%|█         | 64/598 [07:16<59:54,  6.73s/it]  "
     ]
    },
    {
     "name": "stdout",
     "output_type": "stream",
     "text": [
      "Processed record 64/598 in 6.52 seconds.\n"
     ]
    },
    {
     "name": "stderr",
     "output_type": "stream",
     "text": [
      " 11%|█         | 65/598 [07:23<1:00:00,  6.76s/it]"
     ]
    },
    {
     "name": "stdout",
     "output_type": "stream",
     "text": [
      "Processed record 65/598 in 6.81 seconds.\n"
     ]
    },
    {
     "name": "stderr",
     "output_type": "stream",
     "text": [
      " 11%|█         | 66/598 [07:30<1:01:14,  6.91s/it]"
     ]
    },
    {
     "name": "stdout",
     "output_type": "stream",
     "text": [
      "Processed record 66/598 in 7.26 seconds.\n"
     ]
    },
    {
     "name": "stderr",
     "output_type": "stream",
     "text": [
      " 11%|█         | 67/598 [07:37<1:00:19,  6.82s/it]"
     ]
    },
    {
     "name": "stdout",
     "output_type": "stream",
     "text": [
      "Processed record 67/598 in 6.60 seconds.\n"
     ]
    },
    {
     "name": "stderr",
     "output_type": "stream",
     "text": [
      " 11%|█▏        | 68/598 [07:44<59:58,  6.79s/it]  "
     ]
    },
    {
     "name": "stdout",
     "output_type": "stream",
     "text": [
      "Processed record 68/598 in 6.73 seconds.\n"
     ]
    },
    {
     "name": "stderr",
     "output_type": "stream",
     "text": [
      " 12%|█▏        | 69/598 [07:50<59:12,  6.72s/it]"
     ]
    },
    {
     "name": "stdout",
     "output_type": "stream",
     "text": [
      "Processed record 69/598 in 6.54 seconds.\n"
     ]
    },
    {
     "name": "stderr",
     "output_type": "stream",
     "text": [
      " 12%|█▏        | 70/598 [07:57<59:05,  6.71s/it]"
     ]
    },
    {
     "name": "stdout",
     "output_type": "stream",
     "text": [
      "Processed record 70/598 in 6.71 seconds.\n"
     ]
    },
    {
     "name": "stderr",
     "output_type": "stream",
     "text": [
      " 12%|█▏        | 71/598 [08:04<58:53,  6.71s/it]"
     ]
    },
    {
     "name": "stdout",
     "output_type": "stream",
     "text": [
      "Processed record 71/598 in 6.68 seconds.\n"
     ]
    },
    {
     "name": "stderr",
     "output_type": "stream",
     "text": [
      " 12%|█▏        | 72/598 [08:10<58:24,  6.66s/it]"
     ]
    },
    {
     "name": "stdout",
     "output_type": "stream",
     "text": [
      "Processed record 72/598 in 6.56 seconds.\n"
     ]
    },
    {
     "name": "stderr",
     "output_type": "stream",
     "text": [
      " 12%|█▏        | 73/598 [08:17<58:32,  6.69s/it]"
     ]
    },
    {
     "name": "stdout",
     "output_type": "stream",
     "text": [
      "Processed record 73/598 in 6.75 seconds.\n"
     ]
    },
    {
     "name": "stderr",
     "output_type": "stream",
     "text": [
      " 12%|█▏        | 74/598 [08:24<58:25,  6.69s/it]"
     ]
    },
    {
     "name": "stdout",
     "output_type": "stream",
     "text": [
      "Processed record 74/598 in 6.69 seconds.\n"
     ]
    },
    {
     "name": "stderr",
     "output_type": "stream",
     "text": [
      " 13%|█▎        | 75/598 [08:30<58:03,  6.66s/it]"
     ]
    },
    {
     "name": "stdout",
     "output_type": "stream",
     "text": [
      "Processed record 75/598 in 6.59 seconds.\n"
     ]
    },
    {
     "name": "stderr",
     "output_type": "stream",
     "text": [
      " 13%|█▎        | 76/598 [08:37<58:12,  6.69s/it]"
     ]
    },
    {
     "name": "stdout",
     "output_type": "stream",
     "text": [
      "Processed record 76/598 in 6.76 seconds.\n"
     ]
    },
    {
     "name": "stderr",
     "output_type": "stream",
     "text": [
      " 13%|█▎        | 77/598 [08:44<59:04,  6.80s/it]"
     ]
    },
    {
     "name": "stdout",
     "output_type": "stream",
     "text": [
      "Processed record 77/598 in 7.06 seconds.\n"
     ]
    },
    {
     "name": "stderr",
     "output_type": "stream",
     "text": [
      " 13%|█▎        | 78/598 [08:51<58:46,  6.78s/it]"
     ]
    },
    {
     "name": "stdout",
     "output_type": "stream",
     "text": [
      "Processed record 78/598 in 6.73 seconds.\n"
     ]
    },
    {
     "name": "stderr",
     "output_type": "stream",
     "text": [
      " 13%|█▎        | 79/598 [08:58<58:47,  6.80s/it]"
     ]
    },
    {
     "name": "stdout",
     "output_type": "stream",
     "text": [
      "Processed record 79/598 in 6.83 seconds.\n"
     ]
    },
    {
     "name": "stderr",
     "output_type": "stream",
     "text": [
      " 13%|█▎        | 80/598 [09:05<59:33,  6.90s/it]"
     ]
    },
    {
     "name": "stdout",
     "output_type": "stream",
     "text": [
      "Processed record 80/598 in 7.14 seconds.\n"
     ]
    },
    {
     "name": "stderr",
     "output_type": "stream",
     "text": [
      " 14%|█▎        | 81/598 [09:12<59:46,  6.94s/it]"
     ]
    },
    {
     "name": "stdout",
     "output_type": "stream",
     "text": [
      "Processed record 81/598 in 7.03 seconds.\n"
     ]
    },
    {
     "name": "stderr",
     "output_type": "stream",
     "text": [
      " 14%|█▎        | 82/598 [09:19<59:31,  6.92s/it]"
     ]
    },
    {
     "name": "stdout",
     "output_type": "stream",
     "text": [
      "Processed record 82/598 in 6.88 seconds.\n"
     ]
    },
    {
     "name": "stderr",
     "output_type": "stream",
     "text": [
      " 14%|█▍        | 83/598 [09:26<59:44,  6.96s/it]"
     ]
    },
    {
     "name": "stdout",
     "output_type": "stream",
     "text": [
      "Processed record 83/598 in 7.05 seconds.\n"
     ]
    },
    {
     "name": "stderr",
     "output_type": "stream",
     "text": [
      " 14%|█▍        | 84/598 [09:33<1:00:20,  7.04s/it]"
     ]
    },
    {
     "name": "stdout",
     "output_type": "stream",
     "text": [
      "Processed record 84/598 in 7.24 seconds.\n"
     ]
    },
    {
     "name": "stderr",
     "output_type": "stream",
     "text": [
      " 14%|█▍        | 85/598 [09:40<1:00:08,  7.03s/it]"
     ]
    },
    {
     "name": "stdout",
     "output_type": "stream",
     "text": [
      "Processed record 85/598 in 7.01 seconds.\n"
     ]
    },
    {
     "name": "stderr",
     "output_type": "stream",
     "text": [
      " 14%|█▍        | 86/598 [09:46<58:48,  6.89s/it]  "
     ]
    },
    {
     "name": "stdout",
     "output_type": "stream",
     "text": [
      "Processed record 86/598 in 6.56 seconds.\n"
     ]
    },
    {
     "name": "stderr",
     "output_type": "stream",
     "text": [
      " 15%|█▍        | 87/598 [09:54<59:33,  6.99s/it]"
     ]
    },
    {
     "name": "stdout",
     "output_type": "stream",
     "text": [
      "Processed record 87/598 in 7.23 seconds.\n"
     ]
    },
    {
     "name": "stderr",
     "output_type": "stream",
     "text": [
      " 15%|█▍        | 88/598 [10:01<1:00:16,  7.09s/it]"
     ]
    },
    {
     "name": "stdout",
     "output_type": "stream",
     "text": [
      "Processed record 88/598 in 7.32 seconds.\n"
     ]
    },
    {
     "name": "stderr",
     "output_type": "stream",
     "text": [
      " 15%|█▍        | 89/598 [10:08<59:50,  7.05s/it]  "
     ]
    },
    {
     "name": "stdout",
     "output_type": "stream",
     "text": [
      "Processed record 89/598 in 6.97 seconds.\n"
     ]
    },
    {
     "name": "stderr",
     "output_type": "stream",
     "text": [
      " 15%|█▌        | 90/598 [10:15<59:25,  7.02s/it]"
     ]
    },
    {
     "name": "stdout",
     "output_type": "stream",
     "text": [
      "Processed record 90/598 in 6.93 seconds.\n"
     ]
    },
    {
     "name": "stderr",
     "output_type": "stream",
     "text": [
      " 15%|█▌        | 91/598 [10:22<59:42,  7.07s/it]"
     ]
    },
    {
     "name": "stdout",
     "output_type": "stream",
     "text": [
      "Processed record 91/598 in 7.18 seconds.\n"
     ]
    },
    {
     "name": "stderr",
     "output_type": "stream",
     "text": [
      " 15%|█▌        | 92/598 [10:29<59:15,  7.03s/it]"
     ]
    },
    {
     "name": "stdout",
     "output_type": "stream",
     "text": [
      "Processed record 92/598 in 6.93 seconds.\n"
     ]
    },
    {
     "name": "stderr",
     "output_type": "stream",
     "text": [
      " 16%|█▌        | 93/598 [10:36<58:08,  6.91s/it]"
     ]
    },
    {
     "name": "stdout",
     "output_type": "stream",
     "text": [
      "Processed record 93/598 in 6.63 seconds.\n"
     ]
    },
    {
     "name": "stderr",
     "output_type": "stream",
     "text": [
      " 16%|█▌        | 94/598 [10:43<58:02,  6.91s/it]"
     ]
    },
    {
     "name": "stdout",
     "output_type": "stream",
     "text": [
      "Processed record 94/598 in 6.91 seconds.\n"
     ]
    },
    {
     "name": "stderr",
     "output_type": "stream",
     "text": [
      " 16%|█▌        | 95/598 [10:49<57:37,  6.87s/it]"
     ]
    },
    {
     "name": "stdout",
     "output_type": "stream",
     "text": [
      "Processed record 95/598 in 6.79 seconds.\n"
     ]
    },
    {
     "name": "stderr",
     "output_type": "stream",
     "text": [
      " 16%|█▌        | 96/598 [10:56<57:30,  6.87s/it]"
     ]
    },
    {
     "name": "stdout",
     "output_type": "stream",
     "text": [
      "Processed record 96/598 in 6.87 seconds.\n"
     ]
    },
    {
     "name": "stderr",
     "output_type": "stream",
     "text": [
      " 16%|█▌        | 97/598 [11:04<59:51,  7.17s/it]"
     ]
    },
    {
     "name": "stdout",
     "output_type": "stream",
     "text": [
      "Processed record 97/598 in 7.85 seconds.\n"
     ]
    },
    {
     "name": "stderr",
     "output_type": "stream",
     "text": [
      " 16%|█▋        | 98/598 [11:11<58:13,  6.99s/it]"
     ]
    },
    {
     "name": "stdout",
     "output_type": "stream",
     "text": [
      "Processed record 98/598 in 6.56 seconds.\n",
      "decomposition:  {'q1': 'Was Black Stone Cherry a British band?', 'q2': 'Was Gene Loves Jezebel a British band?'}\n"
     ]
    },
    {
     "name": "stderr",
     "output_type": "stream",
     "text": [
      " 17%|█▋        | 99/598 [11:21<1:06:38,  8.01s/it]"
     ]
    },
    {
     "name": "stdout",
     "output_type": "stream",
     "text": [
      "Processed record 99/598 in 10.41 seconds.\n",
      "decomposition:  {'q1': \"When did the monarch's father die?\", 'q2': 'In what year did the monarch take the throne?'}\n"
     ]
    },
    {
     "name": "stderr",
     "output_type": "stream",
     "text": [
      " 17%|█▋        | 100/598 [11:32<1:13:30,  8.86s/it]"
     ]
    },
    {
     "name": "stdout",
     "output_type": "stream",
     "text": [
      "Processed record 100/598 in 10.83 seconds.\n",
      "\n",
      "--- Saved batch up to record 100\n",
      "Average time for last 100 records: 6.92 seconds\n",
      "\n",
      "decomposition:  {'q1': 'In what year was the TV film released that features the actress who plays Paikea \"Pai\" Apirana in the film \"Whale Rider\"?', 'q2': 'Which other actresses star alongside the actress who plays Paikea \"Pai\" Apirana in the TV film?'}\n"
     ]
    },
    {
     "name": "stderr",
     "output_type": "stream",
     "text": [
      " 17%|█▋        | 101/598 [11:44<1:20:42,  9.74s/it]"
     ]
    },
    {
     "name": "stdout",
     "output_type": "stream",
     "text": [
      "Processed record 101/598 in 11.82 seconds.\n",
      "decomposition:  {'q1': 'What 2005 novel is the 2015 Bill Condon-directed film based on?', 'q2': 'Which entertainment company acquired the rights to the film?'}\n"
     ]
    },
    {
     "name": "stderr",
     "output_type": "stream",
     "text": [
      " 17%|█▋        | 102/598 [11:55<1:23:47, 10.14s/it]"
     ]
    },
    {
     "name": "stdout",
     "output_type": "stream",
     "text": [
      "Processed record 102/598 in 11.05 seconds.\n",
      "decomposition:  {'q1': 'Which band was formed in Edinburgh?', 'q2': \"What genre of music influenced the band's music, considering the influence of Appalachian music?\"}\n"
     ]
    },
    {
     "name": "stderr",
     "output_type": "stream",
     "text": [
      " 17%|█▋        | 103/598 [12:05<1:24:04, 10.19s/it]"
     ]
    },
    {
     "name": "stdout",
     "output_type": "stream",
     "text": [
      "Processed record 103/598 in 10.32 seconds.\n",
      "decomposition:  {'q1': 'What is the name of the new version of the \"Up Series\"?', 'q2': 'Who is responsible for producing this new version?'}\n"
     ]
    },
    {
     "name": "stderr",
     "output_type": "stream",
     "text": [
      " 17%|█▋        | 104/598 [12:16<1:25:44, 10.41s/it]"
     ]
    },
    {
     "name": "stdout",
     "output_type": "stream",
     "text": [
      "Processed record 104/598 in 10.93 seconds.\n",
      "decomposition:  {'q1': 'What work did Stravinsky compose before The Cantata?', 'q2': 'Who wrote the libretto for that work?'}\n"
     ]
    },
    {
     "name": "stderr",
     "output_type": "stream",
     "text": [
      " 18%|█▊        | 105/598 [12:27<1:25:56, 10.46s/it]"
     ]
    },
    {
     "name": "stdout",
     "output_type": "stream",
     "text": [
      "Processed record 105/598 in 10.57 seconds.\n",
      "decomposition:  {'q1': 'In what year was the politician born?', 'q2': 'For which party was the politician elected to his third Senate term in 1984?'}\n"
     ]
    },
    {
     "name": "stderr",
     "output_type": "stream",
     "text": [
      " 18%|█▊        | 106/598 [12:37<1:26:44, 10.58s/it]"
     ]
    },
    {
     "name": "stdout",
     "output_type": "stream",
     "text": [
      "Processed record 106/598 in 10.86 seconds.\n",
      "decomposition:  {'q1': 'Which port town is northwest of Ust-Omchug?', 'q2': 'Where is Ust-Omchug located on the highway?'}\n"
     ]
    },
    {
     "name": "stderr",
     "output_type": "stream",
     "text": [
      " 18%|█▊        | 107/598 [12:48<1:25:52, 10.49s/it]"
     ]
    },
    {
     "name": "stdout",
     "output_type": "stream",
     "text": [
      "Processed record 107/598 in 10.30 seconds.\n",
      "decomposition:  {'q1': 'What is the birthplace of Abraham Bueno de Mesquita?', 'q2': \"What is the capital of Abraham Bueno de Mesquita's birthplace?\"}\n"
     ]
    },
    {
     "name": "stderr",
     "output_type": "stream",
     "text": [
      " 18%|█▊        | 108/598 [12:58<1:24:19, 10.32s/it]"
     ]
    },
    {
     "name": "stdout",
     "output_type": "stream",
     "text": [
      "Processed record 108/598 in 9.93 seconds.\n",
      "decomposition:  {'q1': 'Who composed the show?', 'q2': 'Which show shares a name with its creator?'}\n"
     ]
    },
    {
     "name": "stderr",
     "output_type": "stream",
     "text": [
      " 18%|█▊        | 109/598 [13:08<1:23:47, 10.28s/it]"
     ]
    },
    {
     "name": "stdout",
     "output_type": "stream",
     "text": [
      "Processed record 109/598 in 10.18 seconds.\n",
      "decomposition:  {'q1': 'Which band was founded in 1991?', 'q2': 'Which band formed in Leyton, East London, influenced the band founded in 1991 and featured bassist Steve Harris?'}\n"
     ]
    },
    {
     "name": "stderr",
     "output_type": "stream",
     "text": [
      " 18%|█▊        | 110/598 [13:19<1:25:54, 10.56s/it]"
     ]
    },
    {
     "name": "stdout",
     "output_type": "stream",
     "text": [
      "Processed record 110/598 in 11.22 seconds.\n",
      "decomposition:  {'q1': 'When was the actor born?', 'q2': 'Who distributed the movie the actor was in?'}\n"
     ]
    },
    {
     "name": "stderr",
     "output_type": "stream",
     "text": [
      " 19%|█▊        | 111/598 [13:29<1:24:38, 10.43s/it]"
     ]
    },
    {
     "name": "stdout",
     "output_type": "stream",
     "text": [
      "Processed record 111/598 in 10.11 seconds.\n",
      "decomposition:  {'q1': 'What Indian classical dance form was Srimathi a choreographer of?', 'q2': \"What was Neila Sathyalingam's relationship to Kalakshetra in Madras?\"}\n"
     ]
    },
    {
     "name": "stderr",
     "output_type": "stream",
     "text": [
      " 19%|█▊        | 112/598 [13:41<1:27:26, 10.79s/it]"
     ]
    },
    {
     "name": "stdout",
     "output_type": "stream",
     "text": [
      "Processed record 112/598 in 11.65 seconds.\n",
      "decomposition:  {'q1': 'What broadcasting company owned the website that premiered \"Penelope Princess of Pets\" in 2007?', 'q2': 'Which website premiered \"Penelope Princess of Pets\" in 2007?'}\n"
     ]
    },
    {
     "name": "stderr",
     "output_type": "stream",
     "text": [
      " 19%|█▉        | 113/598 [13:51<1:26:27, 10.70s/it]"
     ]
    },
    {
     "name": "stdout",
     "output_type": "stream",
     "text": [
      "Processed record 113/598 in 10.47 seconds.\n",
      "decomposition:  {'q1': 'In which movie did the actress who plays Dean Munsch in \"Pumpkin Patch\" make her film debut?', 'q2': 'What is the name of the actress who plays Dean Munsch in \"Pumpkin Patch\"?'}\n"
     ]
    },
    {
     "name": "stderr",
     "output_type": "stream",
     "text": [
      " 19%|█▉        | 114/598 [14:03<1:28:01, 10.91s/it]"
     ]
    },
    {
     "name": "stdout",
     "output_type": "stream",
     "text": [
      "Processed record 114/598 in 11.41 seconds.\n",
      "decomposition:  {'q1': 'Which express bus routes are there?', 'q2': 'Which hospital founded neurosurgery?'}\n"
     ]
    },
    {
     "name": "stderr",
     "output_type": "stream",
     "text": [
      " 19%|█▉        | 115/598 [14:13<1:26:22, 10.73s/it]"
     ]
    },
    {
     "name": "stdout",
     "output_type": "stream",
     "text": [
      "Processed record 115/598 in 10.30 seconds.\n",
      "decomposition:  {'q1': 'Who was the 2014 winner of Miss India Worldwide?', 'q2': 'In what 2016 film did the 2014 winner of Miss India Worldwide star with Diljit Dosanjh?'}\n"
     ]
    },
    {
     "name": "stderr",
     "output_type": "stream",
     "text": [
      " 19%|█▉        | 116/598 [14:25<1:28:29, 11.01s/it]"
     ]
    },
    {
     "name": "stdout",
     "output_type": "stream",
     "text": [
      "Processed record 116/598 in 11.68 seconds.\n",
      "decomposition:  {'q1': 'Which of the two casinos, WinStar World Casino or Gold Mountain Casino, is larger?', 'q2': 'What is the square footage of the larger of the two casinos mentioned in q1?'}\n"
     ]
    },
    {
     "name": "stderr",
     "output_type": "stream",
     "text": [
      " 20%|█▉        | 117/598 [14:36<1:28:25, 11.03s/it]"
     ]
    },
    {
     "name": "stdout",
     "output_type": "stream",
     "text": [
      "Processed record 117/598 in 11.07 seconds.\n",
      "decomposition:  {'q1': 'What is the name of the university where Dan W. Reicher is the Executive Director of the Steyer-Taylor Center?', 'q2': 'How many schools does that university have?'}\n"
     ]
    },
    {
     "name": "stderr",
     "output_type": "stream",
     "text": [
      " 20%|█▉        | 118/598 [14:46<1:27:37, 10.95s/it]"
     ]
    },
    {
     "name": "stdout",
     "output_type": "stream",
     "text": [
      "Processed record 118/598 in 10.77 seconds.\n",
      "decomposition:  {'q1': 'When were Sojourners and Railroad Model Craftsman founded?', 'q2': 'Which magazine was founded first between the two mentioned?'}\n"
     ]
    },
    {
     "name": "stderr",
     "output_type": "stream",
     "text": [
      " 20%|█▉        | 119/598 [14:57<1:26:29, 10.83s/it]"
     ]
    },
    {
     "name": "stdout",
     "output_type": "stream",
     "text": [
      "Processed record 119/598 in 10.56 seconds.\n",
      "decomposition:  {'q1': 'In what year was the producer of the Family Guy episode \"Candy, Quahog Marshmallow\" born?', 'q2': 'When was the Family Guy episode \"Candy, Quahog Marshmallow\" written?'}\n"
     ]
    },
    {
     "name": "stderr",
     "output_type": "stream",
     "text": [
      " 20%|██        | 120/598 [15:08<1:25:59, 10.79s/it]"
     ]
    },
    {
     "name": "stdout",
     "output_type": "stream",
     "text": [
      "Processed record 120/598 in 10.70 seconds.\n",
      "decomposition:  {'q1': 'What was The Council of Ireland?', 'q2': 'How many members did The Council of Ireland have?'}\n"
     ]
    },
    {
     "name": "stderr",
     "output_type": "stream",
     "text": [
      " 20%|██        | 121/598 [15:18<1:25:08, 10.71s/it]"
     ]
    },
    {
     "name": "stdout",
     "output_type": "stream",
     "text": [
      "Processed record 121/598 in 10.51 seconds.\n",
      "decomposition:  {'q1': 'What is the title of the 2009 fantasy drama film in which Max Records is most notable for his roles as Max?', 'q2': 'Who directed this 2009 fantasy drama film?'}\n"
     ]
    },
    {
     "name": "stderr",
     "output_type": "stream",
     "text": [
      " 20%|██        | 122/598 [15:30<1:26:38, 10.92s/it]"
     ]
    },
    {
     "name": "stdout",
     "output_type": "stream",
     "text": [
      "Processed record 122/598 in 11.42 seconds.\n",
      "decomposition:  {'q1': 'Which village is located north of Lincolnshire on the Grantham to Lincoln Line?', 'q2': 'What is the distance of the village from Lincoln?'}\n"
     ]
    },
    {
     "name": "stderr",
     "output_type": "stream",
     "text": [
      " 21%|██        | 123/598 [15:40<1:25:27, 10.79s/it]"
     ]
    },
    {
     "name": "stdout",
     "output_type": "stream",
     "text": [
      "Processed record 123/598 in 10.50 seconds.\n",
      "decomposition:  {'q1': 'What is the name of the college that Joe Holsinger attended?', 'q2': 'What is the official color of that college?'}\n"
     ]
    },
    {
     "name": "stderr",
     "output_type": "stream",
     "text": [
      " 21%|██        | 124/598 [15:51<1:24:40, 10.72s/it]"
     ]
    },
    {
     "name": "stdout",
     "output_type": "stream",
     "text": [
      "Processed record 124/598 in 10.54 seconds.\n",
      "decomposition:  {'q1': 'What is the distinctive fell in Lake District National Park?', 'q2': 'What is its height?'}\n"
     ]
    },
    {
     "name": "stderr",
     "output_type": "stream",
     "text": [
      " 21%|██        | 125/598 [16:01<1:22:42, 10.49s/it]"
     ]
    },
    {
     "name": "stdout",
     "output_type": "stream",
     "text": [
      "Processed record 125/598 in 9.97 seconds.\n",
      "decomposition:  {'q1': 'Which stores in the Gateway Fashion Mall are currently in bankruptcy liquidation?', 'q2': 'Which store among those in bankruptcy liquidation is located in the Gateway Fashion Mall?'}\n"
     ]
    },
    {
     "name": "stderr",
     "output_type": "stream",
     "text": [
      " 21%|██        | 126/598 [16:12<1:23:38, 10.63s/it]"
     ]
    },
    {
     "name": "stdout",
     "output_type": "stream",
     "text": [
      "Processed record 126/598 in 10.96 seconds.\n",
      "decomposition:  {'q1': 'What roller coasters are located in North Rhine-Westphalia, Germany?', 'q2': 'Which of those roller coasters are designed in a western style?'}\n"
     ]
    },
    {
     "name": "stderr",
     "output_type": "stream",
     "text": [
      " 21%|██        | 127/598 [16:22<1:23:45, 10.67s/it]"
     ]
    },
    {
     "name": "stdout",
     "output_type": "stream",
     "text": [
      "Processed record 127/598 in 10.76 seconds.\n",
      "decomposition:  {'q1': 'Who is the former French footballer and footballing coach who beat Michael Svensson in the 2003 FA Cup Final?', 'q2': 'What was the score of the 2003 FA Cup Final?'}\n"
     ]
    },
    {
     "name": "stderr",
     "output_type": "stream",
     "text": [
      " 21%|██▏       | 128/598 [16:33<1:24:08, 10.74s/it]"
     ]
    },
    {
     "name": "stdout",
     "output_type": "stream",
     "text": [
      "Processed record 128/598 in 10.90 seconds.\n",
      "decomposition:  {'q1': \"When was Rihanna's album Talk That Talk released?\", 'q2': 'Which of Rihanna\\'s Talk That Talk\\'s songs has a sound similar to \"Unapologetic\"?'}\n"
     ]
    },
    {
     "name": "stderr",
     "output_type": "stream",
     "text": [
      " 22%|██▏       | 129/598 [16:46<1:28:02, 11.26s/it]"
     ]
    },
    {
     "name": "stdout",
     "output_type": "stream",
     "text": [
      "Processed record 129/598 in 12.48 seconds.\n",
      "decomposition:  {'q1': \"Who was the person who provided the information about Abuzar Buzjani's accomplishments and death?\", 'q2': 'When was this person born?'}\n"
     ]
    },
    {
     "name": "stderr",
     "output_type": "stream",
     "text": [
      " 22%|██▏       | 130/598 [16:58<1:29:14, 11.44s/it]"
     ]
    },
    {
     "name": "stdout",
     "output_type": "stream",
     "text": [
      "Processed record 130/598 in 11.86 seconds.\n",
      "decomposition:  {'q1': 'Who researched \"Underground\"?', 'q2': 'What is the nationality of the researcher?'}\n"
     ]
    },
    {
     "name": "stderr",
     "output_type": "stream",
     "text": [
      " 22%|██▏       | 131/598 [17:08<1:27:06, 11.19s/it]"
     ]
    },
    {
     "name": "stdout",
     "output_type": "stream",
     "text": [
      "Processed record 131/598 in 10.61 seconds.\n",
      "decomposition:  {'q1': 'Which American film features more members of the \"Taxi\" cast, Angels in the Outfield or The Adventures of Huck Finn?', 'q2': 'Which American film features any members of the \"Taxi\" cast?'}\n"
     ]
    },
    {
     "name": "stderr",
     "output_type": "stream",
     "text": [
      " 22%|██▏       | 132/598 [17:19<1:26:23, 11.12s/it]"
     ]
    },
    {
     "name": "stdout",
     "output_type": "stream",
     "text": [
      "Processed record 132/598 in 10.96 seconds.\n",
      "decomposition:  {'q1': 'Which band was formed first, The Pillows or Hurricane No. 1?', 'q2': 'What is the order of formation for the two bands mentioned?'}\n"
     ]
    },
    {
     "name": "stderr",
     "output_type": "stream",
     "text": [
      " 22%|██▏       | 133/598 [17:30<1:24:31, 10.91s/it]"
     ]
    },
    {
     "name": "stdout",
     "output_type": "stream",
     "text": [
      "Processed record 133/598 in 10.40 seconds.\n",
      "decomposition:  {'q1': 'What was the nationality of the German composer of music often played by the Budapest Gypsy Symphony Orchestra?', 'q2': 'Where was this composer born?'}\n"
     ]
    },
    {
     "name": "stderr",
     "output_type": "stream",
     "text": [
      " 22%|██▏       | 134/598 [17:40<1:23:36, 10.81s/it]"
     ]
    },
    {
     "name": "stdout",
     "output_type": "stream",
     "text": [
      "Processed record 134/598 in 10.59 seconds.\n",
      "decomposition:  {'q1': 'What is the size of the lake near Mount Assurance?', 'q2': 'Which river does the lake near Mount Assurance drain into?'}\n"
     ]
    },
    {
     "name": "stderr",
     "output_type": "stream",
     "text": [
      " 23%|██▎       | 135/598 [17:51<1:22:27, 10.68s/it]"
     ]
    },
    {
     "name": "stdout",
     "output_type": "stream",
     "text": [
      "Processed record 135/598 in 10.39 seconds.\n",
      "decomposition:  {'q1': 'What is the genre of the pop music singer who released the album \"Alone Again (Naturally)\"?', 'q2': 'How many nominations did the pop music singer receive for the album \"Alone Again (Naturally)\"?'}\n"
     ]
    },
    {
     "name": "stderr",
     "output_type": "stream",
     "text": [
      " 23%|██▎       | 136/598 [18:01<1:21:57, 10.64s/it]"
     ]
    },
    {
     "name": "stdout",
     "output_type": "stream",
     "text": [
      "Processed record 136/598 in 10.55 seconds.\n",
      "decomposition:  {'q1': 'Have Jessicka and Chuck Billy ever been part of the same band?', 'q2': 'If so, when did they appear together in that band?'}\n"
     ]
    },
    {
     "name": "stderr",
     "output_type": "stream",
     "text": [
      " 23%|██▎       | 137/598 [18:12<1:22:43, 10.77s/it]"
     ]
    },
    {
     "name": "stdout",
     "output_type": "stream",
     "text": [
      "Processed record 137/598 in 11.05 seconds.\n",
      "decomposition:  {'q1': 'Who was the actor who played Major Lance \"Corky\" Corkoran in the BBC series \"The Night Manager\"?', 'q2': 'What was the director of the 2013 British short film starring the actor mentioned in q1?'}\n"
     ]
    },
    {
     "name": "stderr",
     "output_type": "stream",
     "text": [
      " 23%|██▎       | 138/598 [18:24<1:25:56, 11.21s/it]"
     ]
    },
    {
     "name": "stdout",
     "output_type": "stream",
     "text": [
      "Processed record 138/598 in 12.24 seconds.\n",
      "decomposition:  {'q1': 'Who is King Duncan\\'s son in William Shakespeare\\'s \"Macbeth\"?', 'q2': 'In William Shakespeare\\'s \"Macbeth,\" which character is King Duncan\\'s father?'}\n"
     ]
    },
    {
     "name": "stderr",
     "output_type": "stream",
     "text": [
      " 23%|██▎       | 139/598 [18:35<1:24:30, 11.05s/it]"
     ]
    },
    {
     "name": "stdout",
     "output_type": "stream",
     "text": [
      "Processed record 139/598 in 10.67 seconds.\n",
      "decomposition:  {'q1': 'Which song was released in June of 2010?', 'q2': 'Which single did Sean Kingston record that sampled that song?'}\n"
     ]
    },
    {
     "name": "stderr",
     "output_type": "stream",
     "text": [
      " 23%|██▎       | 140/598 [18:46<1:22:50, 10.85s/it]"
     ]
    },
    {
     "name": "stdout",
     "output_type": "stream",
     "text": [
      "Processed record 140/598 in 10.40 seconds.\n",
      "decomposition:  {'q1': 'Who were the members of Miami Sound Machine?', 'q2': 'Which member of Miami Sound Machine was married to producer Emilio Esefan?'}\n"
     ]
    },
    {
     "name": "stderr",
     "output_type": "stream",
     "text": [
      " 24%|██▎       | 141/598 [18:56<1:22:57, 10.89s/it]"
     ]
    },
    {
     "name": "stdout",
     "output_type": "stream",
     "text": [
      "Processed record 141/598 in 10.98 seconds.\n",
      "decomposition:  {'q1': 'What city was formerly known as Pitic?', 'q2': 'Which newspaper formed an alliance as Frontera in that city?'}\n"
     ]
    },
    {
     "name": "stderr",
     "output_type": "stream",
     "text": [
      " 24%|██▎       | 142/598 [19:07<1:21:25, 10.71s/it]"
     ]
    },
    {
     "name": "stdout",
     "output_type": "stream",
     "text": [
      "Processed record 142/598 in 10.30 seconds.\n",
      "decomposition:  {'q1': 'Which Australian territory was Boyle Travers Finniss the first Premier of?', 'q2': \"What was Boyle Travers Finniss's role in relation to the Australian territory mentioned in the question?\"}\n"
     ]
    },
    {
     "name": "stderr",
     "output_type": "stream",
     "text": [
      " 24%|██▍       | 143/598 [19:18<1:21:25, 10.74s/it]"
     ]
    },
    {
     "name": "stdout",
     "output_type": "stream",
     "text": [
      "Processed record 143/598 in 10.79 seconds.\n",
      "decomposition:  {'q1': 'In what New York county did Alice Stone Ilchman serve as the eighth president?', 'q2': 'Which college did Alice Stone Ilchman serve as the eighth president of?'}\n"
     ]
    },
    {
     "name": "stderr",
     "output_type": "stream",
     "text": [
      " 24%|██▍       | 144/598 [19:28<1:20:15, 10.61s/it]"
     ]
    },
    {
     "name": "stdout",
     "output_type": "stream",
     "text": [
      "Processed record 144/598 in 10.30 seconds.\n",
      "decomposition:  {'q1': 'Who was the King who took over the throne in 1814?', 'q2': 'To what country does Juliana Maria of Brunswick-Wolfenbüttel descend?'}\n"
     ]
    },
    {
     "name": "stderr",
     "output_type": "stream",
     "text": [
      " 24%|██▍       | 145/598 [19:39<1:21:42, 10.82s/it]"
     ]
    },
    {
     "name": "stdout",
     "output_type": "stream",
     "text": [
      "Processed record 145/598 in 11.32 seconds.\n",
      "decomposition:  {'q1': 'In what country is Planet Fitness located?', 'q2': 'Where is Hampton, New Hampshire located in relation to Planet Fitness?'}\n"
     ]
    },
    {
     "name": "stderr",
     "output_type": "stream",
     "text": [
      " 24%|██▍       | 146/598 [19:50<1:20:28, 10.68s/it]"
     ]
    },
    {
     "name": "stdout",
     "output_type": "stream",
     "text": [
      "Processed record 146/598 in 10.35 seconds.\n",
      "decomposition:  {'q1': 'What was the genre of the 2011 American comedy film starring Kali Hawk?', 'q2': 'Who directed the 2011 American comedy film starring Kali Hawk?'}\n"
     ]
    },
    {
     "name": "stderr",
     "output_type": "stream",
     "text": [
      " 25%|██▍       | 147/598 [20:00<1:19:07, 10.53s/it]"
     ]
    },
    {
     "name": "stdout",
     "output_type": "stream",
     "text": [
      "Processed record 147/598 in 10.16 seconds.\n",
      "decomposition:  {'q1': 'Which university was founded first, Polytechnic University of Bari or Adamson University?', 'q2': 'What was the order of foundation between the two universities mentioned?'}\n"
     ]
    },
    {
     "name": "stderr",
     "output_type": "stream",
     "text": [
      " 25%|██▍       | 148/598 [20:11<1:19:33, 10.61s/it]"
     ]
    },
    {
     "name": "stdout",
     "output_type": "stream",
     "text": [
      "Processed record 148/598 in 10.80 seconds.\n",
      "decomposition:  {'q1': 'Which actress played the role of Heather Duke in \"Heathers\"?', 'q2': 'Which actress in the previous question was in a relationship with an American poker player?'}\n"
     ]
    },
    {
     "name": "stderr",
     "output_type": "stream",
     "text": [
      " 25%|██▍       | 149/598 [20:22<1:20:41, 10.78s/it]"
     ]
    },
    {
     "name": "stdout",
     "output_type": "stream",
     "text": [
      "Processed record 149/598 in 11.19 seconds.\n",
      "decomposition:  {'q1': 'What Christian pop band was founded in 2002?', 'q2': 'Was Lacey Sturm a co-founder of the band mentioned in q1?'}\n"
     ]
    },
    {
     "name": "stderr",
     "output_type": "stream",
     "text": [
      " 25%|██▌       | 150/598 [20:33<1:21:05, 10.86s/it]"
     ]
    },
    {
     "name": "stdout",
     "output_type": "stream",
     "text": [
      "Processed record 150/598 in 11.04 seconds.\n",
      "decomposition:  {'q1': 'Which uprising was John Doyle involved in as a Private soldier?', 'q2': 'What was the outcome of the uprising in which John Doyle fought?'}\n"
     ]
    },
    {
     "name": "stderr",
     "output_type": "stream",
     "text": [
      " 25%|██▌       | 151/598 [20:43<1:18:31, 10.54s/it]"
     ]
    },
    {
     "name": "stdout",
     "output_type": "stream",
     "text": [
      "Processed record 151/598 in 9.79 seconds.\n",
      "decomposition:  {'q1': 'What company was Ernest Walter Hives chairman of?', 'q2': 'When was that company founded?'}\n"
     ]
    },
    {
     "name": "stderr",
     "output_type": "stream",
     "text": [
      " 25%|██▌       | 152/598 [20:53<1:18:29, 10.56s/it]"
     ]
    },
    {
     "name": "stdout",
     "output_type": "stream",
     "text": [
      "Processed record 152/598 in 10.61 seconds.\n",
      "decomposition:  {'q1': 'Which university is private, Ohio State University or Syracuse University?', 'q2': 'What is the status of Ohio State University or Syracuse University?'}\n"
     ]
    },
    {
     "name": "stderr",
     "output_type": "stream",
     "text": [
      " 26%|██▌       | 153/598 [21:03<1:16:13, 10.28s/it]"
     ]
    },
    {
     "name": "stdout",
     "output_type": "stream",
     "text": [
      "Processed record 153/598 in 9.62 seconds.\n",
      "decomposition:  {'q1': 'Who directed the 2008 film \"The Other Man\"?', 'q2': 'Which British actor stars in the 2008 film \"The Other Man\"?'}\n"
     ]
    },
    {
     "name": "stderr",
     "output_type": "stream",
     "text": [
      " 26%|██▌       | 154/598 [21:14<1:17:53, 10.53s/it]"
     ]
    },
    {
     "name": "stdout",
     "output_type": "stream",
     "text": [
      "Processed record 154/598 in 11.11 seconds.\n",
      "decomposition:  {'q1': 'What is Cornwall Domesday Book tenants-in-chief about?', 'q2': 'Who died in 1087?'}\n"
     ]
    },
    {
     "name": "stderr",
     "output_type": "stream",
     "text": [
      " 26%|██▌       | 155/598 [21:26<1:20:41, 10.93s/it]"
     ]
    },
    {
     "name": "stdout",
     "output_type": "stream",
     "text": [
      "Processed record 155/598 in 11.87 seconds.\n",
      "decomposition:  {'q1': 'What type of colleges are Christopher Newport University and Minnesota State University, Mankato?', 'q2': 'What is the general category of colleges that Christopher Newport University and Minnesota State University, Mankato belong to?'}\n"
     ]
    },
    {
     "name": "stderr",
     "output_type": "stream",
     "text": [
      " 26%|██▌       | 156/598 [21:37<1:20:34, 10.94s/it]"
     ]
    },
    {
     "name": "stdout",
     "output_type": "stream",
     "text": [
      "Processed record 156/598 in 10.96 seconds.\n",
      "decomposition:  {'q1': 'Who was the sixth overall pick in the 2012 NBA draft?', 'q2': 'Who was the MVP of the 2012 NBA Summer League?'}\n"
     ]
    },
    {
     "name": "stderr",
     "output_type": "stream",
     "text": [
      " 26%|██▋       | 157/598 [21:49<1:22:47, 11.26s/it]"
     ]
    },
    {
     "name": "stdout",
     "output_type": "stream",
     "text": [
      "Processed record 157/598 in 12.03 seconds.\n",
      "decomposition:  {'q1': \"What city is the criminal from in Hart D. Fisher's comic book?\", 'q2': 'Which city did Hart D. Fisher create a comic book about featuring a criminal?'}\n"
     ]
    },
    {
     "name": "stderr",
     "output_type": "stream",
     "text": [
      " 26%|██▋       | 158/598 [21:59<1:21:01, 11.05s/it]"
     ]
    },
    {
     "name": "stdout",
     "output_type": "stream",
     "text": [
      "Processed record 158/598 in 10.55 seconds.\n",
      "decomposition:  {'q1': 'What musical ensemble was the singer a part of?', 'q2': 'What album is A Celtic Journey by that singer?'}\n"
     ]
    },
    {
     "name": "stderr",
     "output_type": "stream",
     "text": [
      " 27%|██▋       | 159/598 [22:10<1:20:09, 10.96s/it]"
     ]
    },
    {
     "name": "stdout",
     "output_type": "stream",
     "text": [
      "Processed record 159/598 in 10.74 seconds.\n",
      "decomposition:  {'q1': 'Which of the two filmmakers, Ron Fricke or Neil Jordan, has won more Academy awards?', 'q2': 'How many Academy awards has each filmmaker won?'}\n"
     ]
    },
    {
     "name": "stderr",
     "output_type": "stream",
     "text": [
      " 27%|██▋       | 160/598 [22:20<1:17:24, 10.60s/it]"
     ]
    },
    {
     "name": "stdout",
     "output_type": "stream",
     "text": [
      "Processed record 160/598 in 9.79 seconds.\n",
      "decomposition:  {'q1': 'Are Bleeker and The Golden Seals Canadian bands?', 'q2': 'What genre do both Bleeker and The Golden Seals play?'}\n"
     ]
    },
    {
     "name": "stderr",
     "output_type": "stream",
     "text": [
      " 27%|██▋       | 161/598 [22:30<1:15:56, 10.43s/it]"
     ]
    },
    {
     "name": "stdout",
     "output_type": "stream",
     "text": [
      "Processed record 161/598 in 10.01 seconds.\n",
      "decomposition:  {'q1': 'Who worked with John Wayne and Micheal Tucker on the Album Joanne?', 'q2': 'What famous American singer did John Wayne and Micheal Tucker work with on the Album Joanne?'}\n"
     ]
    },
    {
     "name": "stderr",
     "output_type": "stream",
     "text": [
      " 27%|██▋       | 162/598 [22:40<1:16:00, 10.46s/it]"
     ]
    },
    {
     "name": "stdout",
     "output_type": "stream",
     "text": [
      "Processed record 162/598 in 10.53 seconds.\n",
      "decomposition:  {'q1': 'Who was the founding owner of the Pittsburgh Steelers?', 'q2': 'Which son spearheaded a requirement known as the \"Rooney Rule\"?'}\n"
     ]
    },
    {
     "name": "stderr",
     "output_type": "stream",
     "text": [
      " 27%|██▋       | 163/598 [22:51<1:16:26, 10.54s/it]"
     ]
    },
    {
     "name": "stdout",
     "output_type": "stream",
     "text": [
      "Processed record 163/598 in 10.74 seconds.\n",
      "decomposition:  {'q1': 'Which album reflects on its depressive state?', 'q2': 'Which song from that album appeared on the Billboard Hot 100 in 1976?'}\n"
     ]
    },
    {
     "name": "stderr",
     "output_type": "stream",
     "text": [
      " 27%|██▋       | 164/598 [23:02<1:18:00, 10.78s/it]"
     ]
    },
    {
     "name": "stdout",
     "output_type": "stream",
     "text": [
      "Processed record 164/598 in 11.34 seconds.\n",
      "decomposition:  {'q1': 'What is the name of the parent company of Tween Brands?', 'q2': 'In which country is the parent company headquartered?'}\n"
     ]
    },
    {
     "name": "stderr",
     "output_type": "stream",
     "text": [
      " 28%|██▊       | 165/598 [23:12<1:15:54, 10.52s/it]"
     ]
    },
    {
     "name": "stdout",
     "output_type": "stream",
     "text": [
      "Processed record 165/598 in 9.90 seconds.\n",
      "decomposition:  {'q1': 'When was the attack that destroyed a building near the Irish Hunger Memorial in Manhattan in New York City?', 'q2': 'What was the nature of the attack?'}\n"
     ]
    },
    {
     "name": "stderr",
     "output_type": "stream",
     "text": [
      " 28%|██▊       | 166/598 [23:25<1:20:08, 11.13s/it]"
     ]
    },
    {
     "name": "stdout",
     "output_type": "stream",
     "text": [
      "Processed record 166/598 in 12.56 seconds.\n",
      "decomposition:  {'q1': 'What body of government decided the McCulloch v. Maryland case?', 'q2': 'What body of government decided the In re Gault decision?'}\n"
     ]
    },
    {
     "name": "stderr",
     "output_type": "stream",
     "text": [
      " 28%|██▊       | 167/598 [23:36<1:20:14, 11.17s/it]"
     ]
    },
    {
     "name": "stdout",
     "output_type": "stream",
     "text": [
      "Processed record 167/598 in 11.26 seconds.\n",
      "decomposition:  {'q1': 'Who is the professional poker player with 50 plus years of experience?', 'q2': 'Which tournament did this player win in 1979?'}\n"
     ]
    },
    {
     "name": "stderr",
     "output_type": "stream",
     "text": [
      " 28%|██▊       | 168/598 [23:47<1:18:46, 10.99s/it]"
     ]
    },
    {
     "name": "stdout",
     "output_type": "stream",
     "text": [
      "Processed record 168/598 in 10.57 seconds.\n",
      "decomposition:  {'q1': 'In what state was the academy located after the USCGC Catenary was sold?', 'q2': 'What state was the academy located in after the USCGC Catenary was sold?'}\n"
     ]
    },
    {
     "name": "stderr",
     "output_type": "stream",
     "text": [
      " 28%|██▊       | 169/598 [23:57<1:17:29, 10.84s/it]"
     ]
    },
    {
     "name": "stdout",
     "output_type": "stream",
     "text": [
      "Processed record 169/598 in 10.48 seconds.\n",
      "decomposition:  {'q1': 'Is Florida Atlantic University in Florida?', 'q2': 'Is İzmir Institute of Technology in Florida?'}\n"
     ]
    },
    {
     "name": "stderr",
     "output_type": "stream",
     "text": [
      " 28%|██▊       | 170/598 [24:07<1:14:21, 10.42s/it]"
     ]
    },
    {
     "name": "stdout",
     "output_type": "stream",
     "text": [
      "Processed record 170/598 in 9.46 seconds.\n",
      "decomposition:  {'q1': 'Which album featured honky talk women and was the last to include Steven Tylor?', 'q2': 'What album had honky talk women on it?'}\n"
     ]
    },
    {
     "name": "stderr",
     "output_type": "stream",
     "text": [
      " 29%|██▊       | 171/598 [24:18<1:15:54, 10.67s/it]"
     ]
    },
    {
     "name": "stdout",
     "output_type": "stream",
     "text": [
      "Processed record 171/598 in 11.23 seconds.\n",
      "decomposition:  {'q1': 'In what town did Les Brewer co-found a college?', 'q2': 'What was the name of the college co-founded by Les Brewer?'}\n"
     ]
    },
    {
     "name": "stderr",
     "output_type": "stream",
     "text": [
      " 29%|██▉       | 172/598 [24:28<1:15:22, 10.62s/it]"
     ]
    },
    {
     "name": "stdout",
     "output_type": "stream",
     "text": [
      "Processed record 172/598 in 10.50 seconds.\n",
      "decomposition:  {'q1': 'Who is the British astronomer and composer who discovered the barred spiral galaxy known as \"NGC 4454\"?', 'q2': 'When did this discovery take place?'}\n"
     ]
    },
    {
     "name": "stderr",
     "output_type": "stream",
     "text": [
      " 29%|██▉       | 173/598 [24:39<1:15:00, 10.59s/it]"
     ]
    },
    {
     "name": "stdout",
     "output_type": "stream",
     "text": [
      "Processed record 173/598 in 10.52 seconds.\n",
      "decomposition:  {'q1': 'Which of the two individuals would you consider more likely to offer vocal lessons?', 'q2': 'What factors influence your preference in choosing between Floor Jansen and Jaime St. James as a vocal instructor?'}\n"
     ]
    },
    {
     "name": "stderr",
     "output_type": "stream",
     "text": [
      " 29%|██▉       | 174/598 [24:50<1:14:56, 10.61s/it]"
     ]
    },
    {
     "name": "stdout",
     "output_type": "stream",
     "text": [
      "Processed record 174/598 in 10.64 seconds.\n",
      "decomposition:  {'q1': 'What organization in North Brighton was established in 1898?', 'q2': \"Can you provide more details about the organization's history or purpose?\"}\n"
     ]
    },
    {
     "name": "stderr",
     "output_type": "stream",
     "text": [
      " 29%|██▉       | 175/598 [25:00<1:14:05, 10.51s/it]"
     ]
    },
    {
     "name": "stdout",
     "output_type": "stream",
     "text": [
      "Processed record 175/598 in 10.29 seconds.\n",
      "decomposition:  {'q1': 'Who was the Canadian mass murderer from Montreal, Quebec?', 'q2': 'What action did the murderer take after the mass murder?'}\n"
     ]
    },
    {
     "name": "stderr",
     "output_type": "stream",
     "text": [
      " 29%|██▉       | 176/598 [25:10<1:13:31, 10.45s/it]"
     ]
    },
    {
     "name": "stdout",
     "output_type": "stream",
     "text": [
      "Processed record 176/598 in 10.32 seconds.\n",
      "decomposition:  {'q1': 'Which Rihanna song is featured in the Letting Go samples?', 'q2': 'From which Rated R album does the mentioned song originate?'}\n"
     ]
    },
    {
     "name": "stderr",
     "output_type": "stream",
     "text": [
      " 30%|██▉       | 177/598 [25:21<1:14:15, 10.58s/it]"
     ]
    },
    {
     "name": "stdout",
     "output_type": "stream",
     "text": [
      "Processed record 177/598 in 10.88 seconds.\n",
      "decomposition:  {'q1': 'Are Robin McKinley and Anita Diamant both American authors?', 'q2': 'What is the nationality of Robin McKinley and Anita Diamant?'}\n"
     ]
    },
    {
     "name": "stderr",
     "output_type": "stream",
     "text": [
      " 30%|██▉       | 178/598 [25:32<1:14:55, 10.70s/it]"
     ]
    },
    {
     "name": "stdout",
     "output_type": "stream",
     "text": [
      "Processed record 178/598 in 10.98 seconds.\n",
      "decomposition:  {'q1': 'What is the location of the Edwin H. Armstrong House?', 'q2': 'What is the population of the county that contains the Edwin H. Armstrong House?'}\n"
     ]
    },
    {
     "name": "stderr",
     "output_type": "stream",
     "text": [
      " 30%|██▉       | 179/598 [25:42<1:13:06, 10.47s/it]"
     ]
    },
    {
     "name": "stdout",
     "output_type": "stream",
     "text": [
      "Processed record 179/598 in 9.92 seconds.\n",
      "decomposition:  {'q1': 'Which of the following operas has five acts?', 'q2': 'Is Anna Bolena or Mireille the one with five acts?'}\n"
     ]
    },
    {
     "name": "stderr",
     "output_type": "stream",
     "text": [
      " 30%|███       | 180/598 [25:52<1:12:40, 10.43s/it]"
     ]
    },
    {
     "name": "stdout",
     "output_type": "stream",
     "text": [
      "Processed record 180/598 in 10.34 seconds.\n",
      "decomposition:  {'q1': 'Which three act opera by German composer Richard Wagner did Uwe Eric Laufenberg direct?', 'q2': 'At which festival did Uwe Eric Laufenberg direct the opera?'}\n"
     ]
    },
    {
     "name": "stderr",
     "output_type": "stream",
     "text": [
      " 30%|███       | 181/598 [26:03<1:13:58, 10.64s/it]"
     ]
    },
    {
     "name": "stdout",
     "output_type": "stream",
     "text": [
      "Processed record 181/598 in 11.14 seconds.\n",
      "decomposition:  {'q1': 'What was the director of the 1939 film Gunga Din?', 'q2': 'Which actor starred in the 1939 film Gunga Din?'}\n"
     ]
    },
    {
     "name": "stderr",
     "output_type": "stream",
     "text": [
      " 30%|███       | 182/598 [26:14<1:14:34, 10.76s/it]"
     ]
    },
    {
     "name": "stdout",
     "output_type": "stream",
     "text": [
      "Processed record 182/598 in 11.02 seconds.\n",
      "decomposition:  {'q1': 'Which DC Comic book hero reappeared in a title in 2007?', 'q2': 'Who reappeared in that title?'}\n"
     ]
    },
    {
     "name": "stderr",
     "output_type": "stream",
     "text": [
      " 31%|███       | 183/598 [26:25<1:13:30, 10.63s/it]"
     ]
    },
    {
     "name": "stdout",
     "output_type": "stream",
     "text": [
      "Processed record 183/598 in 10.33 seconds.\n",
      "decomposition:  {'q1': 'What 1983 American romantic comedy film was directed by Martha Coolidge?', 'q2': \"Which of Josie Cotton's songs was featured in the soundtrack for this film?\"}\n"
     ]
    },
    {
     "name": "stderr",
     "output_type": "stream",
     "text": [
      " 31%|███       | 184/598 [26:36<1:13:37, 10.67s/it]"
     ]
    },
    {
     "name": "stdout",
     "output_type": "stream",
     "text": [
      "Processed record 184/598 in 10.77 seconds.\n",
      "decomposition:  {'q1': 'When did the web series featuring Emily Meade begin airing?', 'q2': 'When did the web series featuring Emily Meade air its final episode?'}\n"
     ]
    },
    {
     "name": "stderr",
     "output_type": "stream",
     "text": [
      " 31%|███       | 185/598 [26:46<1:12:15, 10.50s/it]"
     ]
    },
    {
     "name": "stdout",
     "output_type": "stream",
     "text": [
      "Processed record 185/598 in 10.09 seconds.\n",
      "decomposition:  {'q1': 'What is the name of the American actor who co-starred in Secret in Their Eyes?', 'q2': 'What role is the American actor best known for on \"House of Cards\"?'}\n"
     ]
    },
    {
     "name": "stderr",
     "output_type": "stream",
     "text": [
      " 31%|███       | 186/598 [26:57<1:13:01, 10.63s/it]"
     ]
    },
    {
     "name": "stdout",
     "output_type": "stream",
     "text": [
      "Processed record 186/598 in 10.95 seconds.\n",
      "decomposition:  {'q1': 'Which Irish actor does Carrie Pilby star alongside?', 'q2': 'Which musician does Carrie Pilby star alongside?'}\n"
     ]
    },
    {
     "name": "stderr",
     "output_type": "stream",
     "text": [
      " 31%|███▏      | 187/598 [27:06<1:11:09, 10.39s/it]"
     ]
    },
    {
     "name": "stdout",
     "output_type": "stream",
     "text": [
      "Processed record 187/598 in 9.82 seconds.\n",
      "decomposition:  {'q1': 'Which singer appears in Strange Clouds?', 'q2': 'When was the singer born?'}\n"
     ]
    },
    {
     "name": "stderr",
     "output_type": "stream",
     "text": [
      " 31%|███▏      | 188/598 [27:16<1:09:05, 10.11s/it]"
     ]
    },
    {
     "name": "stdout",
     "output_type": "stream",
     "text": [
      "Processed record 188/598 in 9.46 seconds.\n",
      "decomposition:  {'q1': 'Who was drafted for the 1995-96 Manchester United F.C. season alongside his brother?', 'q2': 'What is the name of the English football former football player and co-owner of Salford City who was drafted in that season?'}\n"
     ]
    },
    {
     "name": "stderr",
     "output_type": "stream",
     "text": [
      " 32%|███▏      | 189/598 [27:27<1:11:46, 10.53s/it]"
     ]
    },
    {
     "name": "stdout",
     "output_type": "stream",
     "text": [
      "Processed record 189/598 in 11.51 seconds.\n",
      "decomposition:  {'q1': 'What game was released in 2006?', 'q2': 'Which game included a real life mission where six armed men stormed the Iranian embassy in South Kensington, London in 1980?'}\n"
     ]
    },
    {
     "name": "stderr",
     "output_type": "stream",
     "text": [
      " 32%|███▏      | 190/598 [27:39<1:13:06, 10.75s/it]"
     ]
    },
    {
     "name": "stdout",
     "output_type": "stream",
     "text": [
      "Processed record 190/598 in 11.27 seconds.\n",
      "decomposition:  {'q1': 'Are both Rusty Nail and French Connection cocktails?', 'q2': 'What is the nature of the relationship between Rusty Nail and French Connection in terms of being cocktails?'}\n"
     ]
    },
    {
     "name": "stderr",
     "output_type": "stream",
     "text": [
      " 32%|███▏      | 191/598 [27:49<1:11:27, 10.53s/it]"
     ]
    },
    {
     "name": "stdout",
     "output_type": "stream",
     "text": [
      "Processed record 191/598 in 10.03 seconds.\n",
      "decomposition:  {'q1': 'Which fighter participated in WEC 38?', 'q2': 'Which of those fighters is known as the \"busiest\" in the UFC?'}\n"
     ]
    },
    {
     "name": "stderr",
     "output_type": "stream",
     "text": [
      " 32%|███▏      | 192/598 [28:00<1:12:21, 10.69s/it]"
     ]
    },
    {
     "name": "stdout",
     "output_type": "stream",
     "text": [
      "Processed record 192/598 in 11.06 seconds.\n",
      "decomposition:  {'q1': 'Which Argentine footballer won the Crystal Palace Football Club Player of the Year four times?', 'q2': 'In what position does the footballer play for the English club Crystal Palace?'}\n"
     ]
    },
    {
     "name": "stderr",
     "output_type": "stream",
     "text": [
      " 32%|███▏      | 193/598 [28:10<1:11:46, 10.63s/it]"
     ]
    },
    {
     "name": "stdout",
     "output_type": "stream",
     "text": [
      "Processed record 193/598 in 10.50 seconds.\n",
      "decomposition:  {'q1': 'Which region in Ghana shares a boundary with the Amansie East District?', 'q2': 'How many districts are there in that region?'}\n"
     ]
    },
    {
     "name": "stderr",
     "output_type": "stream",
     "text": [
      " 32%|███▏      | 194/598 [28:21<1:11:18, 10.59s/it]"
     ]
    },
    {
     "name": "stdout",
     "output_type": "stream",
     "text": [
      "Processed record 194/598 in 10.49 seconds.\n",
      "decomposition:  {'q1': 'In which film did Jay Chou play Kato in 2011?', 'q2': 'When was the film released?'}\n"
     ]
    },
    {
     "name": "stderr",
     "output_type": "stream",
     "text": [
      " 33%|███▎      | 195/598 [28:31<1:09:56, 10.41s/it]"
     ]
    },
    {
     "name": "stdout",
     "output_type": "stream",
     "text": [
      "Processed record 195/598 in 10.00 seconds.\n",
      "decomposition:  {'q1': 'Who recruited Peter Brown for their management team?', 'q2': 'Which band was discovered by the person who recruited Peter Brown?'}\n"
     ]
    },
    {
     "name": "stderr",
     "output_type": "stream",
     "text": [
      " 33%|███▎      | 196/598 [28:41<1:09:07, 10.32s/it]"
     ]
    },
    {
     "name": "stdout",
     "output_type": "stream",
     "text": [
      "Processed record 196/598 in 10.09 seconds.\n",
      "decomposition:  {'q1': 'Who was the man who used the pen name \"Harun Yahya\"?', 'q2': 'In what year was he born?'}\n"
     ]
    },
    {
     "name": "stderr",
     "output_type": "stream",
     "text": [
      " 33%|███▎      | 197/598 [28:52<1:10:03, 10.48s/it]"
     ]
    },
    {
     "name": "stdout",
     "output_type": "stream",
     "text": [
      "Processed record 197/598 in 10.87 seconds.\n",
      "decomposition:  {'q1': 'What is the common animal that both the Koolie and Sakhalin Husky breeds are associated with?', 'q2': 'What is the specific breed of animal being referred to in the question?'}\n"
     ]
    },
    {
     "name": "stderr",
     "output_type": "stream",
     "text": [
      " 33%|███▎      | 198/598 [29:02<1:09:18, 10.40s/it]"
     ]
    },
    {
     "name": "stdout",
     "output_type": "stream",
     "text": [
      "Processed record 198/598 in 10.20 seconds.\n",
      "decomposition:  {'q1': 'Who are Ronnie Dunn and Jane Relf?', 'q2': 'What do both of them do?'}\n"
     ]
    },
    {
     "name": "stderr",
     "output_type": "stream",
     "text": [
      " 33%|███▎      | 199/598 [29:12<1:08:40, 10.33s/it]"
     ]
    },
    {
     "name": "stdout",
     "output_type": "stream",
     "text": [
      "Processed record 199/598 in 10.16 seconds.\n",
      "decomposition:  {'q1': 'Who designed the original hotel and casino on the site of the current resort?', 'q2': 'What company owns and operates the current resort?'}\n"
     ]
    },
    {
     "name": "stderr",
     "output_type": "stream",
     "text": [
      " 33%|███▎      | 200/598 [29:23<1:09:08, 10.42s/it]"
     ]
    },
    {
     "name": "stdout",
     "output_type": "stream",
     "text": [
      "Processed record 200/598 in 10.64 seconds.\n",
      "\n",
      "--- Saved batch up to record 200\n",
      "Average time for last 100 records: 10.71 seconds\n",
      "\n",
      "decomposition:  {'q1': 'What Henry Ramsden Bramley song is listed in the Roxburghe Collection?', 'q2': 'At what number is the listed song in the Roxburghe Collection?'}\n"
     ]
    },
    {
     "name": "stderr",
     "output_type": "stream",
     "text": [
      " 34%|███▎      | 201/598 [29:33<1:09:29, 10.50s/it]"
     ]
    },
    {
     "name": "stdout",
     "output_type": "stream",
     "text": [
      "Processed record 201/598 in 10.68 seconds.\n",
      "decomposition:  {'q1': 'What is the name of the area in South Africa shared by Washing of the Spears and Shaka?', 'q2': 'What is the commonality between Washing of the Spears and Shaka in this area?'}\n"
     ]
    },
    {
     "name": "stderr",
     "output_type": "stream",
     "text": [
      " 34%|███▍      | 202/598 [29:44<1:09:52, 10.59s/it]"
     ]
    },
    {
     "name": "stdout",
     "output_type": "stream",
     "text": [
      "Processed record 202/598 in 10.79 seconds.\n",
      "decomposition:  {'q1': 'Which American professional boxer and activist was referee for several major bouts involving Richard Green?', 'q2': 'What were the major bouts in which Richard Green was referee?'}\n"
     ]
    },
    {
     "name": "stderr",
     "output_type": "stream",
     "text": [
      " 34%|███▍      | 203/598 [29:55<1:10:18, 10.68s/it]"
     ]
    },
    {
     "name": "stdout",
     "output_type": "stream",
     "text": [
      "Processed record 203/598 in 10.89 seconds.\n",
      "decomposition:  {'q1': 'What was the name of the English actor who co-starred with Round the Horne?', 'q2': 'In which film did Round the Horne and the English actor co-star?'}\n"
     ]
    },
    {
     "name": "stderr",
     "output_type": "stream",
     "text": [
      " 34%|███▍      | 204/598 [30:06<1:10:05, 10.67s/it]"
     ]
    },
    {
     "name": "stdout",
     "output_type": "stream",
     "text": [
      "Processed record 204/598 in 10.66 seconds.\n",
      "decomposition:  {'q1': 'Which of the two plants, Evolvulus or Centradenia, has more species?', 'q2': 'What is the approximate number of species in each plant?'}\n"
     ]
    },
    {
     "name": "stderr",
     "output_type": "stream",
     "text": [
      " 34%|███▍      | 205/598 [30:16<1:09:24, 10.60s/it]"
     ]
    },
    {
     "name": "stdout",
     "output_type": "stream",
     "text": [
      "Processed record 205/598 in 10.42 seconds.\n",
      "decomposition:  {'q1': 'Where are Working for a Nuclear Free City and The Innocence Mission headquartered?', 'q2': 'Are both Working for a Nuclear Free City and The Innocence Mission headquartered in the United States?'}\n"
     ]
    },
    {
     "name": "stderr",
     "output_type": "stream",
     "text": [
      " 34%|███▍      | 206/598 [30:27<1:09:24, 10.62s/it]"
     ]
    },
    {
     "name": "stdout",
     "output_type": "stream",
     "text": [
      "Processed record 206/598 in 10.68 seconds.\n",
      "decomposition:  {'q1': 'What movie features a young wizard who experiences danger and opposition?', 'q2': 'In which movie does Charlotte Cardoza have a role following the story of the young wizard?'}\n"
     ]
    },
    {
     "name": "stderr",
     "output_type": "stream",
     "text": [
      " 35%|███▍      | 207/598 [30:39<1:11:57, 11.04s/it]"
     ]
    },
    {
     "name": "stdout",
     "output_type": "stream",
     "text": [
      "Processed record 207/598 in 12.02 seconds.\n",
      "decomposition:  {'q1': 'In what years was the city hall constructed?', 'q2': 'Where is the Rathausmann located in the city hall?'}\n"
     ]
    },
    {
     "name": "stderr",
     "output_type": "stream",
     "text": [
      " 35%|███▍      | 208/598 [30:49<1:10:02, 10.77s/it]"
     ]
    },
    {
     "name": "stdout",
     "output_type": "stream",
     "text": [
      "Processed record 208/598 in 10.15 seconds.\n",
      "decomposition:  {'q1': 'What 2010 movie did Paul Warren star in?', 'q2': 'Who else starred in the movie alongside Paul Warren?'}\n"
     ]
    },
    {
     "name": "stderr",
     "output_type": "stream",
     "text": [
      " 35%|███▍      | 209/598 [31:00<1:09:44, 10.76s/it]"
     ]
    },
    {
     "name": "stdout",
     "output_type": "stream",
     "text": [
      "Processed record 209/598 in 10.71 seconds.\n",
      "decomposition:  {'q1': 'What co-educational, non-profit liberal arts college is most of the curriculum based on and centered on the teaching of the western heritage as a product of the Greco-Roman culture and Judeo-Christian tradition?', 'q2': 'In what capacity did James L. Morison serve at the University of Notre Dame?'}\n"
     ]
    },
    {
     "name": "stderr",
     "output_type": "stream",
     "text": [
      " 35%|███▌      | 210/598 [31:11<1:10:17, 10.87s/it]"
     ]
    },
    {
     "name": "stdout",
     "output_type": "stream",
     "text": [
      "Processed record 210/598 in 11.13 seconds.\n",
      "decomposition:  {'q1': 'What was the name of the magazine Ian Young wrote for?', 'q2': 'What did the group that published the magazine deny the existence of?'}\n"
     ]
    },
    {
     "name": "stderr",
     "output_type": "stream",
     "text": [
      " 35%|███▌      | 211/598 [31:21<1:09:33, 10.78s/it]"
     ]
    },
    {
     "name": "stdout",
     "output_type": "stream",
     "text": [
      "Processed record 211/598 in 10.59 seconds.\n",
      "decomposition:  {'q1': 'Which film directed by Wong Kar-wai was nominated for the most awards at the 24th Hong Kong Film Awards?', 'q2': 'How many awards did the winning film receive at the 24th Hong Kong Film Awards?'}\n"
     ]
    },
    {
     "name": "stderr",
     "output_type": "stream",
     "text": [
      " 35%|███▌      | 212/598 [31:32<1:08:38, 10.67s/it]"
     ]
    },
    {
     "name": "stdout",
     "output_type": "stream",
     "text": [
      "Processed record 212/598 in 10.40 seconds.\n",
      "decomposition:  {'q1': 'What is the name of the footballer who shares a state with Melbourne Knights FC?', 'q2': 'In what state do Steve Kokoska and Melbourne Knights FC reside?'}\n"
     ]
    },
    {
     "name": "stderr",
     "output_type": "stream",
     "text": [
      " 36%|███▌      | 213/598 [31:42<1:06:54, 10.43s/it]"
     ]
    },
    {
     "name": "stdout",
     "output_type": "stream",
     "text": [
      "Processed record 213/598 in 9.86 seconds.\n",
      "decomposition:  {'q1': 'What was the primary designation of Brentwood Cathedral or Bradford Cathedral throughout most of their history?', 'q2': 'Which cathedral was known as the parish church of St Peter for most of its history?'}\n"
     ]
    },
    {
     "name": "stderr",
     "output_type": "stream",
     "text": [
      " 36%|███▌      | 214/598 [31:52<1:06:59, 10.47s/it]"
     ]
    },
    {
     "name": "stdout",
     "output_type": "stream",
     "text": [
      "Processed record 214/598 in 10.56 seconds.\n",
      "decomposition:  {'q1': 'Which American comic-book limited series was John Higgins a colourist for?', 'q2': 'What DC Comics limited series featured John Higgins as a colourist?'}\n"
     ]
    },
    {
     "name": "stderr",
     "output_type": "stream",
     "text": [
      " 36%|███▌      | 215/598 [32:03<1:07:28, 10.57s/it]"
     ]
    },
    {
     "name": "stdout",
     "output_type": "stream",
     "text": [
      "Processed record 215/598 in 10.81 seconds.\n",
      "decomposition:  {'q1': 'Are Cake and The Darling Buds?', 'q2': 'If so, are they both from America?'}\n"
     ]
    },
    {
     "name": "stderr",
     "output_type": "stream",
     "text": [
      " 36%|███▌      | 216/598 [32:13<1:06:01, 10.37s/it]"
     ]
    },
    {
     "name": "stdout",
     "output_type": "stream",
     "text": [
      "Processed record 216/598 in 9.90 seconds.\n",
      "decomposition:  {'q1': 'Which German YouTube personality is an actor and comedian?', 'q2': 'Which films featured this German YouTube personality?'}\n"
     ]
    },
    {
     "name": "stderr",
     "output_type": "stream",
     "text": [
      " 36%|███▋      | 217/598 [32:24<1:06:21, 10.45s/it]"
     ]
    },
    {
     "name": "stdout",
     "output_type": "stream",
     "text": [
      "Processed record 217/598 in 10.63 seconds.\n",
      "decomposition:  {'q1': 'Which director won the award for Best Film at the 13th César Awards?', 'q2': 'What film won the award for Best Film at the 13th César Awards?'}\n"
     ]
    },
    {
     "name": "stderr",
     "output_type": "stream",
     "text": [
      " 36%|███▋      | 218/598 [32:34<1:06:29, 10.50s/it]"
     ]
    },
    {
     "name": "stdout",
     "output_type": "stream",
     "text": [
      "Processed record 218/598 in 10.61 seconds.\n",
      "decomposition:  {'q1': 'Which Roman-British province was inhabited by the Celtics Britons, Belgae and Picts?', 'q2': 'Which province holds the best preserved Roman fort north of the Alps?'}\n"
     ]
    },
    {
     "name": "stderr",
     "output_type": "stream",
     "text": [
      " 37%|███▋      | 219/598 [32:45<1:06:57, 10.60s/it]"
     ]
    },
    {
     "name": "stdout",
     "output_type": "stream",
     "text": [
      "Processed record 219/598 in 10.84 seconds.\n",
      "decomposition:  {'q1': 'What car was first produced by Porsche in 1948?', 'q2': 'Which car achieved fame for Nick Faure?'}\n"
     ]
    },
    {
     "name": "stderr",
     "output_type": "stream",
     "text": [
      " 37%|███▋      | 220/598 [32:56<1:06:53, 10.62s/it]"
     ]
    },
    {
     "name": "stdout",
     "output_type": "stream",
     "text": [
      "Processed record 220/598 in 10.66 seconds.\n",
      "decomposition:  {'q1': 'Where was the Soviet revolutionary born?', 'q2': 'When did his death precede The Norilsk uprising?'}\n"
     ]
    },
    {
     "name": "stderr",
     "output_type": "stream",
     "text": [
      " 37%|███▋      | 221/598 [33:06<1:06:44, 10.62s/it]"
     ]
    },
    {
     "name": "stdout",
     "output_type": "stream",
     "text": [
      "Processed record 221/598 in 10.64 seconds.\n",
      "decomposition:  {'q1': 'What city is the group based in?', 'q2': 'What is the name of the song?'}\n"
     ]
    },
    {
     "name": "stderr",
     "output_type": "stream",
     "text": [
      " 37%|███▋      | 222/598 [33:16<1:05:11, 10.40s/it]"
     ]
    },
    {
     "name": "stdout",
     "output_type": "stream",
     "text": [
      "Processed record 222/598 in 9.89 seconds.\n",
      "decomposition:  {'q1': 'When was the person born?', 'q2': 'Who fronted the second series of the British reality television series Hair?'}\n"
     ]
    },
    {
     "name": "stderr",
     "output_type": "stream",
     "text": [
      " 37%|███▋      | 223/598 [33:26<1:04:30, 10.32s/it]"
     ]
    },
    {
     "name": "stdout",
     "output_type": "stream",
     "text": [
      "Processed record 223/598 in 10.13 seconds.\n",
      "decomposition:  {'q1': 'What studio directed the 1998 horror remake in which Stephanie Reaves starred as Norma Bates?', 'q2': 'In what year was the 1998 horror remake released?'}\n"
     ]
    },
    {
     "name": "stderr",
     "output_type": "stream",
     "text": [
      " 37%|███▋      | 224/598 [33:37<1:04:52, 10.41s/it]"
     ]
    },
    {
     "name": "stdout",
     "output_type": "stream",
     "text": [
      "Processed record 224/598 in 10.61 seconds.\n",
      "decomposition:  {'q1': 'Which player from the 1995 Steelers Super Bowl XXX roster was related to the Steelers roster that defeated the Seahawks in 2006 in Michigan?', 'q2': 'Who is the cousin of the player mentioned in q1?'}\n"
     ]
    },
    {
     "name": "stderr",
     "output_type": "stream",
     "text": [
      " 38%|███▊      | 225/598 [33:48<1:05:41, 10.57s/it]"
     ]
    },
    {
     "name": "stdout",
     "output_type": "stream",
     "text": [
      "Processed record 225/598 in 10.94 seconds.\n",
      "decomposition:  {'q1': 'What is the location of Tonsley Park?', 'q2': 'How many inhabitants are there in the inner southern suburb of Adelaide where Tonsley Park is located?'}\n"
     ]
    },
    {
     "name": "stderr",
     "output_type": "stream",
     "text": [
      " 38%|███▊      | 226/598 [33:59<1:05:46, 10.61s/it]"
     ]
    },
    {
     "name": "stdout",
     "output_type": "stream",
     "text": [
      "Processed record 226/598 in 10.71 seconds.\n",
      "decomposition:  {'q1': 'When was the car Tim Slade drives for Brad Jones Racing produced?', 'q2': 'For how long has the car Tim Slade drives for Brad Jones Racing been in production?'}\n"
     ]
    },
    {
     "name": "stderr",
     "output_type": "stream",
     "text": [
      " 38%|███▊      | 227/598 [34:09<1:05:17, 10.56s/it]"
     ]
    },
    {
     "name": "stdout",
     "output_type": "stream",
     "text": [
      "Processed record 227/598 in 10.45 seconds.\n",
      "decomposition:  {'q1': 'Who are the members of the band in question?', 'q2': 'Does Emily Haines and Tyler Joseph belong to the same band?'}\n"
     ]
    },
    {
     "name": "stderr",
     "output_type": "stream",
     "text": [
      " 38%|███▊      | 228/598 [34:20<1:05:22, 10.60s/it]"
     ]
    },
    {
     "name": "stdout",
     "output_type": "stream",
     "text": [
      "Processed record 228/598 in 10.69 seconds.\n",
      "decomposition:  {'q1': 'What is the primary venue of The Adelaide Symphony Orchestra?', 'q2': 'Which street is the primary venue located on?'}\n"
     ]
    },
    {
     "name": "stderr",
     "output_type": "stream",
     "text": [
      " 38%|███▊      | 229/598 [34:30<1:03:39, 10.35s/it]"
     ]
    },
    {
     "name": "stdout",
     "output_type": "stream",
     "text": [
      "Processed record 229/598 in 9.77 seconds.\n",
      "decomposition:  {'q1': 'Which of the two individuals, Brendon Small or Paul Day, has more credits associated with their name?', 'q2': 'What is the total number of credits attributed to each individual?'}\n"
     ]
    },
    {
     "name": "stderr",
     "output_type": "stream",
     "text": [
      " 38%|███▊      | 230/598 [34:40<1:02:47, 10.24s/it]"
     ]
    },
    {
     "name": "stdout",
     "output_type": "stream",
     "text": [
      "Processed record 230/598 in 9.97 seconds.\n",
      "decomposition:  {'q1': 'Did Pedro Sienna direct movies?', 'q2': 'Did Irving Cummings direct movies?'}\n"
     ]
    },
    {
     "name": "stderr",
     "output_type": "stream",
     "text": [
      " 39%|███▊      | 231/598 [34:50<1:02:33, 10.23s/it]"
     ]
    },
    {
     "name": "stdout",
     "output_type": "stream",
     "text": [
      "Processed record 231/598 in 10.21 seconds.\n",
      "decomposition:  {'q1': 'What state highway is located just north of Wading River on Long Island?', 'q2': \"Where was the extension's end located?\"}\n"
     ]
    },
    {
     "name": "stderr",
     "output_type": "stream",
     "text": [
      " 39%|███▉      | 232/598 [35:00<1:02:16, 10.21s/it]"
     ]
    },
    {
     "name": "stdout",
     "output_type": "stream",
     "text": [
      "Processed record 232/598 in 10.17 seconds.\n",
      "decomposition:  {'q1': 'Which Swiss financial company is involved with Shanta Gold?', 'q2': 'In what capacity do these bankers work with Shanta Gold?'}\n"
     ]
    },
    {
     "name": "stderr",
     "output_type": "stream",
     "text": [
      " 39%|███▉      | 233/598 [35:10<1:01:25, 10.10s/it]"
     ]
    },
    {
     "name": "stdout",
     "output_type": "stream",
     "text": [
      "Processed record 233/598 in 9.84 seconds.\n",
      "decomposition:  {'q1': 'What was the director of the silent films La Roue and Napoleon?', 'q2': 'Who were the silent films La Roue and Napoleon directed by?'}\n"
     ]
    },
    {
     "name": "stderr",
     "output_type": "stream",
     "text": [
      " 39%|███▉      | 234/598 [35:21<1:02:32, 10.31s/it]"
     ]
    },
    {
     "name": "stdout",
     "output_type": "stream",
     "text": [
      "Processed record 234/598 in 10.80 seconds.\n",
      "decomposition:  {'q1': 'Who wrote the Flash cartoon series?', 'q2': 'In which series was Aglaia Mortcheva portrayed as Vendetta?'}\n"
     ]
    },
    {
     "name": "stderr",
     "output_type": "stream",
     "text": [
      " 39%|███▉      | 235/598 [35:31<1:02:33, 10.34s/it]"
     ]
    },
    {
     "name": "stdout",
     "output_type": "stream",
     "text": [
      "Processed record 235/598 in 10.41 seconds.\n",
      "decomposition:  {'q1': 'Are Giorgio Simonelli and Peter Weir directors?', 'q2': 'If so, how many directors are there in total?'}\n"
     ]
    },
    {
     "name": "stderr",
     "output_type": "stream",
     "text": [
      " 39%|███▉      | 236/598 [35:42<1:02:48, 10.41s/it]"
     ]
    },
    {
     "name": "stdout",
     "output_type": "stream",
     "text": [
      "Processed record 236/598 in 10.57 seconds.\n",
      "decomposition:  {'q1': 'What was the genre of the film in which Craig Wasson made his film debut?', 'q2': 'Who directed the film in which Craig Wasson made his film debut?'}\n"
     ]
    },
    {
     "name": "stderr",
     "output_type": "stream",
     "text": [
      " 40%|███▉      | 237/598 [35:52<1:02:37, 10.41s/it]"
     ]
    },
    {
     "name": "stdout",
     "output_type": "stream",
     "text": [
      "Processed record 237/598 in 10.40 seconds.\n",
      "decomposition:  {'q1': 'What factors would influence your decision about which game to play first, Medici or Break the Safe?', 'q2': 'Considering those factors, which game do you think would be more attainable for you to play?'}\n"
     ]
    },
    {
     "name": "stderr",
     "output_type": "stream",
     "text": [
      " 40%|███▉      | 238/598 [36:03<1:02:47, 10.46s/it]"
     ]
    },
    {
     "name": "stdout",
     "output_type": "stream",
     "text": [
      "Processed record 238/598 in 10.60 seconds.\n",
      "decomposition:  {'q1': 'What is the inspiration behind Rednex\\'s \"Cotton Eye Joe\"?', 'q2': 'Which part of the US is most commonly associated with the folk songs that inspired Rednex\\'s \"Cotton Eye Joe\"?'}\n"
     ]
    },
    {
     "name": "stderr",
     "output_type": "stream",
     "text": [
      " 40%|███▉      | 239/598 [36:13<1:02:44, 10.49s/it]"
     ]
    },
    {
     "name": "stdout",
     "output_type": "stream",
     "text": [
      "Processed record 239/598 in 10.53 seconds.\n",
      "decomposition:  {'q1': 'Which American actress starred in the film adaptation of John Steinbeck\\'s \"The Grapes of Wrath\"?', 'q2': 'Which American actress starred in the 1950 American Western film \"Redwood Forest Trail\"?'}\n"
     ]
    },
    {
     "name": "stderr",
     "output_type": "stream",
     "text": [
      " 40%|████      | 240/598 [36:26<1:07:19, 11.28s/it]"
     ]
    },
    {
     "name": "stdout",
     "output_type": "stream",
     "text": [
      "Processed record 240/598 in 13.15 seconds.\n",
      "decomposition:  {'q1': 'What California city was Speedpass originally created in?', 'q2': 'By whom was Speedpass originally created?'}\n"
     ]
    },
    {
     "name": "stderr",
     "output_type": "stream",
     "text": [
      " 40%|████      | 241/598 [36:36<1:04:56, 10.91s/it]"
     ]
    },
    {
     "name": "stdout",
     "output_type": "stream",
     "text": [
      "Processed record 241/598 in 10.05 seconds.\n",
      "decomposition:  {'q1': 'When did Wallace Hester illustrate the magazine?', 'q2': 'When did the magazine cease publication?'}\n"
     ]
    },
    {
     "name": "stderr",
     "output_type": "stream",
     "text": [
      " 40%|████      | 242/598 [36:47<1:03:38, 10.73s/it]"
     ]
    },
    {
     "name": "stdout",
     "output_type": "stream",
     "text": [
      "Processed record 242/598 in 10.28 seconds.\n",
      "decomposition:  {'q1': 'What is the name of the ABC sitcom that Sarah Dunn is known for writing?', 'q2': 'In what year was the actress who starred in the ABC sitcom born?'}\n"
     ]
    },
    {
     "name": "stderr",
     "output_type": "stream",
     "text": [
      " 41%|████      | 243/598 [36:57<1:03:26, 10.72s/it]"
     ]
    },
    {
     "name": "stdout",
     "output_type": "stream",
     "text": [
      "Processed record 243/598 in 10.71 seconds.\n",
      "decomposition:  {'q1': 'What historic city in Cochise County, Arizona had famous inhabitants?', 'q2': 'Who were some of the famous inhabitants of this historic city?'}\n"
     ]
    },
    {
     "name": "stderr",
     "output_type": "stream",
     "text": [
      " 41%|████      | 244/598 [37:08<1:02:51, 10.65s/it]"
     ]
    },
    {
     "name": "stdout",
     "output_type": "stream",
     "text": [
      "Processed record 244/598 in 10.50 seconds.\n",
      "decomposition:  {'q1': 'What is the primary occupation of the Swiss airline mentioned in the sentence?', 'q2': 'Who are the clients of the Swiss airline mentioned in the sentence?'}\n"
     ]
    },
    {
     "name": "stderr",
     "output_type": "stream",
     "text": [
      " 41%|████      | 245/598 [37:18<1:01:28, 10.45s/it]"
     ]
    },
    {
     "name": "stdout",
     "output_type": "stream",
     "text": [
      "Processed record 245/598 in 9.97 seconds.\n",
      "decomposition:  {'q1': 'What town is near Butcher Hills?', 'q2': 'What was the population of that town in 2010?'}\n"
     ]
    },
    {
     "name": "stderr",
     "output_type": "stream",
     "text": [
      " 41%|████      | 246/598 [37:28<1:00:38, 10.34s/it]"
     ]
    },
    {
     "name": "stdout",
     "output_type": "stream",
     "text": [
      "Processed record 246/598 in 10.07 seconds.\n",
      "decomposition:  {'q1': 'Which Red Dirt country group is from Palestine, Texas?', 'q2': 'For which songs has Mando Saenz had recorded by that group?'}\n"
     ]
    },
    {
     "name": "stderr",
     "output_type": "stream",
     "text": [
      " 41%|████▏     | 247/598 [37:38<1:00:32, 10.35s/it]"
     ]
    },
    {
     "name": "stdout",
     "output_type": "stream",
     "text": [
      "Processed record 247/598 in 10.37 seconds.\n",
      "decomposition:  {'q1': 'Who was the actor who portrayed Mike Hammer in \"Kiss Me Deadly\"?', 'q2': 'What was the director of the 1952 musical drama film starring the actor who portrayed Mike Hammer?'}\n"
     ]
    },
    {
     "name": "stderr",
     "output_type": "stream",
     "text": [
      " 41%|████▏     | 248/598 [37:50<1:02:14, 10.67s/it]"
     ]
    },
    {
     "name": "stdout",
     "output_type": "stream",
     "text": [
      "Processed record 248/598 in 11.42 seconds.\n",
      "decomposition:  {'q1': 'What is the market share of Pizza Corner?', 'q2': 'What is the market share of Round Table Pizza?'}\n"
     ]
    },
    {
     "name": "stderr",
     "output_type": "stream",
     "text": [
      " 42%|████▏     | 249/598 [38:00<1:01:38, 10.60s/it]"
     ]
    },
    {
     "name": "stdout",
     "output_type": "stream",
     "text": [
      "Processed record 249/598 in 10.43 seconds.\n",
      "decomposition:  {'q1': 'Who was Vano \"Ivan\" Anastasovich\\'s uncle?', 'q2': 'What did Vano \"Ivan\" Anastasovich\\'s uncle design?'}\n"
     ]
    },
    {
     "name": "stderr",
     "output_type": "stream",
     "text": [
      " 42%|████▏     | 250/598 [38:12<1:03:26, 10.94s/it]"
     ]
    },
    {
     "name": "stdout",
     "output_type": "stream",
     "text": [
      "Processed record 250/598 in 11.73 seconds.\n",
      "decomposition:  {'q1': 'In what year was the musician who wrote and produced \"Constant Conversations\" born?', 'q2': 'What is the title of the album written and produced by the musician?'}\n"
     ]
    },
    {
     "name": "stderr",
     "output_type": "stream",
     "text": [
      " 42%|████▏     | 251/598 [38:22<1:01:28, 10.63s/it]"
     ]
    },
    {
     "name": "stdout",
     "output_type": "stream",
     "text": [
      "Processed record 251/598 in 9.91 seconds.\n",
      "decomposition:  {'q1': 'What district covers the Long Island hamlets of Bellmore, North Bellmore, Merrick, and North Merrick, New York?', 'q2': 'In which district does Sanford H. Calhoun High School reside?'}\n"
     ]
    },
    {
     "name": "stderr",
     "output_type": "stream",
     "text": [
      " 42%|████▏     | 252/598 [38:33<1:01:58, 10.75s/it]"
     ]
    },
    {
     "name": "stdout",
     "output_type": "stream",
     "text": [
      "Processed record 252/598 in 11.03 seconds.\n",
      "decomposition:  {'q1': \"Who created the show from which the CD Dora's Party Favorites was inspired?\", 'q2': \"What was the name of the show from which the CD Dora's Party Favorites was created?\"}\n"
     ]
    },
    {
     "name": "stderr",
     "output_type": "stream",
     "text": [
      " 42%|████▏     | 253/598 [38:44<1:02:45, 10.91s/it]"
     ]
    },
    {
     "name": "stdout",
     "output_type": "stream",
     "text": [
      "Processed record 253/598 in 11.30 seconds.\n",
      "decomposition:  {'q1': 'Which American actor won an Academy Award for his portrayal of Ray Charles in the 2004 biographical film Ray?', 'q2': 'What toys starred in the film Ray?'}\n"
     ]
    },
    {
     "name": "stderr",
     "output_type": "stream",
     "text": [
      " 42%|████▏     | 254/598 [38:55<1:01:54, 10.80s/it]"
     ]
    },
    {
     "name": "stdout",
     "output_type": "stream",
     "text": [
      "Processed record 254/598 in 10.53 seconds.\n",
      "decomposition:  {'q1': 'Who is the American rapper who wrote the song \"3005\"?', 'q2': 'What is the given name of the rapper mentioned in the previous question?'}\n"
     ]
    },
    {
     "name": "stderr",
     "output_type": "stream",
     "text": [
      " 43%|████▎     | 255/598 [39:05<1:00:37, 10.60s/it]"
     ]
    },
    {
     "name": "stdout",
     "output_type": "stream",
     "text": [
      "Processed record 255/598 in 10.15 seconds.\n",
      "decomposition:  {'q1': 'What was the birth date of the \"I Kill Giants\" star?', 'q2': 'In what post-apocalyptic science fiction horror film did the star also play?'}\n"
     ]
    },
    {
     "name": "stderr",
     "output_type": "stream",
     "text": [
      " 43%|████▎     | 256/598 [39:15<59:50, 10.50s/it]  "
     ]
    },
    {
     "name": "stdout",
     "output_type": "stream",
     "text": [
      "Processed record 256/598 in 10.26 seconds.\n",
      "decomposition:  {'q1': 'What was the location where \"In Darfur\" was read in the summer of 2007?', 'q2': 'How many seats does the theater have?'}\n"
     ]
    },
    {
     "name": "stderr",
     "output_type": "stream",
     "text": [
      " 43%|████▎     | 257/598 [39:26<1:00:21, 10.62s/it]"
     ]
    },
    {
     "name": "stdout",
     "output_type": "stream",
     "text": [
      "Processed record 257/598 in 10.90 seconds.\n",
      "decomposition:  {'q1': 'Which baseball team was established in 1883 in Brooklyn, New York?', 'q2': 'For which baseball team does Walker Buehler play?'}\n"
     ]
    },
    {
     "name": "stderr",
     "output_type": "stream",
     "text": [
      " 43%|████▎     | 258/598 [39:36<59:29, 10.50s/it]  "
     ]
    },
    {
     "name": "stdout",
     "output_type": "stream",
     "text": [
      "Processed record 258/598 in 10.22 seconds.\n",
      "decomposition:  {'q1': 'What global company did K. K. Chen head pharmacological research for?', 'q2': 'For how many years did Chen head pharmacological research at the global company?'}\n"
     ]
    },
    {
     "name": "stderr",
     "output_type": "stream",
     "text": [
      " 43%|████▎     | 259/598 [39:47<59:29, 10.53s/it]"
     ]
    },
    {
     "name": "stdout",
     "output_type": "stream",
     "text": [
      "Processed record 259/598 in 10.60 seconds.\n",
      "decomposition:  {'q1': 'What team beat the U.S. national soccer team on February 5, 1961?', 'q2': 'Who oversees that team?'}\n"
     ]
    },
    {
     "name": "stderr",
     "output_type": "stream",
     "text": [
      " 43%|████▎     | 260/598 [39:57<59:14, 10.52s/it]"
     ]
    },
    {
     "name": "stdout",
     "output_type": "stream",
     "text": [
      "Processed record 260/598 in 10.49 seconds.\n",
      "decomposition:  {'q1': 'What group does the special assistant to the executive director work for?', 'q2': 'Which player was elected to the Baseball Hall of Fame in 2001?'}\n"
     ]
    },
    {
     "name": "stderr",
     "output_type": "stream",
     "text": [
      " 44%|████▎     | 261/598 [40:08<59:43, 10.63s/it]"
     ]
    },
    {
     "name": "stdout",
     "output_type": "stream",
     "text": [
      "Processed record 261/598 in 10.91 seconds.\n",
      "decomposition:  {'q1': 'Who was the American Tejano and musician who released \"Living It Down\"?', 'q2': 'In what year was \"Living It Down\" released?'}\n"
     ]
    },
    {
     "name": "stderr",
     "output_type": "stream",
     "text": [
      " 44%|████▍     | 262/598 [40:18<58:49, 10.50s/it]"
     ]
    },
    {
     "name": "stdout",
     "output_type": "stream",
     "text": [
      "Processed record 262/598 in 10.20 seconds.\n",
      "decomposition:  {'q1': 'What is the general category of Acantholimon and Podranea?', 'q2': 'What specific characteristics or features do they share within that category?'}\n"
     ]
    },
    {
     "name": "stderr",
     "output_type": "stream",
     "text": [
      " 44%|████▍     | 263/598 [40:28<57:56, 10.38s/it]"
     ]
    },
    {
     "name": "stdout",
     "output_type": "stream",
     "text": [
      "Processed record 263/598 in 10.08 seconds.\n",
      "decomposition:  {'q1': 'Which American space drama film featured Clint Eastwood?', 'q2': 'In which 1950s western comedy series did the actor who played Bret Maverick star?'}\n"
     ]
    },
    {
     "name": "stderr",
     "output_type": "stream",
     "text": [
      " 44%|████▍     | 264/598 [40:40<59:28, 10.68s/it]"
     ]
    },
    {
     "name": "stdout",
     "output_type": "stream",
     "text": [
      "Processed record 264/598 in 11.40 seconds.\n",
      "decomposition:  {'q1': 'Who was a former science teacher?', 'q2': 'Why was the teacher fired?'}\n"
     ]
    },
    {
     "name": "stderr",
     "output_type": "stream",
     "text": [
      " 44%|████▍     | 265/598 [40:50<58:43, 10.58s/it]"
     ]
    },
    {
     "name": "stdout",
     "output_type": "stream",
     "text": [
      "Processed record 265/598 in 10.34 seconds.\n",
      "decomposition:  {'q1': \"What indoor arena does the 2014–15 Missouri Tigers women's basketball team play their games at?\", 'q2': \"Where do the 2014–15 Missouri Tigers women's basketball team play their games?\"}\n"
     ]
    },
    {
     "name": "stderr",
     "output_type": "stream",
     "text": [
      " 44%|████▍     | 266/598 [41:00<58:16, 10.53s/it]"
     ]
    },
    {
     "name": "stdout",
     "output_type": "stream",
     "text": [
      "Processed record 266/598 in 10.42 seconds.\n",
      "decomposition:  {'q1': 'When did Golden Gate Capital acquire Red Lobster?', 'q2': 'From whom did Golden Gate Capital acquire Red Lobster?'}\n"
     ]
    },
    {
     "name": "stderr",
     "output_type": "stream",
     "text": [
      " 45%|████▍     | 267/598 [41:11<57:58, 10.51s/it]"
     ]
    },
    {
     "name": "stdout",
     "output_type": "stream",
     "text": [
      "Processed record 267/598 in 10.45 seconds.\n",
      "decomposition:  {'q1': 'What airlines are headquartered in Petaling Jaya, Selangor, Malaysia?', 'q2': 'Which of those airlines fly to the Sultan Ismail Petra Airport?'}\n"
     ]
    },
    {
     "name": "stderr",
     "output_type": "stream",
     "text": [
      " 45%|████▍     | 268/598 [41:21<57:30, 10.46s/it]"
     ]
    },
    {
     "name": "stdout",
     "output_type": "stream",
     "text": [
      "Processed record 268/598 in 10.33 seconds.\n",
      "decomposition:  {'q1': \"What is the name of the city that has N'Dolo Airport?\", 'q2': 'On which river is that city situated?'}\n"
     ]
    },
    {
     "name": "stderr",
     "output_type": "stream",
     "text": [
      " 45%|████▍     | 269/598 [41:31<56:37, 10.33s/it]"
     ]
    },
    {
     "name": "stdout",
     "output_type": "stream",
     "text": [
      "Processed record 269/598 in 10.03 seconds.\n",
      "decomposition:  {'q1': 'How many Filmfare Awards does the Indian film actor in Gunahon Ka Devta receive?', 'q2': 'How many national film awards does the Indian film actor in Gunahon Ka Devta receive?'}\n"
     ]
    },
    {
     "name": "stderr",
     "output_type": "stream",
     "text": [
      " 45%|████▌     | 270/598 [41:43<57:54, 10.59s/it]"
     ]
    },
    {
     "name": "stdout",
     "output_type": "stream",
     "text": [
      "Processed record 270/598 in 11.22 seconds.\n",
      "decomposition:  {'q1': 'When was Black Nativity written?', 'q2': 'Where was the playwright who wrote Black Nativity from?'}\n"
     ]
    },
    {
     "name": "stderr",
     "output_type": "stream",
     "text": [
      " 45%|████▌     | 271/598 [41:53<57:21, 10.52s/it]"
     ]
    },
    {
     "name": "stdout",
     "output_type": "stream",
     "text": [
      "Processed record 271/598 in 10.36 seconds.\n",
      "decomposition:  {'q1': 'What is the industry associated with Hall Bartlett?', 'q2': 'What industry do Hall Bartlett and Catherine Breillat share in common?'}\n"
     ]
    },
    {
     "name": "stderr",
     "output_type": "stream",
     "text": [
      " 45%|████▌     | 272/598 [42:03<55:57, 10.30s/it]"
     ]
    },
    {
     "name": "stdout",
     "output_type": "stream",
     "text": [
      "Processed record 272/598 in 9.77 seconds.\n",
      "decomposition:  {'q1': 'Which American actor, screenwriter, director, producer, singer-songwriter and author directed the 1971 movie \"Willy Wonka & the Chocolate Factory\"?', 'q2': 'Which song from the 1971 movie \"Willy Wonka & the Chocolate Factory\" was written by British composers Leslie Bricusse and Anthony Newley?'}\n"
     ]
    },
    {
     "name": "stderr",
     "output_type": "stream",
     "text": [
      " 46%|████▌     | 273/598 [42:14<58:13, 10.75s/it]"
     ]
    },
    {
     "name": "stdout",
     "output_type": "stream",
     "text": [
      "Processed record 273/598 in 11.80 seconds.\n",
      "decomposition:  {'q1': 'What studio album was produced by Tyler Bates?', 'q2': 'When was the album released?'}\n"
     ]
    },
    {
     "name": "stderr",
     "output_type": "stream",
     "text": [
      " 46%|████▌     | 274/598 [42:24<56:39, 10.49s/it]"
     ]
    },
    {
     "name": "stdout",
     "output_type": "stream",
     "text": [
      "Processed record 274/598 in 9.90 seconds.\n",
      "decomposition:  {'q1': 'In which league does Ildar Isangulov play?', 'q2': 'When was that league founded?'}\n"
     ]
    },
    {
     "name": "stderr",
     "output_type": "stream",
     "text": [
      " 46%|████▌     | 275/598 [42:35<56:29, 10.49s/it]"
     ]
    },
    {
     "name": "stdout",
     "output_type": "stream",
     "text": [
      "Processed record 275/598 in 10.49 seconds.\n",
      "decomposition:  {'q1': 'Which countries are Point Pleasant Canal and Sturgeon Bay Ship Canal located in?', 'q2': 'Are Point Pleasant Canal and Sturgeon Bay Ship Canal located in the same country?'}\n"
     ]
    },
    {
     "name": "stderr",
     "output_type": "stream",
     "text": [
      " 46%|████▌     | 276/598 [42:46<56:39, 10.56s/it]"
     ]
    },
    {
     "name": "stdout",
     "output_type": "stream",
     "text": [
      "Processed record 276/598 in 10.71 seconds.\n",
      "decomposition:  {'q1': 'What is the nationality of George Stambolian?', 'q2': 'Does David Hedison share the same nationality as George Stambolian?'}\n"
     ]
    },
    {
     "name": "stderr",
     "output_type": "stream",
     "text": [
      " 46%|████▋     | 277/598 [42:57<57:20, 10.72s/it]"
     ]
    },
    {
     "name": "stdout",
     "output_type": "stream",
     "text": [
      "Processed record 277/598 in 11.10 seconds.\n",
      "decomposition:  {'q1': 'What is the name of the vocalist on \"Sofi Needs a Ladder\"?', 'q2': 'What is the ethnic origin of the vocalist mentioned in the previous question?'}\n"
     ]
    },
    {
     "name": "stderr",
     "output_type": "stream",
     "text": [
      " 46%|████▋     | 278/598 [43:07<56:35, 10.61s/it]"
     ]
    },
    {
     "name": "stdout",
     "output_type": "stream",
     "text": [
      "Processed record 278/598 in 10.36 seconds.\n",
      "decomposition:  {'q1': 'What title did the father of Alonso López defend before retiring?', 'q2': 'How many times did he defend that title?'}\n"
     ]
    },
    {
     "name": "stderr",
     "output_type": "stream",
     "text": [
      " 47%|████▋     | 279/598 [43:17<55:12, 10.39s/it]"
     ]
    },
    {
     "name": "stdout",
     "output_type": "stream",
     "text": [
      "Processed record 279/598 in 9.86 seconds.\n",
      "decomposition:  {'q1': 'What is the name of the singer-songwriter of Suspending Disbelief?', 'q2': 'In what year was the singer-songwriter born?'}\n"
     ]
    },
    {
     "name": "stderr",
     "output_type": "stream",
     "text": [
      " 47%|████▋     | 280/598 [43:27<54:28, 10.28s/it]"
     ]
    },
    {
     "name": "stdout",
     "output_type": "stream",
     "text": [
      "Processed record 280/598 in 10.03 seconds.\n",
      "decomposition:  {'q1': 'Which fictional character is Sequoia the son of?', 'q2': \"What is the superheroine's name that appears in American comic books published by Marvel Comics?\"}\n"
     ]
    },
    {
     "name": "stderr",
     "output_type": "stream",
     "text": [
      " 47%|████▋     | 281/598 [43:38<55:02, 10.42s/it]"
     ]
    },
    {
     "name": "stdout",
     "output_type": "stream",
     "text": [
      "Processed record 281/598 in 10.75 seconds.\n",
      "decomposition:  {'q1': 'What landform separates the twin cities?', 'q2': 'In which circus is the landform mentioned?'}\n"
     ]
    },
    {
     "name": "stderr",
     "output_type": "stream",
     "text": [
      " 47%|████▋     | 282/598 [43:47<53:48, 10.22s/it]"
     ]
    },
    {
     "name": "stdout",
     "output_type": "stream",
     "text": [
      "Processed record 282/598 in 9.75 seconds.\n",
      "decomposition:  {'q1': 'Which band was formed earlier, Franz Ferdinand or Moist?', 'q2': 'What is the order of formation for the two bands mentioned?'}\n"
     ]
    },
    {
     "name": "stderr",
     "output_type": "stream",
     "text": [
      " 47%|████▋     | 283/598 [43:57<52:56, 10.08s/it]"
     ]
    },
    {
     "name": "stdout",
     "output_type": "stream",
     "text": [
      "Processed record 283/598 in 9.77 seconds.\n",
      "decomposition:  {'q1': 'Who was the American retired professional basketball player born in 1963?', 'q2': \"What was the player's position in all-time scoring after the 1995-96 Utah Jazz season?\"}\n"
     ]
    },
    {
     "name": "stderr",
     "output_type": "stream",
     "text": [
      " 47%|████▋     | 284/598 [44:09<54:55, 10.49s/it]"
     ]
    },
    {
     "name": "stdout",
     "output_type": "stream",
     "text": [
      "Processed record 284/598 in 11.45 seconds.\n",
      "decomposition:  {'q1': 'What is the name of the court from which Judge Shigeru Oda retired in 2003?', 'q2': 'What is the more common name for that court?'}\n"
     ]
    },
    {
     "name": "stderr",
     "output_type": "stream",
     "text": [
      " 48%|████▊     | 285/598 [44:19<54:53, 10.52s/it]"
     ]
    },
    {
     "name": "stdout",
     "output_type": "stream",
     "text": [
      "Processed record 285/598 in 10.59 seconds.\n",
      "decomposition:  {'q1': 'What folk rock music duo has Sara Lee worked with?', 'q2': \"Can you elaborate on Sara Lee's collaborations in the folk rock genre?\"}\n"
     ]
    },
    {
     "name": "stderr",
     "output_type": "stream",
     "text": [
      " 48%|████▊     | 286/598 [44:30<54:24, 10.46s/it]"
     ]
    },
    {
     "name": "stdout",
     "output_type": "stream",
     "text": [
      "Processed record 286/598 in 10.32 seconds.\n",
      "decomposition:  {'q1': 'What 1962 film was based on a Tennessee Williams play?', 'q2': 'In which film did Madeleine Sherwood star as Mae?'}\n"
     ]
    },
    {
     "name": "stderr",
     "output_type": "stream",
     "text": [
      " 48%|████▊     | 287/598 [44:40<55:02, 10.62s/it]"
     ]
    },
    {
     "name": "stdout",
     "output_type": "stream",
     "text": [
      "Processed record 287/598 in 10.99 seconds.\n",
      "decomposition:  {'q1': 'What nationality is the actress and singer who have performed at the Intiman Theatre Festival?', 'q2': 'Which actress and singer has performed at the Intiman Theatre Festival?'}\n"
     ]
    },
    {
     "name": "stderr",
     "output_type": "stream",
     "text": [
      " 48%|████▊     | 288/598 [44:51<54:43, 10.59s/it]"
     ]
    },
    {
     "name": "stdout",
     "output_type": "stream",
     "text": [
      "Processed record 288/598 in 10.53 seconds.\n",
      "decomposition:  {'q1': 'What band released the song \"Back to the 80\\'s\"?', 'q2': 'How many albums and singles has the band that released \"Back to the 80\\'s\" sold approximately?'}\n"
     ]
    },
    {
     "name": "stderr",
     "output_type": "stream",
     "text": [
      " 48%|████▊     | 289/598 [45:02<55:05, 10.70s/it]"
     ]
    },
    {
     "name": "stdout",
     "output_type": "stream",
     "text": [
      "Processed record 289/598 in 10.94 seconds.\n",
      "decomposition:  {'q1': 'Was Mary Ramsey a lead singer?', 'q2': 'Was Ryan Key a lead singer?'}\n"
     ]
    },
    {
     "name": "stderr",
     "output_type": "stream",
     "text": [
      " 48%|████▊     | 290/598 [45:12<54:18, 10.58s/it]"
     ]
    },
    {
     "name": "stdout",
     "output_type": "stream",
     "text": [
      "Processed record 290/598 in 10.30 seconds.\n",
      "decomposition:  {'q1': 'What was the Supreme Court decision where Robert Cooper Grier served as a juror?', 'q2': 'Who was the Chief Justice behind the Supreme Court decision mentioned in q1?'}\n"
     ]
    },
    {
     "name": "stderr",
     "output_type": "stream",
     "text": [
      " 49%|████▊     | 291/598 [45:24<55:52, 10.92s/it]"
     ]
    },
    {
     "name": "stdout",
     "output_type": "stream",
     "text": [
      "Processed record 291/598 in 11.71 seconds.\n",
      "decomposition:  {'q1': 'What nationality was the particular composer?', 'q2': 'For whom is Anthony Newman recognized as a specialist on his works?'}\n"
     ]
    },
    {
     "name": "stderr",
     "output_type": "stream",
     "text": [
      " 49%|████▉     | 292/598 [45:34<54:37, 10.71s/it]"
     ]
    },
    {
     "name": "stdout",
     "output_type": "stream",
     "text": [
      "Processed record 292/598 in 10.22 seconds.\n",
      "decomposition:  {'q1': 'What is the population of the city in southwest England?', 'q2': 'When was the population of the city in southwest England last measured?'}\n"
     ]
    },
    {
     "name": "stderr",
     "output_type": "stream",
     "text": [
      " 49%|████▉     | 293/598 [45:44<53:09, 10.46s/it]"
     ]
    },
    {
     "name": "stdout",
     "output_type": "stream",
     "text": [
      "Processed record 293/598 in 9.86 seconds.\n",
      "decomposition:  {'q1': 'Are Howea belmoreana and Crinodendron related to each other?', 'q2': 'If so, what is their family relationship?'}\n"
     ]
    },
    {
     "name": "stderr",
     "output_type": "stream",
     "text": [
      " 49%|████▉     | 294/598 [45:55<53:25, 10.54s/it]"
     ]
    },
    {
     "name": "stdout",
     "output_type": "stream",
     "text": [
      "Processed record 294/598 in 10.75 seconds.\n",
      "decomposition:  {'q1': 'What is the location of Edgeplain dormitory?', 'q2': 'How many acres is the campus where Edgeplain is located?'}\n"
     ]
    },
    {
     "name": "stderr",
     "output_type": "stream",
     "text": [
      " 49%|████▉     | 295/598 [46:05<52:05, 10.32s/it]"
     ]
    },
    {
     "name": "stdout",
     "output_type": "stream",
     "text": [
      "Processed record 295/598 in 9.79 seconds.\n",
      "decomposition:  {'q1': 'Who wrote the novel that the film was based on?', 'q2': \"What was Sally Mortemore's role in the film?\"}\n"
     ]
    },
    {
     "name": "stderr",
     "output_type": "stream",
     "text": [
      " 49%|████▉     | 296/598 [46:15<52:06, 10.35s/it]"
     ]
    },
    {
     "name": "stdout",
     "output_type": "stream",
     "text": [
      "Processed record 296/598 in 10.43 seconds.\n",
      "decomposition:  {'q1': 'Who are the players in the St. Louis Cardinals 2006 team with nicknames?', 'q2': 'Which player in the St. Louis Cardinals 2006 has the nicknames \"Jimmy Baseball\" and \"Jimmy Ballgame\"?'}\n"
     ]
    },
    {
     "name": "stderr",
     "output_type": "stream",
     "text": [
      " 50%|████▉     | 297/598 [46:27<54:23, 10.84s/it]"
     ]
    },
    {
     "name": "stdout",
     "output_type": "stream",
     "text": [
      "Processed record 297/598 in 11.99 seconds.\n",
      "decomposition:  {'q1': \"What was the name of the 1968 film that was preceded by the film whose slogan inspired the title of Mortician's fourth studio album?\", 'q2': \"What was the slogan used to promote the film that inspired the title of Mortician's fourth studio album?\"}\n"
     ]
    },
    {
     "name": "stderr",
     "output_type": "stream",
     "text": [
      " 50%|████▉     | 298/598 [46:39<55:13, 11.04s/it]"
     ]
    },
    {
     "name": "stdout",
     "output_type": "stream",
     "text": [
      "Processed record 298/598 in 11.51 seconds.\n",
      "decomposition:  {'q1': 'Who wrote The Curious Republic of Gondour?', 'q2': 'Who wrote The Adventures of Tom Sawyer?'}\n"
     ]
    },
    {
     "name": "stderr",
     "output_type": "stream",
     "text": [
      " 50%|█████     | 299/598 [46:49<53:39, 10.77s/it]"
     ]
    },
    {
     "name": "stdout",
     "output_type": "stream",
     "text": [
      "Processed record 299/598 in 10.12 seconds.\n",
      "decomposition:  {'q1': 'Which Denmark town sits on the peninsula of Northern Europe that forms the continental portion of Denmark and part of northern Germany?', 'q2': 'Who is the mayor of that town?'}\n"
     ]
    },
    {
     "name": "stderr",
     "output_type": "stream",
     "text": [
      " 50%|█████     | 300/598 [47:01<55:12, 11.12s/it]"
     ]
    },
    {
     "name": "stdout",
     "output_type": "stream",
     "text": [
      "Processed record 300/598 in 11.92 seconds.\n",
      "\n",
      "--- Saved batch up to record 300\n",
      "Average time for last 100 records: 10.58 seconds\n",
      "\n",
      "decomposition:  {'q1': 'Who was the fighter that Junya Kodo fought on DREAM 5 Lightweight GP Final 2008?', 'q2': 'What was the nationality of the fighter that Junya Kodo fought on DREAM 5 Lightweight GP Final 2008?'}\n"
     ]
    },
    {
     "name": "stderr",
     "output_type": "stream",
     "text": [
      " 50%|█████     | 301/598 [47:11<54:25, 10.99s/it]"
     ]
    },
    {
     "name": "stdout",
     "output_type": "stream",
     "text": [
      "Processed record 301/598 in 10.71 seconds.\n",
      "decomposition:  {'q1': 'Which magazine company owns Entertainment Weekly?', 'q2': 'Which other magazine does this company also publish besides Entertainment Weekly?'}\n"
     ]
    },
    {
     "name": "stderr",
     "output_type": "stream",
     "text": [
      " 51%|█████     | 302/598 [47:22<53:13, 10.79s/it]"
     ]
    },
    {
     "name": "stdout",
     "output_type": "stream",
     "text": [
      "Processed record 302/598 in 10.31 seconds.\n",
      "decomposition:  {'q1': 'What company is known for using fiber from goats in its fabrics?', 'q2': 'Where did the company open its first shop?'}\n"
     ]
    },
    {
     "name": "stderr",
     "output_type": "stream",
     "text": [
      " 51%|█████     | 303/598 [47:32<53:01, 10.78s/it]"
     ]
    },
    {
     "name": "stdout",
     "output_type": "stream",
     "text": [
      "Processed record 303/598 in 10.77 seconds.\n",
      "decomposition:  {'q1': \"When was Gino's Pizza and Spaghetti founded?\", 'q2': \"When was Valentino's founded?\"}\n"
     ]
    },
    {
     "name": "stderr",
     "output_type": "stream",
     "text": [
      " 51%|█████     | 304/598 [47:43<51:59, 10.61s/it]"
     ]
    },
    {
     "name": "stdout",
     "output_type": "stream",
     "text": [
      "Processed record 304/598 in 10.21 seconds.\n",
      "decomposition:  {'q1': 'What conflict transformed into war in May 1948?', 'q2': \"What is the purpose of Tami Steinmetz Center For Peace Research's surveys regarding this conflict?\"}\n"
     ]
    },
    {
     "name": "stderr",
     "output_type": "stream",
     "text": [
      " 51%|█████     | 305/598 [47:53<51:50, 10.62s/it]"
     ]
    },
    {
     "name": "stdout",
     "output_type": "stream",
     "text": [
      "Processed record 305/598 in 10.63 seconds.\n",
      "decomposition:  {'q1': 'Which actor starred in dual roles in the film \"Kaththi\"?', 'q2': 'Who won Best Director for the film \"Kaththi\"?'}\n"
     ]
    },
    {
     "name": "stderr",
     "output_type": "stream",
     "text": [
      " 51%|█████     | 306/598 [48:04<51:41, 10.62s/it]"
     ]
    },
    {
     "name": "stdout",
     "output_type": "stream",
     "text": [
      "Processed record 306/598 in 10.63 seconds.\n",
      "decomposition:  {'q1': \"What is Cassadee Pope's occupation?\", 'q2': \"What is Park So-yeon's occupation?\"}\n"
     ]
    },
    {
     "name": "stderr",
     "output_type": "stream",
     "text": [
      " 51%|█████▏    | 307/598 [48:14<51:07, 10.54s/it]"
     ]
    },
    {
     "name": "stdout",
     "output_type": "stream",
     "text": [
      "Processed record 307/598 in 10.35 seconds.\n",
      "decomposition:  {'q1': 'Who is DeRay Davis?', 'q2': 'What is the relationship between DeRay Davis and the star of Grow House?'}\n"
     ]
    },
    {
     "name": "stderr",
     "output_type": "stream",
     "text": [
      " 52%|█████▏    | 308/598 [48:25<51:12, 10.60s/it]"
     ]
    },
    {
     "name": "stdout",
     "output_type": "stream",
     "text": [
      "Processed record 308/598 in 10.72 seconds.\n",
      "decomposition:  {'q1': 'Are Atom Smash a band?', 'q2': 'Are Gorillaz a band?'}\n"
     ]
    },
    {
     "name": "stderr",
     "output_type": "stream",
     "text": [
      " 52%|█████▏    | 309/598 [48:35<50:20, 10.45s/it]"
     ]
    },
    {
     "name": "stdout",
     "output_type": "stream",
     "text": [
      "Processed record 309/598 in 10.12 seconds.\n",
      "decomposition:  {'q1': 'Who created the Mexican sitcom in which Ale Müller plays Clara Licona?', 'q2': 'What is the name of the Mexican sitcom in which Ale Müller plays Clara Licona?'}\n"
     ]
    },
    {
     "name": "stderr",
     "output_type": "stream",
     "text": [
      " 52%|█████▏    | 310/598 [48:46<50:20, 10.49s/it]"
     ]
    },
    {
     "name": "stdout",
     "output_type": "stream",
     "text": [
      "Processed record 310/598 in 10.57 seconds.\n",
      "decomposition:  {'q1': 'How many species are there in the Psilotum genus?', 'q2': 'How many species are there in the Austrocylindropuntia genus?'}\n"
     ]
    },
    {
     "name": "stderr",
     "output_type": "stream",
     "text": [
      " 52%|█████▏    | 311/598 [48:56<50:41, 10.60s/it]"
     ]
    },
    {
     "name": "stdout",
     "output_type": "stream",
     "text": [
      "Processed record 311/598 in 10.85 seconds.\n",
      "decomposition:  {'q1': 'Which organization has its headquarters in Lausanne, Switzerland?', 'q2': 'Who are the employees who founded Deportivo Thomas Bata?'}\n"
     ]
    },
    {
     "name": "stderr",
     "output_type": "stream",
     "text": [
      " 52%|█████▏    | 312/598 [49:08<51:16, 10.76s/it]"
     ]
    },
    {
     "name": "stdout",
     "output_type": "stream",
     "text": [
      "Processed record 312/598 in 11.13 seconds.\n",
      "decomposition:  {'q1': 'What type of film is The Killing Fields?', 'q2': 'In which country was The Killing Fields set?'}\n"
     ]
    },
    {
     "name": "stderr",
     "output_type": "stream",
     "text": [
      " 52%|█████▏    | 313/598 [49:17<49:33, 10.43s/it]"
     ]
    },
    {
     "name": "stdout",
     "output_type": "stream",
     "text": [
      "Processed record 313/598 in 9.67 seconds.\n",
      "decomposition:  {'q1': 'What was the name of the Indian conglomerate company that owned Ashok Leyland?', 'q2': 'Where was the headquarters of this company located?'}\n"
     ]
    },
    {
     "name": "stderr",
     "output_type": "stream",
     "text": [
      " 53%|█████▎    | 314/598 [49:27<48:37, 10.27s/it]"
     ]
    },
    {
     "name": "stdout",
     "output_type": "stream",
     "text": [
      "Processed record 314/598 in 9.90 seconds.\n",
      "decomposition:  {'q1': 'When was the Entry Draft held in 2009?', 'q2': 'At what location in Montreal was the Entry Draft held in 2009?'}\n"
     ]
    },
    {
     "name": "stderr",
     "output_type": "stream",
     "text": [
      " 53%|█████▎    | 315/598 [49:38<49:05, 10.41s/it]"
     ]
    },
    {
     "name": "stdout",
     "output_type": "stream",
     "text": [
      "Processed record 315/598 in 10.72 seconds.\n",
      "decomposition:  {'q1': 'What was the genre of the 1995 French black-and-white crime drama film shown during the run of Moviedrome?', 'q2': 'Who directed the 1995 French black-and-white crime drama film shown during the run of Moviedrome?'}\n"
     ]
    },
    {
     "name": "stderr",
     "output_type": "stream",
     "text": [
      " 53%|█████▎    | 316/598 [49:49<50:00, 10.64s/it]"
     ]
    },
    {
     "name": "stdout",
     "output_type": "stream",
     "text": [
      "Processed record 316/598 in 11.18 seconds.\n",
      "decomposition:  {'q1': 'Which battle was the Second Battle of Bull Run?', 'q2': 'Which battle was Operation Grenade?'}\n"
     ]
    },
    {
     "name": "stderr",
     "output_type": "stream",
     "text": [
      " 53%|█████▎    | 317/598 [49:59<49:19, 10.53s/it]"
     ]
    },
    {
     "name": "stdout",
     "output_type": "stream",
     "text": [
      "Processed record 317/598 in 10.28 seconds.\n",
      "decomposition:  {'q1': \"Who joined Alan Ameche to start the fast-food restaurant chain Gino's Hamburgers?\", 'q2': 'Which Baltimore Colts defensive end was involved in this partnership?'}\n"
     ]
    },
    {
     "name": "stderr",
     "output_type": "stream",
     "text": [
      " 53%|█████▎    | 318/598 [50:10<48:45, 10.45s/it]"
     ]
    },
    {
     "name": "stdout",
     "output_type": "stream",
     "text": [
      "Processed record 318/598 in 10.25 seconds.\n",
      "decomposition:  {'q1': 'Which enclosed shopping mall is next to the Millbrook, Philadelphia neighbourhood?', 'q2': 'What was the former name of the shopping mall?'}\n"
     ]
    },
    {
     "name": "stderr",
     "output_type": "stream",
     "text": [
      " 53%|█████▎    | 319/598 [50:20<49:10, 10.58s/it]"
     ]
    },
    {
     "name": "stdout",
     "output_type": "stream",
     "text": [
      "Processed record 319/598 in 10.87 seconds.\n",
      "decomposition:  {'q1': 'Where is the hotel located which launched Mansfield\\'s revue \"The House of Love\"?', 'q2': 'Where is the casino located which launched Mansfield\\'s revue \"The House of Love\"?'}\n"
     ]
    },
    {
     "name": "stderr",
     "output_type": "stream",
     "text": [
      " 54%|█████▎    | 320/598 [50:32<50:08, 10.82s/it]"
     ]
    },
    {
     "name": "stdout",
     "output_type": "stream",
     "text": [
      "Processed record 320/598 in 11.39 seconds.\n",
      "decomposition:  {'q1': 'What fantasy novels were the basis for \"Fantastic Beasts\" and J. K. Rowling\\'s Wizarding World?', 'q2': 'What is the inspiration behind the creation of both \"Fantastic Beasts\" and J. K. Rowling\\'s Wizarding World?'}\n"
     ]
    },
    {
     "name": "stderr",
     "output_type": "stream",
     "text": [
      " 54%|█████▎    | 321/598 [50:43<49:44, 10.77s/it]"
     ]
    },
    {
     "name": "stdout",
     "output_type": "stream",
     "text": [
      "Processed record 321/598 in 10.67 seconds.\n",
      "decomposition:  {'q1': 'When was Sky High released?', 'q2': 'When was Zootopia released?'}\n"
     ]
    },
    {
     "name": "stderr",
     "output_type": "stream",
     "text": [
      " 54%|█████▍    | 322/598 [50:53<48:54, 10.63s/it]"
     ]
    },
    {
     "name": "stdout",
     "output_type": "stream",
     "text": [
      "Processed record 322/598 in 10.30 seconds.\n",
      "decomposition:  {'q1': 'Have Marat Safin and Jimmy Arias both played tennis?', 'q2': 'Are they still tennis players?'}\n"
     ]
    },
    {
     "name": "stderr",
     "output_type": "stream",
     "text": [
      " 54%|█████▍    | 323/598 [51:04<48:53, 10.67s/it]"
     ]
    },
    {
     "name": "stdout",
     "output_type": "stream",
     "text": [
      "Processed record 323/598 in 10.74 seconds.\n",
      "decomposition:  {'q1': 'What was the primary geographic feature involved in the Chamizal dispute?', 'q2': 'How did the shift in this geographic feature contribute to the cause of the dispute?'}\n"
     ]
    },
    {
     "name": "stderr",
     "output_type": "stream",
     "text": [
      " 54%|█████▍    | 324/598 [51:14<47:47, 10.46s/it]"
     ]
    },
    {
     "name": "stdout",
     "output_type": "stream",
     "text": [
      "Processed record 324/598 in 9.99 seconds.\n",
      "decomposition:  {'q1': 'Are Sam Peckinpah and Seth Holt involved in film production?', 'q2': 'If so, what is their specific role in film production?'}\n"
     ]
    },
    {
     "name": "stderr",
     "output_type": "stream",
     "text": [
      " 54%|█████▍    | 325/598 [51:25<48:17, 10.61s/it]"
     ]
    },
    {
     "name": "stdout",
     "output_type": "stream",
     "text": [
      "Processed record 325/598 in 10.96 seconds.\n",
      "decomposition:  {'q1': 'What sport do Ray Ruffels and Peter Curtis play?', 'q2': 'Are Ray Ruffels and Peter Curtis both players of the same sport?'}\n"
     ]
    },
    {
     "name": "stderr",
     "output_type": "stream",
     "text": [
      " 55%|█████▍    | 326/598 [51:35<47:48, 10.55s/it]"
     ]
    },
    {
     "name": "stdout",
     "output_type": "stream",
     "text": [
      "Processed record 326/598 in 10.39 seconds.\n",
      "decomposition:  {'q1': 'Who was born first, Tom Johnston or Simone Simons?', 'q2': 'What is the order of birth between the two individuals mentioned?'}\n"
     ]
    },
    {
     "name": "stderr",
     "output_type": "stream",
     "text": [
      " 55%|█████▍    | 327/598 [51:45<47:13, 10.46s/it]"
     ]
    },
    {
     "name": "stdout",
     "output_type": "stream",
     "text": [
      "Processed record 327/598 in 10.25 seconds.\n",
      "decomposition:  {'q1': 'Which lion was introduced into the wild by conservationist George Adamson?', 'q2': \"Born in captivity, what was the lion's background?\"}\n"
     ]
    },
    {
     "name": "stderr",
     "output_type": "stream",
     "text": [
      " 55%|█████▍    | 328/598 [51:55<46:39, 10.37s/it]"
     ]
    },
    {
     "name": "stdout",
     "output_type": "stream",
     "text": [
      "Processed record 328/598 in 10.16 seconds.\n",
      "decomposition:  {'q1': 'What was the occupation of the person who directed The Critics Group?', 'q2': 'In what year did the English folk singer who directed The Critics Group pass away?'}\n"
     ]
    },
    {
     "name": "stderr",
     "output_type": "stream",
     "text": [
      " 55%|█████▌    | 329/598 [52:05<46:07, 10.29s/it]"
     ]
    },
    {
     "name": "stdout",
     "output_type": "stream",
     "text": [
      "Processed record 329/598 in 10.10 seconds.\n",
      "decomposition:  {'q1': 'In which country is Beidha located?', 'q2': 'Which country borders the country in which Beidha is found to the south?'}\n"
     ]
    },
    {
     "name": "stderr",
     "output_type": "stream",
     "text": [
      " 55%|█████▌    | 330/598 [52:16<46:23, 10.39s/it]"
     ]
    },
    {
     "name": "stdout",
     "output_type": "stream",
     "text": [
      "Processed record 330/598 in 10.62 seconds.\n",
      "decomposition:  {'q1': 'Who insults Bardolph?', 'q2': 'What is the name of the character who insults Bardolph?'}\n"
     ]
    },
    {
     "name": "stderr",
     "output_type": "stream",
     "text": [
      " 55%|█████▌    | 331/598 [52:26<46:12, 10.38s/it]"
     ]
    },
    {
     "name": "stdout",
     "output_type": "stream",
     "text": [
      "Processed record 331/598 in 10.37 seconds.\n",
      "decomposition:  {'q1': 'Which of the two individuals was considered more radical, Ivor Gurney or Wilhelm Reich?', 'q2': 'What factors contribute to determining which of them was considered more radical?'}\n"
     ]
    },
    {
     "name": "stderr",
     "output_type": "stream",
     "text": [
      " 56%|█████▌    | 332/598 [52:37<46:38, 10.52s/it]"
     ]
    },
    {
     "name": "stdout",
     "output_type": "stream",
     "text": [
      "Processed record 332/598 in 10.84 seconds.\n",
      "decomposition:  {'q1': 'Was Monsters, Inc. produced by Pixar animation?', 'q2': 'Was The Good Dinosaur released by Walt Disney?'}\n"
     ]
    },
    {
     "name": "stderr",
     "output_type": "stream",
     "text": [
      " 56%|█████▌    | 333/598 [52:48<46:21, 10.50s/it]"
     ]
    },
    {
     "name": "stdout",
     "output_type": "stream",
     "text": [
      "Processed record 333/598 in 10.44 seconds.\n",
      "decomposition:  {'q1': 'Who created the British soap opera on which Martin Barrass plays Mike Conrad?', 'q2': 'What is the name of the British soap opera on which Martin Barrass plays Mike Conrad?'}\n"
     ]
    },
    {
     "name": "stderr",
     "output_type": "stream",
     "text": [
      " 56%|█████▌    | 334/598 [52:58<45:53, 10.43s/it]"
     ]
    },
    {
     "name": "stdout",
     "output_type": "stream",
     "text": [
      "Processed record 334/598 in 10.28 seconds.\n",
      "decomposition:  {'q1': 'What was the television series on which an American fiddler gained national fame?', 'q2': 'What was the founding year of the Hodag Country Festival?'}\n"
     ]
    },
    {
     "name": "stderr",
     "output_type": "stream",
     "text": [
      " 56%|█████▌    | 335/598 [53:08<45:28, 10.37s/it]"
     ]
    },
    {
     "name": "stdout",
     "output_type": "stream",
     "text": [
      "Processed record 335/598 in 10.24 seconds.\n",
      "decomposition:  {'q1': 'Which film from the 1960s was made by someone who was blacklisted during the McCarthy era?', 'q2': 'Who was blacklisted in the McCarthy era and involved in making a film in the 1960s?'}\n"
     ]
    },
    {
     "name": "stderr",
     "output_type": "stream",
     "text": [
      " 56%|█████▌    | 336/598 [53:20<47:14, 10.82s/it]"
     ]
    },
    {
     "name": "stdout",
     "output_type": "stream",
     "text": [
      "Processed record 336/598 in 11.85 seconds.\n",
      "decomposition:  {'q1': \"What was Silvio Meißner's position on the football team?\", 'q2': 'How many times has the German sports club won the national championship?'}\n"
     ]
    },
    {
     "name": "stderr",
     "output_type": "stream",
     "text": [
      " 56%|█████▋    | 337/598 [53:31<46:48, 10.76s/it]"
     ]
    },
    {
     "name": "stdout",
     "output_type": "stream",
     "text": [
      "Processed record 337/598 in 10.62 seconds.\n",
      "decomposition:  {'q1': 'Which railroad was opened north of Bates Pond?', 'q2': 'When was the railroad opened?'}\n"
     ]
    },
    {
     "name": "stderr",
     "output_type": "stream",
     "text": [
      " 57%|█████▋    | 338/598 [53:41<46:11, 10.66s/it]"
     ]
    },
    {
     "name": "stdout",
     "output_type": "stream",
     "text": [
      "Processed record 338/598 in 10.43 seconds.\n",
      "decomposition:  {'q1': 'Which American animator was responsible for Courage the Cowardly Dog?', 'q2': 'What was the role of an actor in the creation of Courage the Cowardly Dog?'}\n"
     ]
    },
    {
     "name": "stderr",
     "output_type": "stream",
     "text": [
      " 57%|█████▋    | 339/598 [53:52<45:44, 10.60s/it]"
     ]
    },
    {
     "name": "stdout",
     "output_type": "stream",
     "text": [
      "Processed record 339/598 in 10.44 seconds.\n",
      "decomposition:  {'q1': 'In what year did Paul Berg win the Nobel Prize in Chemistry?', 'q2': 'What field was Paul Berg a pioneer in?'}\n"
     ]
    },
    {
     "name": "stderr",
     "output_type": "stream",
     "text": [
      " 57%|█████▋    | 340/598 [54:02<45:43, 10.64s/it]"
     ]
    },
    {
     "name": "stdout",
     "output_type": "stream",
     "text": [
      "Processed record 340/598 in 10.73 seconds.\n",
      "decomposition:  {'q1': 'What was the primary trading partner of the English and later British joint-stock company that Thomas Love Peacock was an official of?', 'q2': \"What was the nature of the company's trading activities?\"}\n"
     ]
    },
    {
     "name": "stderr",
     "output_type": "stream",
     "text": [
      " 57%|█████▋    | 341/598 [54:13<46:09, 10.78s/it]"
     ]
    },
    {
     "name": "stdout",
     "output_type": "stream",
     "text": [
      "Processed record 341/598 in 11.11 seconds.\n",
      "decomposition:  {'q1': 'What games were held from November 12th to 27th?', 'q2': 'In those games, which team relay did Lee Choon-Huan win gold for?'}\n"
     ]
    },
    {
     "name": "stderr",
     "output_type": "stream",
     "text": [
      " 57%|█████▋    | 342/598 [54:25<47:09, 11.05s/it]"
     ]
    },
    {
     "name": "stdout",
     "output_type": "stream",
     "text": [
      "Processed record 342/598 in 11.70 seconds.\n",
      "decomposition:  {'q1': 'Who was the greatest defender Pele cited as having played with?', 'q2': 'Which British television series first aired on 13 January 2017?'}\n"
     ]
    },
    {
     "name": "stderr",
     "output_type": "stream",
     "text": [
      " 57%|█████▋    | 343/598 [54:36<46:22, 10.91s/it]"
     ]
    },
    {
     "name": "stdout",
     "output_type": "stream",
     "text": [
      "Processed record 343/598 in 10.58 seconds.\n",
      "decomposition:  {'q1': 'Who was the king who reigned when Roger Hillary married?', 'q2': 'What was the name of the older brother of that king?'}\n"
     ]
    },
    {
     "name": "stderr",
     "output_type": "stream",
     "text": [
      " 58%|█████▊    | 344/598 [54:47<46:09, 10.91s/it]"
     ]
    },
    {
     "name": "stdout",
     "output_type": "stream",
     "text": [
      "Processed record 344/598 in 10.89 seconds.\n",
      "decomposition:  {'q1': 'Which band was Kurt Cobain the guitarist of?', 'q2': 'Which album by that band featured the guitarist from the band Kurt Cobain founded?'}\n"
     ]
    },
    {
     "name": "stderr",
     "output_type": "stream",
     "text": [
      " 58%|█████▊    | 345/598 [54:57<45:47, 10.86s/it]"
     ]
    },
    {
     "name": "stdout",
     "output_type": "stream",
     "text": [
      "Processed record 345/598 in 10.76 seconds.\n",
      "decomposition:  {'q1': 'In what year did Patrick Daniel Gaffney earn his PhD?', 'q2': 'In what university did Patrick Daniel Gaffney earn his PhD?'}\n"
     ]
    },
    {
     "name": "stderr",
     "output_type": "stream",
     "text": [
      " 58%|█████▊    | 346/598 [55:07<44:21, 10.56s/it]"
     ]
    },
    {
     "name": "stdout",
     "output_type": "stream",
     "text": [
      "Processed record 346/598 in 9.86 seconds.\n",
      "decomposition:  {'q1': 'Who is the award-winning game designer and New York Times best-selling author who designed \"En Garde!\"?', 'q2': 'What is the name of the award-winning game designer and New York Times best-selling author who designed \"En Garde!\"?'}\n"
     ]
    },
    {
     "name": "stderr",
     "output_type": "stream",
     "text": [
      " 58%|█████▊    | 347/598 [55:18<44:42, 10.69s/it]"
     ]
    },
    {
     "name": "stdout",
     "output_type": "stream",
     "text": [
      "Processed record 347/598 in 10.98 seconds.\n",
      "decomposition:  {'q1': \"What was the land owner and politician's occupation?\", 'q2': 'In which branch of government did the land owner and politician sit?'}\n"
     ]
    },
    {
     "name": "stderr",
     "output_type": "stream",
     "text": [
      " 58%|█████▊    | 348/598 [55:28<43:38, 10.47s/it]"
     ]
    },
    {
     "name": "stdout",
     "output_type": "stream",
     "text": [
      "Processed record 348/598 in 9.97 seconds.\n",
      "decomposition:  {'q1': 'Who was the founder of the Dubai English Speaking College?', 'q2': \"What was the founder's relationship to King Hussein of Jordan?\"}\n"
     ]
    },
    {
     "name": "stderr",
     "output_type": "stream",
     "text": [
      " 58%|█████▊    | 349/598 [55:39<43:23, 10.46s/it]"
     ]
    },
    {
     "name": "stdout",
     "output_type": "stream",
     "text": [
      "Processed record 349/598 in 10.42 seconds.\n",
      "decomposition:  {'q1': 'Which band was formed first, Better Than Ezra or the Melvins?', 'q2': 'What is the order of formation for the two bands mentioned?'}\n"
     ]
    },
    {
     "name": "stderr",
     "output_type": "stream",
     "text": [
      " 59%|█████▊    | 350/598 [55:49<43:01, 10.41s/it]"
     ]
    },
    {
     "name": "stdout",
     "output_type": "stream",
     "text": [
      "Processed record 350/598 in 10.30 seconds.\n",
      "decomposition:  {'q1': 'Which college team did Colt McCoy play for?', 'q2': 'Which college team did Case McCoy play for?'}\n"
     ]
    },
    {
     "name": "stderr",
     "output_type": "stream",
     "text": [
      " 59%|█████▊    | 351/598 [55:59<42:57, 10.43s/it]"
     ]
    },
    {
     "name": "stdout",
     "output_type": "stream",
     "text": [
      "Processed record 351/598 in 10.49 seconds.\n",
      "decomposition:  {'q1': 'What is the top brand of beer in North Korea?', 'q2': 'Which company brews the top brand of beer in North Korea?'}\n"
     ]
    },
    {
     "name": "stderr",
     "output_type": "stream",
     "text": [
      " 59%|█████▉    | 352/598 [56:10<43:17, 10.56s/it]"
     ]
    },
    {
     "name": "stdout",
     "output_type": "stream",
     "text": [
      "Processed record 352/598 in 10.86 seconds.\n",
      "decomposition:  {'q1': 'Who originally proposed the death drive in her paper?', 'q2': 'Which Russian physician authored the paper \"Destruction as the Cause of Coming into Being\"?'}\n"
     ]
    },
    {
     "name": "stderr",
     "output_type": "stream",
     "text": [
      " 59%|█████▉    | 353/598 [56:21<43:20, 10.61s/it]"
     ]
    },
    {
     "name": "stdout",
     "output_type": "stream",
     "text": [
      "Processed record 353/598 in 10.74 seconds.\n",
      "decomposition:  {'q1': 'What is the name of the regulatory compliance requirement enforced by Helix ALM software?', 'q2': 'What is the other name for the regulatory compliance requirement enforced by Helix ALM software in the Senate?'}\n"
     ]
    },
    {
     "name": "stderr",
     "output_type": "stream",
     "text": [
      " 59%|█████▉    | 354/598 [56:32<44:02, 10.83s/it]"
     ]
    },
    {
     "name": "stdout",
     "output_type": "stream",
     "text": [
      "Processed record 354/598 in 11.33 seconds.\n",
      "decomposition:  {'q1': 'What type of priest was Candido Amantini?', 'q2': 'Was he able to cast out demons?'}\n"
     ]
    },
    {
     "name": "stderr",
     "output_type": "stream",
     "text": [
      " 59%|█████▉    | 355/598 [56:43<43:56, 10.85s/it]"
     ]
    },
    {
     "name": "stdout",
     "output_type": "stream",
     "text": [
      "Processed record 355/598 in 10.90 seconds.\n",
      "decomposition:  {'q1': 'What are Pandikona and Alpine Mastiff?', 'q2': 'What category do Pandikona and Alpine Mastiff belong to?'}\n"
     ]
    },
    {
     "name": "stderr",
     "output_type": "stream",
     "text": [
      " 60%|█████▉    | 356/598 [56:53<42:49, 10.62s/it]"
     ]
    },
    {
     "name": "stdout",
     "output_type": "stream",
     "text": [
      "Processed record 356/598 in 10.07 seconds.\n",
      "decomposition:  {'q1': 'Which magazine provides information on nutrition?', 'q2': 'Which of the two magazines provides information on prevention?'}\n"
     ]
    },
    {
     "name": "stderr",
     "output_type": "stream",
     "text": [
      " 60%|█████▉    | 357/598 [57:03<42:08, 10.49s/it]"
     ]
    },
    {
     "name": "stdout",
     "output_type": "stream",
     "text": [
      "Processed record 357/598 in 10.20 seconds.\n",
      "decomposition:  {'q1': 'Who is Robert Lindstedt?', 'q2': \"Who is Piet Norval and how does their age compare to Robert Lindstedt's?\"}\n"
     ]
    },
    {
     "name": "stderr",
     "output_type": "stream",
     "text": [
      " 60%|█████▉    | 358/598 [57:13<41:16, 10.32s/it]"
     ]
    },
    {
     "name": "stdout",
     "output_type": "stream",
     "text": [
      "Processed record 358/598 in 9.92 seconds.\n",
      "decomposition:  {'q1': \"Which actor, alongside Daniel Massey, starred in The Queen's Guards?\", 'q2': 'Who was once regarded as the natural successor to Laurence Olivier?'}\n"
     ]
    },
    {
     "name": "stderr",
     "output_type": "stream",
     "text": [
      " 60%|██████    | 359/598 [57:24<41:23, 10.39s/it]"
     ]
    },
    {
     "name": "stdout",
     "output_type": "stream",
     "text": [
      "Processed record 359/598 in 10.56 seconds.\n",
      "decomposition:  {'q1': 'Who was the British-American actress who starred in \"Parade\\'s End\"?', 'q2': 'What was her first onscreen appearance?'}\n"
     ]
    },
    {
     "name": "stderr",
     "output_type": "stream",
     "text": [
      " 60%|██████    | 360/598 [57:35<41:39, 10.50s/it]"
     ]
    },
    {
     "name": "stdout",
     "output_type": "stream",
     "text": [
      "Processed record 360/598 in 10.76 seconds.\n",
      "decomposition:  {'q1': 'What film-making positions did Wilco Melissant have?', 'q2': 'What film-making positions did Ilya Naishuller have?'}\n"
     ]
    },
    {
     "name": "stderr",
     "output_type": "stream",
     "text": [
      " 60%|██████    | 361/598 [57:45<41:27, 10.50s/it]"
     ]
    },
    {
     "name": "stdout",
     "output_type": "stream",
     "text": [
      "Processed record 361/598 in 10.48 seconds.\n",
      "decomposition:  {'q1': 'Which Indian state includes the village of Bhando?', 'q2': 'What is the capital of the state mentioned in q1?'}\n"
     ]
    },
    {
     "name": "stderr",
     "output_type": "stream",
     "text": [
      " 61%|██████    | 362/598 [57:55<40:44, 10.36s/it]"
     ]
    },
    {
     "name": "stdout",
     "output_type": "stream",
     "text": [
      "Processed record 362/598 in 10.03 seconds.\n",
      "decomposition:  {'q1': 'What is the genus of tree, Gymnocladus or Nautilocalyx?', 'q2': 'Which of the two is a genus of tree?'}\n"
     ]
    },
    {
     "name": "stderr",
     "output_type": "stream",
     "text": [
      " 61%|██████    | 363/598 [58:06<40:51, 10.43s/it]"
     ]
    },
    {
     "name": "stdout",
     "output_type": "stream",
     "text": [
      "Processed record 363/598 in 10.60 seconds.\n",
      "decomposition:  {'q1': 'How many states are there in the country where Lakewood Ranch is located?', 'q2': 'What is the type of community Lakewood Ranch is?'}\n"
     ]
    },
    {
     "name": "stderr",
     "output_type": "stream",
     "text": [
      " 61%|██████    | 364/598 [58:16<40:39, 10.42s/it]"
     ]
    },
    {
     "name": "stdout",
     "output_type": "stream",
     "text": [
      "Processed record 364/598 in 10.41 seconds.\n",
      "decomposition:  {'q1': 'Who was the former United States Secretary of War under whom Henry Marshall Ashby served?', 'q2': \"What was Henry Marshall Ashby's rank in the Confederate States Army?\"}\n"
     ]
    },
    {
     "name": "stderr",
     "output_type": "stream",
     "text": [
      " 61%|██████    | 365/598 [58:27<40:26, 10.42s/it]"
     ]
    },
    {
     "name": "stdout",
     "output_type": "stream",
     "text": [
      "Processed record 365/598 in 10.40 seconds.\n",
      "decomposition:  {'q1': 'What is the acronym of the South Korean boy band U-KISS?', 'q2': 'How is U-KISS known in relation to their album \"Bring It Back 2 Old School\"?'}\n"
     ]
    },
    {
     "name": "stderr",
     "output_type": "stream",
     "text": [
      " 61%|██████    | 366/598 [58:38<41:18, 10.68s/it]"
     ]
    },
    {
     "name": "stdout",
     "output_type": "stream",
     "text": [
      "Processed record 366/598 in 11.30 seconds.\n",
      "decomposition:  {'q1': 'In what city is metropolitan Greater Boston located?', 'q2': 'Where did Herodias Gardiner get whipped for sharing her religious testimony?'}\n"
     ]
    },
    {
     "name": "stderr",
     "output_type": "stream",
     "text": [
      " 61%|██████▏   | 367/598 [58:47<39:46, 10.33s/it]"
     ]
    },
    {
     "name": "stdout",
     "output_type": "stream",
     "text": [
      "Processed record 367/598 in 9.50 seconds.\n",
      "decomposition:  {'q1': 'What actor is known for portraying gangsters in a 1940 film?', 'q2': 'Which actress starred alongside this actor in the 1940 film?'}\n"
     ]
    },
    {
     "name": "stderr",
     "output_type": "stream",
     "text": [
      " 62%|██████▏   | 368/598 [58:58<39:58, 10.43s/it]"
     ]
    },
    {
     "name": "stdout",
     "output_type": "stream",
     "text": [
      "Processed record 368/598 in 10.67 seconds.\n",
      "decomposition:  {'q1': 'Who released Snow Dogs and Return from Witch Mountain?', 'q2': 'What entity released both Snow Dogs and Return from Witch Mountain?'}\n"
     ]
    },
    {
     "name": "stderr",
     "output_type": "stream",
     "text": [
      " 62%|██████▏   | 369/598 [59:09<40:12, 10.53s/it]"
     ]
    },
    {
     "name": "stdout",
     "output_type": "stream",
     "text": [
      "Processed record 369/598 in 10.78 seconds.\n",
      "decomposition:  {'q1': 'Which company has its head office at Kuala Lumpur International Airport?', 'q2': \"What is the Chairman's name of that company?\"}\n"
     ]
    },
    {
     "name": "stderr",
     "output_type": "stream",
     "text": [
      " 62%|██████▏   | 370/598 [59:19<39:50, 10.48s/it]"
     ]
    },
    {
     "name": "stdout",
     "output_type": "stream",
     "text": [
      "Processed record 370/598 in 10.37 seconds.\n",
      "decomposition:  {'q1': 'What Disney Channel Original Movie did Corbin Bleu star in?', 'q2': 'In what year did Corbin Bleu star in the Disney Channel Original Movie?'}\n"
     ]
    },
    {
     "name": "stderr",
     "output_type": "stream",
     "text": [
      " 62%|██████▏   | 371/598 [59:29<39:15, 10.38s/it]"
     ]
    },
    {
     "name": "stdout",
     "output_type": "stream",
     "text": [
      "Processed record 371/598 in 10.13 seconds.\n",
      "decomposition:  {'q1': 'In which game did TeamTNT create the \"TNT:Evolution\" episode?', 'q2': 'When was the game released?'}\n"
     ]
    },
    {
     "name": "stderr",
     "output_type": "stream",
     "text": [
      " 62%|██████▏   | 372/598 [59:40<38:51, 10.32s/it]"
     ]
    },
    {
     "name": "stdout",
     "output_type": "stream",
     "text": [
      "Processed record 372/598 in 10.18 seconds.\n",
      "decomposition:  {'q1': 'Which documentaries were released first?', 'q2': 'Was The Seine Meets Paris released before Shape of the Moon?'}\n"
     ]
    },
    {
     "name": "stderr",
     "output_type": "stream",
     "text": [
      " 62%|██████▏   | 373/598 [59:50<38:30, 10.27s/it]"
     ]
    },
    {
     "name": "stdout",
     "output_type": "stream",
     "text": [
      "Processed record 373/598 in 10.16 seconds.\n",
      "decomposition:  {'q1': \"What is Amanda Crew's involvement in the movie Sex Drive?\", 'q2': 'What specific role does she play in the movie?'}\n"
     ]
    },
    {
     "name": "stderr",
     "output_type": "stream",
     "text": [
      " 63%|██████▎   | 374/598 [1:00:00<38:16, 10.25s/it]"
     ]
    },
    {
     "name": "stdout",
     "output_type": "stream",
     "text": [
      "Processed record 374/598 in 10.20 seconds.\n",
      "decomposition:  {'q1': 'When was a 2010 AMA Pro American Superbike Championship title sponsor founded in Birmingham, England?', 'q2': 'By whom was a 2010 AMA Pro American Superbike Championship title sponsor founded in Birmingham, England in 1889?'}\n"
     ]
    },
    {
     "name": "stderr",
     "output_type": "stream",
     "text": [
      " 63%|██████▎   | 375/598 [1:00:11<39:23, 10.60s/it]"
     ]
    },
    {
     "name": "stdout",
     "output_type": "stream",
     "text": [
      "Processed record 375/598 in 11.41 seconds.\n",
      "decomposition:  {'q1': 'Who was the former Michigan Governor that Howard Edelson served as campaign manager for?', 'q2': 'What station does that former Governor work at today?'}\n"
     ]
    },
    {
     "name": "stderr",
     "output_type": "stream",
     "text": [
      " 63%|██████▎   | 376/598 [1:00:22<39:32, 10.69s/it]"
     ]
    },
    {
     "name": "stdout",
     "output_type": "stream",
     "text": [
      "Processed record 376/598 in 10.90 seconds.\n",
      "decomposition:  {'q1': \"What is the subject of the essayist's works?\", 'q2': 'What is the title of the novel written by this essayist?'}\n"
     ]
    },
    {
     "name": "stderr",
     "output_type": "stream",
     "text": [
      " 63%|██████▎   | 377/598 [1:00:33<39:01, 10.60s/it]"
     ]
    },
    {
     "name": "stdout",
     "output_type": "stream",
     "text": [
      "Processed record 377/598 in 10.38 seconds.\n",
      "decomposition:  {'q1': 'In what year was the Irish novelist who wrote Kepler born?', 'q2': 'What is the title of the novel written by the Irish novelist?'}\n"
     ]
    },
    {
     "name": "stderr",
     "output_type": "stream",
     "text": [
      " 63%|██████▎   | 378/598 [1:00:42<38:04, 10.39s/it]"
     ]
    },
    {
     "name": "stdout",
     "output_type": "stream",
     "text": [
      "Processed record 378/598 in 9.90 seconds.\n",
      "decomposition:  {'q1': 'Who is the American-Canadian actor who voices Kung Fu Panda?', 'q2': \"What was the actor's initial career path before transitioning to film?\"}\n"
     ]
    },
    {
     "name": "stderr",
     "output_type": "stream",
     "text": [
      " 63%|██████▎   | 379/598 [1:00:53<38:19, 10.50s/it]"
     ]
    },
    {
     "name": "stdout",
     "output_type": "stream",
     "text": [
      "Processed record 379/598 in 10.77 seconds.\n",
      "decomposition:  {'q1': 'When was the submarine that sank the Tsushima Maru built?', 'q2': 'Did the submarine that sank the Tsushima Maru ever open to public tours?'}\n"
     ]
    },
    {
     "name": "stderr",
     "output_type": "stream",
     "text": [
      " 64%|██████▎   | 380/598 [1:01:03<37:37, 10.36s/it]"
     ]
    },
    {
     "name": "stdout",
     "output_type": "stream",
     "text": [
      "Processed record 380/598 in 10.02 seconds.\n",
      "decomposition:  {'q1': 'Are Clap Your Hands Say Yeah a country music band?', 'q2': 'Are Joywave a country music band?'}\n"
     ]
    },
    {
     "name": "stderr",
     "output_type": "stream",
     "text": [
      " 64%|██████▎   | 381/598 [1:01:14<37:32, 10.38s/it]"
     ]
    },
    {
     "name": "stdout",
     "output_type": "stream",
     "text": [
      "Processed record 381/598 in 10.44 seconds.\n",
      "decomposition:  {'q1': 'Which film premiered earlier, Pokémon: Arceus and the Jewel of Life or The Secret of Kells?', 'q2': 'What was the first film to premiere between the two mentioned?'}\n"
     ]
    },
    {
     "name": "stderr",
     "output_type": "stream",
     "text": [
      " 64%|██████▍   | 382/598 [1:01:25<38:24, 10.67s/it]"
     ]
    },
    {
     "name": "stdout",
     "output_type": "stream",
     "text": [
      "Processed record 382/598 in 11.34 seconds.\n",
      "decomposition:  {'q1': 'Who was the charismatic Jewish American mobster who founded the Cohen crime family in the early 1930s?', 'q2': 'What was the name of the crime family founded by the mobster in the early 1930s?'}\n"
     ]
    },
    {
     "name": "stderr",
     "output_type": "stream",
     "text": [
      " 64%|██████▍   | 383/598 [1:01:36<38:43, 10.81s/it]"
     ]
    },
    {
     "name": "stdout",
     "output_type": "stream",
     "text": [
      "Processed record 383/598 in 11.13 seconds.\n",
      "decomposition:  {'q1': 'What is the main ingredient in Poncha?', 'q2': 'What is the origin of the word aguardiente?'}\n"
     ]
    },
    {
     "name": "stderr",
     "output_type": "stream",
     "text": [
      " 64%|██████▍   | 384/598 [1:01:47<38:41, 10.85s/it]"
     ]
    },
    {
     "name": "stdout",
     "output_type": "stream",
     "text": [
      "Processed record 384/598 in 10.94 seconds.\n",
      "decomposition:  {'q1': 'Who built Masjid al-Hisn?', 'q2': 'In what years did the caliph who built Masjid al-Hisn rule?'}\n"
     ]
    },
    {
     "name": "stderr",
     "output_type": "stream",
     "text": [
      " 64%|██████▍   | 385/598 [1:01:58<38:20, 10.80s/it]"
     ]
    },
    {
     "name": "stdout",
     "output_type": "stream",
     "text": [
      "Processed record 385/598 in 10.70 seconds.\n",
      "decomposition:  {'q1': 'Who was the American rock singer who died of a heroin overdose?', 'q2': 'At what age did the singer die?'}\n"
     ]
    },
    {
     "name": "stderr",
     "output_type": "stream",
     "text": [
      " 65%|██████▍   | 386/598 [1:02:08<37:41, 10.67s/it]"
     ]
    },
    {
     "name": "stdout",
     "output_type": "stream",
     "text": [
      "Processed record 386/598 in 10.35 seconds.\n",
      "decomposition:  {'q1': 'What is the location associated with the naming of Cardinal Pole Roman Catholic School?', 'q2': 'Who was the last Roman Catholic Archbishop of that location?'}\n"
     ]
    },
    {
     "name": "stderr",
     "output_type": "stream",
     "text": [
      " 65%|██████▍   | 387/598 [1:02:19<37:28, 10.66s/it]"
     ]
    },
    {
     "name": "stdout",
     "output_type": "stream",
     "text": [
      "Processed record 387/598 in 10.64 seconds.\n",
      "decomposition:  {'q1': 'What type of literary work was the film based on?', 'q2': \"Who wrote the children's book that inspired the film's soundtrack?\"}\n"
     ]
    },
    {
     "name": "stderr",
     "output_type": "stream",
     "text": [
      " 65%|██████▍   | 388/598 [1:02:29<37:04, 10.59s/it]"
     ]
    },
    {
     "name": "stdout",
     "output_type": "stream",
     "text": [
      "Processed record 388/598 in 10.44 seconds.\n",
      "decomposition:  {'q1': 'Who were the performers that the team frequently wrote for?', 'q2': 'What was the music and lyrics for Scottsboro Boys written by?'}\n"
     ]
    },
    {
     "name": "stderr",
     "output_type": "stream",
     "text": [
      " 65%|██████▌   | 389/598 [1:02:39<36:20, 10.43s/it]"
     ]
    },
    {
     "name": "stdout",
     "output_type": "stream",
     "text": [
      "Processed record 389/598 in 10.06 seconds.\n",
      "decomposition:  {'q1': 'When were George Kisevalter and Oleg Penkovsky born?', 'q2': 'Of the two individuals mentioned in the question, who was born first?'}\n"
     ]
    },
    {
     "name": "stderr",
     "output_type": "stream",
     "text": [
      " 65%|██████▌   | 390/598 [1:02:51<37:16, 10.75s/it]"
     ]
    },
    {
     "name": "stdout",
     "output_type": "stream",
     "text": [
      "Processed record 390/598 in 11.49 seconds.\n",
      "decomposition:  {'q1': 'How many species are there in the genus Echium?', 'q2': 'How many species are there in the genus Ptilotus?'}\n"
     ]
    },
    {
     "name": "stderr",
     "output_type": "stream",
     "text": [
      " 65%|██████▌   | 391/598 [1:03:01<36:11, 10.49s/it]"
     ]
    },
    {
     "name": "stdout",
     "output_type": "stream",
     "text": [
      "Processed record 391/598 in 9.88 seconds.\n",
      "decomposition:  {'q1': 'What was the engine configuration of the hatchback revealed by Honda at the 1997 Tokyo Motor Show?', 'q2': 'How many cylinders were in the engine of the hatchback revealed by Honda at the 1997 Tokyo Motor Show?'}\n"
     ]
    },
    {
     "name": "stderr",
     "output_type": "stream",
     "text": [
      " 66%|██████▌   | 392/598 [1:03:13<37:40, 10.97s/it]"
     ]
    },
    {
     "name": "stdout",
     "output_type": "stream",
     "text": [
      "Processed record 392/598 in 12.09 seconds.\n",
      "decomposition:  {'q1': 'What type of people were Mike Gibbons and Stanley Ketchel?', 'q2': 'What qualities or characteristics did Mike Gibbons and Stanley Ketchel possess?'}\n"
     ]
    },
    {
     "name": "stderr",
     "output_type": "stream",
     "text": [
      " 66%|██████▌   | 393/598 [1:03:23<36:46, 10.77s/it]"
     ]
    },
    {
     "name": "stdout",
     "output_type": "stream",
     "text": [
      "Processed record 393/598 in 10.29 seconds.\n",
      "decomposition:  {'q1': 'What science fiction franchise did Jeffrey Combs appear in, considering his role in the \"Night of the Living Dead 3D\" prequel?', 'q2': 'Which science fiction franchise is associated with Jeffrey Combs\\' appearances in films like the \"Night of the Living Dead 3D\" prequel?'}\n"
     ]
    },
    {
     "name": "stderr",
     "output_type": "stream",
     "text": [
      " 66%|██████▌   | 394/598 [1:03:34<37:09, 10.93s/it]"
     ]
    },
    {
     "name": "stdout",
     "output_type": "stream",
     "text": [
      "Processed record 394/598 in 11.31 seconds.\n",
      "decomposition:  {'q1': 'Who played basketball for Georgetown for three seasons?', 'q2': 'Who was later given the Dave Gavitt Trophy?'}\n"
     ]
    },
    {
     "name": "stderr",
     "output_type": "stream",
     "text": [
      " 66%|██████▌   | 395/598 [1:03:45<36:43, 10.85s/it]"
     ]
    },
    {
     "name": "stdout",
     "output_type": "stream",
     "text": [
      "Processed record 395/598 in 10.68 seconds.\n",
      "decomposition:  {'q1': 'When did the film begin production in Germany?', 'q2': 'What was the appearance of Lena Maria Jonna Olin in the film?'}\n"
     ]
    },
    {
     "name": "stderr",
     "output_type": "stream",
     "text": [
      " 66%|██████▌   | 396/598 [1:03:55<35:39, 10.59s/it]"
     ]
    },
    {
     "name": "stdout",
     "output_type": "stream",
     "text": [
      "Processed record 396/598 in 9.99 seconds.\n",
      "decomposition:  {'q1': 'Who is Dan Andriano?', 'q2': 'Who is Hansi Kürsch in relation to Dan Andriano?'}\n"
     ]
    },
    {
     "name": "stderr",
     "output_type": "stream",
     "text": [
      " 66%|██████▋   | 397/598 [1:04:05<35:03, 10.46s/it]"
     ]
    },
    {
     "name": "stdout",
     "output_type": "stream",
     "text": [
      "Processed record 397/598 in 10.16 seconds.\n",
      "decomposition:  {'q1': 'Which country did the winner of the 36th Toulon Tournament originate from?', 'q2': 'Who won the 36th Toulon Tournament?'}\n"
     ]
    },
    {
     "name": "stderr",
     "output_type": "stream",
     "text": [
      " 67%|██████▋   | 398/598 [1:04:16<34:55, 10.48s/it]"
     ]
    },
    {
     "name": "stdout",
     "output_type": "stream",
     "text": [
      "Processed record 398/598 in 10.51 seconds.\n",
      "decomposition:  {'q1': 'Who was the governor that Karen Jackson served as Deputy Secretary of Technology under?', 'q2': 'What party was that governor?'}\n"
     ]
    },
    {
     "name": "stderr",
     "output_type": "stream",
     "text": [
      " 67%|██████▋   | 399/598 [1:04:26<34:54, 10.52s/it]"
     ]
    },
    {
     "name": "stdout",
     "output_type": "stream",
     "text": [
      "Processed record 399/598 in 10.64 seconds.\n",
      "decomposition:  {'q1': 'What city did the Cabaret Cartoon artist originate from?', 'q2': 'How did the artist acquire his Mancunian accent?'}\n"
     ]
    },
    {
     "name": "stderr",
     "output_type": "stream",
     "text": [
      " 67%|██████▋   | 400/598 [1:04:36<33:48, 10.25s/it]"
     ]
    },
    {
     "name": "stdout",
     "output_type": "stream",
     "text": [
      "Processed record 400/598 in 9.59 seconds.\n",
      "\n",
      "--- Saved batch up to record 400\n",
      "Average time for last 100 records: 10.55 seconds\n",
      "\n",
      "decomposition:  {'q1': 'Who is the center fielder that Johnny Narron helped in his recovery from drug addiction?', 'q2': 'In what year did the center fielder win the MVP award?'}\n"
     ]
    },
    {
     "name": "stderr",
     "output_type": "stream",
     "text": [
      " 67%|██████▋   | 401/598 [1:04:47<34:09, 10.40s/it]"
     ]
    },
    {
     "name": "stdout",
     "output_type": "stream",
     "text": [
      "Processed record 401/598 in 10.77 seconds.\n",
      "decomposition:  {'q1': 'Are Justin Currie and Kyo singers?', 'q2': 'Are they both Japanese singers?'}\n"
     ]
    },
    {
     "name": "stderr",
     "output_type": "stream",
     "text": [
      " 67%|██████▋   | 402/598 [1:04:57<34:12, 10.47s/it]"
     ]
    },
    {
     "name": "stdout",
     "output_type": "stream",
     "text": [
      "Processed record 402/598 in 10.63 seconds.\n",
      "decomposition:  {'q1': 'What film was \"Perfect Day\" featured in?', 'q2': 'Which band released the song \"Perfect Day\"?'}\n"
     ]
    },
    {
     "name": "stderr",
     "output_type": "stream",
     "text": [
      " 67%|██████▋   | 403/598 [1:05:07<33:41, 10.37s/it]"
     ]
    },
    {
     "name": "stdout",
     "output_type": "stream",
     "text": [
      "Processed record 403/598 in 10.12 seconds.\n",
      "decomposition:  {'q1': \"Which acquisition was MTV's first?\", 'q2': \"Was Domo TV or Kappa Mikey MTV's first acquisition?\"}\n"
     ]
    },
    {
     "name": "stderr",
     "output_type": "stream",
     "text": [
      " 68%|██████▊   | 404/598 [1:05:18<33:25, 10.34s/it]"
     ]
    },
    {
     "name": "stdout",
     "output_type": "stream",
     "text": [
      "Processed record 404/598 in 10.27 seconds.\n",
      "decomposition:  {'q1': 'Which star appeared in both \"Get on Up\" and \"The Blues Brothers\"?', 'q2': 'What was the name of the star who appeared in both films?'}\n"
     ]
    },
    {
     "name": "stderr",
     "output_type": "stream",
     "text": [
      " 68%|██████▊   | 405/598 [1:05:29<33:48, 10.51s/it]"
     ]
    },
    {
     "name": "stdout",
     "output_type": "stream",
     "text": [
      "Processed record 405/598 in 10.91 seconds.\n",
      "decomposition:  {'q1': 'What was the primary organization responsible for the first general strike in the United States?', 'q2': 'When did this strike predominantly take place?'}\n"
     ]
    },
    {
     "name": "stderr",
     "output_type": "stream",
     "text": [
      " 68%|██████▊   | 406/598 [1:05:40<34:31, 10.79s/it]"
     ]
    },
    {
     "name": "stdout",
     "output_type": "stream",
     "text": [
      "Processed record 406/598 in 11.45 seconds.\n",
      "decomposition:  {'q1': 'Which of the two universities was founded first, the University of Chicago or New York University?', 'q2': 'Can you provide the exact year of foundation for each university?'}\n"
     ]
    },
    {
     "name": "stderr",
     "output_type": "stream",
     "text": [
      " 68%|██████▊   | 407/598 [1:05:51<34:08, 10.73s/it]"
     ]
    },
    {
     "name": "stdout",
     "output_type": "stream",
     "text": [
      "Processed record 407/598 in 10.58 seconds.\n",
      "decomposition:  {'q1': 'What company produced 40 million varieties of watches?', 'q2': 'Where did the company expand?'}\n"
     ]
    },
    {
     "name": "stderr",
     "output_type": "stream",
     "text": [
      " 68%|██████▊   | 408/598 [1:06:02<34:19, 10.84s/it]"
     ]
    },
    {
     "name": "stdout",
     "output_type": "stream",
     "text": [
      "Processed record 408/598 in 11.11 seconds.\n",
      "decomposition:  {'q1': 'What is the role of Presidential Food Service?', 'q2': 'How does that role relate to the First Family of the United States?'}\n"
     ]
    },
    {
     "name": "stderr",
     "output_type": "stream",
     "text": [
      " 68%|██████▊   | 409/598 [1:06:12<33:55, 10.77s/it]"
     ]
    },
    {
     "name": "stdout",
     "output_type": "stream",
     "text": [
      "Processed record 409/598 in 10.61 seconds.\n",
      "decomposition:  {'q1': 'Are Bae Woo-hee and Gary Louris both individuals?', 'q2': 'If so, are they both singers?'}\n"
     ]
    },
    {
     "name": "stderr",
     "output_type": "stream",
     "text": [
      " 69%|██████▊   | 410/598 [1:06:23<33:22, 10.65s/it]"
     ]
    },
    {
     "name": "stdout",
     "output_type": "stream",
     "text": [
      "Processed record 410/598 in 10.36 seconds.\n",
      "decomposition:  {'q1': 'What is the location of Bédogo-Nabiga?', 'q2': 'What is the population of the village of Bédogo-Nabiga?'}\n"
     ]
    },
    {
     "name": "stderr",
     "output_type": "stream",
     "text": [
      " 69%|██████▊   | 411/598 [1:06:33<33:01, 10.60s/it]"
     ]
    },
    {
     "name": "stdout",
     "output_type": "stream",
     "text": [
      "Processed record 411/598 in 10.48 seconds.\n",
      "decomposition:  {'q1': 'What are Beautiful Losers and American Harmony?', 'q2': 'What is the relationship between Beautiful Losers and American Harmony?'}\n"
     ]
    },
    {
     "name": "stderr",
     "output_type": "stream",
     "text": [
      " 69%|██████▉   | 412/598 [1:06:43<31:55, 10.30s/it]"
     ]
    },
    {
     "name": "stdout",
     "output_type": "stream",
     "text": [
      "Processed record 412/598 in 9.59 seconds.\n",
      "decomposition:  {'q1': \"What was the outcome of Kubrat Pulev's semifinal fight at the 2008 European Championships?\", 'q2': 'Which medal did Kubrat Pulev win after the semifinal fight?'}\n"
     ]
    },
    {
     "name": "stderr",
     "output_type": "stream",
     "text": [
      " 69%|██████▉   | 413/598 [1:06:53<31:53, 10.34s/it]"
     ]
    },
    {
     "name": "stdout",
     "output_type": "stream",
     "text": [
      "Processed record 413/598 in 10.45 seconds.\n",
      "decomposition:  {'q1': 'What company released the Minion Hunter board game in 1992?', 'q2': 'In what year was a near-future horror role-playing game (RPG) released in conjunction with the board game?'}\n"
     ]
    },
    {
     "name": "stderr",
     "output_type": "stream",
     "text": [
      " 69%|██████▉   | 414/598 [1:07:05<32:50, 10.71s/it]"
     ]
    },
    {
     "name": "stdout",
     "output_type": "stream",
     "text": [
      "Processed record 414/598 in 11.55 seconds.\n",
      "decomposition:  {'q1': 'Which band was founded first, The Amps or Moist?', 'q2': 'When was each band founded?'}\n"
     ]
    },
    {
     "name": "stderr",
     "output_type": "stream",
     "text": [
      " 69%|██████▉   | 415/598 [1:07:15<32:29, 10.65s/it]"
     ]
    },
    {
     "name": "stdout",
     "output_type": "stream",
     "text": [
      "Processed record 415/598 in 10.52 seconds.\n",
      "decomposition:  {'q1': 'What is the parent company of Régional Compagnie Aérienne Européenne?', 'q2': 'Where is the corporate headquarters of the airline carrier located?'}\n"
     ]
    },
    {
     "name": "stderr",
     "output_type": "stream",
     "text": [
      " 70%|██████▉   | 416/598 [1:07:25<31:42, 10.45s/it]"
     ]
    },
    {
     "name": "stdout",
     "output_type": "stream",
     "text": [
      "Processed record 416/598 in 9.99 seconds.\n",
      "decomposition:  {'q1': \"Where was Petronella Oortman's dollhouse displayed?\", 'q2': 'How did Petronella Oortman\\'s dollhouse inspire the 2014 novel \"The Miniaturist\"?'}\n"
     ]
    },
    {
     "name": "stderr",
     "output_type": "stream",
     "text": [
      " 70%|██████▉   | 417/598 [1:07:37<32:27, 10.76s/it]"
     ]
    },
    {
     "name": "stdout",
     "output_type": "stream",
     "text": [
      "Processed record 417/598 in 11.48 seconds.\n",
      "decomposition:  {'q1': 'What is the main event centered around at the festival in Nevada?', 'q2': 'What is the name of the tallest completed building in Nevada?'}\n"
     ]
    },
    {
     "name": "stderr",
     "output_type": "stream",
     "text": [
      " 70%|██████▉   | 418/598 [1:07:47<32:02, 10.68s/it]"
     ]
    },
    {
     "name": "stdout",
     "output_type": "stream",
     "text": [
      "Processed record 418/598 in 10.49 seconds.\n",
      "decomposition:  {'q1': 'What movie inspired Karle Pyaar Karle?', 'q2': 'Which actors star in that movie?'}\n"
     ]
    },
    {
     "name": "stderr",
     "output_type": "stream",
     "text": [
      " 70%|███████   | 419/598 [1:07:58<32:05, 10.76s/it]"
     ]
    },
    {
     "name": "stdout",
     "output_type": "stream",
     "text": [
      "Processed record 419/598 in 10.94 seconds.\n",
      "decomposition:  {'q1': 'What animated television sitcom is the American voice actor known for starring in?', 'q2': 'Great Expectations is a 1998 contemporary film starring an American voice actor known for starring in what animated television sitcom?'}\n"
     ]
    },
    {
     "name": "stderr",
     "output_type": "stream",
     "text": [
      " 70%|███████   | 420/598 [1:08:09<32:14, 10.87s/it]"
     ]
    },
    {
     "name": "stdout",
     "output_type": "stream",
     "text": [
      "Processed record 420/598 in 11.13 seconds.\n",
      "decomposition:  {'q1': 'On what date did an Austrian skydiver jump to Earth from a helium balloon?', 'q2': 'What was the altitude reached by the American amateur parachute jumper in his strato jump?'}\n"
     ]
    },
    {
     "name": "stderr",
     "output_type": "stream",
     "text": [
      " 70%|███████   | 421/598 [1:08:21<32:39, 11.07s/it]"
     ]
    },
    {
     "name": "stdout",
     "output_type": "stream",
     "text": [
      "Processed record 421/598 in 11.54 seconds.\n",
      "decomposition:  {'q1': 'Who invented the V-2 rocket?', 'q2': 'What kinds of systems did Ernst Stuhlinger develop with the inventor of the V-2 rocket?'}\n"
     ]
    },
    {
     "name": "stderr",
     "output_type": "stream",
     "text": [
      " 71%|███████   | 422/598 [1:08:32<32:19, 11.02s/it]"
     ]
    },
    {
     "name": "stdout",
     "output_type": "stream",
     "text": [
      "Processed record 422/598 in 10.90 seconds.\n",
      "decomposition:  {'q1': 'What is the district classification of Obogu?', 'q2': 'How many districts are there in Obogu?'}\n"
     ]
    },
    {
     "name": "stderr",
     "output_type": "stream",
     "text": [
      " 71%|███████   | 423/598 [1:08:42<31:03, 10.65s/it]"
     ]
    },
    {
     "name": "stdout",
     "output_type": "stream",
     "text": [
      "Processed record 423/598 in 9.78 seconds.\n",
      "decomposition:  {'q1': 'What is the Dutch company that specializes in sports and clothing?', 'q2': 'What is the company known for developing the Shock Stop system classified as?'}\n"
     ]
    },
    {
     "name": "stderr",
     "output_type": "stream",
     "text": [
      " 71%|███████   | 424/598 [1:08:52<30:40, 10.58s/it]"
     ]
    },
    {
     "name": "stdout",
     "output_type": "stream",
     "text": [
      "Processed record 424/598 in 10.41 seconds.\n",
      "decomposition:  {'q1': 'What were the consequences of the Townshend Acts?', 'q2': 'Which consequence of the Townshend Acts resulted in the deaths of five people by British soldiers?'}\n"
     ]
    },
    {
     "name": "stderr",
     "output_type": "stream",
     "text": [
      " 71%|███████   | 425/598 [1:09:03<30:48, 10.69s/it]"
     ]
    },
    {
     "name": "stdout",
     "output_type": "stream",
     "text": [
      "Processed record 425/598 in 10.94 seconds.\n",
      "decomposition:  {'q1': 'What Disney film was Danielle Nicole Panabaker prominent in during 2005?', 'q2': 'Who was the director of that Disney film?'}\n"
     ]
    },
    {
     "name": "stderr",
     "output_type": "stream",
     "text": [
      " 71%|███████   | 426/598 [1:09:16<32:29, 11.33s/it]"
     ]
    },
    {
     "name": "stdout",
     "output_type": "stream",
     "text": [
      "Processed record 426/598 in 12.85 seconds.\n",
      "decomposition:  {'q1': 'Which abbey was involved in the construction of the castle located in Dalton Town?', 'q2': \"What was Newton's role in the construction of the castle?\"}\n"
     ]
    },
    {
     "name": "stderr",
     "output_type": "stream",
     "text": [
      " 71%|███████▏  | 427/598 [1:09:26<31:14, 10.96s/it]"
     ]
    },
    {
     "name": "stdout",
     "output_type": "stream",
     "text": [
      "Processed record 427/598 in 10.10 seconds.\n",
      "decomposition:  {'q1': 'Which musician is from the US, 3OH!3?', 'q2': 'Or Regina Spektor?'}\n"
     ]
    },
    {
     "name": "stderr",
     "output_type": "stream",
     "text": [
      " 72%|███████▏  | 428/598 [1:09:36<30:17, 10.69s/it]"
     ]
    },
    {
     "name": "stdout",
     "output_type": "stream",
     "text": [
      "Processed record 428/598 in 10.05 seconds.\n",
      "decomposition:  {'q1': 'Who is a Nobel Prize winner for literature, John Galsworthy?', 'q2': 'Or Fernando Pessoa?'}\n"
     ]
    },
    {
     "name": "stderr",
     "output_type": "stream",
     "text": [
      " 72%|███████▏  | 429/598 [1:09:46<29:43, 10.55s/it]"
     ]
    },
    {
     "name": "stdout",
     "output_type": "stream",
     "text": [
      "Processed record 429/598 in 10.24 seconds.\n",
      "decomposition:  {'q1': 'When did the 2006 Iowa Hawkeyes football coach play for the University of Connecticut?', 'q2': 'In what position did the 2006 Iowa Hawkeyes football coach play for the University of Connecticut?'}\n"
     ]
    },
    {
     "name": "stderr",
     "output_type": "stream",
     "text": [
      " 72%|███████▏  | 430/598 [1:09:57<29:51, 10.66s/it]"
     ]
    },
    {
     "name": "stdout",
     "output_type": "stream",
     "text": [
      "Processed record 430/598 in 10.92 seconds.\n",
      "decomposition:  {'q1': 'Who is Baz Luhrmann?', 'q2': 'Who is older, Baz Luhrmann or Ryan Gosling?'}\n"
     ]
    },
    {
     "name": "stderr",
     "output_type": "stream",
     "text": [
      " 72%|███████▏  | 431/598 [1:10:07<29:12, 10.49s/it]"
     ]
    },
    {
     "name": "stdout",
     "output_type": "stream",
     "text": [
      "Processed record 431/598 in 10.09 seconds.\n",
      "decomposition:  {'q1': 'Which of the two buildings is taller, the Bertelsmann Building or CitySpire Center?', 'q2': 'CitySpire Center is taller than the Bertelsmann Building.'}\n"
     ]
    },
    {
     "name": "stderr",
     "output_type": "stream",
     "text": [
      " 72%|███████▏  | 432/598 [1:10:18<29:22, 10.61s/it]"
     ]
    },
    {
     "name": "stdout",
     "output_type": "stream",
     "text": [
      "Processed record 432/598 in 10.90 seconds.\n",
      "decomposition:  {'q1': 'Who owns the channel Business Nation?', 'q2': 'On what frequency does Business Nation air monthly?'}\n"
     ]
    },
    {
     "name": "stderr",
     "output_type": "stream",
     "text": [
      " 72%|███████▏  | 433/598 [1:10:28<28:57, 10.53s/it]"
     ]
    },
    {
     "name": "stdout",
     "output_type": "stream",
     "text": [
      "Processed record 433/598 in 10.33 seconds.\n",
      "decomposition:  {'q1': 'What was the reason behind the challenges faced by \"Looking For Alaska\"?', 'q2': 'When was John Micheal Green born?'}\n"
     ]
    },
    {
     "name": "stderr",
     "output_type": "stream",
     "text": [
      " 73%|███████▎  | 434/598 [1:10:39<28:44, 10.52s/it]"
     ]
    },
    {
     "name": "stdout",
     "output_type": "stream",
     "text": [
      "Processed record 434/598 in 10.48 seconds.\n",
      "decomposition:  {'q1': 'What was the original setting of the role-playing game from which the \"D6 System\" was derived?', 'q2': 'Which science fiction RPG based on the \"D6 System\" was inspired by a role-playing game set in the \"Star Wars\" universe?'}\n"
     ]
    },
    {
     "name": "stderr",
     "output_type": "stream",
     "text": [
      " 73%|███████▎  | 435/598 [1:10:49<28:20, 10.43s/it]"
     ]
    },
    {
     "name": "stdout",
     "output_type": "stream",
     "text": [
      "Processed record 435/598 in 10.24 seconds.\n",
      "decomposition:  {'q1': 'Are Muling and Zhangye both cities?', 'q2': 'Are they both of the same administrative level?'}\n"
     ]
    },
    {
     "name": "stderr",
     "output_type": "stream",
     "text": [
      " 73%|███████▎  | 436/598 [1:11:00<28:36, 10.59s/it]"
     ]
    },
    {
     "name": "stdout",
     "output_type": "stream",
     "text": [
      "Processed record 436/598 in 10.97 seconds.\n",
      "decomposition:  {'q1': 'Which mayor of The Jazz of the City Atlanta is currently serving on the board of directors?', 'q2': 'For which company does the mayor serve on the board of directors?'}\n"
     ]
    },
    {
     "name": "stderr",
     "output_type": "stream",
     "text": [
      " 73%|███████▎  | 437/598 [1:11:11<28:23, 10.58s/it]"
     ]
    },
    {
     "name": "stdout",
     "output_type": "stream",
     "text": [
      "Processed record 437/598 in 10.55 seconds.\n",
      "decomposition:  {'q1': 'What was the name of the terrorist group in the film debut of actor Sanjeev Jaiswal?', 'q2': \"In which film was Sanjeev Jaiswal's film debut?\"}\n"
     ]
    },
    {
     "name": "stderr",
     "output_type": "stream",
     "text": [
      " 73%|███████▎  | 438/598 [1:11:21<28:15, 10.60s/it]"
     ]
    },
    {
     "name": "stdout",
     "output_type": "stream",
     "text": [
      "Processed record 438/598 in 10.64 seconds.\n",
      "decomposition:  {'q1': 'What is the size of the largest shopping center in Surabaya?', 'q2': 'What is the size of Tunjungan Plaza?'}\n"
     ]
    },
    {
     "name": "stderr",
     "output_type": "stream",
     "text": [
      " 73%|███████▎  | 439/598 [1:11:32<28:01, 10.57s/it]"
     ]
    },
    {
     "name": "stdout",
     "output_type": "stream",
     "text": [
      "Processed record 439/598 in 10.52 seconds.\n",
      "decomposition:  {'q1': 'What is the 11th album by Julian Edwin Adderley known as?', 'q2': \"What is the title of Julian Edwin Adderley's 11th album?\"}\n"
     ]
    },
    {
     "name": "stderr",
     "output_type": "stream",
     "text": [
      " 74%|███████▎  | 440/598 [1:11:43<28:09, 10.69s/it]"
     ]
    },
    {
     "name": "stdout",
     "output_type": "stream",
     "text": [
      "Processed record 440/598 in 10.97 seconds.\n",
      "decomposition:  {'q1': 'What role does the actor in the Men With Guns movie play in the show Narcos?', 'q2': 'In which movie does the actor appear in the Men With Guns series?'}\n"
     ]
    },
    {
     "name": "stderr",
     "output_type": "stream",
     "text": [
      " 74%|███████▎  | 441/598 [1:11:54<28:10, 10.77s/it]"
     ]
    },
    {
     "name": "stdout",
     "output_type": "stream",
     "text": [
      "Processed record 441/598 in 10.94 seconds.\n",
      "decomposition:  {'q1': \"Which movie was about the United States men's hockey team?\", 'q2': 'Between Nikki, Wild Dog of the North and Miracle, which movie was it?'}\n"
     ]
    },
    {
     "name": "stderr",
     "output_type": "stream",
     "text": [
      " 74%|███████▍  | 442/598 [1:12:04<27:40, 10.64s/it]"
     ]
    },
    {
     "name": "stdout",
     "output_type": "stream",
     "text": [
      "Processed record 442/598 in 10.36 seconds.\n",
      "decomposition:  {'q1': 'What is the main subject of the paragraph?', 'q2': 'What is the name of the music artist mentioned in the paragraph?'}\n"
     ]
    },
    {
     "name": "stderr",
     "output_type": "stream",
     "text": [
      " 74%|███████▍  | 443/598 [1:12:14<27:04, 10.48s/it]"
     ]
    },
    {
     "name": "stdout",
     "output_type": "stream",
     "text": [
      "Processed record 443/598 in 10.10 seconds.\n",
      "decomposition:  {'q1': 'Which Danish football club lost in the 2010-11 Danish Superliga?', 'q2': 'Where is the clubhouse of the team that lost in the 2010-11 Danish Superliga?'}\n"
     ]
    },
    {
     "name": "stderr",
     "output_type": "stream",
     "text": [
      " 74%|███████▍  | 444/598 [1:12:25<27:01, 10.53s/it]"
     ]
    },
    {
     "name": "stdout",
     "output_type": "stream",
     "text": [
      "Processed record 444/598 in 10.64 seconds.\n",
      "decomposition:  {'q1': \"Which company's helicopters are based out of the Juhu Aerodrome?\", 'q2': 'What service does IIT Kanpur Airport have that involves these helicopters?'}\n"
     ]
    },
    {
     "name": "stderr",
     "output_type": "stream",
     "text": [
      " 74%|███████▍  | 445/598 [1:12:36<26:56, 10.56s/it]"
     ]
    },
    {
     "name": "stdout",
     "output_type": "stream",
     "text": [
      "Processed record 445/598 in 10.64 seconds.\n",
      "decomposition:  {'q1': 'Which mountain is located in Nepal?', 'q2': 'Which mountain is known as \"Ogre\" and is located in Pakistan?'}\n"
     ]
    },
    {
     "name": "stderr",
     "output_type": "stream",
     "text": [
      " 75%|███████▍  | 446/598 [1:12:46<27:01, 10.67s/it]"
     ]
    },
    {
     "name": "stdout",
     "output_type": "stream",
     "text": [
      "Processed record 446/598 in 10.90 seconds.\n",
      "decomposition:  {'q1': 'Which Division I college is part of the Big 12 Conference?', 'q2': 'Where did Clint Ingram attend college?'}\n"
     ]
    },
    {
     "name": "stderr",
     "output_type": "stream",
     "text": [
      " 75%|███████▍  | 447/598 [1:12:57<26:31, 10.54s/it]"
     ]
    },
    {
     "name": "stdout",
     "output_type": "stream",
     "text": [
      "Processed record 447/598 in 10.24 seconds.\n",
      "decomposition:  {'q1': 'Which band formed in Europe, Finger Eleven or Fatherson?', 'q2': 'In which continent did the chosen band form?'}\n"
     ]
    },
    {
     "name": "stderr",
     "output_type": "stream",
     "text": [
      " 75%|███████▍  | 448/598 [1:13:07<25:56, 10.37s/it]"
     ]
    },
    {
     "name": "stdout",
     "output_type": "stream",
     "text": [
      "Processed record 448/598 in 9.99 seconds.\n",
      "decomposition:  {'q1': 'In which nation does Mousa Esmaeilpour provide support?', 'q2': 'What is the specific purpose of his support in that nation?'}\n"
     ]
    },
    {
     "name": "stderr",
     "output_type": "stream",
     "text": [
      " 75%|███████▌  | 449/598 [1:13:17<25:38, 10.33s/it]"
     ]
    },
    {
     "name": "stdout",
     "output_type": "stream",
     "text": [
      "Processed record 449/598 in 10.22 seconds.\n",
      "decomposition:  {'q1': 'Which player was drafted by the Jacksonville Jaguars in 2013?', 'q2': \"Who was this player's back-up on the 2009 Michigan football team?\"}\n"
     ]
    },
    {
     "name": "stderr",
     "output_type": "stream",
     "text": [
      " 75%|███████▌  | 450/598 [1:13:28<25:43, 10.43s/it]"
     ]
    },
    {
     "name": "stdout",
     "output_type": "stream",
     "text": [
      "Processed record 450/598 in 10.67 seconds.\n",
      "decomposition:  {'q1': 'Who is the creator of hypertext?', 'q2': 'What familiar device was invented by the creator of hypertext?'}\n"
     ]
    },
    {
     "name": "stderr",
     "output_type": "stream",
     "text": [
      " 75%|███████▌  | 451/598 [1:13:38<25:23, 10.37s/it]"
     ]
    },
    {
     "name": "stdout",
     "output_type": "stream",
     "text": [
      "Processed record 451/598 in 10.21 seconds.\n",
      "decomposition:  {'q1': 'In what year was Kendall Dewan Marshall drafted into the NBA?', 'q2': 'Where was the drafting ceremony held for the NBA draft in which Kendall Dewan Marshall was drafted?'}\n"
     ]
    },
    {
     "name": "stderr",
     "output_type": "stream",
     "text": [
      " 76%|███████▌  | 452/598 [1:13:48<25:15, 10.38s/it]"
     ]
    },
    {
     "name": "stdout",
     "output_type": "stream",
     "text": [
      "Processed record 452/598 in 10.41 seconds.\n",
      "decomposition:  {'q1': 'What is the name of the director of \"Before the Revolution\"?', 'q2': 'In what year was the director born?'}\n"
     ]
    },
    {
     "name": "stderr",
     "output_type": "stream",
     "text": [
      " 76%|███████▌  | 453/598 [1:13:58<24:50, 10.28s/it]"
     ]
    },
    {
     "name": "stdout",
     "output_type": "stream",
     "text": [
      "Processed record 453/598 in 10.05 seconds.\n",
      "decomposition:  {'q1': 'Who was a spokesperson at the LIGO Scientific Collaboration?', 'q2': 'What American physicist was the spokesperson?'}\n"
     ]
    },
    {
     "name": "stderr",
     "output_type": "stream",
     "text": [
      " 76%|███████▌  | 454/598 [1:14:08<24:33, 10.23s/it]"
     ]
    },
    {
     "name": "stdout",
     "output_type": "stream",
     "text": [
      "Processed record 454/598 in 10.11 seconds.\n",
      "decomposition:  {'q1': 'What series of novels features a character nicknamed \"The Mountain\"?', 'q2': 'Who is the professional strongman from Iceland who plays the character \"The Mountain\"?'}\n"
     ]
    },
    {
     "name": "stderr",
     "output_type": "stream",
     "text": [
      " 76%|███████▌  | 455/598 [1:14:19<24:57, 10.47s/it]"
     ]
    },
    {
     "name": "stdout",
     "output_type": "stream",
     "text": [
      "Processed record 455/598 in 11.03 seconds.\n",
      "decomposition:  {'q1': 'Which team played against the 49ers in the 2013 Super Bowl?', 'q2': 'Which team won the 2013 Super Bowl by a score of 34-31?'}\n"
     ]
    },
    {
     "name": "stderr",
     "output_type": "stream",
     "text": [
      " 76%|███████▋  | 456/598 [1:14:30<24:36, 10.39s/it]"
     ]
    },
    {
     "name": "stdout",
     "output_type": "stream",
     "text": [
      "Processed record 456/598 in 10.22 seconds.\n",
      "decomposition:  {'q1': \"What real-life criminal is associated with Sherlock Holmes' miraculous survival in the deadly fight?\", 'q2': \"How does the mention of this real-life criminal contribute to the plot point of Sherlock Holmes' survival?\"}\n"
     ]
    },
    {
     "name": "stderr",
     "output_type": "stream",
     "text": [
      " 76%|███████▋  | 457/598 [1:14:40<24:15, 10.32s/it]"
     ]
    },
    {
     "name": "stdout",
     "output_type": "stream",
     "text": [
      "Processed record 457/598 in 10.14 seconds.\n",
      "decomposition:  {'q1': 'What is the book that is second only in translations to the book Will is reading?', 'q2': \"What is Will's tribal affiliation?\"}\n"
     ]
    },
    {
     "name": "stderr",
     "output_type": "stream",
     "text": [
      " 77%|███████▋  | 458/598 [1:14:50<23:47, 10.20s/it]"
     ]
    },
    {
     "name": "stdout",
     "output_type": "stream",
     "text": [
      "Processed record 458/598 in 9.92 seconds.\n",
      "decomposition:  {'q1': 'What type of genre does Dennis Miller have in common with?', 'q2': 'What type of genre does the film Bordello of Blood have in common with?'}\n"
     ]
    },
    {
     "name": "stderr",
     "output_type": "stream",
     "text": [
      " 77%|███████▋  | 459/598 [1:15:00<23:41, 10.23s/it]"
     ]
    },
    {
     "name": "stdout",
     "output_type": "stream",
     "text": [
      "Processed record 459/598 in 10.30 seconds.\n",
      "decomposition:  {'q1': 'What movie was Gabrielle Union involved in filming scenes for?', 'q2': 'Where did she film those scenes?'}\n"
     ]
    },
    {
     "name": "stderr",
     "output_type": "stream",
     "text": [
      " 77%|███████▋  | 460/598 [1:15:11<24:19, 10.57s/it]"
     ]
    },
    {
     "name": "stdout",
     "output_type": "stream",
     "text": [
      "Processed record 460/598 in 11.37 seconds.\n",
      "decomposition:  {'q1': \"Are Saludos Amigos and Disney's The Kid both films?\", 'q2': 'Are they both live-action films?'}\n"
     ]
    },
    {
     "name": "stderr",
     "output_type": "stream",
     "text": [
      " 77%|███████▋  | 461/598 [1:15:22<24:16, 10.63s/it]"
     ]
    },
    {
     "name": "stdout",
     "output_type": "stream",
     "text": [
      "Processed record 461/598 in 10.77 seconds.\n",
      "decomposition:  {'q1': 'Did Edwin Greenwood and Curtis Hanson create movies?', 'q2': 'Did they create movies during the same time span?'}\n"
     ]
    },
    {
     "name": "stderr",
     "output_type": "stream",
     "text": [
      " 77%|███████▋  | 462/598 [1:15:32<23:25, 10.34s/it]"
     ]
    },
    {
     "name": "stdout",
     "output_type": "stream",
     "text": [
      "Processed record 462/598 in 9.65 seconds.\n",
      "decomposition:  {'q1': 'Which actor was well-known for his deep and ebullient voice in the film Henry V?', 'q2': 'What actor was included in the film Henry V?'}\n"
     ]
    },
    {
     "name": "stderr",
     "output_type": "stream",
     "text": [
      " 77%|███████▋  | 463/598 [1:15:42<23:14, 10.33s/it]"
     ]
    },
    {
     "name": "stdout",
     "output_type": "stream",
     "text": [
      "Processed record 463/598 in 10.32 seconds.\n",
      "decomposition:  {'q1': 'Which genus has more species, Centradenia or Lindera?', 'q2': 'What is the approximate number of species in each genus?'}\n"
     ]
    },
    {
     "name": "stderr",
     "output_type": "stream",
     "text": [
      " 78%|███████▊  | 464/598 [1:15:53<23:11, 10.38s/it]"
     ]
    },
    {
     "name": "stdout",
     "output_type": "stream",
     "text": [
      "Processed record 464/598 in 10.50 seconds.\n",
      "decomposition:  {'q1': 'Who works with David Manning and The Duke and Duchess of Cambridge?', 'q2': 'In what succession is the prince to the British throne?'}\n"
     ]
    },
    {
     "name": "stderr",
     "output_type": "stream",
     "text": [
      " 78%|███████▊  | 465/598 [1:16:03<22:51, 10.31s/it]"
     ]
    },
    {
     "name": "stdout",
     "output_type": "stream",
     "text": [
      "Processed record 465/598 in 10.15 seconds.\n",
      "decomposition:  {'q1': 'Which magazines were published more often, Audrey or Lucire?', 'q2': 'In which magazine were publications more frequent, Audrey or Lucire?'}\n"
     ]
    },
    {
     "name": "stderr",
     "output_type": "stream",
     "text": [
      " 78%|███████▊  | 466/598 [1:16:13<22:51, 10.39s/it]"
     ]
    },
    {
     "name": "stdout",
     "output_type": "stream",
     "text": [
      "Processed record 466/598 in 10.58 seconds.\n",
      "decomposition:  {'q1': 'Which village in the North Kesteven district of Lincolnshire, England hosts the title Ferrers Baronetcy?', 'q2': 'When was the Ferrers Baronetcy created?'}\n"
     ]
    },
    {
     "name": "stderr",
     "output_type": "stream",
     "text": [
      " 78%|███████▊  | 467/598 [1:16:24<23:02, 10.55s/it]"
     ]
    },
    {
     "name": "stdout",
     "output_type": "stream",
     "text": [
      "Processed record 467/598 in 10.93 seconds.\n",
      "decomposition:  {'q1': \"Which Premier League team does the German forward who plays for Souleyman Sané's father play for?\", 'q2': \"What is the name of the German forward who plays for Souleyman Sané's father?\"}\n"
     ]
    },
    {
     "name": "stderr",
     "output_type": "stream",
     "text": [
      " 78%|███████▊  | 468/598 [1:16:35<22:59, 10.61s/it]"
     ]
    },
    {
     "name": "stdout",
     "output_type": "stream",
     "text": [
      "Processed record 468/598 in 10.76 seconds.\n",
      "decomposition:  {'q1': 'What was the elevation of the peak located south of Lonesome Lake?', 'q2': 'What was the home of the peak located south of Lonesome Lake?'}\n"
     ]
    },
    {
     "name": "stderr",
     "output_type": "stream",
     "text": [
      " 78%|███████▊  | 469/598 [1:16:46<22:48, 10.61s/it]"
     ]
    },
    {
     "name": "stdout",
     "output_type": "stream",
     "text": [
      "Processed record 469/598 in 10.58 seconds.\n",
      "decomposition:  {'q1': 'Which movie was produced more recently, The Happiest Millionaire or Inside Out?', 'q2': 'What is the release date of the more recently produced movie between the two mentioned?'}\n"
     ]
    },
    {
     "name": "stderr",
     "output_type": "stream",
     "text": [
      " 79%|███████▊  | 470/598 [1:16:56<22:18, 10.46s/it]"
     ]
    },
    {
     "name": "stdout",
     "output_type": "stream",
     "text": [
      "Processed record 470/598 in 10.12 seconds.\n",
      "decomposition:  {'q1': 'What was the genre of the vampire-themed fantasy romance novels referenced in The Twilight Saga: The Official Illustrated Guide?', 'q2': 'In what year was the first of these novels published?'}\n"
     ]
    },
    {
     "name": "stderr",
     "output_type": "stream",
     "text": [
      " 79%|███████▉  | 471/598 [1:17:06<21:58, 10.38s/it]"
     ]
    },
    {
     "name": "stdout",
     "output_type": "stream",
     "text": [
      "Processed record 471/598 in 10.21 seconds.\n",
      "decomposition:  {'q1': 'Which commuter airline had its head office at the Isle of Man Airport?', 'q2': 'Was this airline sometimes operated by Links Air?'}\n"
     ]
    },
    {
     "name": "stderr",
     "output_type": "stream",
     "text": [
      " 79%|███████▉  | 472/598 [1:17:17<22:27, 10.70s/it]"
     ]
    },
    {
     "name": "stdout",
     "output_type": "stream",
     "text": [
      "Processed record 472/598 in 11.42 seconds.\n",
      "decomposition:  {'q1': 'Which team won the 2017 cricket match?', 'q2': 'In what cricket ground was the 2017 cricket match played?'}\n"
     ]
    },
    {
     "name": "stderr",
     "output_type": "stream",
     "text": [
      " 79%|███████▉  | 473/598 [1:17:29<22:41, 10.89s/it]"
     ]
    },
    {
     "name": "stdout",
     "output_type": "stream",
     "text": [
      "Processed record 473/598 in 11.34 seconds.\n",
      "decomposition:  {'q1': 'What was the nationality of the coach who expounded the football philosophy associated with Johan Cruyff?', 'q2': 'What was the football philosophy expounded by the coach mentioned in the previous question?'}\n"
     ]
    },
    {
     "name": "stderr",
     "output_type": "stream",
     "text": [
      " 79%|███████▉  | 474/598 [1:17:39<22:20, 10.81s/it]"
     ]
    },
    {
     "name": "stdout",
     "output_type": "stream",
     "text": [
      "Processed record 474/598 in 10.62 seconds.\n",
      "decomposition:  {'q1': 'What county in England did the brewess live in?', 'q2': 'What song and jig tune bears her name?'}\n"
     ]
    },
    {
     "name": "stderr",
     "output_type": "stream",
     "text": [
      " 79%|███████▉  | 475/598 [1:17:50<21:49, 10.64s/it]"
     ]
    },
    {
     "name": "stdout",
     "output_type": "stream",
     "text": [
      "Processed record 475/598 in 10.26 seconds.\n",
      "decomposition:  {'q1': 'What is the birth date of the British actor who starred alongside John Travolta in Swordfish?', 'q2': 'Was the actor also a former professional footballer?'}\n"
     ]
    },
    {
     "name": "stderr",
     "output_type": "stream",
     "text": [
      " 80%|███████▉  | 476/598 [1:18:01<21:59, 10.81s/it]"
     ]
    },
    {
     "name": "stdout",
     "output_type": "stream",
     "text": [
      "Processed record 476/598 in 11.21 seconds.\n",
      "decomposition:  {'q1': \"Are Planter's Punch and Fizzy apple cocktail alcoholic beverages?\", 'q2': \"Do both Planter's Punch and Fizzy apple cocktail contain alcohol?\"}\n"
     ]
    },
    {
     "name": "stderr",
     "output_type": "stream",
     "text": [
      " 80%|███████▉  | 477/598 [1:18:11<21:46, 10.80s/it]"
     ]
    },
    {
     "name": "stdout",
     "output_type": "stream",
     "text": [
      "Processed record 477/598 in 10.76 seconds.\n",
      "decomposition:  {'q1': 'What is the name of the Punjabi singer featured in \"Lak Mera Kach Warga\"?', 'q2': 'When was the singer mentioned in q1 born?'}\n"
     ]
    },
    {
     "name": "stderr",
     "output_type": "stream",
     "text": [
      " 80%|███████▉  | 478/598 [1:18:22<21:38, 10.82s/it]"
     ]
    },
    {
     "name": "stdout",
     "output_type": "stream",
     "text": [
      "Processed record 478/598 in 10.87 seconds.\n",
      "decomposition:  {'q1': \"What was Sartre's opinion on his novel?\", 'q2': 'What character did Sartre include in his novel that had the name The Autodidact?'}\n"
     ]
    },
    {
     "name": "stderr",
     "output_type": "stream",
     "text": [
      " 80%|████████  | 479/598 [1:18:33<21:21, 10.77s/it]"
     ]
    },
    {
     "name": "stdout",
     "output_type": "stream",
     "text": [
      "Processed record 479/598 in 10.65 seconds.\n",
      "decomposition:  {'q1': 'What novel won the Booker Prize in 1997?', 'q2': 'What novel is a story about the childhood experiences of fraternal twins whose lives are destroyed by Love Laws?'}\n"
     ]
    },
    {
     "name": "stderr",
     "output_type": "stream",
     "text": [
      " 80%|████████  | 480/598 [1:18:46<22:12, 11.29s/it]"
     ]
    },
    {
     "name": "stdout",
     "output_type": "stream",
     "text": [
      "Processed record 480/598 in 12.52 seconds.\n",
      "decomposition:  {'q1': 'What is the name of the movie Gary Wayne Goldman and Don Bluth worked on together?', 'q2': 'In what year was their last project together?'}\n"
     ]
    },
    {
     "name": "stderr",
     "output_type": "stream",
     "text": [
      " 80%|████████  | 481/598 [1:18:56<21:47, 11.18s/it]"
     ]
    },
    {
     "name": "stdout",
     "output_type": "stream",
     "text": [
      "Processed record 481/598 in 10.90 seconds.\n",
      "decomposition:  {'q1': 'What is the music style of the Canadian band Marianas Trench?', 'q2': 'Does the American singer Poe have a different music style compared to Marianas Trench?'}\n"
     ]
    },
    {
     "name": "stderr",
     "output_type": "stream",
     "text": [
      " 81%|████████  | 482/598 [1:19:07<21:01, 10.88s/it]"
     ]
    },
    {
     "name": "stdout",
     "output_type": "stream",
     "text": [
      "Processed record 482/598 in 10.18 seconds.\n",
      "decomposition:  {'q1': 'In what year was the label founded on which Space was released?', 'q2': 'What year was Space released?'}\n"
     ]
    },
    {
     "name": "stderr",
     "output_type": "stream",
     "text": [
      " 81%|████████  | 483/598 [1:19:17<20:18, 10.60s/it]"
     ]
    },
    {
     "name": "stdout",
     "output_type": "stream",
     "text": [
      "Processed record 483/598 in 9.94 seconds.\n",
      "decomposition:  {'q1': 'Which company is headquartered farther north, American Airlines Group or News Corporation?', 'q2': 'What is the location of their headquarters?'}\n"
     ]
    },
    {
     "name": "stderr",
     "output_type": "stream",
     "text": [
      " 81%|████████  | 484/598 [1:19:27<20:09, 10.61s/it]"
     ]
    },
    {
     "name": "stdout",
     "output_type": "stream",
     "text": [
      "Processed record 484/598 in 10.65 seconds.\n",
      "decomposition:  {'q1': \"Which Disney family films were released first, Darby O'Gill and the Little People or Big Red?\", 'q2': 'Which Disney family film was released first?'}\n"
     ]
    },
    {
     "name": "stderr",
     "output_type": "stream",
     "text": [
      " 81%|████████  | 485/598 [1:19:38<19:53, 10.56s/it]"
     ]
    },
    {
     "name": "stdout",
     "output_type": "stream",
     "text": [
      "Processed record 485/598 in 10.43 seconds.\n",
      "decomposition:  {'q1': 'Which player won the EFL Young Player of the Month award first?', 'q2': 'Which national team does the first winner of the EFL Young Player of the Month play for?'}\n"
     ]
    },
    {
     "name": "stderr",
     "output_type": "stream",
     "text": [
      " 81%|████████▏ | 486/598 [1:19:48<19:31, 10.46s/it]"
     ]
    },
    {
     "name": "stdout",
     "output_type": "stream",
     "text": [
      "Processed record 486/598 in 10.24 seconds.\n",
      "decomposition:  {'q1': 'When was Jesus Jones formed?', 'q2': 'When was Morcheeba formed?'}\n"
     ]
    },
    {
     "name": "stderr",
     "output_type": "stream",
     "text": [
      " 81%|████████▏ | 487/598 [1:19:58<19:10, 10.37s/it]"
     ]
    },
    {
     "name": "stdout",
     "output_type": "stream",
     "text": [
      "Processed record 487/598 in 10.14 seconds.\n",
      "decomposition:  {'q1': 'What is the common element in the names \"Kardashian\" and \"Kay Armen\"?', 'q2': 'What background does this common element represent?'}\n"
     ]
    },
    {
     "name": "stderr",
     "output_type": "stream",
     "text": [
      " 82%|████████▏ | 488/598 [1:20:08<18:59, 10.36s/it]"
     ]
    },
    {
     "name": "stdout",
     "output_type": "stream",
     "text": [
      "Processed record 488/598 in 10.35 seconds.\n",
      "decomposition:  {'q1': 'What book was the 1987 film based on?', 'q2': 'Who played the role of Carrie in the 1987 film?'}\n"
     ]
    },
    {
     "name": "stderr",
     "output_type": "stream",
     "text": [
      " 82%|████████▏ | 489/598 [1:20:19<18:51, 10.38s/it]"
     ]
    },
    {
     "name": "stdout",
     "output_type": "stream",
     "text": [
      "Processed record 489/598 in 10.44 seconds.\n",
      "decomposition:  {'q1': \"Who is the English novelist who authored books published by a children's book editor?\", 'q2': \"Based in Oxford, what is the profession of the children's book editor mentioned in the previous question?\"}\n"
     ]
    },
    {
     "name": "stderr",
     "output_type": "stream",
     "text": [
      " 82%|████████▏ | 490/598 [1:20:29<18:30, 10.28s/it]"
     ]
    },
    {
     "name": "stdout",
     "output_type": "stream",
     "text": [
      "Processed record 490/598 in 10.05 seconds.\n",
      "decomposition:  {'q1': 'Who made their debut in \"A Rather English Marriage\"?', 'q2': 'Which other film did they star in after their debut in \"A Rather English Marriage\"?'}\n"
     ]
    },
    {
     "name": "stderr",
     "output_type": "stream",
     "text": [
      " 82%|████████▏ | 491/598 [1:20:40<18:53, 10.59s/it]"
     ]
    },
    {
     "name": "stdout",
     "output_type": "stream",
     "text": [
      "Processed record 491/598 in 11.31 seconds.\n",
      "decomposition:  {'q1': 'What English team does the footballer who plays forward for CO Les Ulis play for?', 'q2': \"What was the footballer's youth prospect status at CO Les Ulis?\"}\n"
     ]
    },
    {
     "name": "stderr",
     "output_type": "stream",
     "text": [
      " 82%|████████▏ | 492/598 [1:20:50<18:30, 10.47s/it]"
     ]
    },
    {
     "name": "stdout",
     "output_type": "stream",
     "text": [
      "Processed record 492/598 in 10.19 seconds.\n",
      "decomposition:  {'q1': 'Who were the hosts of Whodunnit in 2009?', 'q2': 'Which of the hosts died on November 16, 2009?'}\n"
     ]
    },
    {
     "name": "stderr",
     "output_type": "stream",
     "text": [
      " 82%|████████▏ | 493/598 [1:21:02<18:45, 10.72s/it]"
     ]
    },
    {
     "name": "stdout",
     "output_type": "stream",
     "text": [
      "Processed record 493/598 in 11.30 seconds.\n",
      "decomposition:  {'q1': \"What are Mana's favorite drummers?\", 'q2': \"Which of Mana's favorite drummers played in the band Deep Purple?\"}\n"
     ]
    },
    {
     "name": "stderr",
     "output_type": "stream",
     "text": [
      " 83%|████████▎ | 494/598 [1:21:11<17:55, 10.35s/it]"
     ]
    },
    {
     "name": "stdout",
     "output_type": "stream",
     "text": [
      "Processed record 494/598 in 9.47 seconds.\n",
      "decomposition:  {'q1': 'When was the national forest on Roan Mountain created?', 'q2': 'Which national forest on Roan Mountain was created in 1920?'}\n"
     ]
    },
    {
     "name": "stderr",
     "output_type": "stream",
     "text": [
      " 83%|████████▎ | 495/598 [1:21:22<17:57, 10.46s/it]"
     ]
    },
    {
     "name": "stdout",
     "output_type": "stream",
     "text": [
      "Processed record 495/598 in 10.72 seconds.\n",
      "decomposition:  {'q1': 'Which retail department stores were established by Samuel Henry Kress?', 'q2': 'In which retail department stores was Romeo Records exclusively sold?'}\n"
     ]
    },
    {
     "name": "stderr",
     "output_type": "stream",
     "text": [
      " 83%|████████▎ | 496/598 [1:21:33<17:58, 10.58s/it]"
     ]
    },
    {
     "name": "stdout",
     "output_type": "stream",
     "text": [
      "Processed record 496/598 in 10.85 seconds.\n",
      "decomposition:  {'q1': 'What is the debut single of the band known as Tohoshinki?', 'q2': 'In Japanese releases, the band is sometimes referred to as DBSK.'}\n"
     ]
    },
    {
     "name": "stderr",
     "output_type": "stream",
     "text": [
      " 83%|████████▎ | 497/598 [1:21:45<18:50, 11.20s/it]"
     ]
    },
    {
     "name": "stdout",
     "output_type": "stream",
     "text": [
      "Processed record 497/598 in 12.64 seconds.\n",
      "decomposition:  {'q1': 'Who was the brother of Claude Christophe?', 'q2': 'Where was the brother of Claude Christophe born?'}\n"
     ]
    },
    {
     "name": "stderr",
     "output_type": "stream",
     "text": [
      " 83%|████████▎ | 498/598 [1:21:56<18:28, 11.09s/it]"
     ]
    },
    {
     "name": "stdout",
     "output_type": "stream",
     "text": [
      "Processed record 498/598 in 10.83 seconds.\n",
      "decomposition:  {'q1': 'What is the intertidal zone in the southeastern part of the North Sea?', 'q2': 'How is the mudflat region of this intertidal zone shielded from the North Sea?'}\n"
     ]
    },
    {
     "name": "stderr",
     "output_type": "stream",
     "text": [
      " 83%|████████▎ | 499/598 [1:22:08<18:31, 11.22s/it]"
     ]
    },
    {
     "name": "stdout",
     "output_type": "stream",
     "text": [
      "Processed record 499/598 in 11.54 seconds.\n",
      "decomposition:  {'q1': 'What was the name of the person who directed the comedy-drama?', 'q2': 'How much did the comedy-drama gross worldwide?'}\n"
     ]
    },
    {
     "name": "stderr",
     "output_type": "stream",
     "text": [
      " 84%|████████▎ | 500/598 [1:22:18<17:47, 10.89s/it]"
     ]
    },
    {
     "name": "stdout",
     "output_type": "stream",
     "text": [
      "Processed record 500/598 in 10.12 seconds.\n",
      "\n",
      "--- Saved batch up to record 500\n",
      "Average time for last 100 records: 10.62 seconds\n",
      "\n",
      "decomposition:  {'q1': 'What conference is the team that Jordan Phillips played college football for a member of?', 'q2': 'Which team did Jordan Phillips play college football for?'}\n"
     ]
    },
    {
     "name": "stderr",
     "output_type": "stream",
     "text": [
      " 84%|████████▍ | 501/598 [1:22:28<17:17, 10.69s/it]"
     ]
    },
    {
     "name": "stdout",
     "output_type": "stream",
     "text": [
      "Processed record 501/598 in 10.22 seconds.\n",
      "decomposition:  {'q1': 'What was the position of the Shinano among these battleships?', 'q2': 'How many naval guns did these battleships carry?'}\n"
     ]
    },
    {
     "name": "stderr",
     "output_type": "stream",
     "text": [
      " 84%|████████▍ | 502/598 [1:22:39<17:11, 10.74s/it]"
     ]
    },
    {
     "name": "stdout",
     "output_type": "stream",
     "text": [
      "Processed record 502/598 in 10.86 seconds.\n",
      "decomposition:  {'q1': 'Where are Lavant and Lienz geographically located?', 'q2': 'What is the general location of Lavant and Lienz?'}\n"
     ]
    },
    {
     "name": "stderr",
     "output_type": "stream",
     "text": [
      " 84%|████████▍ | 503/598 [1:22:49<16:48, 10.61s/it]"
     ]
    },
    {
     "name": "stdout",
     "output_type": "stream",
     "text": [
      "Processed record 503/598 in 10.31 seconds.\n",
      "decomposition:  {'q1': 'What genre did the heavy metal band initially play?', 'q2': 'What genre did the heavy metal band switch to later in their career?'}\n"
     ]
    },
    {
     "name": "stderr",
     "output_type": "stream",
     "text": [
      " 84%|████████▍ | 504/598 [1:22:59<16:06, 10.28s/it]"
     ]
    },
    {
     "name": "stdout",
     "output_type": "stream",
     "text": [
      "Processed record 504/598 in 9.51 seconds.\n",
      "decomposition:  {'q1': 'Who was the English singer and songwriter responsible for the 1995 film?', 'q2': 'What song did this singer and songwriter co-produce that was featured in the film?'}\n"
     ]
    },
    {
     "name": "stderr",
     "output_type": "stream",
     "text": [
      " 84%|████████▍ | 505/598 [1:23:10<16:30, 10.65s/it]"
     ]
    },
    {
     "name": "stdout",
     "output_type": "stream",
     "text": [
      "Processed record 505/598 in 11.50 seconds.\n",
      "decomposition:  {'q1': \"What was Roger Batzel's primary role as director?\", 'q2': 'What type of facility was he best known for directing?'}\n"
     ]
    },
    {
     "name": "stderr",
     "output_type": "stream",
     "text": [
      " 85%|████████▍ | 506/598 [1:23:20<15:59, 10.43s/it]"
     ]
    },
    {
     "name": "stdout",
     "output_type": "stream",
     "text": [
      "Processed record 506/598 in 9.91 seconds.\n",
      "decomposition:  {'q1': 'Who is the American comedian who created and portrayed the comic fictional character mentioned in the sentence?', 'q2': 'In what capacity did Joey Miyashima appear in relation to this character?'}\n"
     ]
    },
    {
     "name": "stderr",
     "output_type": "stream",
     "text": [
      " 85%|████████▍ | 507/598 [1:23:30<15:43, 10.37s/it]"
     ]
    },
    {
     "name": "stdout",
     "output_type": "stream",
     "text": [
      "Processed record 507/598 in 10.24 seconds.\n",
      "decomposition:  {'q1': 'Which of the two landmarks, Taksim Gezi Park or Nuruosmaniye Mosque, features Ottoman architecture?', 'q2': 'Does either of the landmarks feature Ottoman architecture?'}\n"
     ]
    },
    {
     "name": "stderr",
     "output_type": "stream",
     "text": [
      " 85%|████████▍ | 508/598 [1:23:41<15:31, 10.35s/it]"
     ]
    },
    {
     "name": "stdout",
     "output_type": "stream",
     "text": [
      "Processed record 508/598 in 10.31 seconds.\n",
      "decomposition:  {'q1': 'What city was the symphony dedicated to?', 'q2': \"What is the name of Dimitri Kabalevsky's three sonatas?\"}\n"
     ]
    },
    {
     "name": "stderr",
     "output_type": "stream",
     "text": [
      " 85%|████████▌ | 509/598 [1:23:51<15:29, 10.44s/it]"
     ]
    },
    {
     "name": "stdout",
     "output_type": "stream",
     "text": [
      "Processed record 509/598 in 10.65 seconds.\n",
      "decomposition:  {'q1': 'What is the slogan of Verrit?', 'q2': 'To what part of the Hillary Clinton presidential campaign in 2008 does Verrit’s slogan refer?'}\n"
     ]
    },
    {
     "name": "stderr",
     "output_type": "stream",
     "text": [
      " 85%|████████▌ | 510/598 [1:24:02<15:17, 10.43s/it]"
     ]
    },
    {
     "name": "stdout",
     "output_type": "stream",
     "text": [
      "Processed record 510/598 in 10.40 seconds.\n",
      "decomposition:  {'q1': 'Which operation was located farther north, Operation Nordwind or Gothic Line?', 'q2': 'What was the location of the operation that was farther north?'}\n"
     ]
    },
    {
     "name": "stderr",
     "output_type": "stream",
     "text": [
      " 85%|████████▌ | 511/598 [1:24:12<15:05, 10.41s/it]"
     ]
    },
    {
     "name": "stdout",
     "output_type": "stream",
     "text": [
      "Processed record 511/598 in 10.37 seconds.\n",
      "decomposition:  {'q1': 'What is the name of the author of Eat to Live?', 'q2': 'When was the author born?'}\n"
     ]
    },
    {
     "name": "stderr",
     "output_type": "stream",
     "text": [
      " 86%|████████▌ | 512/598 [1:24:22<14:40, 10.24s/it]"
     ]
    },
    {
     "name": "stdout",
     "output_type": "stream",
     "text": [
      "Processed record 512/598 in 9.85 seconds.\n",
      "decomposition:  {'q1': \"What was Jenny McCarthy's career background in 1993?\", 'q2': \"How did Jenny McCarthy's career in American sports comedy BASEketball begin in 1993?\"}\n"
     ]
    },
    {
     "name": "stderr",
     "output_type": "stream",
     "text": [
      " 86%|████████▌ | 513/598 [1:24:32<14:37, 10.32s/it]"
     ]
    },
    {
     "name": "stdout",
     "output_type": "stream",
     "text": [
      "Processed record 513/598 in 10.50 seconds.\n",
      "decomposition:  {'q1': 'How many acts are there in Manon?', 'q2': 'How many acts are there in Antony and Cleopatra?'}\n"
     ]
    },
    {
     "name": "stderr",
     "output_type": "stream",
     "text": [
      " 86%|████████▌ | 514/598 [1:24:43<14:27, 10.33s/it]"
     ]
    },
    {
     "name": "stdout",
     "output_type": "stream",
     "text": [
      "Processed record 514/598 in 10.35 seconds.\n",
      "decomposition:  {'q1': 'What was the profession of the person who was compared to the stage and motion picture actor?', 'q2': 'What other professions did the person hold, who was born in 1879 and was also a vaudeville performer, American cowboy, humorist, newspaper columnist, and social commentator?'}\n"
     ]
    },
    {
     "name": "stderr",
     "output_type": "stream",
     "text": [
      " 86%|████████▌ | 515/598 [1:24:54<14:29, 10.48s/it]"
     ]
    },
    {
     "name": "stdout",
     "output_type": "stream",
     "text": [
      "Processed record 515/598 in 10.82 seconds.\n",
      "decomposition:  {'q1': 'How many Filmfare Awards has the actor in the film \"Ikke Pe Ikka\" won?', 'q2': 'Who stars in the film \"Ikke Pe Ikka\"?'}\n"
     ]
    },
    {
     "name": "stderr",
     "output_type": "stream",
     "text": [
      " 86%|████████▋ | 516/598 [1:25:05<14:39, 10.72s/it]"
     ]
    },
    {
     "name": "stdout",
     "output_type": "stream",
     "text": [
      "Processed record 516/598 in 11.29 seconds.\n",
      "decomposition:  {'q1': 'Who was the Korean-American actor who acted as Glenn in the eighth episode of \"Made to Suffer\"?', 'q2': 'When was the actor born?'}\n"
     ]
    },
    {
     "name": "stderr",
     "output_type": "stream",
     "text": [
      " 86%|████████▋ | 517/598 [1:25:15<14:21, 10.63s/it]"
     ]
    },
    {
     "name": "stdout",
     "output_type": "stream",
     "text": [
      "Processed record 517/598 in 10.42 seconds.\n",
      "decomposition:  {'q1': \"What was Max Yergan's working relationship with communist Rutgers College graduates?\", 'q2': 'Which specific communist Rutgers College graduates did Max Yergan work with?'}\n"
     ]
    },
    {
     "name": "stderr",
     "output_type": "stream",
     "text": [
      " 87%|████████▋ | 518/598 [1:25:26<14:03, 10.55s/it]"
     ]
    },
    {
     "name": "stdout",
     "output_type": "stream",
     "text": [
      "Processed record 518/598 in 10.35 seconds.\n",
      "decomposition:  {'q1': 'What is the name of the movie that features Edwin Brown?', 'q2': 'In the movie, what is the number of people Edwin Brown executed?'}\n"
     ]
    },
    {
     "name": "stderr",
     "output_type": "stream",
     "text": [
      " 87%|████████▋ | 519/598 [1:25:36<13:48, 10.49s/it]"
     ]
    },
    {
     "name": "stdout",
     "output_type": "stream",
     "text": [
      "Processed record 519/598 in 10.36 seconds.\n",
      "decomposition:  {'q1': \"What is Tim O'Brien's nationality?\", 'q2': \"What is Erica Jong's nationality?\"}\n"
     ]
    },
    {
     "name": "stderr",
     "output_type": "stream",
     "text": [
      " 87%|████████▋ | 520/598 [1:25:46<13:15, 10.20s/it]"
     ]
    },
    {
     "name": "stdout",
     "output_type": "stream",
     "text": [
      "Processed record 520/598 in 9.54 seconds.\n",
      "decomposition:  {'q1': 'Which opera house housed the Paris National Opera?', 'q2': 'Which opera house frequently featured Vasyl Slipak?'}\n"
     ]
    },
    {
     "name": "stderr",
     "output_type": "stream",
     "text": [
      " 87%|████████▋ | 521/598 [1:25:56<13:10, 10.27s/it]"
     ]
    },
    {
     "name": "stdout",
     "output_type": "stream",
     "text": [
      "Processed record 521/598 in 10.41 seconds.\n",
      "decomposition:  {'q1': 'In what video game was id Tech 5 first used?', 'q2': 'When was id Tech 5 first used in a video game?'}\n"
     ]
    },
    {
     "name": "stderr",
     "output_type": "stream",
     "text": [
      " 87%|████████▋ | 522/598 [1:26:07<13:15, 10.46s/it]"
     ]
    },
    {
     "name": "stdout",
     "output_type": "stream",
     "text": [
      "Processed record 522/598 in 10.93 seconds.\n",
      "decomposition:  {'q1': \"What was the actress's profession other than acting?\", 'q2': 'In which film did the actress star?'}\n"
     ]
    },
    {
     "name": "stderr",
     "output_type": "stream",
     "text": [
      " 87%|████████▋ | 523/598 [1:26:17<12:49, 10.26s/it]"
     ]
    },
    {
     "name": "stdout",
     "output_type": "stream",
     "text": [
      "Processed record 523/598 in 9.79 seconds.\n",
      "decomposition:  {'q1': 'Are Great Pyrenees a dog breed?', 'q2': 'Are Terceira Mastiffs a dog breed?'}\n"
     ]
    },
    {
     "name": "stderr",
     "output_type": "stream",
     "text": [
      " 88%|████████▊ | 524/598 [1:26:28<13:07, 10.64s/it]"
     ]
    },
    {
     "name": "stdout",
     "output_type": "stream",
     "text": [
      "Processed record 524/598 in 11.51 seconds.\n",
      "decomposition:  {'q1': 'Which county is Beatty Airport near?', 'q2': 'What was the population of the town in Nevada county in 2010?'}\n"
     ]
    },
    {
     "name": "stderr",
     "output_type": "stream",
     "text": [
      " 88%|████████▊ | 525/598 [1:26:39<13:00, 10.69s/it]"
     ]
    },
    {
     "name": "stdout",
     "output_type": "stream",
     "text": [
      "Processed record 525/598 in 10.83 seconds.\n",
      "decomposition:  {'q1': 'Who directed the film Office in which Kim Eui-sung starred?', 'q2': \"What is Kim Eui-sung's nationality?\"}\n"
     ]
    },
    {
     "name": "stderr",
     "output_type": "stream",
     "text": [
      " 88%|████████▊ | 526/598 [1:26:49<12:43, 10.61s/it]"
     ]
    },
    {
     "name": "stdout",
     "output_type": "stream",
     "text": [
      "Processed record 526/598 in 10.41 seconds.\n",
      "decomposition:  {'q1': 'Who was the great-grandfather of the American socialite?', 'q2': 'In what location did the socialite live as a child?'}\n"
     ]
    },
    {
     "name": "stderr",
     "output_type": "stream",
     "text": [
      " 88%|████████▊ | 527/598 [1:27:00<12:24, 10.48s/it]"
     ]
    },
    {
     "name": "stdout",
     "output_type": "stream",
     "text": [
      "Processed record 527/598 in 10.19 seconds.\n",
      "decomposition:  {'q1': \"What is Clara Rockmore's virtuosity in the novel Us Conductors?\", 'q2': \"Which instrument is associated with Clara Rockmore's virtuosity in the novel Us Conductors?\"}\n"
     ]
    },
    {
     "name": "stderr",
     "output_type": "stream",
     "text": [
      " 88%|████████▊ | 528/598 [1:27:10<12:20, 10.58s/it]"
     ]
    },
    {
     "name": "stdout",
     "output_type": "stream",
     "text": [
      "Processed record 528/598 in 10.79 seconds.\n",
      "decomposition:  {'q1': 'What type of vegetation does Lythrum have in common with Erythrina?', 'q2': 'What is the shared characteristic of Lythrum and Erythrina in terms of their vegetation?'}\n"
     ]
    },
    {
     "name": "stderr",
     "output_type": "stream",
     "text": [
      " 88%|████████▊ | 529/598 [1:27:21<12:11, 10.61s/it]"
     ]
    },
    {
     "name": "stdout",
     "output_type": "stream",
     "text": [
      "Processed record 529/598 in 10.68 seconds.\n",
      "decomposition:  {'q1': 'What was the relationship between Jocelyn Bell Burnell and John Arbuthnott?', 'q2': 'How did Jocelyn Bell Burnell succeed John Arbuthnott as President of the Royal Society of Edinburgh?'}\n"
     ]
    },
    {
     "name": "stderr",
     "output_type": "stream",
     "text": [
      " 89%|████████▊ | 530/598 [1:27:33<12:17, 10.84s/it]"
     ]
    },
    {
     "name": "stdout",
     "output_type": "stream",
     "text": [
      "Processed record 530/598 in 11.38 seconds.\n",
      "decomposition:  {'q1': 'Which team does the athlete featured on the cover of the FIFA 17 video game represent?', 'q2': 'What is the name of the team the athlete plays for in the game?'}\n"
     ]
    },
    {
     "name": "stderr",
     "output_type": "stream",
     "text": [
      " 89%|████████▉ | 531/598 [1:27:43<11:55, 10.68s/it]"
     ]
    },
    {
     "name": "stdout",
     "output_type": "stream",
     "text": [
      "Processed record 531/598 in 10.31 seconds.\n",
      "decomposition:  {'q1': 'What is the place of origin of Moscow Nights?', 'q2': 'What is the place of origin of Vladimir Troshin?'}\n"
     ]
    },
    {
     "name": "stderr",
     "output_type": "stream",
     "text": [
      " 89%|████████▉ | 532/598 [1:27:53<11:32, 10.50s/it]"
     ]
    },
    {
     "name": "stdout",
     "output_type": "stream",
     "text": [
      "Processed record 532/598 in 10.07 seconds.\n",
      "decomposition:  {'q1': 'What was the name of the featured singer in Katy Perry\\'s song \"E.T.\"?', 'q2': 'Who was the featured singer in Katy Perry\\'s song \"E.T.\"?'}\n"
     ]
    },
    {
     "name": "stderr",
     "output_type": "stream",
     "text": [
      " 89%|████████▉ | 533/598 [1:28:04<11:32, 10.65s/it]"
     ]
    },
    {
     "name": "stdout",
     "output_type": "stream",
     "text": [
      "Processed record 533/598 in 11.02 seconds.\n",
      "decomposition:  {'q1': 'In what league does Eray Cümart play football?', 'q2': 'How long has that league played in its current format?'}\n"
     ]
    },
    {
     "name": "stderr",
     "output_type": "stream",
     "text": [
      " 89%|████████▉ | 534/598 [1:28:14<11:10, 10.47s/it]"
     ]
    },
    {
     "name": "stdout",
     "output_type": "stream",
     "text": [
      "Processed record 534/598 in 10.04 seconds.\n",
      "decomposition:  {'q1': 'What is the nationality of the American multinational automaker that has a 50:50 joint venture with Changan Automobile?', 'q2': 'Where are the headquarters of this American multinational automaker located?'}\n"
     ]
    },
    {
     "name": "stderr",
     "output_type": "stream",
     "text": [
      " 89%|████████▉ | 535/598 [1:28:24<10:57, 10.43s/it]"
     ]
    },
    {
     "name": "stdout",
     "output_type": "stream",
     "text": [
      "Processed record 535/598 in 10.35 seconds.\n",
      "decomposition:  {'q1': 'What was the location of the public high school?', 'q2': 'Where did Freddie James become the head coach?'}\n"
     ]
    },
    {
     "name": "stderr",
     "output_type": "stream",
     "text": [
      " 90%|████████▉ | 536/598 [1:28:34<10:40, 10.33s/it]"
     ]
    },
    {
     "name": "stdout",
     "output_type": "stream",
     "text": [
      "Processed record 536/598 in 10.10 seconds.\n",
      "decomposition:  {'q1': 'When was Samantha Cristoforetti born?', 'q2': 'When was Vladimír Remek born?'}\n"
     ]
    },
    {
     "name": "stderr",
     "output_type": "stream",
     "text": [
      " 90%|████████▉ | 537/598 [1:28:44<10:24, 10.24s/it]"
     ]
    },
    {
     "name": "stdout",
     "output_type": "stream",
     "text": [
      "Processed record 537/598 in 10.01 seconds.\n",
      "decomposition:  {'q1': 'Which of the three individuals was born first?', 'q2': 'Who uses the pen name of Lee Child among the three mentioned?'}\n"
     ]
    },
    {
     "name": "stderr",
     "output_type": "stream",
     "text": [
      " 90%|████████▉ | 538/598 [1:28:54<10:07, 10.13s/it]"
     ]
    },
    {
     "name": "stdout",
     "output_type": "stream",
     "text": [
      "Processed record 538/598 in 9.88 seconds.\n",
      "decomposition:  {'q1': 'Which of the two individuals is more European?', 'q2': 'Ana Ivanovic or Jimmy Arias?'}\n"
     ]
    },
    {
     "name": "stderr",
     "output_type": "stream",
     "text": [
      " 90%|█████████ | 539/598 [1:29:04<09:49,  9.99s/it]"
     ]
    },
    {
     "name": "stdout",
     "output_type": "stream",
     "text": [
      "Processed record 539/598 in 9.68 seconds.\n",
      "decomposition:  {'q1': \"What was Christopher Carlson's relationship to Chase Ranch?\", 'q2': 'When did Christopher Carlson live at Chase Ranch?'}\n"
     ]
    },
    {
     "name": "stderr",
     "output_type": "stream",
     "text": [
      " 90%|█████████ | 540/598 [1:29:14<09:38,  9.98s/it]"
     ]
    },
    {
     "name": "stdout",
     "output_type": "stream",
     "text": [
      "Processed record 540/598 in 9.94 seconds.\n",
      "decomposition:  {'q1': 'Who was the author of \"The Coral Sea\"?', 'q2': 'What was the 1975 debut album of the author mentioned in q1?'}\n"
     ]
    },
    {
     "name": "stderr",
     "output_type": "stream",
     "text": [
      " 90%|█████████ | 541/598 [1:29:24<09:29, 10.00s/it]"
     ]
    },
    {
     "name": "stdout",
     "output_type": "stream",
     "text": [
      "Processed record 541/598 in 10.05 seconds.\n",
      "decomposition:  {'q1': 'When did Brandenburg v. Ohio take place?', 'q2': 'When did Miranda v. Arizona take place?'}\n"
     ]
    },
    {
     "name": "stderr",
     "output_type": "stream",
     "text": [
      " 91%|█████████ | 542/598 [1:29:34<09:28, 10.15s/it]"
     ]
    },
    {
     "name": "stdout",
     "output_type": "stream",
     "text": [
      "Processed record 542/598 in 10.50 seconds.\n",
      "decomposition:  {'q1': 'What is the folklore that Huldra belongs to?', 'q2': 'Where is the folklore representative of?'}\n"
     ]
    },
    {
     "name": "stderr",
     "output_type": "stream",
     "text": [
      " 91%|█████████ | 543/598 [1:29:45<09:25, 10.28s/it]"
     ]
    },
    {
     "name": "stdout",
     "output_type": "stream",
     "text": [
      "Processed record 543/598 in 10.59 seconds.\n",
      "decomposition:  {'q1': 'When did Craig Northey release his solo album Giddy Up?', 'q2': 'Which band did Craig Northey formerly play with before releasing his solo album Giddy Up?'}\n"
     ]
    },
    {
     "name": "stderr",
     "output_type": "stream",
     "text": [
      " 91%|█████████ | 544/598 [1:29:56<09:27, 10.50s/it]"
     ]
    },
    {
     "name": "stdout",
     "output_type": "stream",
     "text": [
      "Processed record 544/598 in 11.02 seconds.\n",
      "decomposition:  {'q1': 'What was the running back position for the Los Angeles Rams in 1983?', 'q2': 'Who was the player at that position for the Los Angeles Rams in 1983?'}\n"
     ]
    },
    {
     "name": "stderr",
     "output_type": "stream",
     "text": [
      " 91%|█████████ | 545/598 [1:30:06<09:08, 10.36s/it]"
     ]
    },
    {
     "name": "stdout",
     "output_type": "stream",
     "text": [
      "Processed record 545/598 in 10.02 seconds.\n",
      "decomposition:  {'q1': 'What is the name of a kit violin?', 'q2': 'What is the name of an opera?'}\n"
     ]
    },
    {
     "name": "stderr",
     "output_type": "stream",
     "text": [
      " 91%|█████████▏| 546/598 [1:30:17<09:04, 10.48s/it]"
     ]
    },
    {
     "name": "stdout",
     "output_type": "stream",
     "text": [
      "Processed record 546/598 in 10.75 seconds.\n",
      "decomposition:  {'q1': 'What is the name of the East Coast chain of stores where Wawa Welcome America takes place?', 'q2': 'Where does Wawa Welcome America take place?'}\n"
     ]
    },
    {
     "name": "stderr",
     "output_type": "stream",
     "text": [
      " 91%|█████████▏| 547/598 [1:30:27<08:52, 10.44s/it]"
     ]
    },
    {
     "name": "stdout",
     "output_type": "stream",
     "text": [
      "Processed record 547/598 in 10.36 seconds.\n",
      "decomposition:  {'q1': 'Are Lake Memphremagog and Lake Prespa freshwater lakes?', 'q2': 'What type of lakes are Lake Memphremagog and Lake Prespa?'}\n"
     ]
    },
    {
     "name": "stderr",
     "output_type": "stream",
     "text": [
      " 92%|█████████▏| 548/598 [1:30:38<08:46, 10.52s/it]"
     ]
    },
    {
     "name": "stdout",
     "output_type": "stream",
     "text": [
      "Processed record 548/598 in 10.71 seconds.\n",
      "decomposition:  {'q1': 'When did Grand Trunk Western 6325 gain notoriety?', 'q2': 'For what reason did Grand Trunk Western 6325 gain notoriety in 1946?'}\n"
     ]
    },
    {
     "name": "stderr",
     "output_type": "stream",
     "text": [
      " 92%|█████████▏| 549/598 [1:30:49<08:43, 10.68s/it]"
     ]
    },
    {
     "name": "stdout",
     "output_type": "stream",
     "text": [
      "Processed record 549/598 in 11.05 seconds.\n",
      "decomposition:  {'q1': 'Are Choisya and Oenothera endemic to the Americas?', 'q2': 'What is the geographic origin of Choisya and Oenothera?'}\n"
     ]
    },
    {
     "name": "stderr",
     "output_type": "stream",
     "text": [
      " 92%|█████████▏| 550/598 [1:30:59<08:30, 10.63s/it]"
     ]
    },
    {
     "name": "stdout",
     "output_type": "stream",
     "text": [
      "Processed record 550/598 in 10.52 seconds.\n",
      "decomposition:  {'q1': \"What battle resulted from the commander's command during the Totskoye nuclear exercise?\", 'q2': 'What was the outcome of the battle mentioned in q1?'}\n"
     ]
    },
    {
     "name": "stderr",
     "output_type": "stream",
     "text": [
      " 92%|█████████▏| 551/598 [1:31:10<08:14, 10.52s/it]"
     ]
    },
    {
     "name": "stdout",
     "output_type": "stream",
     "text": [
      "Processed record 551/598 in 10.26 seconds.\n",
      "decomposition:  {'q1': \"Which show on Fox earned Rossif Sutherland's half brother numerous awards?\", 'q2': \"What awards did Rossif Sutherland's half brother earn for the show on Fox?\"}\n"
     ]
    },
    {
     "name": "stderr",
     "output_type": "stream",
     "text": [
      " 92%|█████████▏| 552/598 [1:31:21<08:08, 10.63s/it]"
     ]
    },
    {
     "name": "stdout",
     "output_type": "stream",
     "text": [
      "Processed record 552/598 in 10.87 seconds.\n",
      "decomposition:  {'q1': 'What was the capacity in which the retired footballer played before becoming the current manager?', 'q2': 'In what season did the retired footballer play for FC Barcelona?'}\n"
     ]
    },
    {
     "name": "stderr",
     "output_type": "stream",
     "text": [
      " 92%|█████████▏| 553/598 [1:31:32<08:04, 10.76s/it]"
     ]
    },
    {
     "name": "stdout",
     "output_type": "stream",
     "text": [
      "Processed record 553/598 in 11.06 seconds.\n",
      "decomposition:  {'q1': 'Is Cars 2 an animated film?', 'q2': 'Is Prom an animated film?'}\n"
     ]
    },
    {
     "name": "stderr",
     "output_type": "stream",
     "text": [
      " 93%|█████████▎| 554/598 [1:31:43<07:54, 10.78s/it]"
     ]
    },
    {
     "name": "stdout",
     "output_type": "stream",
     "text": [
      "Processed record 554/598 in 10.84 seconds.\n",
      "decomposition:  {'q1': 'What is the name of the championship in which Sunderland Association Football Club plays?', 'q2': 'Why does Sunderland Association Football Club play in this championship?'}\n"
     ]
    },
    {
     "name": "stderr",
     "output_type": "stream",
     "text": [
      " 93%|█████████▎| 555/598 [1:31:54<07:47, 10.87s/it]"
     ]
    },
    {
     "name": "stdout",
     "output_type": "stream",
     "text": [
      "Processed record 555/598 in 11.06 seconds.\n",
      "decomposition:  {'q1': 'When was the ship built in the US?', 'q2': \"For what purpose was the ship built for the United Kingdom's naval warfare force?\"}\n"
     ]
    },
    {
     "name": "stderr",
     "output_type": "stream",
     "text": [
      " 93%|█████████▎| 556/598 [1:32:04<07:31, 10.75s/it]"
     ]
    },
    {
     "name": "stdout",
     "output_type": "stream",
     "text": [
      "Processed record 556/598 in 10.49 seconds.\n",
      "decomposition:  {'q1': 'What institution used the Maria A Wook in North America in the 1860s?', 'q2': 'For what purpose did this institution use the Maria A Wook?'}\n"
     ]
    },
    {
     "name": "stderr",
     "output_type": "stream",
     "text": [
      " 93%|█████████▎| 557/598 [1:32:15<07:19, 10.72s/it]"
     ]
    },
    {
     "name": "stdout",
     "output_type": "stream",
     "text": [
      "Processed record 557/598 in 10.64 seconds.\n",
      "decomposition:  {'q1': 'What regional bank became First Charter Bank part of?', 'q2': 'Where is the headquarters of the regional bank mentioned in q1 located?'}\n"
     ]
    },
    {
     "name": "stderr",
     "output_type": "stream",
     "text": [
      " 93%|█████████▎| 558/598 [1:32:25<07:02, 10.57s/it]"
     ]
    },
    {
     "name": "stdout",
     "output_type": "stream",
     "text": [
      "Processed record 558/598 in 10.22 seconds.\n",
      "decomposition:  {'q1': \"What talk show did Mary Ann Parkinson's husband host from 1971 to 1982?\", 'q2': \"In what years did Mary Ann Parkinson's husband host the talk show?\"}\n"
     ]
    },
    {
     "name": "stderr",
     "output_type": "stream",
     "text": [
      " 93%|█████████▎| 559/598 [1:32:36<06:59, 10.74s/it]"
     ]
    },
    {
     "name": "stdout",
     "output_type": "stream",
     "text": [
      "Processed record 559/598 in 11.15 seconds.\n",
      "decomposition:  {'q1': 'What was the average field goal percentage of The Guard during the seasons in question?', 'q2': 'How many seasons did The Guard play in the NBA with a field goal percentage around .420?'}\n"
     ]
    },
    {
     "name": "stderr",
     "output_type": "stream",
     "text": [
      " 94%|█████████▎| 560/598 [1:32:47<06:46, 10.71s/it]"
     ]
    },
    {
     "name": "stdout",
     "output_type": "stream",
     "text": [
      "Processed record 560/598 in 10.62 seconds.\n",
      "decomposition:  {'q1': 'Who was the 16-year head football coach at the University of Oklahoma?', 'q2': 'Who won a title in 2000 after his departure?'}\n"
     ]
    },
    {
     "name": "stderr",
     "output_type": "stream",
     "text": [
      " 94%|█████████▍| 561/598 [1:32:57<06:36, 10.71s/it]"
     ]
    },
    {
     "name": "stdout",
     "output_type": "stream",
     "text": [
      "Processed record 561/598 in 10.72 seconds.\n",
      "decomposition:  {'q1': 'What college did the 2017 Gujarat Lions coach graduate from?', 'q2': 'Where did the coach graduate from college?'}\n"
     ]
    },
    {
     "name": "stderr",
     "output_type": "stream",
     "text": [
      " 94%|█████████▍| 562/598 [1:33:08<06:19, 10.54s/it]"
     ]
    },
    {
     "name": "stdout",
     "output_type": "stream",
     "text": [
      "Processed record 562/598 in 10.16 seconds.\n",
      "decomposition:  {'q1': 'Are the Trump Palace Condominiums taller than the One Dag Hammarskjöld Plaza?', 'q2': 'What is the height difference between the two buildings?'}\n"
     ]
    },
    {
     "name": "stderr",
     "output_type": "stream",
     "text": [
      " 94%|█████████▍| 563/598 [1:33:19<06:15, 10.73s/it]"
     ]
    },
    {
     "name": "stdout",
     "output_type": "stream",
     "text": [
      "Processed record 563/598 in 11.16 seconds.\n",
      "decomposition:  {'q1': 'Who was the coach of the 1994 Tampa Bay Buccaneers?', 'q2': 'Where does that coach currently coach?'}\n"
     ]
    },
    {
     "name": "stderr",
     "output_type": "stream",
     "text": [
      " 94%|█████████▍| 564/598 [1:33:29<06:01, 10.62s/it]"
     ]
    },
    {
     "name": "stdout",
     "output_type": "stream",
     "text": [
      "Processed record 564/598 in 10.37 seconds.\n",
      "decomposition:  {'q1': 'How many solo albums did Lindsey Buckingham release in total?', 'q2': 'What was the fifth solo album released by Lindsey Buckingham?'}\n"
     ]
    },
    {
     "name": "stderr",
     "output_type": "stream",
     "text": [
      " 94%|█████████▍| 565/598 [1:33:39<05:45, 10.46s/it]"
     ]
    },
    {
     "name": "stdout",
     "output_type": "stream",
     "text": [
      "Processed record 565/598 in 10.07 seconds.\n",
      "decomposition:  {'q1': 'Which conflict lasted longer, the Korean War or the Battle of Mindanao?', 'q2': 'What was the duration of each conflict mentioned in the question?'}\n"
     ]
    },
    {
     "name": "stderr",
     "output_type": "stream",
     "text": [
      " 95%|█████████▍| 566/598 [1:33:50<05:35, 10.47s/it]"
     ]
    },
    {
     "name": "stdout",
     "output_type": "stream",
     "text": [
      "Processed record 566/598 in 10.52 seconds.\n",
      "decomposition:  {'q1': \"What were Friedrich Dürrenmatt and Joseph Heller's most famous works?\", 'q2': 'Were these works dramatizations of events in World War II?'}\n"
     ]
    },
    {
     "name": "stderr",
     "output_type": "stream",
     "text": [
      " 95%|█████████▍| 567/598 [1:34:01<05:31, 10.69s/it]"
     ]
    },
    {
     "name": "stdout",
     "output_type": "stream",
     "text": [
      "Processed record 567/598 in 11.18 seconds.\n",
      "decomposition:  {'q1': 'What possession was Chile disputing?', 'q2': 'What operation resulted from this dispute?'}\n"
     ]
    },
    {
     "name": "stderr",
     "output_type": "stream",
     "text": [
      " 95%|█████████▍| 568/598 [1:34:11<05:16, 10.55s/it]"
     ]
    },
    {
     "name": "stdout",
     "output_type": "stream",
     "text": [
      "Processed record 568/598 in 10.21 seconds.\n",
      "decomposition:  {'q1': 'What is the relationship between Keri Collins and James Kerwin?', 'q2': 'What do both Keri Collins and James Kerwin share?'}\n"
     ]
    },
    {
     "name": "stderr",
     "output_type": "stream",
     "text": [
      " 95%|█████████▌| 569/598 [1:34:21<05:04, 10.49s/it]"
     ]
    },
    {
     "name": "stdout",
     "output_type": "stream",
     "text": [
      "Processed record 569/598 in 10.35 seconds.\n",
      "decomposition:  {'q1': 'Which recently demolished stadium was home to a British football club?', 'q2': 'Which British football club was the first to win a major European tournament in that stadium?'}\n"
     ]
    },
    {
     "name": "stderr",
     "output_type": "stream",
     "text": [
      " 95%|█████████▌| 570/598 [1:34:32<04:54, 10.53s/it]"
     ]
    },
    {
     "name": "stdout",
     "output_type": "stream",
     "text": [
      "Processed record 570/598 in 10.62 seconds.\n",
      "decomposition:  {'q1': 'What WFL team did the player play for in two seasons?', 'q2': 'What is the basis for the game Invincible?'}\n"
     ]
    },
    {
     "name": "stderr",
     "output_type": "stream",
     "text": [
      " 95%|█████████▌| 571/598 [1:34:42<04:42, 10.48s/it]"
     ]
    },
    {
     "name": "stdout",
     "output_type": "stream",
     "text": [
      "Processed record 571/598 in 10.37 seconds.\n",
      "decomposition:  {'q1': 'Which American football wide receiver for the Dallas Cowboys of the NFL was a guest star in Back of the Shop in 2008?', 'q2': 'When did this wide receiver earn All-American honors?'}\n"
     ]
    },
    {
     "name": "stderr",
     "output_type": "stream",
     "text": [
      " 96%|█████████▌| 572/598 [1:34:55<04:45, 10.97s/it]"
     ]
    },
    {
     "name": "stdout",
     "output_type": "stream",
     "text": [
      "Processed record 572/598 in 12.12 seconds.\n",
      "decomposition:  {'q1': 'What girl group is the South Korean singer a member of?', 'q2': 'Is Yes? No? the debut extended play by the singer?'}\n"
     ]
    },
    {
     "name": "stderr",
     "output_type": "stream",
     "text": [
      " 96%|█████████▌| 573/598 [1:35:05<04:30, 10.82s/it]"
     ]
    },
    {
     "name": "stdout",
     "output_type": "stream",
     "text": [
      "Processed record 573/598 in 10.46 seconds.\n",
      "decomposition:  {'q1': 'Which American alternative rock band formed in 1999 performed in concerts?', 'q2': 'Which band opened for these concerts?'}\n"
     ]
    },
    {
     "name": "stderr",
     "output_type": "stream",
     "text": [
      " 96%|█████████▌| 574/598 [1:35:15<04:10, 10.45s/it]"
     ]
    },
    {
     "name": "stdout",
     "output_type": "stream",
     "text": [
      "Processed record 574/598 in 9.60 seconds.\n",
      "decomposition:  {'q1': 'What film opened the 48th annual Berlin International Film Festival?', 'q2': 'Who starred in that film?'}\n"
     ]
    },
    {
     "name": "stderr",
     "output_type": "stream",
     "text": [
      " 96%|█████████▌| 575/598 [1:35:25<04:01, 10.51s/it]"
     ]
    },
    {
     "name": "stdout",
     "output_type": "stream",
     "text": [
      "Processed record 575/598 in 10.64 seconds.\n",
      "decomposition:  {'q1': \"In which movie did Lynn Cartwright play the older version of Gena Davis' character Dottie Hinson?\", 'q2': 'Who directed that movie?'}\n"
     ]
    },
    {
     "name": "stderr",
     "output_type": "stream",
     "text": [
      " 96%|█████████▋| 576/598 [1:35:36<03:53, 10.62s/it]"
     ]
    },
    {
     "name": "stdout",
     "output_type": "stream",
     "text": [
      "Processed record 576/598 in 10.87 seconds.\n",
      "decomposition:  {'q1': 'What is the nationality of the author of Hell on Earth?', 'q2': 'What is the name of the series authored by the person mentioned in q1?'}\n"
     ]
    },
    {
     "name": "stderr",
     "output_type": "stream",
     "text": [
      " 96%|█████████▋| 577/598 [1:35:47<03:43, 10.65s/it]"
     ]
    },
    {
     "name": "stdout",
     "output_type": "stream",
     "text": [
      "Processed record 577/598 in 10.71 seconds.\n",
      "decomposition:  {'q1': \"What genre did Sydney Pollack's last film belong to?\", 'q2': \"What was the title of Sydney Pollack's last film?\"}\n"
     ]
    },
    {
     "name": "stderr",
     "output_type": "stream",
     "text": [
      " 97%|█████████▋| 578/598 [1:35:58<03:33, 10.65s/it]"
     ]
    },
    {
     "name": "stdout",
     "output_type": "stream",
     "text": [
      "Processed record 578/598 in 10.67 seconds.\n",
      "decomposition:  {'q1': 'To which plant family does the Trailing bellflower belong?', 'q2': 'Does the Pseudocydonia sinensis share the same plant family as the Trailing bellflower?'}\n"
     ]
    },
    {
     "name": "stderr",
     "output_type": "stream",
     "text": [
      " 97%|█████████▋| 579/598 [1:36:09<03:28, 10.95s/it]"
     ]
    },
    {
     "name": "stdout",
     "output_type": "stream",
     "text": [
      "Processed record 579/598 in 11.63 seconds.\n",
      "decomposition:  {'q1': 'Who directed the drama film in which Jeff Bauman was the subject?', 'q2': 'What was the title of the drama film in which Jeff Bauman was the subject?'}\n"
     ]
    },
    {
     "name": "stderr",
     "output_type": "stream",
     "text": [
      " 97%|█████████▋| 580/598 [1:36:20<03:15, 10.85s/it]"
     ]
    },
    {
     "name": "stdout",
     "output_type": "stream",
     "text": [
      "Processed record 580/598 in 10.60 seconds.\n",
      "decomposition:  {'q1': 'What city was the person born in, whose death necessitated the 2014 mayoral election in Jackson, Mississippi?', 'q2': 'In what city was the person born who necessitated the 2014 mayoral election in Jackson, Mississippi?'}\n"
     ]
    },
    {
     "name": "stderr",
     "output_type": "stream",
     "text": [
      " 97%|█████████▋| 581/598 [1:36:31<03:04, 10.87s/it]"
     ]
    },
    {
     "name": "stdout",
     "output_type": "stream",
     "text": [
      "Processed record 581/598 in 10.94 seconds.\n",
      "decomposition:  {'q1': 'What is the name of the golf course mentioned in the question?', 'q2': 'From where does the name of the golf course originate?'}\n"
     ]
    },
    {
     "name": "stderr",
     "output_type": "stream",
     "text": [
      " 97%|█████████▋| 582/598 [1:36:41<02:51, 10.72s/it]"
     ]
    },
    {
     "name": "stdout",
     "output_type": "stream",
     "text": [
      "Processed record 582/598 in 10.37 seconds.\n",
      "decomposition:  {'q1': 'What is the primary function of Methyl ethyl ketone?', 'q2': 'What type of product can be dissolved using Methyl ethyl ketone as a solvent?'}\n"
     ]
    },
    {
     "name": "stderr",
     "output_type": "stream",
     "text": [
      " 97%|█████████▋| 583/598 [1:36:52<02:39, 10.66s/it]"
     ]
    },
    {
     "name": "stdout",
     "output_type": "stream",
     "text": [
      "Processed record 583/598 in 10.51 seconds.\n",
      "decomposition:  {'q1': 'Which actors from \"Lost\" are in the film Another Earth?', 'q2': 'What is the name of the actor who appears in both \"Lost\" and \"Another Earth\"?'}\n"
     ]
    },
    {
     "name": "stderr",
     "output_type": "stream",
     "text": [
      " 98%|█████████▊| 584/598 [1:37:02<02:30, 10.72s/it]"
     ]
    },
    {
     "name": "stdout",
     "output_type": "stream",
     "text": [
      "Processed record 584/598 in 10.86 seconds.\n",
      "decomposition:  {'q1': 'Who was married to Woody Allen and appeared in his early films?', 'q2': 'Who directed the film written by the actress mentioned in the previous question?'}\n"
     ]
    },
    {
     "name": "stderr",
     "output_type": "stream",
     "text": [
      " 98%|█████████▊| 585/598 [1:37:13<02:19, 10.71s/it]"
     ]
    },
    {
     "name": "stdout",
     "output_type": "stream",
     "text": [
      "Processed record 585/598 in 10.68 seconds.\n",
      "decomposition:  {'q1': 'What was the operation conducted in May 2011 involving stealth helicopters?', 'q2': 'What was the ethnicity of the terrorist killed during that operation?'}\n"
     ]
    },
    {
     "name": "stderr",
     "output_type": "stream",
     "text": [
      " 98%|█████████▊| 586/598 [1:37:23<02:06, 10.51s/it]"
     ]
    },
    {
     "name": "stdout",
     "output_type": "stream",
     "text": [
      "Processed record 586/598 in 10.07 seconds.\n",
      "decomposition:  {'q1': 'Who is younger, Del Lord or Wang Xiaoshuai?', 'q2': 'Which film director is older, Del Lord or Wang Xiaoshuai?'}\n"
     ]
    },
    {
     "name": "stderr",
     "output_type": "stream",
     "text": [
      " 98%|█████████▊| 587/598 [1:37:34<01:55, 10.53s/it]"
     ]
    },
    {
     "name": "stdout",
     "output_type": "stream",
     "text": [
      "Processed record 587/598 in 10.57 seconds.\n",
      "decomposition:  {'q1': 'What group of dialects does the German town of Issime speak?', 'q2': 'To which specific group of dialects does the \"Walserdeutsch\" dialect belong?'}\n"
     ]
    },
    {
     "name": "stderr",
     "output_type": "stream",
     "text": [
      " 98%|█████████▊| 588/598 [1:37:47<01:53, 11.40s/it]"
     ]
    },
    {
     "name": "stdout",
     "output_type": "stream",
     "text": [
      "Processed record 588/598 in 13.42 seconds.\n",
      "decomposition:  {'q1': 'What role did the actress who starred in the British miniseries Goodbye Cruel World play?', 'q2': 'In which BBC drama did the actress star?'}\n"
     ]
    },
    {
     "name": "stderr",
     "output_type": "stream",
     "text": [
      " 98%|█████████▊| 589/598 [1:38:00<01:46, 11.82s/it]"
     ]
    },
    {
     "name": "stdout",
     "output_type": "stream",
     "text": [
      "Processed record 589/598 in 12.81 seconds.\n",
      "decomposition:  {'q1': 'What is the team George Williams played for that is known as WBA?', 'q2': 'What is the home ground of that team?'}\n"
     ]
    },
    {
     "name": "stderr",
     "output_type": "stream",
     "text": [
      " 99%|█████████▊| 590/598 [1:38:11<01:32, 11.59s/it]"
     ]
    },
    {
     "name": "stdout",
     "output_type": "stream",
     "text": [
      "Processed record 590/598 in 11.04 seconds.\n",
      "decomposition:  {'q1': 'In what year was the series published that recounts the adventures of Anne Shirley?', 'q2': 'By whom was the series published?'}\n"
     ]
    },
    {
     "name": "stderr",
     "output_type": "stream",
     "text": [
      " 99%|█████████▉| 591/598 [1:38:21<01:18, 11.15s/it]"
     ]
    },
    {
     "name": "stdout",
     "output_type": "stream",
     "text": [
      "Processed record 591/598 in 10.11 seconds.\n",
      "decomposition:  {'q1': 'Who was born first, Simone Cipriani or Stella McCartney?', 'q2': 'What is the year of the person who was born first?'}\n"
     ]
    },
    {
     "name": "stderr",
     "output_type": "stream",
     "text": [
      " 99%|█████████▉| 592/598 [1:38:31<01:03, 10.65s/it]"
     ]
    },
    {
     "name": "stdout",
     "output_type": "stream",
     "text": [
      "Processed record 592/598 in 9.49 seconds.\n",
      "decomposition:  {'q1': 'What is the main setting of Paradise Road?', 'q2': \"What is the story's timeframe, based on the film's premise?\"}\n"
     ]
    },
    {
     "name": "stderr",
     "output_type": "stream",
     "text": [
      " 99%|█████████▉| 593/598 [1:38:41<00:53, 10.67s/it]"
     ]
    },
    {
     "name": "stdout",
     "output_type": "stream",
     "text": [
      "Processed record 593/598 in 10.72 seconds.\n",
      "decomposition:  {'q1': 'What is the geographic origin of the band \"Halestorm\"?', 'q2': 'Does the band \"Say Anything\" originate from a different state than \"Halestorm\"?'}\n"
     ]
    },
    {
     "name": "stderr",
     "output_type": "stream",
     "text": [
      " 99%|█████████▉| 594/598 [1:38:53<00:43, 10.85s/it]"
     ]
    },
    {
     "name": "stdout",
     "output_type": "stream",
     "text": [
      "Processed record 594/598 in 11.27 seconds.\n",
      "decomposition:  {'q1': 'In the Bridge River District, which gold mine is located?', 'q2': 'Is it Bralorne or the Dome Mine?'}\n"
     ]
    },
    {
     "name": "stderr",
     "output_type": "stream",
     "text": [
      " 99%|█████████▉| 595/598 [1:39:03<00:31, 10.56s/it]"
     ]
    },
    {
     "name": "stdout",
     "output_type": "stream",
     "text": [
      "Processed record 595/598 in 9.89 seconds.\n",
      "decomposition:  {'q1': 'In what Ontario city is Chevrolet Silverado 250 held at the track?', 'q2': 'What is the location of the track?'}\n"
     ]
    },
    {
     "name": "stderr",
     "output_type": "stream",
     "text": [
      "100%|█████████▉| 596/598 [1:39:13<00:21, 10.54s/it]"
     ]
    },
    {
     "name": "stdout",
     "output_type": "stream",
     "text": [
      "Processed record 596/598 in 10.49 seconds.\n",
      "decomposition:  {'q1': 'What term describes the optimal combination of airflow and glottal tensions?', 'q2': 'Which term is more masculine than falsetto?'}\n"
     ]
    },
    {
     "name": "stderr",
     "output_type": "stream",
     "text": [
      "100%|█████████▉| 597/598 [1:39:23<00:10, 10.34s/it]"
     ]
    },
    {
     "name": "stdout",
     "output_type": "stream",
     "text": [
      "Processed record 597/598 in 9.88 seconds.\n",
      "decomposition:  {'q1': 'What is the nationality of the creator of Shane and Friends?', 'q2': 'On which platform does the creator primarily post content related to Shane and Friends?'}\n"
     ]
    },
    {
     "name": "stderr",
     "output_type": "stream",
     "text": [
      "100%|██████████| 598/598 [1:39:33<00:00,  9.99s/it]"
     ]
    },
    {
     "name": "stdout",
     "output_type": "stream",
     "text": [
      "Processed record 598/598 in 10.56 seconds.\n",
      "\n",
      "✅ All records processed.\n",
      "Total processing time: 5973.93 seconds.\n",
      "Average time per record: 9.99 seconds.\n"
     ]
    },
    {
     "name": "stderr",
     "output_type": "stream",
     "text": [
      "\n"
     ]
    }
   ],
   "source": [
    "import pandas as pd\n",
    "from tqdm import tqdm\n",
    "import time\n",
    "\n",
    "# Load your source CSV\n",
    "df = pd.read_csv(\"../../../Dataset_code_csvs/hotpotQA/hotpotQA_dataset_versions/5884paras_598queries/English/598_QnAs.csv\")\n",
    "\n",
    "# Output CSV path\n",
    "output_path = \"../../results/pipeline results/5884paras_598qna/llama3.1_gemma_res/modLQR_processed_results_en.csv\"\n",
    "\n",
    "# Initialize storage\n",
    "results = []\n",
    "batch_times = []\n",
    "total_start = time.time()\n",
    "\n",
    "# Loop over each row\n",
    "for idx, row in tqdm(df.iterrows(), total=len(df)):\n",
    "    query = row[\"question\"]\n",
    "    answer = row[\"answer\"]\n",
    "    question_type = row[\"level\"]\n",
    "\n",
    "    start_time = time.time()\n",
    "\n",
    "    try:\n",
    "        result = multihop_handling_modLQR(query, question_type)\n",
    "\n",
    "        classification = result[\"classification\"]\n",
    "        retrieved_context = result[\"retrieved_context\"]\n",
    "        final_answer = result[\"final_answer\"]\n",
    "        timings = result[\"timings\"]\n",
    "        total_time_one = timings[\"total_time\"]\n",
    "\n",
    "    except Exception as e:\n",
    "        print(f\"Error processing query {idx}: {e}\")\n",
    "        classification = \"Error\"\n",
    "        retrieved_context = \"Error\"\n",
    "        final_answer = \"Error\"\n",
    "        timings = {\n",
    "            \"classification_time\": 0,\n",
    "            \"decomposition_time\": 0,\n",
    "            \"retrieval_time\": 0,\n",
    "            \"generation_time\": 0,\n",
    "            \"total_time\": 0\n",
    "        }\n",
    "        total_time_one = 0\n",
    "\n",
    "    elapsed = time.time() - start_time\n",
    "    batch_times.append(elapsed)\n",
    "\n",
    "    results.append({\n",
    "        \"translated_question\": query,\n",
    "        \"translated_answer\": answer,\n",
    "        \"classification\": classification,\n",
    "        \"retrieved_context\": retrieved_context,\n",
    "        \"final_answer\": final_answer,\n",
    "        \"classification_time\": timings[\"classification_time\"],\n",
    "        \"decomposition_time\": timings[\"decomposition_time\"],\n",
    "        \"retrieval_time\": timings[\"retrieval_time\"],\n",
    "        \"generation_time\": timings[\"generation_time\"],\n",
    "        \"total_time\": timings[\"total_time\"],\n",
    "        \"level\": question_type\n",
    "    })\n",
    "\n",
    "    print(f\"Processed record {idx+1}/{len(df)} in {elapsed:.2f} seconds.\")\n",
    "\n",
    "    # Write batch every 100 queries\n",
    "    if (idx + 1) % 100 == 0:\n",
    "        pd.DataFrame(results).to_csv(output_path, mode='a', header=not bool(idx), index=False, encoding=\"utf-8-sig\")\n",
    "        avg_batch_time = sum(batch_times) / len(batch_times)\n",
    "        print(f\"\\n--- Saved batch up to record {idx+1}\")\n",
    "        print(f\"Average time for last 100 records: {avg_batch_time:.2f} seconds\\n\")\n",
    "        results = []\n",
    "        batch_times = []\n",
    "\n",
    "# Save any remaining records\n",
    "if results:\n",
    "    pd.DataFrame(results).to_csv(output_path, mode='a', header=not bool(len(df) % 100), index=False, encoding=\"utf-8-sig\")\n",
    "\n",
    "# Final stats\n",
    "total_elapsed = time.time() - total_start\n",
    "avg_total_time = total_elapsed / len(df)\n",
    "print(f\"\\n✅ All records processed.\")\n",
    "print(f\"Total processing time: {total_elapsed:.2f} seconds.\")\n",
    "print(f\"Average time per record: {avg_total_time:.2f} seconds.\")\n"
   ]
  },
  {
   "cell_type": "code",
   "execution_count": null,
   "id": "4205508c",
   "metadata": {},
   "outputs": [],
   "source": []
  }
 ],
 "metadata": {
  "kernelspec": {
   "display_name": "venv",
   "language": "python",
   "name": "python3"
  },
  "language_info": {
   "codemirror_mode": {
    "name": "ipython",
    "version": 3
   },
   "file_extension": ".py",
   "mimetype": "text/x-python",
   "name": "python",
   "nbconvert_exporter": "python",
   "pygments_lexer": "ipython3",
   "version": "3.11.9"
  }
 },
 "nbformat": 4,
 "nbformat_minor": 5
}
